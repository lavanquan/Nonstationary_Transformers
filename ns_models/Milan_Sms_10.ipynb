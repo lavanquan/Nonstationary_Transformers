{
 "cells": [
  {
   "cell_type": "code",
   "execution_count": 1,
   "metadata": {},
   "outputs": [
    {
     "data": {
      "text/plain": [
       "'/home/qula0496/quan/Nonstationary_Transformers/ns_models'"
      ]
     },
     "execution_count": 1,
     "metadata": {},
     "output_type": "execute_result"
    }
   ],
   "source": [
    "%pwd"
   ]
  },
  {
   "cell_type": "code",
   "execution_count": 2,
   "metadata": {},
   "outputs": [
    {
     "name": "stdout",
     "output_type": "stream",
     "text": [
      "/home/qula0496/quan/Nonstationary_Transformers\n"
     ]
    },
    {
     "name": "stderr",
     "output_type": "stream",
     "text": [
      "/home/qula0496/quan/.venv/lib/python3.10/site-packages/IPython/core/magics/osm.py:417: UserWarning: This is now an optional IPython functionality, setting dhist requires you to install the `pickleshare` library.\n",
      "  self.shell.db['dhist'] = compress_dhist(dhist)[-100:]\n"
     ]
    }
   ],
   "source": [
    "%cd .."
   ]
  },
  {
   "cell_type": "code",
   "execution_count": 3,
   "metadata": {},
   "outputs": [],
   "source": [
    "import os\n",
    "gpu_id = '2'\n",
    "n_users = 10\n",
    "os.environ['CUDA_VISIBLE_DEVICES'] = gpu_id\n",
    "dataset_name = 'milan'\n",
    "sub_set_name = 'sms'\n",
    "series_type = 'hourly'"
   ]
  },
  {
   "cell_type": "code",
   "execution_count": 4,
   "metadata": {},
   "outputs": [],
   "source": [
    "from utils.data_utils import *\n",
    "from utils.model_utils import *\n",
    "# from utils.koopman_utils import *\n",
    "from modules.serverbase import *\n",
    "from modules.userbase import *\n",
    "from modules.servernsTransformer import *\n",
    "from modules.usernsTranformer import *\n",
    "import numpy as np\n",
    "import torch\n",
    "torch.cuda.init()"
   ]
  },
  {
   "cell_type": "code",
   "execution_count": 5,
   "metadata": {},
   "outputs": [],
   "source": [
    "from sklearn.preprocessing import StandardScaler, MinMaxScaler\n",
    "def preprocess(data, std=True):\n",
    "    '''\n",
    "    Function to do preprocess for input data\n",
    "    inputs:\n",
    "        + data: pandas.DataFrame\n",
    "    outputs:\n",
    "        + preprocessed_data: pandas.DataFrame\n",
    "    '''\n",
    "    if std:\n",
    "        scaler = StandardScaler()\n",
    "        temp = scaler.fit_transform(data)\n",
    "    else:\n",
    "        scaler = MinMaxScaler()\n",
    "        temp = scaler.fit_transform(data)\n",
    "    processed_data = pd.DataFrame(temp, index=data.index, columns = data.columns)\n",
    "    # processed_data = processed_data.to_numpy()\n",
    "    return processed_data"
   ]
  },
  {
   "cell_type": "code",
   "execution_count": 6,
   "metadata": {},
   "outputs": [
    {
     "data": {
      "text/html": [
       "<div>\n",
       "<style scoped>\n",
       "    .dataframe tbody tr th:only-of-type {\n",
       "        vertical-align: middle;\n",
       "    }\n",
       "\n",
       "    .dataframe tbody tr th {\n",
       "        vertical-align: top;\n",
       "    }\n",
       "\n",
       "    .dataframe thead th {\n",
       "        text-align: right;\n",
       "    }\n",
       "</style>\n",
       "<table border=\"1\" class=\"dataframe\">\n",
       "  <thead>\n",
       "    <tr style=\"text-align: right;\">\n",
       "      <th>gridID</th>\n",
       "      <th>1</th>\n",
       "      <th>2</th>\n",
       "      <th>3</th>\n",
       "      <th>4</th>\n",
       "      <th>5</th>\n",
       "      <th>6</th>\n",
       "      <th>7</th>\n",
       "      <th>8</th>\n",
       "      <th>9</th>\n",
       "      <th>10</th>\n",
       "      <th>...</th>\n",
       "      <th>9991</th>\n",
       "      <th>9992</th>\n",
       "      <th>9993</th>\n",
       "      <th>9994</th>\n",
       "      <th>9995</th>\n",
       "      <th>9996</th>\n",
       "      <th>9997</th>\n",
       "      <th>9998</th>\n",
       "      <th>9999</th>\n",
       "      <th>10000</th>\n",
       "    </tr>\n",
       "    <tr>\n",
       "      <th>startTime</th>\n",
       "      <th></th>\n",
       "      <th></th>\n",
       "      <th></th>\n",
       "      <th></th>\n",
       "      <th></th>\n",
       "      <th></th>\n",
       "      <th></th>\n",
       "      <th></th>\n",
       "      <th></th>\n",
       "      <th></th>\n",
       "      <th></th>\n",
       "      <th></th>\n",
       "      <th></th>\n",
       "      <th></th>\n",
       "      <th></th>\n",
       "      <th></th>\n",
       "      <th></th>\n",
       "      <th></th>\n",
       "      <th></th>\n",
       "      <th></th>\n",
       "      <th></th>\n",
       "    </tr>\n",
       "  </thead>\n",
       "  <tbody>\n",
       "    <tr>\n",
       "      <th>2013-11-01 00:00:00</th>\n",
       "      <td>0.058891</td>\n",
       "      <td>0.057828</td>\n",
       "      <td>0.056731</td>\n",
       "      <td>0.062167</td>\n",
       "      <td>0.060549</td>\n",
       "      <td>0.056731</td>\n",
       "      <td>0.056731</td>\n",
       "      <td>0.056731</td>\n",
       "      <td>0.056731</td>\n",
       "      <td>0.040944</td>\n",
       "      <td>...</td>\n",
       "      <td>0.080203</td>\n",
       "      <td>0.101781</td>\n",
       "      <td>0.150701</td>\n",
       "      <td>0.135242</td>\n",
       "      <td>0.155147</td>\n",
       "      <td>0.129418</td>\n",
       "      <td>0.099168</td>\n",
       "      <td>0.105147</td>\n",
       "      <td>0.138711</td>\n",
       "      <td>0.098340</td>\n",
       "    </tr>\n",
       "    <tr>\n",
       "      <th>2013-11-01 01:00:00</th>\n",
       "      <td>0.035490</td>\n",
       "      <td>0.035289</td>\n",
       "      <td>0.035082</td>\n",
       "      <td>0.036110</td>\n",
       "      <td>0.035334</td>\n",
       "      <td>0.035082</td>\n",
       "      <td>0.035082</td>\n",
       "      <td>0.035082</td>\n",
       "      <td>0.035082</td>\n",
       "      <td>0.029524</td>\n",
       "      <td>...</td>\n",
       "      <td>0.067121</td>\n",
       "      <td>0.067424</td>\n",
       "      <td>0.061588</td>\n",
       "      <td>0.050906</td>\n",
       "      <td>0.036478</td>\n",
       "      <td>0.026777</td>\n",
       "      <td>0.027318</td>\n",
       "      <td>0.027212</td>\n",
       "      <td>0.027128</td>\n",
       "      <td>0.029307</td>\n",
       "    </tr>\n",
       "    <tr>\n",
       "      <th>2013-11-01 02:00:00</th>\n",
       "      <td>0.012792</td>\n",
       "      <td>0.012636</td>\n",
       "      <td>0.012475</td>\n",
       "      <td>0.013273</td>\n",
       "      <td>0.013126</td>\n",
       "      <td>0.012475</td>\n",
       "      <td>0.012475</td>\n",
       "      <td>0.012475</td>\n",
       "      <td>0.012475</td>\n",
       "      <td>0.010654</td>\n",
       "      <td>...</td>\n",
       "      <td>0.064548</td>\n",
       "      <td>0.055739</td>\n",
       "      <td>0.040941</td>\n",
       "      <td>0.031525</td>\n",
       "      <td>0.031755</td>\n",
       "      <td>0.024837</td>\n",
       "      <td>0.025149</td>\n",
       "      <td>0.024995</td>\n",
       "      <td>0.030861</td>\n",
       "      <td>0.043975</td>\n",
       "    </tr>\n",
       "    <tr>\n",
       "      <th>2013-11-01 03:00:00</th>\n",
       "      <td>0.037618</td>\n",
       "      <td>0.037160</td>\n",
       "      <td>0.036688</td>\n",
       "      <td>0.039028</td>\n",
       "      <td>0.036827</td>\n",
       "      <td>0.036688</td>\n",
       "      <td>0.036688</td>\n",
       "      <td>0.036688</td>\n",
       "      <td>0.036688</td>\n",
       "      <td>0.021672</td>\n",
       "      <td>...</td>\n",
       "      <td>0.016029</td>\n",
       "      <td>0.023516</td>\n",
       "      <td>0.044500</td>\n",
       "      <td>0.049647</td>\n",
       "      <td>0.030611</td>\n",
       "      <td>0.019703</td>\n",
       "      <td>0.021844</td>\n",
       "      <td>0.021387</td>\n",
       "      <td>0.017950</td>\n",
       "      <td>0.020467</td>\n",
       "    </tr>\n",
       "    <tr>\n",
       "      <th>2013-11-01 04:00:00</th>\n",
       "      <td>0.015582</td>\n",
       "      <td>0.015581</td>\n",
       "      <td>0.015580</td>\n",
       "      <td>0.015585</td>\n",
       "      <td>0.015074</td>\n",
       "      <td>0.015580</td>\n",
       "      <td>0.015580</td>\n",
       "      <td>0.015580</td>\n",
       "      <td>0.015580</td>\n",
       "      <td>0.012785</td>\n",
       "      <td>...</td>\n",
       "      <td>0.017414</td>\n",
       "      <td>0.013548</td>\n",
       "      <td>0.009676</td>\n",
       "      <td>0.015734</td>\n",
       "      <td>0.019272</td>\n",
       "      <td>0.021963</td>\n",
       "      <td>0.024705</td>\n",
       "      <td>0.024309</td>\n",
       "      <td>0.021681</td>\n",
       "      <td>0.024750</td>\n",
       "    </tr>\n",
       "  </tbody>\n",
       "</table>\n",
       "<p>5 rows × 10000 columns</p>\n",
       "</div>"
      ],
      "text/plain": [
       "gridID                  1         2         3         4         5      \\\n",
       "startTime                                                               \n",
       "2013-11-01 00:00:00  0.058891  0.057828  0.056731  0.062167  0.060549   \n",
       "2013-11-01 01:00:00  0.035490  0.035289  0.035082  0.036110  0.035334   \n",
       "2013-11-01 02:00:00  0.012792  0.012636  0.012475  0.013273  0.013126   \n",
       "2013-11-01 03:00:00  0.037618  0.037160  0.036688  0.039028  0.036827   \n",
       "2013-11-01 04:00:00  0.015582  0.015581  0.015580  0.015585  0.015074   \n",
       "\n",
       "gridID                  6         7         8         9         10     ...  \\\n",
       "startTime                                                              ...   \n",
       "2013-11-01 00:00:00  0.056731  0.056731  0.056731  0.056731  0.040944  ...   \n",
       "2013-11-01 01:00:00  0.035082  0.035082  0.035082  0.035082  0.029524  ...   \n",
       "2013-11-01 02:00:00  0.012475  0.012475  0.012475  0.012475  0.010654  ...   \n",
       "2013-11-01 03:00:00  0.036688  0.036688  0.036688  0.036688  0.021672  ...   \n",
       "2013-11-01 04:00:00  0.015580  0.015580  0.015580  0.015580  0.012785  ...   \n",
       "\n",
       "gridID                  9991      9992      9993      9994      9995   \\\n",
       "startTime                                                               \n",
       "2013-11-01 00:00:00  0.080203  0.101781  0.150701  0.135242  0.155147   \n",
       "2013-11-01 01:00:00  0.067121  0.067424  0.061588  0.050906  0.036478   \n",
       "2013-11-01 02:00:00  0.064548  0.055739  0.040941  0.031525  0.031755   \n",
       "2013-11-01 03:00:00  0.016029  0.023516  0.044500  0.049647  0.030611   \n",
       "2013-11-01 04:00:00  0.017414  0.013548  0.009676  0.015734  0.019272   \n",
       "\n",
       "gridID                  9996      9997      9998      9999      10000  \n",
       "startTime                                                              \n",
       "2013-11-01 00:00:00  0.129418  0.099168  0.105147  0.138711  0.098340  \n",
       "2013-11-01 01:00:00  0.026777  0.027318  0.027212  0.027128  0.029307  \n",
       "2013-11-01 02:00:00  0.024837  0.025149  0.024995  0.030861  0.043975  \n",
       "2013-11-01 03:00:00  0.019703  0.021844  0.021387  0.017950  0.020467  \n",
       "2013-11-01 04:00:00  0.021963  0.024705  0.024309  0.021681  0.024750  \n",
       "\n",
       "[5 rows x 10000 columns]"
      ]
     },
     "execution_count": 6,
     "metadata": {},
     "output_type": "execute_result"
    }
   ],
   "source": [
    "file_path = f\"./dataset/{dataset_name}/{dataset_name}_{sub_set_name}_{series_type}.csv\"\n",
    "raw_data = pd.read_csv(file_path)\n",
    "raw_data = raw_data.pivot(index='startTime', columns='gridID', values=sub_set_name)\n",
    "raw_data = raw_data.fillna(0)\n",
    "raw_data = preprocess(raw_data, std=False)\n",
    "raw_data.head()"
   ]
  },
  {
   "cell_type": "code",
   "execution_count": 7,
   "metadata": {},
   "outputs": [
    {
     "data": {
      "text/html": [
       "<div>\n",
       "<style scoped>\n",
       "    .dataframe tbody tr th:only-of-type {\n",
       "        vertical-align: middle;\n",
       "    }\n",
       "\n",
       "    .dataframe tbody tr th {\n",
       "        vertical-align: top;\n",
       "    }\n",
       "\n",
       "    .dataframe thead th {\n",
       "        text-align: right;\n",
       "    }\n",
       "</style>\n",
       "<table border=\"1\" class=\"dataframe\">\n",
       "  <thead>\n",
       "    <tr style=\"text-align: right;\">\n",
       "      <th>gridID</th>\n",
       "      <th>1</th>\n",
       "      <th>2</th>\n",
       "      <th>3</th>\n",
       "      <th>4</th>\n",
       "      <th>5</th>\n",
       "      <th>6</th>\n",
       "      <th>7</th>\n",
       "      <th>8</th>\n",
       "      <th>9</th>\n",
       "      <th>10</th>\n",
       "      <th>...</th>\n",
       "      <th>9991</th>\n",
       "      <th>9992</th>\n",
       "      <th>9993</th>\n",
       "      <th>9994</th>\n",
       "      <th>9995</th>\n",
       "      <th>9996</th>\n",
       "      <th>9997</th>\n",
       "      <th>9998</th>\n",
       "      <th>9999</th>\n",
       "      <th>10000</th>\n",
       "    </tr>\n",
       "    <tr>\n",
       "      <th>startTime</th>\n",
       "      <th></th>\n",
       "      <th></th>\n",
       "      <th></th>\n",
       "      <th></th>\n",
       "      <th></th>\n",
       "      <th></th>\n",
       "      <th></th>\n",
       "      <th></th>\n",
       "      <th></th>\n",
       "      <th></th>\n",
       "      <th></th>\n",
       "      <th></th>\n",
       "      <th></th>\n",
       "      <th></th>\n",
       "      <th></th>\n",
       "      <th></th>\n",
       "      <th></th>\n",
       "      <th></th>\n",
       "      <th></th>\n",
       "      <th></th>\n",
       "      <th></th>\n",
       "    </tr>\n",
       "  </thead>\n",
       "  <tbody>\n",
       "    <tr>\n",
       "      <th>2013-11-01 00:00:00</th>\n",
       "      <td>0.058891</td>\n",
       "      <td>0.057828</td>\n",
       "      <td>0.056731</td>\n",
       "      <td>0.062167</td>\n",
       "      <td>0.060549</td>\n",
       "      <td>0.056731</td>\n",
       "      <td>0.056731</td>\n",
       "      <td>0.056731</td>\n",
       "      <td>0.056731</td>\n",
       "      <td>0.040944</td>\n",
       "      <td>...</td>\n",
       "      <td>0.080203</td>\n",
       "      <td>0.101781</td>\n",
       "      <td>0.150701</td>\n",
       "      <td>0.135242</td>\n",
       "      <td>0.155147</td>\n",
       "      <td>0.129418</td>\n",
       "      <td>0.099168</td>\n",
       "      <td>0.105147</td>\n",
       "      <td>0.138711</td>\n",
       "      <td>0.098340</td>\n",
       "    </tr>\n",
       "    <tr>\n",
       "      <th>2013-11-01 01:00:00</th>\n",
       "      <td>0.035490</td>\n",
       "      <td>0.035289</td>\n",
       "      <td>0.035082</td>\n",
       "      <td>0.036110</td>\n",
       "      <td>0.035334</td>\n",
       "      <td>0.035082</td>\n",
       "      <td>0.035082</td>\n",
       "      <td>0.035082</td>\n",
       "      <td>0.035082</td>\n",
       "      <td>0.029524</td>\n",
       "      <td>...</td>\n",
       "      <td>0.067121</td>\n",
       "      <td>0.067424</td>\n",
       "      <td>0.061588</td>\n",
       "      <td>0.050906</td>\n",
       "      <td>0.036478</td>\n",
       "      <td>0.026777</td>\n",
       "      <td>0.027318</td>\n",
       "      <td>0.027212</td>\n",
       "      <td>0.027128</td>\n",
       "      <td>0.029307</td>\n",
       "    </tr>\n",
       "    <tr>\n",
       "      <th>2013-11-01 02:00:00</th>\n",
       "      <td>0.012792</td>\n",
       "      <td>0.012636</td>\n",
       "      <td>0.012475</td>\n",
       "      <td>0.013273</td>\n",
       "      <td>0.013126</td>\n",
       "      <td>0.012475</td>\n",
       "      <td>0.012475</td>\n",
       "      <td>0.012475</td>\n",
       "      <td>0.012475</td>\n",
       "      <td>0.010654</td>\n",
       "      <td>...</td>\n",
       "      <td>0.064548</td>\n",
       "      <td>0.055739</td>\n",
       "      <td>0.040941</td>\n",
       "      <td>0.031525</td>\n",
       "      <td>0.031755</td>\n",
       "      <td>0.024837</td>\n",
       "      <td>0.025149</td>\n",
       "      <td>0.024995</td>\n",
       "      <td>0.030861</td>\n",
       "      <td>0.043975</td>\n",
       "    </tr>\n",
       "    <tr>\n",
       "      <th>2013-11-01 03:00:00</th>\n",
       "      <td>0.037618</td>\n",
       "      <td>0.037160</td>\n",
       "      <td>0.036688</td>\n",
       "      <td>0.039028</td>\n",
       "      <td>0.036827</td>\n",
       "      <td>0.036688</td>\n",
       "      <td>0.036688</td>\n",
       "      <td>0.036688</td>\n",
       "      <td>0.036688</td>\n",
       "      <td>0.021672</td>\n",
       "      <td>...</td>\n",
       "      <td>0.016029</td>\n",
       "      <td>0.023516</td>\n",
       "      <td>0.044500</td>\n",
       "      <td>0.049647</td>\n",
       "      <td>0.030611</td>\n",
       "      <td>0.019703</td>\n",
       "      <td>0.021844</td>\n",
       "      <td>0.021387</td>\n",
       "      <td>0.017950</td>\n",
       "      <td>0.020467</td>\n",
       "    </tr>\n",
       "    <tr>\n",
       "      <th>2013-11-01 04:00:00</th>\n",
       "      <td>0.015582</td>\n",
       "      <td>0.015581</td>\n",
       "      <td>0.015580</td>\n",
       "      <td>0.015585</td>\n",
       "      <td>0.015074</td>\n",
       "      <td>0.015580</td>\n",
       "      <td>0.015580</td>\n",
       "      <td>0.015580</td>\n",
       "      <td>0.015580</td>\n",
       "      <td>0.012785</td>\n",
       "      <td>...</td>\n",
       "      <td>0.017414</td>\n",
       "      <td>0.013548</td>\n",
       "      <td>0.009676</td>\n",
       "      <td>0.015734</td>\n",
       "      <td>0.019272</td>\n",
       "      <td>0.021963</td>\n",
       "      <td>0.024705</td>\n",
       "      <td>0.024309</td>\n",
       "      <td>0.021681</td>\n",
       "      <td>0.024750</td>\n",
       "    </tr>\n",
       "  </tbody>\n",
       "</table>\n",
       "<p>5 rows × 10000 columns</p>\n",
       "</div>"
      ],
      "text/plain": [
       "gridID                  1         2         3         4         5      \\\n",
       "startTime                                                               \n",
       "2013-11-01 00:00:00  0.058891  0.057828  0.056731  0.062167  0.060549   \n",
       "2013-11-01 01:00:00  0.035490  0.035289  0.035082  0.036110  0.035334   \n",
       "2013-11-01 02:00:00  0.012792  0.012636  0.012475  0.013273  0.013126   \n",
       "2013-11-01 03:00:00  0.037618  0.037160  0.036688  0.039028  0.036827   \n",
       "2013-11-01 04:00:00  0.015582  0.015581  0.015580  0.015585  0.015074   \n",
       "\n",
       "gridID                  6         7         8         9         10     ...  \\\n",
       "startTime                                                              ...   \n",
       "2013-11-01 00:00:00  0.056731  0.056731  0.056731  0.056731  0.040944  ...   \n",
       "2013-11-01 01:00:00  0.035082  0.035082  0.035082  0.035082  0.029524  ...   \n",
       "2013-11-01 02:00:00  0.012475  0.012475  0.012475  0.012475  0.010654  ...   \n",
       "2013-11-01 03:00:00  0.036688  0.036688  0.036688  0.036688  0.021672  ...   \n",
       "2013-11-01 04:00:00  0.015580  0.015580  0.015580  0.015580  0.012785  ...   \n",
       "\n",
       "gridID                  9991      9992      9993      9994      9995   \\\n",
       "startTime                                                               \n",
       "2013-11-01 00:00:00  0.080203  0.101781  0.150701  0.135242  0.155147   \n",
       "2013-11-01 01:00:00  0.067121  0.067424  0.061588  0.050906  0.036478   \n",
       "2013-11-01 02:00:00  0.064548  0.055739  0.040941  0.031525  0.031755   \n",
       "2013-11-01 03:00:00  0.016029  0.023516  0.044500  0.049647  0.030611   \n",
       "2013-11-01 04:00:00  0.017414  0.013548  0.009676  0.015734  0.019272   \n",
       "\n",
       "gridID                  9996      9997      9998      9999      10000  \n",
       "startTime                                                              \n",
       "2013-11-01 00:00:00  0.129418  0.099168  0.105147  0.138711  0.098340  \n",
       "2013-11-01 01:00:00  0.026777  0.027318  0.027212  0.027128  0.029307  \n",
       "2013-11-01 02:00:00  0.024837  0.025149  0.024995  0.030861  0.043975  \n",
       "2013-11-01 03:00:00  0.019703  0.021844  0.021387  0.017950  0.020467  \n",
       "2013-11-01 04:00:00  0.021963  0.024705  0.024309  0.021681  0.024750  \n",
       "\n",
       "[5 rows x 10000 columns]"
      ]
     },
     "execution_count": 7,
     "metadata": {},
     "output_type": "execute_result"
    }
   ],
   "source": [
    "# prompt: write pandas to csv\n",
    "\n",
    "import pandas as pd\n",
    "\n",
    "# Save the DataFrame to a CSV file\n",
    "raw_data.rename(columns={'startTime': 'date'}, inplace=True)\n",
    "raw_data.to_csv(f\"./dataset/{dataset_name}/{sub_set_name}.csv\", index_label='date')\n",
    "raw_data.head()"
   ]
  },
  {
   "cell_type": "code",
   "execution_count": 8,
   "metadata": {},
   "outputs": [],
   "source": [
    "# Download the dataset\n",
    "# download_elec_dataset()\n",
    "\n",
    "# # Clean dataset\n",
    "# elec_data = clean_elec()\n",
    "\n",
    "# from sklearn.preprocessing import StandardScaler, MinMaxScaler\n",
    "# Std_normalization = 1\n",
    "# if Std_normalization:\n",
    "#     scaler = StandardScaler()\n",
    "#     temp = scaler.fit_transform(elec_data)\n",
    "#     norm_means = scaler.mean_\n",
    "#     norm_std = scaler.scale_\n",
    "# else:\n",
    "#     scaler = MinMaxScaler()\n",
    "#     temp = scaler.fit_transform(elec_data)\n",
    "\n",
    "# elec_data = pd.DataFrame(elec_data, index=elec_data.index, columns = elec_data.columns)"
   ]
  },
  {
   "cell_type": "code",
   "execution_count": 9,
   "metadata": {},
   "outputs": [
    {
     "data": {
      "text/plain": [
       "'sms.csv'"
      ]
     },
     "execution_count": 9,
     "metadata": {},
     "output_type": "execute_result"
    }
   ],
   "source": [
    "from ns_models.ns_TransformerConfig import NS_TransformerConfig\n",
    "user_num_ts = int(raw_data.shape[1] / n_users)\n",
    "args = NS_TransformerConfig()\n",
    "args.devices = gpu_id\n",
    "args.enc_in = user_num_ts\n",
    "args.dec_in = user_num_ts\n",
    "args.c_out = user_num_ts\n",
    "args.root_path='./dataset/milan/'\n",
    "args.data_path='sms.csv'\n",
    "args.data_path"
   ]
  },
  {
   "cell_type": "code",
   "execution_count": 10,
   "metadata": {},
   "outputs": [],
   "source": [
    "from torch.utils.data import DataLoader\n",
    "from data_provider.data_factory import *\n",
    "from data_provider.data_loader import *\n",
    "\n",
    "test_data, test_loader = data_provider(args, flag='test')"
   ]
  },
  {
   "cell_type": "code",
   "execution_count": 11,
   "metadata": {},
   "outputs": [
    {
     "data": {
      "text/plain": [
       "(96, 10000)"
      ]
     },
     "execution_count": 11,
     "metadata": {},
     "output_type": "execute_result"
    }
   ],
   "source": [
    "test_data[0][0].shape"
   ]
  },
  {
   "cell_type": "code",
   "execution_count": 12,
   "metadata": {},
   "outputs": [],
   "source": [
    "user_data_list = []\n",
    "server_data_list = []\n",
    "for i in range(n_users):\n",
    "    train_data, train_loader = data_provider(args, flag='train', start=i*user_num_ts+1, end=min(user_num_ts*(i+1)+1, raw_data.shape[1]+1))\n",
    "    test_data, test_loader = data_provider(args, flag='test', start=i*user_num_ts+1, end=min(user_num_ts*(i+1)+1, raw_data.shape[1]+1))\n",
    "    # user_data = train_set.filter(lambda e, idx: idx>=(i*user_num_ts) and idx < user_num_ts*(i+1), with_indices=True)\n",
    "    user_data_list.append(train_loader)\n",
    "    server_data_list.append(test_loader)\n",
    "    # print(train_data[0][0].shape)"
   ]
  },
  {
   "cell_type": "code",
   "execution_count": 13,
   "metadata": {},
   "outputs": [
    {
     "data": {
      "text/plain": [
       "Model(\n",
       "  (enc_embedding): DataEmbedding(\n",
       "    (value_embedding): TokenEmbedding(\n",
       "      (tokenConv): Conv1d(1000, 64, kernel_size=(3,), stride=(1,), padding=(1,), bias=False, padding_mode=circular)\n",
       "    )\n",
       "    (position_embedding): PositionalEmbedding()\n",
       "    (temporal_embedding): TimeFeatureEmbedding(\n",
       "      (embed): Linear(in_features=4, out_features=64, bias=False)\n",
       "    )\n",
       "    (dropout): Dropout(p=0.1, inplace=False)\n",
       "  )\n",
       "  (dec_embedding): DataEmbedding(\n",
       "    (value_embedding): TokenEmbedding(\n",
       "      (tokenConv): Conv1d(1000, 64, kernel_size=(3,), stride=(1,), padding=(1,), bias=False, padding_mode=circular)\n",
       "    )\n",
       "    (position_embedding): PositionalEmbedding()\n",
       "    (temporal_embedding): TimeFeatureEmbedding(\n",
       "      (embed): Linear(in_features=4, out_features=64, bias=False)\n",
       "    )\n",
       "    (dropout): Dropout(p=0.1, inplace=False)\n",
       "  )\n",
       "  (encoder): Encoder(\n",
       "    (attn_layers): ModuleList(\n",
       "      (0-5): 6 x EncoderLayer(\n",
       "        (attention): AttentionLayer(\n",
       "          (inner_attention): DSAttention(\n",
       "            (dropout): Dropout(p=0.1, inplace=False)\n",
       "          )\n",
       "          (query_projection): Linear(in_features=64, out_features=64, bias=True)\n",
       "          (key_projection): Linear(in_features=64, out_features=64, bias=True)\n",
       "          (value_projection): Linear(in_features=64, out_features=64, bias=True)\n",
       "          (out_projection): Linear(in_features=64, out_features=64, bias=True)\n",
       "        )\n",
       "        (conv1): Conv1d(64, 32, kernel_size=(1,), stride=(1,))\n",
       "        (conv2): Conv1d(32, 64, kernel_size=(1,), stride=(1,))\n",
       "        (norm1): LayerNorm((64,), eps=1e-05, elementwise_affine=True)\n",
       "        (norm2): LayerNorm((64,), eps=1e-05, elementwise_affine=True)\n",
       "        (dropout): Dropout(p=0.1, inplace=False)\n",
       "      )\n",
       "    )\n",
       "    (norm): LayerNorm((64,), eps=1e-05, elementwise_affine=True)\n",
       "  )\n",
       "  (decoder): Decoder(\n",
       "    (layers): ModuleList(\n",
       "      (0-3): 4 x DecoderLayer(\n",
       "        (self_attention): AttentionLayer(\n",
       "          (inner_attention): DSAttention(\n",
       "            (dropout): Dropout(p=0.1, inplace=False)\n",
       "          )\n",
       "          (query_projection): Linear(in_features=64, out_features=64, bias=True)\n",
       "          (key_projection): Linear(in_features=64, out_features=64, bias=True)\n",
       "          (value_projection): Linear(in_features=64, out_features=64, bias=True)\n",
       "          (out_projection): Linear(in_features=64, out_features=64, bias=True)\n",
       "        )\n",
       "        (cross_attention): AttentionLayer(\n",
       "          (inner_attention): DSAttention(\n",
       "            (dropout): Dropout(p=0.1, inplace=False)\n",
       "          )\n",
       "          (query_projection): Linear(in_features=64, out_features=64, bias=True)\n",
       "          (key_projection): Linear(in_features=64, out_features=64, bias=True)\n",
       "          (value_projection): Linear(in_features=64, out_features=64, bias=True)\n",
       "          (out_projection): Linear(in_features=64, out_features=64, bias=True)\n",
       "        )\n",
       "        (conv1): Conv1d(64, 32, kernel_size=(1,), stride=(1,))\n",
       "        (conv2): Conv1d(32, 64, kernel_size=(1,), stride=(1,))\n",
       "        (norm1): LayerNorm((64,), eps=1e-05, elementwise_affine=True)\n",
       "        (norm2): LayerNorm((64,), eps=1e-05, elementwise_affine=True)\n",
       "        (norm3): LayerNorm((64,), eps=1e-05, elementwise_affine=True)\n",
       "        (dropout): Dropout(p=0.1, inplace=False)\n",
       "      )\n",
       "    )\n",
       "    (norm): LayerNorm((64,), eps=1e-05, elementwise_affine=True)\n",
       "    (projection): Linear(in_features=64, out_features=1000, bias=True)\n",
       "  )\n",
       "  (tau_learner): Projector(\n",
       "    (series_conv): Conv1d(96, 1, kernel_size=(3,), stride=(1,), padding=(1,), bias=False, padding_mode=circular)\n",
       "    (backbone): Sequential(\n",
       "      (0): Linear(in_features=2000, out_features=64, bias=True)\n",
       "      (1): ReLU()\n",
       "      (2): Linear(in_features=64, out_features=64, bias=True)\n",
       "      (3): ReLU()\n",
       "      (4): Linear(in_features=64, out_features=1, bias=False)\n",
       "    )\n",
       "  )\n",
       "  (delta_learner): Projector(\n",
       "    (series_conv): Conv1d(96, 1, kernel_size=(3,), stride=(1,), padding=(1,), bias=False, padding_mode=circular)\n",
       "    (backbone): Sequential(\n",
       "      (0): Linear(in_features=2000, out_features=64, bias=True)\n",
       "      (1): ReLU()\n",
       "      (2): Linear(in_features=64, out_features=64, bias=True)\n",
       "      (3): ReLU()\n",
       "      (4): Linear(in_features=64, out_features=96, bias=False)\n",
       "    )\n",
       "  )\n",
       ")"
      ]
     },
     "execution_count": 13,
     "metadata": {},
     "output_type": "execute_result"
    }
   ],
   "source": [
    "from ns_models import ns_Transformer\n",
    "server_model = ns_Transformer.Model(configs=args)\n",
    "server_model"
   ]
  },
  {
   "cell_type": "markdown",
   "metadata": {},
   "source": [
    "# Setup WANDB"
   ]
  },
  {
   "cell_type": "code",
   "execution_count": 14,
   "metadata": {},
   "outputs": [
    {
     "name": "stderr",
     "output_type": "stream",
     "text": [
      "Failed to detect the name of this notebook, you can set it manually with the WANDB_NOTEBOOK_NAME environment variable to enable code saving.\n",
      "\u001b[34m\u001b[1mwandb\u001b[0m: Currently logged in as: \u001b[33mkenlvq\u001b[0m (\u001b[33mquanla\u001b[0m). Use \u001b[1m`wandb login --relogin`\u001b[0m to force relogin\n"
     ]
    },
    {
     "data": {
      "application/vnd.jupyter.widget-view+json": {
       "model_id": "48fd96e9e6764effad0853583b9851ae",
       "version_major": 2,
       "version_minor": 0
      },
      "text/plain": [
       "VBox(children=(Label(value='Waiting for wandb.init()...\\r'), FloatProgress(value=0.011112221226923995, max=1.0…"
      ]
     },
     "metadata": {},
     "output_type": "display_data"
    },
    {
     "data": {
      "text/html": [
       "wandb version 0.17.3 is available!  To upgrade, please run:\n",
       " $ pip install wandb --upgrade"
      ],
      "text/plain": [
       "<IPython.core.display.HTML object>"
      ]
     },
     "metadata": {},
     "output_type": "display_data"
    },
    {
     "data": {
      "text/html": [
       "Tracking run with wandb version 0.16.3"
      ],
      "text/plain": [
       "<IPython.core.display.HTML object>"
      ]
     },
     "metadata": {},
     "output_type": "display_data"
    },
    {
     "data": {
      "text/html": [
       "Run data is saved locally in <code>/home/qula0496/quan/Nonstationary_Transformers/wandb/run-20240703_143049-8e8p6iip</code>"
      ],
      "text/plain": [
       "<IPython.core.display.HTML object>"
      ]
     },
     "metadata": {},
     "output_type": "display_data"
    },
    {
     "data": {
      "text/html": [
       "Syncing run <strong><a href='https://wandb.ai/quanla/Federated%20Non-Stationary%20Transformer%20on%20Milan%20dataset/runs/8e8p6iip' target=\"_blank\">Federated Non-Stationary Transformer on Milan SMS dataset</a></strong> to <a href='https://wandb.ai/quanla/Federated%20Non-Stationary%20Transformer%20on%20Milan%20dataset' target=\"_blank\">Weights & Biases</a> (<a href='https://wandb.me/run' target=\"_blank\">docs</a>)<br/>"
      ],
      "text/plain": [
       "<IPython.core.display.HTML object>"
      ]
     },
     "metadata": {},
     "output_type": "display_data"
    },
    {
     "data": {
      "text/html": [
       " View project at <a href='https://wandb.ai/quanla/Federated%20Non-Stationary%20Transformer%20on%20Milan%20dataset' target=\"_blank\">https://wandb.ai/quanla/Federated%20Non-Stationary%20Transformer%20on%20Milan%20dataset</a>"
      ],
      "text/plain": [
       "<IPython.core.display.HTML object>"
      ]
     },
     "metadata": {},
     "output_type": "display_data"
    },
    {
     "data": {
      "text/html": [
       " View run at <a href='https://wandb.ai/quanla/Federated%20Non-Stationary%20Transformer%20on%20Milan%20dataset/runs/8e8p6iip' target=\"_blank\">https://wandb.ai/quanla/Federated%20Non-Stationary%20Transformer%20on%20Milan%20dataset/runs/8e8p6iip</a>"
      ],
      "text/plain": [
       "<IPython.core.display.HTML object>"
      ]
     },
     "metadata": {},
     "output_type": "display_data"
    }
   ],
   "source": [
    "import wandb\n",
    "import torch\n",
    "\n",
    "NUM_GPUS = torch.cuda.device_count()\n",
    "LR = 1e-3\n",
    "GLOBAL_EPOCHS = 50\n",
    "LOCAL_EPOCHS = 5\n",
    "BATCH_SIZE = 128\n",
    "L2_PENALTY = 0.0\n",
    "USER_RATIO = 0.2\n",
    "run = wandb.init(\n",
    "    # project name\n",
    "    project=\"Federated Non-Stationary Transformer on Milan dataset\",\n",
    "    # experiment name\n",
    "    name=f\"Federated Non-Stationary Transformer on Milan SMS dataset\",\n",
    "    # Hyperparams\n",
    "    config={\n",
    "        \"dataset\": \"Milan Call\",\n",
    "        \"preprocess_type\": \"std\",\n",
    "        \"num_user\": n_users,\n",
    "        \"learning_rate\": LR,\n",
    "        \"global_epochs\": GLOBAL_EPOCHS,\n",
    "        \"local_epochs\": LOCAL_EPOCHS,\n",
    "        \"batch_size\": BATCH_SIZE,\n",
    "        \"num_gpus\": NUM_GPUS,\n",
    "        \"user_ratio\": USER_RATIO,\n",
    "        \"l2_penalty\": L2_PENALTY,\n",
    "        \"total_time_series\": 10000,\n",
    "        \"detrending_data\": \"No\"\n",
    "    })\n",
    "\n",
    "config_wanb = wandb.config"
   ]
  },
  {
   "cell_type": "code",
   "execution_count": 15,
   "metadata": {},
   "outputs": [
    {
     "name": "stderr",
     "output_type": "stream",
     "text": [
      "Progress:   0%|          | 0/50 [00:00<?, ?it/s]"
     ]
    },
    {
     "name": "stdout",
     "output_type": "stream",
     "text": [
      "<modules.usernsTranformer.UserNsTransformer object at 0x7f166d902e90>\n",
      "Epoch: 1 cost time: 4.811601161956787\n",
      "Epoch: 2 cost time: 3.7105960845947266\n",
      "Epoch: 3 cost time: 3.439992904663086\n",
      "Epoch: 4 cost time: 3.235430955886841\n",
      "Epoch: 5 cost time: 3.2645459175109863\n",
      "<modules.usernsTranformer.UserNsTransformer object at 0x7f166ca6e7a0>\n",
      "Epoch: 1 cost time: 3.4284677505493164\n",
      "Epoch: 2 cost time: 3.305551290512085\n",
      "Epoch: 3 cost time: 4.155806541442871\n",
      "Epoch: 4 cost time: 4.127667665481567\n",
      "Epoch: 5 cost time: 3.406243324279785\n"
     ]
    },
    {
     "name": "stderr",
     "output_type": "stream",
     "text": [
      "Progress:   2%|▏         | 1/50 [00:53<43:24, 53.15s/it]"
     ]
    },
    {
     "name": "stdout",
     "output_type": "stream",
     "text": [
      "<modules.usernsTranformer.UserNsTransformer object at 0x7f166d902080>\n",
      "Epoch: 1 cost time: 2.9220876693725586\n",
      "Epoch: 2 cost time: 2.6818013191223145\n",
      "Epoch: 3 cost time: 2.7936038970947266\n",
      "Epoch: 4 cost time: 2.8085532188415527\n",
      "Epoch: 5 cost time: 2.5688014030456543\n",
      "<modules.usernsTranformer.UserNsTransformer object at 0x7f166cb16320>\n",
      "Epoch: 1 cost time: 2.6302552223205566\n",
      "Epoch: 2 cost time: 2.8772761821746826\n",
      "Epoch: 3 cost time: 3.3885507583618164\n",
      "Epoch: 4 cost time: 3.1816656589508057\n",
      "Epoch: 5 cost time: 3.5140602588653564\n"
     ]
    },
    {
     "name": "stderr",
     "output_type": "stream",
     "text": [
      "Progress:   4%|▍         | 2/50 [01:38<38:50, 48.56s/it]"
     ]
    },
    {
     "name": "stdout",
     "output_type": "stream",
     "text": [
      "<modules.usernsTranformer.UserNsTransformer object at 0x7f166cb16320>\n",
      "Epoch: 1 cost time: 2.6672163009643555\n",
      "Epoch: 2 cost time: 2.749958038330078\n",
      "Epoch: 3 cost time: 2.5418529510498047\n",
      "Epoch: 4 cost time: 2.6861345767974854\n",
      "Epoch: 5 cost time: 2.597099781036377\n",
      "<modules.usernsTranformer.UserNsTransformer object at 0x7f166ca6c880>\n",
      "Epoch: 1 cost time: 2.53291654586792\n",
      "Epoch: 2 cost time: 2.9862802028656006\n",
      "Epoch: 3 cost time: 3.5643973350524902\n",
      "Epoch: 4 cost time: 2.9636964797973633\n",
      "Epoch: 5 cost time: 3.7504358291625977\n"
     ]
    },
    {
     "name": "stderr",
     "output_type": "stream",
     "text": [
      "Progress:   6%|▌         | 3/50 [02:24<37:00, 47.24s/it]"
     ]
    },
    {
     "name": "stdout",
     "output_type": "stream",
     "text": [
      "<modules.usernsTranformer.UserNsTransformer object at 0x7f166cb16320>\n",
      "Epoch: 1 cost time: 2.6112756729125977\n",
      "Epoch: 2 cost time: 2.667393922805786\n",
      "Epoch: 3 cost time: 2.752805471420288\n",
      "Epoch: 4 cost time: 2.808450937271118\n",
      "Epoch: 5 cost time: 2.7134006023406982\n",
      "<modules.usernsTranformer.UserNsTransformer object at 0x7f166d902ec0>\n",
      "Epoch: 1 cost time: 2.713327407836914\n",
      "Epoch: 2 cost time: 3.2175538539886475\n",
      "Epoch: 3 cost time: 3.5117788314819336\n",
      "Epoch: 4 cost time: 3.296578884124756\n",
      "Epoch: 5 cost time: 3.455366373062134\n"
     ]
    },
    {
     "name": "stderr",
     "output_type": "stream",
     "text": [
      "Progress:   8%|▊         | 4/50 [03:09<35:42, 46.57s/it]"
     ]
    },
    {
     "name": "stdout",
     "output_type": "stream",
     "text": [
      "<modules.usernsTranformer.UserNsTransformer object at 0x7f166ca6e7a0>\n",
      "Epoch: 1 cost time: 2.8572187423706055\n",
      "Epoch: 2 cost time: 2.682493209838867\n",
      "Epoch: 3 cost time: 2.638892412185669\n",
      "Epoch: 4 cost time: 2.594017505645752\n",
      "Epoch: 5 cost time: 2.6590559482574463\n",
      "<modules.usernsTranformer.UserNsTransformer object at 0x7f166cb16320>\n",
      "Epoch: 1 cost time: 3.033325433731079\n",
      "Epoch: 2 cost time: 3.2156543731689453\n",
      "Epoch: 3 cost time: 3.540954351425171\n",
      "Epoch: 4 cost time: 3.2216038703918457\n",
      "Epoch: 5 cost time: 3.230644464492798\n"
     ]
    },
    {
     "name": "stderr",
     "output_type": "stream",
     "text": [
      "Progress:  10%|█         | 5/50 [03:54<34:31, 46.03s/it]"
     ]
    },
    {
     "name": "stdout",
     "output_type": "stream",
     "text": [
      "<modules.usernsTranformer.UserNsTransformer object at 0x7f166ca6c880>\n",
      "Epoch: 1 cost time: 2.723036527633667\n",
      "Epoch: 2 cost time: 2.758380651473999\n",
      "Epoch: 3 cost time: 2.738767385482788\n",
      "Epoch: 4 cost time: 2.5904927253723145\n",
      "Epoch: 5 cost time: 2.648029088973999\n",
      "<modules.usernsTranformer.UserNsTransformer object at 0x7f1667e4fe80>\n",
      "Epoch: 1 cost time: 3.197600841522217\n",
      "Epoch: 2 cost time: 3.2736904621124268\n",
      "Epoch: 3 cost time: 3.6278648376464844\n",
      "Epoch: 4 cost time: 3.3900861740112305\n",
      "Epoch: 5 cost time: 3.1225736141204834\n"
     ]
    },
    {
     "name": "stderr",
     "output_type": "stream",
     "text": [
      "Progress:  12%|█▏        | 6/50 [04:40<33:46, 46.05s/it]"
     ]
    },
    {
     "name": "stdout",
     "output_type": "stream",
     "text": [
      "<modules.usernsTranformer.UserNsTransformer object at 0x7f166d902080>\n",
      "Epoch: 1 cost time: 2.6636173725128174\n",
      "Epoch: 2 cost time: 2.4851903915405273\n",
      "Epoch: 3 cost time: 2.6840670108795166\n",
      "Epoch: 4 cost time: 2.774413824081421\n",
      "Epoch: 5 cost time: 2.965628147125244\n",
      "<modules.usernsTranformer.UserNsTransformer object at 0x7f166d902e90>\n",
      "Epoch: 1 cost time: 3.2149710655212402\n",
      "Epoch: 2 cost time: 3.058622121810913\n",
      "Epoch: 3 cost time: 3.236234664916992\n",
      "Epoch: 4 cost time: 3.013812303543091\n",
      "Epoch: 5 cost time: 3.224355459213257\n"
     ]
    },
    {
     "name": "stderr",
     "output_type": "stream",
     "text": [
      "Progress:  14%|█▍        | 7/50 [05:26<32:59, 46.04s/it]"
     ]
    },
    {
     "name": "stdout",
     "output_type": "stream",
     "text": [
      "<modules.usernsTranformer.UserNsTransformer object at 0x7f166ca6c880>\n",
      "Epoch: 1 cost time: 2.7110729217529297\n",
      "Epoch: 2 cost time: 2.6319522857666016\n",
      "Epoch: 3 cost time: 2.5533504486083984\n",
      "Epoch: 4 cost time: 3.1139323711395264\n",
      "Epoch: 5 cost time: 3.4133198261260986\n",
      "<modules.usernsTranformer.UserNsTransformer object at 0x7f166d902e90>\n",
      "Epoch: 1 cost time: 3.302239418029785\n",
      "Epoch: 2 cost time: 3.4709503650665283\n",
      "Epoch: 3 cost time: 2.8326330184936523\n",
      "Epoch: 4 cost time: 2.698148488998413\n",
      "Epoch: 5 cost time: 3.2372019290924072\n"
     ]
    },
    {
     "name": "stderr",
     "output_type": "stream",
     "text": [
      "Progress:  16%|█▌        | 8/50 [06:13<32:26, 46.36s/it]"
     ]
    },
    {
     "name": "stdout",
     "output_type": "stream",
     "text": [
      "<modules.usernsTranformer.UserNsTransformer object at 0x7f166d902f20>\n",
      "Epoch: 1 cost time: 2.7278060913085938\n",
      "Epoch: 2 cost time: 2.709843158721924\n",
      "Epoch: 3 cost time: 2.8569319248199463\n",
      "Epoch: 4 cost time: 3.1371347904205322\n",
      "Epoch: 5 cost time: 2.9984965324401855\n",
      "<modules.usernsTranformer.UserNsTransformer object at 0x7f166cb14b50>\n",
      "Epoch: 1 cost time: 3.368481159210205\n",
      "Epoch: 2 cost time: 3.0604116916656494\n",
      "Epoch: 3 cost time: 2.628255844116211\n",
      "Epoch: 4 cost time: 2.6383063793182373\n",
      "Epoch: 5 cost time: 3.303419589996338\n"
     ]
    },
    {
     "name": "stderr",
     "output_type": "stream",
     "text": [
      "Progress:  18%|█▊        | 9/50 [06:59<31:24, 45.97s/it]"
     ]
    },
    {
     "name": "stdout",
     "output_type": "stream",
     "text": [
      "<modules.usernsTranformer.UserNsTransformer object at 0x7f166ca6e7a0>\n",
      "Epoch: 1 cost time: 2.79185152053833\n",
      "Epoch: 2 cost time: 2.712848663330078\n",
      "Epoch: 3 cost time: 2.9419100284576416\n",
      "Epoch: 4 cost time: 3.2316575050354004\n",
      "Epoch: 5 cost time: 3.2753243446350098\n",
      "<modules.usernsTranformer.UserNsTransformer object at 0x7f166ca6c880>\n",
      "Epoch: 1 cost time: 3.016920328140259\n",
      "Epoch: 2 cost time: 2.9483447074890137\n",
      "Epoch: 3 cost time: 2.7239086627960205\n",
      "Epoch: 4 cost time: 2.731337547302246\n",
      "Epoch: 5 cost time: 3.3430631160736084\n"
     ]
    },
    {
     "name": "stderr",
     "output_type": "stream",
     "text": [
      "Progress:  20%|██        | 10/50 [07:44<30:29, 45.75s/it]"
     ]
    },
    {
     "name": "stdout",
     "output_type": "stream",
     "text": [
      "<modules.usernsTranformer.UserNsTransformer object at 0x7f166d902f20>\n",
      "Epoch: 1 cost time: 2.779832124710083\n",
      "Epoch: 2 cost time: 2.8589234352111816\n",
      "Epoch: 3 cost time: 3.081275701522827\n",
      "Epoch: 4 cost time: 3.092834234237671\n",
      "Epoch: 5 cost time: 3.389788866043091\n",
      "<modules.usernsTranformer.UserNsTransformer object at 0x7f166ca6e7a0>\n",
      "Epoch: 1 cost time: 3.064818859100342\n",
      "Epoch: 2 cost time: 2.5681960582733154\n",
      "Epoch: 3 cost time: 2.661890745162964\n",
      "Epoch: 4 cost time: 2.5824761390686035\n",
      "Epoch: 5 cost time: 3.1547317504882812\n"
     ]
    },
    {
     "name": "stderr",
     "output_type": "stream",
     "text": [
      "Progress:  22%|██▏       | 11/50 [08:29<29:32, 45.44s/it]"
     ]
    },
    {
     "name": "stdout",
     "output_type": "stream",
     "text": [
      "<modules.usernsTranformer.UserNsTransformer object at 0x7f166d902f20>\n",
      "Epoch: 1 cost time: 2.672480583190918\n",
      "Epoch: 2 cost time: 2.8231160640716553\n",
      "Epoch: 3 cost time: 3.3357322216033936\n",
      "Epoch: 4 cost time: 2.908195734024048\n",
      "Epoch: 5 cost time: 3.3901102542877197\n",
      "<modules.usernsTranformer.UserNsTransformer object at 0x7f166d1bd9f0>\n",
      "Epoch: 1 cost time: 3.209489345550537\n",
      "Epoch: 2 cost time: 2.7040317058563232\n",
      "Epoch: 3 cost time: 2.622377872467041\n",
      "Epoch: 4 cost time: 2.77268648147583\n",
      "Epoch: 5 cost time: 3.33544659614563\n"
     ]
    },
    {
     "name": "stderr",
     "output_type": "stream",
     "text": [
      "Progress:  24%|██▍       | 12/50 [09:14<28:51, 45.58s/it]"
     ]
    },
    {
     "name": "stdout",
     "output_type": "stream",
     "text": [
      "<modules.usernsTranformer.UserNsTransformer object at 0x7f166ca6e7a0>\n",
      "Epoch: 1 cost time: 2.710613250732422\n",
      "Epoch: 2 cost time: 3.2311651706695557\n",
      "Epoch: 3 cost time: 3.313636302947998\n",
      "Epoch: 4 cost time: 3.2978410720825195\n",
      "Epoch: 5 cost time: 3.1860289573669434\n",
      "<modules.usernsTranformer.UserNsTransformer object at 0x7f1667e4fe80>\n",
      "Epoch: 1 cost time: 2.6536736488342285\n",
      "Epoch: 2 cost time: 2.5691933631896973\n",
      "Epoch: 3 cost time: 2.674703598022461\n",
      "Epoch: 4 cost time: 2.8750827312469482\n",
      "Epoch: 5 cost time: 3.0756592750549316\n"
     ]
    },
    {
     "name": "stderr",
     "output_type": "stream",
     "text": [
      "Progress:  26%|██▌       | 13/50 [09:59<27:59, 45.38s/it]"
     ]
    },
    {
     "name": "stdout",
     "output_type": "stream",
     "text": [
      "<modules.usernsTranformer.UserNsTransformer object at 0x7f166d1bd9f0>\n",
      "Epoch: 1 cost time: 2.5666606426239014\n",
      "Epoch: 2 cost time: 3.034729242324829\n",
      "Epoch: 3 cost time: 3.2357869148254395\n",
      "Epoch: 4 cost time: 3.4944517612457275\n",
      "Epoch: 5 cost time: 3.4545843601226807\n",
      "<modules.usernsTranformer.UserNsTransformer object at 0x7f166cb16320>\n",
      "Epoch: 1 cost time: 2.625594139099121\n",
      "Epoch: 2 cost time: 2.579657554626465\n",
      "Epoch: 3 cost time: 2.7751526832580566\n",
      "Epoch: 4 cost time: 2.6662027835845947\n",
      "Epoch: 5 cost time: 3.231776237487793\n"
     ]
    },
    {
     "name": "stderr",
     "output_type": "stream",
     "text": [
      "Progress:  28%|██▊       | 14/50 [10:45<27:15, 45.43s/it]"
     ]
    },
    {
     "name": "stdout",
     "output_type": "stream",
     "text": [
      "<modules.usernsTranformer.UserNsTransformer object at 0x7f166ca6c880>\n",
      "Epoch: 1 cost time: 2.886176347732544\n",
      "Epoch: 2 cost time: 3.114698648452759\n",
      "Epoch: 3 cost time: 3.293259859085083\n",
      "Epoch: 4 cost time: 3.127387285232544\n",
      "Epoch: 5 cost time: 3.063746690750122\n",
      "<modules.usernsTranformer.UserNsTransformer object at 0x7f166d902f20>\n",
      "Epoch: 1 cost time: 2.7635087966918945\n",
      "Epoch: 2 cost time: 2.641862630844116\n",
      "Epoch: 3 cost time: 2.7785837650299072\n",
      "Epoch: 4 cost time: 2.9949917793273926\n",
      "Epoch: 5 cost time: 3.047184467315674\n"
     ]
    },
    {
     "name": "stderr",
     "output_type": "stream",
     "text": [
      "Progress:  30%|███       | 15/50 [11:30<26:22, 45.22s/it]"
     ]
    },
    {
     "name": "stdout",
     "output_type": "stream",
     "text": [
      "<modules.usernsTranformer.UserNsTransformer object at 0x7f166d902e90>\n",
      "Epoch: 1 cost time: 2.8106160163879395\n",
      "Epoch: 2 cost time: 3.2428996562957764\n",
      "Epoch: 3 cost time: 3.007746696472168\n",
      "Epoch: 4 cost time: 3.197138547897339\n",
      "Epoch: 5 cost time: 3.1644017696380615\n",
      "<modules.usernsTranformer.UserNsTransformer object at 0x7f1667e4fe80>\n",
      "Epoch: 1 cost time: 2.551913261413574\n",
      "Epoch: 2 cost time: 2.791280746459961\n",
      "Epoch: 3 cost time: 2.6773881912231445\n",
      "Epoch: 4 cost time: 3.2092652320861816\n",
      "Epoch: 5 cost time: 3.020162582397461\n"
     ]
    },
    {
     "name": "stderr",
     "output_type": "stream",
     "text": [
      "Progress:  32%|███▏      | 16/50 [12:15<25:36, 45.20s/it]"
     ]
    },
    {
     "name": "stdout",
     "output_type": "stream",
     "text": [
      "<modules.usernsTranformer.UserNsTransformer object at 0x7f166d902080>\n",
      "Epoch: 1 cost time: 3.1972851753234863\n",
      "Epoch: 2 cost time: 3.636559009552002\n",
      "Epoch: 3 cost time: 3.1927154064178467\n",
      "Epoch: 4 cost time: 3.228748321533203\n",
      "Epoch: 5 cost time: 2.5990023612976074\n",
      "<modules.usernsTranformer.UserNsTransformer object at 0x7f166ca6c880>\n",
      "Epoch: 1 cost time: 2.8978192806243896\n",
      "Epoch: 2 cost time: 2.7415714263916016\n",
      "Epoch: 3 cost time: 2.6518912315368652\n",
      "Epoch: 4 cost time: 3.151761293411255\n",
      "Epoch: 5 cost time: 3.209808111190796\n"
     ]
    },
    {
     "name": "stderr",
     "output_type": "stream",
     "text": [
      "Progress:  34%|███▍      | 17/50 [13:02<25:11, 45.81s/it]"
     ]
    },
    {
     "name": "stdout",
     "output_type": "stream",
     "text": [
      "<modules.usernsTranformer.UserNsTransformer object at 0x7f166cb16320>\n",
      "Epoch: 1 cost time: 3.5384480953216553\n",
      "Epoch: 2 cost time: 3.183828830718994\n",
      "Epoch: 3 cost time: 3.2784461975097656\n",
      "Epoch: 4 cost time: 2.9290387630462646\n",
      "Epoch: 5 cost time: 2.77463436126709\n",
      "<modules.usernsTranformer.UserNsTransformer object at 0x7f166d1bd9f0>\n",
      "Epoch: 1 cost time: 2.632915735244751\n",
      "Epoch: 2 cost time: 2.7522754669189453\n",
      "Epoch: 3 cost time: 2.6610054969787598\n",
      "Epoch: 4 cost time: 3.3718655109405518\n",
      "Epoch: 5 cost time: 3.206420421600342\n"
     ]
    },
    {
     "name": "stderr",
     "output_type": "stream",
     "text": [
      "Progress:  36%|███▌      | 18/50 [13:48<24:28, 45.88s/it]"
     ]
    },
    {
     "name": "stdout",
     "output_type": "stream",
     "text": [
      "<modules.usernsTranformer.UserNsTransformer object at 0x7f166cb16320>\n",
      "Epoch: 1 cost time: 3.4272303581237793\n",
      "Epoch: 2 cost time: 3.369878053665161\n",
      "Epoch: 3 cost time: 3.245302438735962\n",
      "Epoch: 4 cost time: 2.7163360118865967\n",
      "Epoch: 5 cost time: 2.9095966815948486\n",
      "<modules.usernsTranformer.UserNsTransformer object at 0x7f166d902ec0>\n",
      "Epoch: 1 cost time: 2.574960947036743\n",
      "Epoch: 2 cost time: 2.818345069885254\n",
      "Epoch: 3 cost time: 2.9322359561920166\n",
      "Epoch: 4 cost time: 3.571932792663574\n",
      "Epoch: 5 cost time: 3.3349244594573975\n"
     ]
    },
    {
     "name": "stderr",
     "output_type": "stream",
     "text": [
      "Progress:  38%|███▊      | 19/50 [14:36<23:57, 46.36s/it]"
     ]
    },
    {
     "name": "stdout",
     "output_type": "stream",
     "text": [
      "<modules.usernsTranformer.UserNsTransformer object at 0x7f166d902e90>\n",
      "Epoch: 1 cost time: 3.320089817047119\n",
      "Epoch: 2 cost time: 3.2691080570220947\n",
      "Epoch: 3 cost time: 2.773519277572632\n",
      "Epoch: 4 cost time: 2.743929862976074\n",
      "Epoch: 5 cost time: 2.863123893737793\n",
      "<modules.usernsTranformer.UserNsTransformer object at 0x7f166d902f20>\n",
      "Epoch: 1 cost time: 2.694770336151123\n",
      "Epoch: 2 cost time: 2.760481595993042\n",
      "Epoch: 3 cost time: 3.315286636352539\n",
      "Epoch: 4 cost time: 3.300034523010254\n",
      "Epoch: 5 cost time: 3.280674695968628\n"
     ]
    },
    {
     "name": "stderr",
     "output_type": "stream",
     "text": [
      "Progress:  40%|████      | 20/50 [15:22<23:14, 46.48s/it]"
     ]
    },
    {
     "name": "stdout",
     "output_type": "stream",
     "text": [
      "<modules.usernsTranformer.UserNsTransformer object at 0x7f166d902ec0>\n",
      "Epoch: 1 cost time: 3.252830982208252\n",
      "Epoch: 2 cost time: 3.0715527534484863\n",
      "Epoch: 3 cost time: 2.6611433029174805\n",
      "Epoch: 4 cost time: 2.800680637359619\n",
      "Epoch: 5 cost time: 2.7783725261688232\n",
      "<modules.usernsTranformer.UserNsTransformer object at 0x7f166ca6e7a0>\n",
      "Epoch: 1 cost time: 2.6997694969177246\n",
      "Epoch: 2 cost time: 3.402418851852417\n",
      "Epoch: 3 cost time: 3.511484146118164\n",
      "Epoch: 4 cost time: 3.129415988922119\n",
      "Epoch: 5 cost time: 3.335925579071045\n"
     ]
    },
    {
     "name": "stderr",
     "output_type": "stream",
     "text": [
      "Progress:  42%|████▏     | 21/50 [16:09<22:27, 46.47s/it]"
     ]
    },
    {
     "name": "stdout",
     "output_type": "stream",
     "text": [
      "<modules.usernsTranformer.UserNsTransformer object at 0x7f166d902f20>\n",
      "Epoch: 1 cost time: 3.265185594558716\n",
      "Epoch: 2 cost time: 3.2148807048797607\n",
      "Epoch: 3 cost time: 2.774998188018799\n",
      "Epoch: 4 cost time: 2.674132823944092\n",
      "Epoch: 5 cost time: 2.5454015731811523\n",
      "<modules.usernsTranformer.UserNsTransformer object at 0x7f166ca6e7a0>\n",
      "Epoch: 1 cost time: 3.0075910091400146\n",
      "Epoch: 2 cost time: 3.3553311824798584\n",
      "Epoch: 3 cost time: 3.354705810546875\n",
      "Epoch: 4 cost time: 3.369471549987793\n",
      "Epoch: 5 cost time: 2.9985079765319824\n"
     ]
    },
    {
     "name": "stderr",
     "output_type": "stream",
     "text": [
      "Progress:  44%|████▍     | 22/50 [16:56<21:44, 46.59s/it]"
     ]
    },
    {
     "name": "stdout",
     "output_type": "stream",
     "text": [
      "<modules.usernsTranformer.UserNsTransformer object at 0x7f166d902080>\n",
      "Epoch: 1 cost time: 3.480391263961792\n",
      "Epoch: 2 cost time: 2.7738873958587646\n",
      "Epoch: 3 cost time: 2.6683130264282227\n",
      "Epoch: 4 cost time: 2.601405620574951\n",
      "Epoch: 5 cost time: 2.6090242862701416\n",
      "<modules.usernsTranformer.UserNsTransformer object at 0x7f166d902e90>\n",
      "Epoch: 1 cost time: 3.1776015758514404\n",
      "Epoch: 2 cost time: 3.2103543281555176\n",
      "Epoch: 3 cost time: 3.37170672416687\n",
      "Epoch: 4 cost time: 3.4389500617980957\n",
      "Epoch: 5 cost time: 2.651764392852783\n"
     ]
    },
    {
     "name": "stderr",
     "output_type": "stream",
     "text": [
      "Progress:  46%|████▌     | 23/50 [17:41<20:47, 46.20s/it]"
     ]
    },
    {
     "name": "stdout",
     "output_type": "stream",
     "text": [
      "<modules.usernsTranformer.UserNsTransformer object at 0x7f166d902f20>\n",
      "Epoch: 1 cost time: 3.1445064544677734\n",
      "Epoch: 2 cost time: 2.8779144287109375\n",
      "Epoch: 3 cost time: 2.6890766620635986\n",
      "Epoch: 4 cost time: 2.7279715538024902\n",
      "Epoch: 5 cost time: 2.9226865768432617\n",
      "<modules.usernsTranformer.UserNsTransformer object at 0x7f1667e4fe80>\n",
      "Epoch: 1 cost time: 3.2663331031799316\n",
      "Epoch: 2 cost time: 3.247762680053711\n",
      "Epoch: 3 cost time: 3.256413221359253\n",
      "Epoch: 4 cost time: 2.883300304412842\n",
      "Epoch: 5 cost time: 2.8274941444396973\n"
     ]
    },
    {
     "name": "stderr",
     "output_type": "stream",
     "text": [
      "Progress:  48%|████▊     | 24/50 [18:26<19:52, 45.85s/it]"
     ]
    },
    {
     "name": "stdout",
     "output_type": "stream",
     "text": [
      "<modules.usernsTranformer.UserNsTransformer object at 0x7f166d1bd9f0>\n",
      "Epoch: 1 cost time: 3.2592153549194336\n",
      "Epoch: 2 cost time: 2.6515982151031494\n",
      "Epoch: 3 cost time: 2.6761956214904785\n",
      "Epoch: 4 cost time: 2.758075475692749\n",
      "Epoch: 5 cost time: 2.868271827697754\n",
      "<modules.usernsTranformer.UserNsTransformer object at 0x7f166d902f20>\n",
      "Epoch: 1 cost time: 3.286092758178711\n",
      "Epoch: 2 cost time: 3.2905967235565186\n",
      "Epoch: 3 cost time: 3.079714298248291\n",
      "Epoch: 4 cost time: 3.0793697834014893\n",
      "Epoch: 5 cost time: 2.772148370742798\n"
     ]
    },
    {
     "name": "stderr",
     "output_type": "stream",
     "text": [
      "Progress:  50%|█████     | 25/50 [19:12<19:10, 46.01s/it]"
     ]
    },
    {
     "name": "stdout",
     "output_type": "stream",
     "text": [
      "<modules.usernsTranformer.UserNsTransformer object at 0x7f166d1bd9f0>\n",
      "Epoch: 1 cost time: 3.4741508960723877\n",
      "Epoch: 2 cost time: 2.8638157844543457\n",
      "Epoch: 3 cost time: 2.778754949569702\n",
      "Epoch: 4 cost time: 3.0134618282318115\n",
      "Epoch: 5 cost time: 3.311471939086914\n",
      "<modules.usernsTranformer.UserNsTransformer object at 0x7f166ca6e7a0>\n",
      "Epoch: 1 cost time: 3.3834056854248047\n",
      "Epoch: 2 cost time: 3.3511486053466797\n",
      "Epoch: 3 cost time: 2.8366973400115967\n",
      "Epoch: 4 cost time: 2.742932081222534\n",
      "Epoch: 5 cost time: 2.7171630859375\n"
     ]
    },
    {
     "name": "stderr",
     "output_type": "stream",
     "text": [
      "Progress:  52%|█████▏    | 26/50 [19:58<18:22, 45.94s/it]"
     ]
    },
    {
     "name": "stdout",
     "output_type": "stream",
     "text": [
      "<modules.usernsTranformer.UserNsTransformer object at 0x7f166d1bd9f0>\n",
      "Epoch: 1 cost time: 3.2625832557678223\n",
      "Epoch: 2 cost time: 2.668405532836914\n",
      "Epoch: 3 cost time: 2.7226924896240234\n",
      "Epoch: 4 cost time: 3.113408327102661\n",
      "Epoch: 5 cost time: 3.143066167831421\n",
      "<modules.usernsTranformer.UserNsTransformer object at 0x7f166d902e90>\n",
      "Epoch: 1 cost time: 3.2688820362091064\n",
      "Epoch: 2 cost time: 3.1624369621276855\n",
      "Epoch: 3 cost time: 2.803434133529663\n",
      "Epoch: 4 cost time: 2.6578938961029053\n",
      "Epoch: 5 cost time: 2.703603506088257\n"
     ]
    },
    {
     "name": "stderr",
     "output_type": "stream",
     "text": [
      "Progress:  54%|█████▍    | 27/50 [20:43<17:31, 45.72s/it]"
     ]
    },
    {
     "name": "stdout",
     "output_type": "stream",
     "text": [
      "<modules.usernsTranformer.UserNsTransformer object at 0x7f166d902f20>\n",
      "Epoch: 1 cost time: 2.9362549781799316\n",
      "Epoch: 2 cost time: 2.758676767349243\n",
      "Epoch: 3 cost time: 2.8446576595306396\n",
      "Epoch: 4 cost time: 3.228543996810913\n",
      "Epoch: 5 cost time: 3.070596694946289\n",
      "<modules.usernsTranformer.UserNsTransformer object at 0x7f166d902e90>\n",
      "Epoch: 1 cost time: 3.4182348251342773\n",
      "Epoch: 2 cost time: 3.330836057662964\n",
      "Epoch: 3 cost time: 3.0291035175323486\n",
      "Epoch: 4 cost time: 2.7782552242279053\n",
      "Epoch: 5 cost time: 2.6303675174713135\n"
     ]
    },
    {
     "name": "stderr",
     "output_type": "stream",
     "text": [
      "Progress:  56%|█████▌    | 28/50 [21:29<16:47, 45.81s/it]"
     ]
    },
    {
     "name": "stdout",
     "output_type": "stream",
     "text": [
      "<modules.usernsTranformer.UserNsTransformer object at 0x7f166d902080>\n",
      "Epoch: 1 cost time: 2.837888479232788\n",
      "Epoch: 2 cost time: 2.5632054805755615\n",
      "Epoch: 3 cost time: 3.102170944213867\n",
      "Epoch: 4 cost time: 3.0575263500213623\n",
      "Epoch: 5 cost time: 3.2301111221313477\n",
      "<modules.usernsTranformer.UserNsTransformer object at 0x7f166ca6c880>\n",
      "Epoch: 1 cost time: 3.277979850769043\n",
      "Epoch: 2 cost time: 3.025371551513672\n",
      "Epoch: 3 cost time: 2.7336103916168213\n",
      "Epoch: 4 cost time: 2.5883312225341797\n",
      "Epoch: 5 cost time: 2.7014269828796387\n"
     ]
    },
    {
     "name": "stderr",
     "output_type": "stream",
     "text": [
      "Progress:  58%|█████▊    | 29/50 [22:14<15:54, 45.43s/it]"
     ]
    },
    {
     "name": "stdout",
     "output_type": "stream",
     "text": [
      "<modules.usernsTranformer.UserNsTransformer object at 0x7f166cb16320>\n",
      "Epoch: 1 cost time: 3.3420095443725586\n",
      "Epoch: 2 cost time: 2.6428771018981934\n",
      "Epoch: 3 cost time: 3.0107524394989014\n",
      "Epoch: 4 cost time: 3.253030776977539\n",
      "Epoch: 5 cost time: 3.1941959857940674\n",
      "<modules.usernsTranformer.UserNsTransformer object at 0x7f166d1bd9f0>\n",
      "Epoch: 1 cost time: 3.3585498332977295\n",
      "Epoch: 2 cost time: 3.043687105178833\n",
      "Epoch: 3 cost time: 2.505159616470337\n",
      "Epoch: 4 cost time: 2.6456596851348877\n",
      "Epoch: 5 cost time: 2.5464587211608887\n"
     ]
    },
    {
     "name": "stderr",
     "output_type": "stream",
     "text": [
      "Progress:  60%|██████    | 30/50 [22:59<15:06, 45.33s/it]"
     ]
    },
    {
     "name": "stdout",
     "output_type": "stream",
     "text": [
      "<modules.usernsTranformer.UserNsTransformer object at 0x7f166ca6e7a0>\n",
      "Epoch: 1 cost time: 3.2806947231292725\n",
      "Epoch: 2 cost time: 2.6727375984191895\n",
      "Epoch: 3 cost time: 3.0082693099975586\n",
      "Epoch: 4 cost time: 3.0923821926116943\n",
      "Epoch: 5 cost time: 3.2876086235046387\n",
      "<modules.usernsTranformer.UserNsTransformer object at 0x7f166d902ec0>\n",
      "Epoch: 1 cost time: 3.169999122619629\n",
      "Epoch: 2 cost time: 2.6905250549316406\n",
      "Epoch: 3 cost time: 2.586890459060669\n",
      "Epoch: 4 cost time: 2.753343343734741\n",
      "Epoch: 5 cost time: 2.5760135650634766\n"
     ]
    },
    {
     "name": "stderr",
     "output_type": "stream",
     "text": [
      "Progress:  62%|██████▏   | 31/50 [23:44<14:20, 45.27s/it]"
     ]
    },
    {
     "name": "stdout",
     "output_type": "stream",
     "text": [
      "<modules.usernsTranformer.UserNsTransformer object at 0x7f166d902e90>\n",
      "Epoch: 1 cost time: 3.171049118041992\n",
      "Epoch: 2 cost time: 3.2054734230041504\n",
      "Epoch: 3 cost time: 3.00403094291687\n",
      "Epoch: 4 cost time: 3.2310667037963867\n",
      "Epoch: 5 cost time: 3.174713134765625\n",
      "<modules.usernsTranformer.UserNsTransformer object at 0x7f166ca6e7a0>\n",
      "Epoch: 1 cost time: 3.127779245376587\n",
      "Epoch: 2 cost time: 2.806993007659912\n",
      "Epoch: 3 cost time: 2.5867538452148438\n",
      "Epoch: 4 cost time: 2.720860719680786\n",
      "Epoch: 5 cost time: 2.6830761432647705\n"
     ]
    },
    {
     "name": "stderr",
     "output_type": "stream",
     "text": [
      "Progress:  64%|██████▍   | 32/50 [24:31<13:43, 45.74s/it]"
     ]
    },
    {
     "name": "stdout",
     "output_type": "stream",
     "text": [
      "<modules.usernsTranformer.UserNsTransformer object at 0x7f166cb14b50>\n",
      "Epoch: 1 cost time: 2.967820405960083\n",
      "Epoch: 2 cost time: 2.9721555709838867\n",
      "Epoch: 3 cost time: 3.2044312953948975\n",
      "Epoch: 4 cost time: 3.227184534072876\n",
      "Epoch: 5 cost time: 3.2611212730407715\n",
      "<modules.usernsTranformer.UserNsTransformer object at 0x7f166cb16320>\n",
      "Epoch: 1 cost time: 2.5562970638275146\n",
      "Epoch: 2 cost time: 2.6756973266601562\n",
      "Epoch: 3 cost time: 2.8118247985839844\n",
      "Epoch: 4 cost time: 2.749905824661255\n",
      "Epoch: 5 cost time: 2.6691854000091553\n"
     ]
    },
    {
     "name": "stderr",
     "output_type": "stream",
     "text": [
      "Progress:  66%|██████▌   | 33/50 [25:16<12:52, 45.41s/it]"
     ]
    },
    {
     "name": "stdout",
     "output_type": "stream",
     "text": [
      "<modules.usernsTranformer.UserNsTransformer object at 0x7f166d902e90>\n",
      "Epoch: 1 cost time: 3.2668375968933105\n",
      "Epoch: 2 cost time: 3.4964535236358643\n",
      "Epoch: 3 cost time: 3.418887138366699\n",
      "Epoch: 4 cost time: 3.161609172821045\n",
      "Epoch: 5 cost time: 2.7344586849212646\n",
      "<modules.usernsTranformer.UserNsTransformer object at 0x7f166cb14b50>\n",
      "Epoch: 1 cost time: 2.704864740371704\n",
      "Epoch: 2 cost time: 2.6873273849487305\n",
      "Epoch: 3 cost time: 2.6927950382232666\n",
      "Epoch: 4 cost time: 2.6405041217803955\n",
      "Epoch: 5 cost time: 2.5990817546844482\n"
     ]
    },
    {
     "name": "stderr",
     "output_type": "stream",
     "text": [
      "Progress:  68%|██████▊   | 34/50 [26:03<12:14, 45.92s/it]"
     ]
    },
    {
     "name": "stdout",
     "output_type": "stream",
     "text": [
      "<modules.usernsTranformer.UserNsTransformer object at 0x7f1667e4fe80>\n",
      "Epoch: 1 cost time: 3.2916111946105957\n",
      "Epoch: 2 cost time: 3.4195473194122314\n",
      "Epoch: 3 cost time: 3.2510907649993896\n",
      "Epoch: 4 cost time: 2.7672183513641357\n",
      "Epoch: 5 cost time: 2.7557966709136963\n",
      "<modules.usernsTranformer.UserNsTransformer object at 0x7f166cb16320>\n",
      "Epoch: 1 cost time: 2.8074088096618652\n",
      "Epoch: 2 cost time: 2.567547082901001\n",
      "Epoch: 3 cost time: 2.6083619594573975\n",
      "Epoch: 4 cost time: 2.593794107437134\n",
      "Epoch: 5 cost time: 2.6286752223968506\n"
     ]
    },
    {
     "name": "stderr",
     "output_type": "stream",
     "text": [
      "Progress:  70%|███████   | 35/50 [26:48<11:25, 45.72s/it]"
     ]
    },
    {
     "name": "stdout",
     "output_type": "stream",
     "text": [
      "<modules.usernsTranformer.UserNsTransformer object at 0x7f166d902080>\n",
      "Epoch: 1 cost time: 3.1122846603393555\n",
      "Epoch: 2 cost time: 3.126552104949951\n",
      "Epoch: 3 cost time: 3.151224374771118\n",
      "Epoch: 4 cost time: 2.9109396934509277\n",
      "Epoch: 5 cost time: 2.687479019165039\n",
      "<modules.usernsTranformer.UserNsTransformer object at 0x7f166d902ec0>\n",
      "Epoch: 1 cost time: 2.626224994659424\n",
      "Epoch: 2 cost time: 2.693385362625122\n",
      "Epoch: 3 cost time: 2.868678092956543\n",
      "Epoch: 4 cost time: 2.572882652282715\n",
      "Epoch: 5 cost time: 2.7224507331848145\n"
     ]
    },
    {
     "name": "stderr",
     "output_type": "stream",
     "text": [
      "Progress:  72%|███████▏  | 36/50 [27:35<10:43, 45.98s/it]"
     ]
    },
    {
     "name": "stdout",
     "output_type": "stream",
     "text": [
      "<modules.usernsTranformer.UserNsTransformer object at 0x7f166cb14b50>\n",
      "Epoch: 1 cost time: 3.3003666400909424\n",
      "Epoch: 2 cost time: 3.3064353466033936\n",
      "Epoch: 3 cost time: 2.971891164779663\n",
      "Epoch: 4 cost time: 2.713259220123291\n",
      "Epoch: 5 cost time: 2.650735378265381\n",
      "<modules.usernsTranformer.UserNsTransformer object at 0x7f166d902080>\n",
      "Epoch: 1 cost time: 2.7704927921295166\n",
      "Epoch: 2 cost time: 2.5405311584472656\n",
      "Epoch: 3 cost time: 2.6541574001312256\n",
      "Epoch: 4 cost time: 2.800905466079712\n",
      "Epoch: 5 cost time: 2.637495517730713\n"
     ]
    },
    {
     "name": "stderr",
     "output_type": "stream",
     "text": [
      "Progress:  74%|███████▍  | 37/50 [28:20<09:56, 45.87s/it]"
     ]
    },
    {
     "name": "stdout",
     "output_type": "stream",
     "text": [
      "<modules.usernsTranformer.UserNsTransformer object at 0x7f166cb16320>\n",
      "Epoch: 1 cost time: 3.3437271118164062\n",
      "Epoch: 2 cost time: 3.2554283142089844\n",
      "Epoch: 3 cost time: 2.811023712158203\n",
      "Epoch: 4 cost time: 2.6811633110046387\n",
      "Epoch: 5 cost time: 2.5847818851470947\n",
      "<modules.usernsTranformer.UserNsTransformer object at 0x7f166d902e90>\n",
      "Epoch: 1 cost time: 2.8022749423980713\n",
      "Epoch: 2 cost time: 2.6112234592437744\n",
      "Epoch: 3 cost time: 2.5731053352355957\n",
      "Epoch: 4 cost time: 2.6204233169555664\n",
      "Epoch: 5 cost time: 2.7810564041137695\n"
     ]
    },
    {
     "name": "stderr",
     "output_type": "stream",
     "text": [
      "Progress:  76%|███████▌  | 38/50 [29:06<09:11, 45.93s/it]"
     ]
    },
    {
     "name": "stdout",
     "output_type": "stream",
     "text": [
      "<modules.usernsTranformer.UserNsTransformer object at 0x7f166cb14b50>\n",
      "Epoch: 1 cost time: 3.23154616355896\n",
      "Epoch: 2 cost time: 3.3155338764190674\n",
      "Epoch: 3 cost time: 3.036903142929077\n",
      "Epoch: 4 cost time: 2.5863804817199707\n",
      "Epoch: 5 cost time: 2.7101590633392334\n",
      "<modules.usernsTranformer.UserNsTransformer object at 0x7f166d1bd9f0>\n",
      "Epoch: 1 cost time: 2.616776704788208\n",
      "Epoch: 2 cost time: 2.7670705318450928\n",
      "Epoch: 3 cost time: 2.4862241744995117\n",
      "Epoch: 4 cost time: 2.5792694091796875\n",
      "Epoch: 5 cost time: 2.7706072330474854\n"
     ]
    },
    {
     "name": "stderr",
     "output_type": "stream",
     "text": [
      "Progress:  78%|███████▊  | 39/50 [29:51<08:21, 45.57s/it]"
     ]
    },
    {
     "name": "stdout",
     "output_type": "stream",
     "text": [
      "<modules.usernsTranformer.UserNsTransformer object at 0x7f166d902e90>\n",
      "Epoch: 1 cost time: 3.85961651802063\n",
      "Epoch: 2 cost time: 3.123955249786377\n",
      "Epoch: 3 cost time: 2.8916187286376953\n",
      "Epoch: 4 cost time: 2.6623146533966064\n",
      "Epoch: 5 cost time: 2.623047113418579\n",
      "<modules.usernsTranformer.UserNsTransformer object at 0x7f166d902f20>\n",
      "Epoch: 1 cost time: 2.8047831058502197\n",
      "Epoch: 2 cost time: 2.7960309982299805\n",
      "Epoch: 3 cost time: 2.6359939575195312\n",
      "Epoch: 4 cost time: 2.760422468185425\n",
      "Epoch: 5 cost time: 2.571458101272583\n"
     ]
    },
    {
     "name": "stderr",
     "output_type": "stream",
     "text": [
      "Progress:  80%|████████  | 40/50 [30:37<07:36, 45.69s/it]"
     ]
    },
    {
     "name": "stdout",
     "output_type": "stream",
     "text": [
      "<modules.usernsTranformer.UserNsTransformer object at 0x7f166d902ec0>\n",
      "Epoch: 1 cost time: 3.475731611251831\n",
      "Epoch: 2 cost time: 3.2056071758270264\n",
      "Epoch: 3 cost time: 2.827770233154297\n",
      "Epoch: 4 cost time: 2.5743114948272705\n",
      "Epoch: 5 cost time: 2.9497342109680176\n",
      "<modules.usernsTranformer.UserNsTransformer object at 0x7f166d1bd9f0>\n",
      "Epoch: 1 cost time: 2.640007972717285\n",
      "Epoch: 2 cost time: 2.6708528995513916\n",
      "Epoch: 3 cost time: 2.6712143421173096\n",
      "Epoch: 4 cost time: 2.8264172077178955\n",
      "Epoch: 5 cost time: 2.524932384490967\n"
     ]
    },
    {
     "name": "stderr",
     "output_type": "stream",
     "text": [
      "Progress:  82%|████████▏ | 41/50 [31:22<06:50, 45.63s/it]"
     ]
    },
    {
     "name": "stdout",
     "output_type": "stream",
     "text": [
      "<modules.usernsTranformer.UserNsTransformer object at 0x7f166ca6c880>\n",
      "Epoch: 1 cost time: 3.44473934173584\n",
      "Epoch: 2 cost time: 3.32490873336792\n",
      "Epoch: 3 cost time: 2.6270551681518555\n",
      "Epoch: 4 cost time: 2.832953691482544\n",
      "Epoch: 5 cost time: 2.7441282272338867\n",
      "<modules.usernsTranformer.UserNsTransformer object at 0x7f166d1bd9f0>\n",
      "Epoch: 1 cost time: 2.636570692062378\n",
      "Epoch: 2 cost time: 2.704885721206665\n",
      "Epoch: 3 cost time: 2.7713980674743652\n",
      "Epoch: 4 cost time: 2.8514325618743896\n",
      "Epoch: 5 cost time: 2.6943280696868896\n"
     ]
    },
    {
     "name": "stderr",
     "output_type": "stream",
     "text": [
      "Progress:  84%|████████▍ | 42/50 [32:07<06:03, 45.42s/it]"
     ]
    },
    {
     "name": "stdout",
     "output_type": "stream",
     "text": [
      "<modules.usernsTranformer.UserNsTransformer object at 0x7f166d902ec0>\n",
      "Epoch: 1 cost time: 3.6022520065307617\n",
      "Epoch: 2 cost time: 3.3451783657073975\n",
      "Epoch: 3 cost time: 2.6679136753082275\n",
      "Epoch: 4 cost time: 2.5560507774353027\n",
      "Epoch: 5 cost time: 2.688047170639038\n",
      "<modules.usernsTranformer.UserNsTransformer object at 0x7f166ca6e7a0>\n",
      "Epoch: 1 cost time: 2.6328284740448\n",
      "Epoch: 2 cost time: 2.6723835468292236\n",
      "Epoch: 3 cost time: 2.7814605236053467\n",
      "Epoch: 4 cost time: 2.522745132446289\n",
      "Epoch: 5 cost time: 2.8836169242858887\n"
     ]
    },
    {
     "name": "stderr",
     "output_type": "stream",
     "text": [
      "Progress:  86%|████████▌ | 43/50 [32:54<05:21, 45.87s/it]"
     ]
    },
    {
     "name": "stdout",
     "output_type": "stream",
     "text": [
      "<modules.usernsTranformer.UserNsTransformer object at 0x7f166cb16320>\n",
      "Epoch: 1 cost time: 3.5604183673858643\n",
      "Epoch: 2 cost time: 3.3670308589935303\n",
      "Epoch: 3 cost time: 2.6536386013031006\n",
      "Epoch: 4 cost time: 2.754031181335449\n",
      "Epoch: 5 cost time: 2.629828929901123\n",
      "<modules.usernsTranformer.UserNsTransformer object at 0x7f166cb14b50>\n",
      "Epoch: 1 cost time: 2.876922607421875\n",
      "Epoch: 2 cost time: 2.6857337951660156\n",
      "Epoch: 3 cost time: 2.64489483833313\n",
      "Epoch: 4 cost time: 2.642791271209717\n",
      "Epoch: 5 cost time: 2.6169703006744385\n"
     ]
    },
    {
     "name": "stderr",
     "output_type": "stream",
     "text": [
      "Progress:  88%|████████▊ | 44/50 [33:41<04:36, 46.06s/it]"
     ]
    },
    {
     "name": "stdout",
     "output_type": "stream",
     "text": [
      "<modules.usernsTranformer.UserNsTransformer object at 0x7f1667e4fe80>\n",
      "Epoch: 1 cost time: 3.527285575866699\n",
      "Epoch: 2 cost time: 2.96842360496521\n",
      "Epoch: 3 cost time: 2.7630860805511475\n",
      "Epoch: 4 cost time: 2.6298630237579346\n",
      "Epoch: 5 cost time: 2.8007469177246094\n",
      "<modules.usernsTranformer.UserNsTransformer object at 0x7f166d902080>\n",
      "Epoch: 1 cost time: 2.752014636993408\n",
      "Epoch: 2 cost time: 2.697554349899292\n",
      "Epoch: 3 cost time: 2.787297487258911\n",
      "Epoch: 4 cost time: 2.677201986312866\n",
      "Epoch: 5 cost time: 2.767578601837158\n"
     ]
    },
    {
     "name": "stderr",
     "output_type": "stream",
     "text": [
      "Progress:  90%|█████████ | 45/50 [34:27<03:49, 45.98s/it]"
     ]
    },
    {
     "name": "stdout",
     "output_type": "stream",
     "text": [
      "<modules.usernsTranformer.UserNsTransformer object at 0x7f166cb16320>\n",
      "Epoch: 1 cost time: 3.573239803314209\n",
      "Epoch: 2 cost time: 2.819995403289795\n",
      "Epoch: 3 cost time: 2.7121264934539795\n",
      "Epoch: 4 cost time: 2.701164484024048\n",
      "Epoch: 5 cost time: 2.629296064376831\n",
      "<modules.usernsTranformer.UserNsTransformer object at 0x7f166cb14b50>\n",
      "Epoch: 1 cost time: 2.486522912979126\n",
      "Epoch: 2 cost time: 2.500730037689209\n",
      "Epoch: 3 cost time: 2.6760048866271973\n",
      "Epoch: 4 cost time: 2.7729430198669434\n",
      "Epoch: 5 cost time: 2.626824378967285\n"
     ]
    },
    {
     "name": "stderr",
     "output_type": "stream",
     "text": [
      "Progress:  92%|█████████▏| 46/50 [35:11<03:02, 45.53s/it]"
     ]
    },
    {
     "name": "stdout",
     "output_type": "stream",
     "text": [
      "<modules.usernsTranformer.UserNsTransformer object at 0x7f166cb16320>\n",
      "Epoch: 1 cost time: 3.5388245582580566\n",
      "Epoch: 2 cost time: 2.905914306640625\n",
      "Epoch: 3 cost time: 2.67932391166687\n",
      "Epoch: 4 cost time: 2.762446403503418\n",
      "Epoch: 5 cost time: 2.7044098377227783\n",
      "<modules.usernsTranformer.UserNsTransformer object at 0x7f166ca6c880>\n",
      "Epoch: 1 cost time: 2.812523126602173\n",
      "Epoch: 2 cost time: 2.690521478652954\n",
      "Epoch: 3 cost time: 2.7114756107330322\n",
      "Epoch: 4 cost time: 2.6756856441497803\n",
      "Epoch: 5 cost time: 2.630009651184082\n"
     ]
    },
    {
     "name": "stderr",
     "output_type": "stream",
     "text": [
      "Progress:  94%|█████████▍| 47/50 [35:57<02:17, 45.74s/it]"
     ]
    },
    {
     "name": "stdout",
     "output_type": "stream",
     "text": [
      "<modules.usernsTranformer.UserNsTransformer object at 0x7f166d1bd9f0>\n",
      "Epoch: 1 cost time: 3.5978446006774902\n",
      "Epoch: 2 cost time: 2.5928869247436523\n",
      "Epoch: 3 cost time: 2.710106611251831\n",
      "Epoch: 4 cost time: 2.7032546997070312\n",
      "Epoch: 5 cost time: 2.620483160018921\n",
      "<modules.usernsTranformer.UserNsTransformer object at 0x7f166d902080>\n",
      "Epoch: 1 cost time: 2.656930923461914\n",
      "Epoch: 2 cost time: 2.590686559677124\n",
      "Epoch: 3 cost time: 2.482665538787842\n",
      "Epoch: 4 cost time: 2.6648824214935303\n",
      "Epoch: 5 cost time: 2.726505994796753\n"
     ]
    },
    {
     "name": "stderr",
     "output_type": "stream",
     "text": [
      "Progress:  96%|█████████▌| 48/50 [36:41<01:30, 45.07s/it]"
     ]
    },
    {
     "name": "stdout",
     "output_type": "stream",
     "text": [
      "<modules.usernsTranformer.UserNsTransformer object at 0x7f1667e4fe80>\n",
      "Epoch: 1 cost time: 3.1045804023742676\n",
      "Epoch: 2 cost time: 3.3459949493408203\n",
      "Epoch: 3 cost time: 2.593489170074463\n",
      "Epoch: 4 cost time: 2.77573561668396\n",
      "Epoch: 5 cost time: 2.714428424835205\n",
      "<modules.usernsTranformer.UserNsTransformer object at 0x7f166d902f20>\n",
      "Epoch: 1 cost time: 2.8254282474517822\n",
      "Epoch: 2 cost time: 2.6073262691497803\n",
      "Epoch: 3 cost time: 2.8610143661499023\n",
      "Epoch: 4 cost time: 2.6201136112213135\n",
      "Epoch: 5 cost time: 2.6563363075256348\n"
     ]
    },
    {
     "name": "stderr",
     "output_type": "stream",
     "text": [
      "Progress:  98%|█████████▊| 49/50 [37:26<00:45, 45.05s/it]"
     ]
    },
    {
     "name": "stdout",
     "output_type": "stream",
     "text": [
      "<modules.usernsTranformer.UserNsTransformer object at 0x7f166d902f20>\n",
      "Epoch: 1 cost time: 3.4713056087493896\n",
      "Epoch: 2 cost time: 3.010624647140503\n",
      "Epoch: 3 cost time: 2.35121750831604\n",
      "Epoch: 4 cost time: 2.6364457607269287\n",
      "Epoch: 5 cost time: 2.8902852535247803\n",
      "<modules.usernsTranformer.UserNsTransformer object at 0x7f166d902ec0>\n",
      "Epoch: 1 cost time: 2.933939218521118\n",
      "Epoch: 2 cost time: 3.056758165359497\n",
      "Epoch: 3 cost time: 2.8902742862701416\n",
      "Epoch: 4 cost time: 3.093055248260498\n",
      "Epoch: 5 cost time: 2.953787088394165\n"
     ]
    },
    {
     "name": "stderr",
     "output_type": "stream",
     "text": [
      "Progress: 100%|██████████| 50/50 [38:04<00:00, 45.69s/it]\n"
     ]
    }
   ],
   "source": [
    "import random\n",
    "from tqdm import tqdm\n",
    "from math import sqrt\n",
    "\n",
    "server = ServerNsTransformer(model=server_model, test_loader=server_data_list)\n",
    "\n",
    "user_list = []\n",
    "\n",
    "# Create users\n",
    "for i in range(config_wanb.num_user):\n",
    "    user_i = UserNsTransformer(train_loader=user_data_list[i], model=server_model, user_id=i, local_epochs=config_wanb.local_epochs)\n",
    "    user_list.append(user_i)\n",
    "\n",
    "for _ in tqdm(range(config_wanb.global_epochs), desc=f\"Progress\"):\n",
    "    # Distribute initial model to users\n",
    "    server.distribute_model(user_list)\n",
    "    \n",
    "    # Sub-sample users\n",
    "    sub_user_list = random.sample(user_list, int(config_wanb.user_ratio * config_wanb.num_user))\n",
    "\n",
    "    # Check the sub-sampled user and train model\n",
    "    users_loss = 0.0\n",
    "    for user in sub_user_list:\n",
    "        print(user)\n",
    "        user_loss = user.user_train(args)\n",
    "        users_loss += user_loss\n",
    "    # Aggregate weights on server\n",
    "    server.aggregate_weights(sub_user_list)\n",
    "\n",
    "    # Calulate avg loss on selected users\n",
    "    train_loss =  users_loss / len(sub_user_list)\n",
    "\n",
    "    total_mae = []\n",
    "    total_mse = []\n",
    "    for test_loader in server.test_loader:    \n",
    "        mae, mse, rmse, mape, mspe = server.model_eval(args=args, test_loader=test_loader)\n",
    "        total_mae.append(mae)\n",
    "        total_mse.append(mse)\n",
    "    \n",
    "    wandb.log({\"train_loss\": train_loss, \"mae\": sum(total_mae)/len(total_mae), 'rmse': sqrt(sum(total_mse)/len(total_mse))})"
   ]
  }
 ],
 "metadata": {
  "kernelspec": {
   "display_name": ".venv",
   "language": "python",
   "name": "python3"
  },
  "language_info": {
   "codemirror_mode": {
    "name": "ipython",
    "version": 3
   },
   "file_extension": ".py",
   "mimetype": "text/x-python",
   "name": "python",
   "nbconvert_exporter": "python",
   "pygments_lexer": "ipython3",
   "version": "3.10.12"
  }
 },
 "nbformat": 4,
 "nbformat_minor": 2
}
