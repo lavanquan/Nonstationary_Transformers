{
 "cells": [
  {
   "cell_type": "code",
   "execution_count": 1,
   "metadata": {},
   "outputs": [
    {
     "data": {
      "text/plain": [
       "'/home/qula0496/quan/Nonstationary_Transformers/ns_models'"
      ]
     },
     "execution_count": 1,
     "metadata": {},
     "output_type": "execute_result"
    }
   ],
   "source": [
    "%pwd"
   ]
  },
  {
   "cell_type": "code",
   "execution_count": 2,
   "metadata": {},
   "outputs": [
    {
     "name": "stdout",
     "output_type": "stream",
     "text": [
      "/home/qula0496/quan/Nonstationary_Transformers\n"
     ]
    },
    {
     "name": "stderr",
     "output_type": "stream",
     "text": [
      "/home/qula0496/quan/.venv/lib/python3.10/site-packages/IPython/core/magics/osm.py:417: UserWarning: This is now an optional IPython functionality, setting dhist requires you to install the `pickleshare` library.\n",
      "  self.shell.db['dhist'] = compress_dhist(dhist)[-100:]\n"
     ]
    }
   ],
   "source": [
    "%cd .."
   ]
  },
  {
   "cell_type": "code",
   "execution_count": 3,
   "metadata": {},
   "outputs": [],
   "source": [
    "import os\n",
    "gpu_id = '1'\n",
    "n_users = 10\n",
    "os.environ['CUDA_VISIBLE_DEVICES'] = gpu_id\n",
    "dataset_name = 'milan'\n",
    "sub_set_name = 'internet'\n",
    "series_type = 'hourly'"
   ]
  },
  {
   "cell_type": "code",
   "execution_count": 4,
   "metadata": {},
   "outputs": [],
   "source": [
    "from utils.data_utils import *\n",
    "from utils.model_utils import *\n",
    "# from utils.koopman_utils import *\n",
    "from modules.serverbase import *\n",
    "from modules.userbase import *\n",
    "from modules.servernsTransformer import *\n",
    "from modules.usernsTranformer import *\n",
    "import numpy as np\n",
    "import torch\n",
    "torch.cuda.init()"
   ]
  },
  {
   "cell_type": "code",
   "execution_count": 5,
   "metadata": {},
   "outputs": [],
   "source": [
    "from sklearn.preprocessing import StandardScaler, MinMaxScaler\n",
    "def preprocess(data, std=True):\n",
    "    '''\n",
    "    Function to do preprocess for input data\n",
    "    inputs:\n",
    "        + data: pandas.DataFrame\n",
    "    outputs:\n",
    "        + preprocessed_data: pandas.DataFrame\n",
    "    '''\n",
    "    if std:\n",
    "        scaler = StandardScaler()\n",
    "        temp = scaler.fit_transform(data)\n",
    "    else:\n",
    "        scaler = MinMaxScaler()\n",
    "        temp = scaler.fit_transform(data)\n",
    "    processed_data = pd.DataFrame(temp, index=data.index, columns = data.columns)\n",
    "    # processed_data = processed_data.to_numpy()\n",
    "    return processed_data"
   ]
  },
  {
   "cell_type": "code",
   "execution_count": 6,
   "metadata": {},
   "outputs": [
    {
     "data": {
      "text/html": [
       "<div>\n",
       "<style scoped>\n",
       "    .dataframe tbody tr th:only-of-type {\n",
       "        vertical-align: middle;\n",
       "    }\n",
       "\n",
       "    .dataframe tbody tr th {\n",
       "        vertical-align: top;\n",
       "    }\n",
       "\n",
       "    .dataframe thead th {\n",
       "        text-align: right;\n",
       "    }\n",
       "</style>\n",
       "<table border=\"1\" class=\"dataframe\">\n",
       "  <thead>\n",
       "    <tr style=\"text-align: right;\">\n",
       "      <th>gridID</th>\n",
       "      <th>1</th>\n",
       "      <th>2</th>\n",
       "      <th>3</th>\n",
       "      <th>4</th>\n",
       "      <th>5</th>\n",
       "      <th>6</th>\n",
       "      <th>7</th>\n",
       "      <th>8</th>\n",
       "      <th>9</th>\n",
       "      <th>10</th>\n",
       "      <th>...</th>\n",
       "      <th>9991</th>\n",
       "      <th>9992</th>\n",
       "      <th>9993</th>\n",
       "      <th>9994</th>\n",
       "      <th>9995</th>\n",
       "      <th>9996</th>\n",
       "      <th>9997</th>\n",
       "      <th>9998</th>\n",
       "      <th>9999</th>\n",
       "      <th>10000</th>\n",
       "    </tr>\n",
       "    <tr>\n",
       "      <th>startTime</th>\n",
       "      <th></th>\n",
       "      <th></th>\n",
       "      <th></th>\n",
       "      <th></th>\n",
       "      <th></th>\n",
       "      <th></th>\n",
       "      <th></th>\n",
       "      <th></th>\n",
       "      <th></th>\n",
       "      <th></th>\n",
       "      <th></th>\n",
       "      <th></th>\n",
       "      <th></th>\n",
       "      <th></th>\n",
       "      <th></th>\n",
       "      <th></th>\n",
       "      <th></th>\n",
       "      <th></th>\n",
       "      <th></th>\n",
       "      <th></th>\n",
       "      <th></th>\n",
       "    </tr>\n",
       "  </thead>\n",
       "  <tbody>\n",
       "    <tr>\n",
       "      <th>2013-11-01 00:00:00</th>\n",
       "      <td>0.211626</td>\n",
       "      <td>0.212107</td>\n",
       "      <td>0.212617</td>\n",
       "      <td>0.211824</td>\n",
       "      <td>0.214977</td>\n",
       "      <td>0.212617</td>\n",
       "      <td>0.212617</td>\n",
       "      <td>0.212617</td>\n",
       "      <td>0.212617</td>\n",
       "      <td>0.258763</td>\n",
       "      <td>...</td>\n",
       "      <td>0.454009</td>\n",
       "      <td>0.503994</td>\n",
       "      <td>0.210340</td>\n",
       "      <td>0.178121</td>\n",
       "      <td>0.333928</td>\n",
       "      <td>0.304071</td>\n",
       "      <td>0.200537</td>\n",
       "      <td>0.214758</td>\n",
       "      <td>0.304316</td>\n",
       "      <td>0.208500</td>\n",
       "    </tr>\n",
       "    <tr>\n",
       "      <th>2013-11-01 01:00:00</th>\n",
       "      <td>0.116451</td>\n",
       "      <td>0.117075</td>\n",
       "      <td>0.117736</td>\n",
       "      <td>0.116424</td>\n",
       "      <td>0.118392</td>\n",
       "      <td>0.117736</td>\n",
       "      <td>0.117736</td>\n",
       "      <td>0.117736</td>\n",
       "      <td>0.117736</td>\n",
       "      <td>0.157255</td>\n",
       "      <td>...</td>\n",
       "      <td>0.286118</td>\n",
       "      <td>0.337854</td>\n",
       "      <td>0.179074</td>\n",
       "      <td>0.150135</td>\n",
       "      <td>0.184403</td>\n",
       "      <td>0.117824</td>\n",
       "      <td>0.065346</td>\n",
       "      <td>0.071140</td>\n",
       "      <td>0.170086</td>\n",
       "      <td>0.224719</td>\n",
       "    </tr>\n",
       "    <tr>\n",
       "      <th>2013-11-01 02:00:00</th>\n",
       "      <td>0.096798</td>\n",
       "      <td>0.097592</td>\n",
       "      <td>0.098434</td>\n",
       "      <td>0.096314</td>\n",
       "      <td>0.097301</td>\n",
       "      <td>0.098434</td>\n",
       "      <td>0.098434</td>\n",
       "      <td>0.098434</td>\n",
       "      <td>0.098434</td>\n",
       "      <td>0.132079</td>\n",
       "      <td>...</td>\n",
       "      <td>0.242083</td>\n",
       "      <td>0.273059</td>\n",
       "      <td>0.120781</td>\n",
       "      <td>0.093111</td>\n",
       "      <td>0.143985</td>\n",
       "      <td>0.131274</td>\n",
       "      <td>0.094235</td>\n",
       "      <td>0.097979</td>\n",
       "      <td>0.128875</td>\n",
       "      <td>0.127521</td>\n",
       "    </tr>\n",
       "    <tr>\n",
       "      <th>2013-11-01 03:00:00</th>\n",
       "      <td>0.040150</td>\n",
       "      <td>0.040620</td>\n",
       "      <td>0.041117</td>\n",
       "      <td>0.040729</td>\n",
       "      <td>0.041210</td>\n",
       "      <td>0.041117</td>\n",
       "      <td>0.041117</td>\n",
       "      <td>0.041117</td>\n",
       "      <td>0.041117</td>\n",
       "      <td>0.067451</td>\n",
       "      <td>...</td>\n",
       "      <td>0.219951</td>\n",
       "      <td>0.245818</td>\n",
       "      <td>0.101754</td>\n",
       "      <td>0.068147</td>\n",
       "      <td>0.068547</td>\n",
       "      <td>0.044675</td>\n",
       "      <td>0.030236</td>\n",
       "      <td>0.030274</td>\n",
       "      <td>0.060521</td>\n",
       "      <td>0.120066</td>\n",
       "    </tr>\n",
       "    <tr>\n",
       "      <th>2013-11-01 04:00:00</th>\n",
       "      <td>0.028765</td>\n",
       "      <td>0.029398</td>\n",
       "      <td>0.030070</td>\n",
       "      <td>0.028888</td>\n",
       "      <td>0.028997</td>\n",
       "      <td>0.030070</td>\n",
       "      <td>0.030070</td>\n",
       "      <td>0.030070</td>\n",
       "      <td>0.030070</td>\n",
       "      <td>0.055475</td>\n",
       "      <td>...</td>\n",
       "      <td>0.170191</td>\n",
       "      <td>0.217133</td>\n",
       "      <td>0.154831</td>\n",
       "      <td>0.154876</td>\n",
       "      <td>0.175142</td>\n",
       "      <td>0.126580</td>\n",
       "      <td>0.092381</td>\n",
       "      <td>0.095470</td>\n",
       "      <td>0.141605</td>\n",
       "      <td>0.165808</td>\n",
       "    </tr>\n",
       "  </tbody>\n",
       "</table>\n",
       "<p>5 rows × 10000 columns</p>\n",
       "</div>"
      ],
      "text/plain": [
       "gridID                  1         2         3         4         5      \\\n",
       "startTime                                                               \n",
       "2013-11-01 00:00:00  0.211626  0.212107  0.212617  0.211824  0.214977   \n",
       "2013-11-01 01:00:00  0.116451  0.117075  0.117736  0.116424  0.118392   \n",
       "2013-11-01 02:00:00  0.096798  0.097592  0.098434  0.096314  0.097301   \n",
       "2013-11-01 03:00:00  0.040150  0.040620  0.041117  0.040729  0.041210   \n",
       "2013-11-01 04:00:00  0.028765  0.029398  0.030070  0.028888  0.028997   \n",
       "\n",
       "gridID                  6         7         8         9         10     ...  \\\n",
       "startTime                                                              ...   \n",
       "2013-11-01 00:00:00  0.212617  0.212617  0.212617  0.212617  0.258763  ...   \n",
       "2013-11-01 01:00:00  0.117736  0.117736  0.117736  0.117736  0.157255  ...   \n",
       "2013-11-01 02:00:00  0.098434  0.098434  0.098434  0.098434  0.132079  ...   \n",
       "2013-11-01 03:00:00  0.041117  0.041117  0.041117  0.041117  0.067451  ...   \n",
       "2013-11-01 04:00:00  0.030070  0.030070  0.030070  0.030070  0.055475  ...   \n",
       "\n",
       "gridID                  9991      9992      9993      9994      9995   \\\n",
       "startTime                                                               \n",
       "2013-11-01 00:00:00  0.454009  0.503994  0.210340  0.178121  0.333928   \n",
       "2013-11-01 01:00:00  0.286118  0.337854  0.179074  0.150135  0.184403   \n",
       "2013-11-01 02:00:00  0.242083  0.273059  0.120781  0.093111  0.143985   \n",
       "2013-11-01 03:00:00  0.219951  0.245818  0.101754  0.068147  0.068547   \n",
       "2013-11-01 04:00:00  0.170191  0.217133  0.154831  0.154876  0.175142   \n",
       "\n",
       "gridID                  9996      9997      9998      9999      10000  \n",
       "startTime                                                              \n",
       "2013-11-01 00:00:00  0.304071  0.200537  0.214758  0.304316  0.208500  \n",
       "2013-11-01 01:00:00  0.117824  0.065346  0.071140  0.170086  0.224719  \n",
       "2013-11-01 02:00:00  0.131274  0.094235  0.097979  0.128875  0.127521  \n",
       "2013-11-01 03:00:00  0.044675  0.030236  0.030274  0.060521  0.120066  \n",
       "2013-11-01 04:00:00  0.126580  0.092381  0.095470  0.141605  0.165808  \n",
       "\n",
       "[5 rows x 10000 columns]"
      ]
     },
     "execution_count": 6,
     "metadata": {},
     "output_type": "execute_result"
    }
   ],
   "source": [
    "file_path = f\"./dataset/{dataset_name}/{dataset_name}_{sub_set_name}_{series_type}.csv\"\n",
    "raw_data = pd.read_csv(file_path)\n",
    "raw_data = raw_data.pivot(index='startTime', columns='gridID', values=sub_set_name)\n",
    "raw_data = raw_data.fillna(0)\n",
    "raw_data = preprocess(raw_data, std=False)\n",
    "raw_data.head()"
   ]
  },
  {
   "cell_type": "code",
   "execution_count": 7,
   "metadata": {},
   "outputs": [
    {
     "data": {
      "text/html": [
       "<div>\n",
       "<style scoped>\n",
       "    .dataframe tbody tr th:only-of-type {\n",
       "        vertical-align: middle;\n",
       "    }\n",
       "\n",
       "    .dataframe tbody tr th {\n",
       "        vertical-align: top;\n",
       "    }\n",
       "\n",
       "    .dataframe thead th {\n",
       "        text-align: right;\n",
       "    }\n",
       "</style>\n",
       "<table border=\"1\" class=\"dataframe\">\n",
       "  <thead>\n",
       "    <tr style=\"text-align: right;\">\n",
       "      <th>gridID</th>\n",
       "      <th>1</th>\n",
       "      <th>2</th>\n",
       "      <th>3</th>\n",
       "      <th>4</th>\n",
       "      <th>5</th>\n",
       "      <th>6</th>\n",
       "      <th>7</th>\n",
       "      <th>8</th>\n",
       "      <th>9</th>\n",
       "      <th>10</th>\n",
       "      <th>...</th>\n",
       "      <th>9991</th>\n",
       "      <th>9992</th>\n",
       "      <th>9993</th>\n",
       "      <th>9994</th>\n",
       "      <th>9995</th>\n",
       "      <th>9996</th>\n",
       "      <th>9997</th>\n",
       "      <th>9998</th>\n",
       "      <th>9999</th>\n",
       "      <th>10000</th>\n",
       "    </tr>\n",
       "    <tr>\n",
       "      <th>startTime</th>\n",
       "      <th></th>\n",
       "      <th></th>\n",
       "      <th></th>\n",
       "      <th></th>\n",
       "      <th></th>\n",
       "      <th></th>\n",
       "      <th></th>\n",
       "      <th></th>\n",
       "      <th></th>\n",
       "      <th></th>\n",
       "      <th></th>\n",
       "      <th></th>\n",
       "      <th></th>\n",
       "      <th></th>\n",
       "      <th></th>\n",
       "      <th></th>\n",
       "      <th></th>\n",
       "      <th></th>\n",
       "      <th></th>\n",
       "      <th></th>\n",
       "      <th></th>\n",
       "    </tr>\n",
       "  </thead>\n",
       "  <tbody>\n",
       "    <tr>\n",
       "      <th>2013-11-01 00:00:00</th>\n",
       "      <td>0.211626</td>\n",
       "      <td>0.212107</td>\n",
       "      <td>0.212617</td>\n",
       "      <td>0.211824</td>\n",
       "      <td>0.214977</td>\n",
       "      <td>0.212617</td>\n",
       "      <td>0.212617</td>\n",
       "      <td>0.212617</td>\n",
       "      <td>0.212617</td>\n",
       "      <td>0.258763</td>\n",
       "      <td>...</td>\n",
       "      <td>0.454009</td>\n",
       "      <td>0.503994</td>\n",
       "      <td>0.210340</td>\n",
       "      <td>0.178121</td>\n",
       "      <td>0.333928</td>\n",
       "      <td>0.304071</td>\n",
       "      <td>0.200537</td>\n",
       "      <td>0.214758</td>\n",
       "      <td>0.304316</td>\n",
       "      <td>0.208500</td>\n",
       "    </tr>\n",
       "    <tr>\n",
       "      <th>2013-11-01 01:00:00</th>\n",
       "      <td>0.116451</td>\n",
       "      <td>0.117075</td>\n",
       "      <td>0.117736</td>\n",
       "      <td>0.116424</td>\n",
       "      <td>0.118392</td>\n",
       "      <td>0.117736</td>\n",
       "      <td>0.117736</td>\n",
       "      <td>0.117736</td>\n",
       "      <td>0.117736</td>\n",
       "      <td>0.157255</td>\n",
       "      <td>...</td>\n",
       "      <td>0.286118</td>\n",
       "      <td>0.337854</td>\n",
       "      <td>0.179074</td>\n",
       "      <td>0.150135</td>\n",
       "      <td>0.184403</td>\n",
       "      <td>0.117824</td>\n",
       "      <td>0.065346</td>\n",
       "      <td>0.071140</td>\n",
       "      <td>0.170086</td>\n",
       "      <td>0.224719</td>\n",
       "    </tr>\n",
       "    <tr>\n",
       "      <th>2013-11-01 02:00:00</th>\n",
       "      <td>0.096798</td>\n",
       "      <td>0.097592</td>\n",
       "      <td>0.098434</td>\n",
       "      <td>0.096314</td>\n",
       "      <td>0.097301</td>\n",
       "      <td>0.098434</td>\n",
       "      <td>0.098434</td>\n",
       "      <td>0.098434</td>\n",
       "      <td>0.098434</td>\n",
       "      <td>0.132079</td>\n",
       "      <td>...</td>\n",
       "      <td>0.242083</td>\n",
       "      <td>0.273059</td>\n",
       "      <td>0.120781</td>\n",
       "      <td>0.093111</td>\n",
       "      <td>0.143985</td>\n",
       "      <td>0.131274</td>\n",
       "      <td>0.094235</td>\n",
       "      <td>0.097979</td>\n",
       "      <td>0.128875</td>\n",
       "      <td>0.127521</td>\n",
       "    </tr>\n",
       "    <tr>\n",
       "      <th>2013-11-01 03:00:00</th>\n",
       "      <td>0.040150</td>\n",
       "      <td>0.040620</td>\n",
       "      <td>0.041117</td>\n",
       "      <td>0.040729</td>\n",
       "      <td>0.041210</td>\n",
       "      <td>0.041117</td>\n",
       "      <td>0.041117</td>\n",
       "      <td>0.041117</td>\n",
       "      <td>0.041117</td>\n",
       "      <td>0.067451</td>\n",
       "      <td>...</td>\n",
       "      <td>0.219951</td>\n",
       "      <td>0.245818</td>\n",
       "      <td>0.101754</td>\n",
       "      <td>0.068147</td>\n",
       "      <td>0.068547</td>\n",
       "      <td>0.044675</td>\n",
       "      <td>0.030236</td>\n",
       "      <td>0.030274</td>\n",
       "      <td>0.060521</td>\n",
       "      <td>0.120066</td>\n",
       "    </tr>\n",
       "    <tr>\n",
       "      <th>2013-11-01 04:00:00</th>\n",
       "      <td>0.028765</td>\n",
       "      <td>0.029398</td>\n",
       "      <td>0.030070</td>\n",
       "      <td>0.028888</td>\n",
       "      <td>0.028997</td>\n",
       "      <td>0.030070</td>\n",
       "      <td>0.030070</td>\n",
       "      <td>0.030070</td>\n",
       "      <td>0.030070</td>\n",
       "      <td>0.055475</td>\n",
       "      <td>...</td>\n",
       "      <td>0.170191</td>\n",
       "      <td>0.217133</td>\n",
       "      <td>0.154831</td>\n",
       "      <td>0.154876</td>\n",
       "      <td>0.175142</td>\n",
       "      <td>0.126580</td>\n",
       "      <td>0.092381</td>\n",
       "      <td>0.095470</td>\n",
       "      <td>0.141605</td>\n",
       "      <td>0.165808</td>\n",
       "    </tr>\n",
       "  </tbody>\n",
       "</table>\n",
       "<p>5 rows × 10000 columns</p>\n",
       "</div>"
      ],
      "text/plain": [
       "gridID                  1         2         3         4         5      \\\n",
       "startTime                                                               \n",
       "2013-11-01 00:00:00  0.211626  0.212107  0.212617  0.211824  0.214977   \n",
       "2013-11-01 01:00:00  0.116451  0.117075  0.117736  0.116424  0.118392   \n",
       "2013-11-01 02:00:00  0.096798  0.097592  0.098434  0.096314  0.097301   \n",
       "2013-11-01 03:00:00  0.040150  0.040620  0.041117  0.040729  0.041210   \n",
       "2013-11-01 04:00:00  0.028765  0.029398  0.030070  0.028888  0.028997   \n",
       "\n",
       "gridID                  6         7         8         9         10     ...  \\\n",
       "startTime                                                              ...   \n",
       "2013-11-01 00:00:00  0.212617  0.212617  0.212617  0.212617  0.258763  ...   \n",
       "2013-11-01 01:00:00  0.117736  0.117736  0.117736  0.117736  0.157255  ...   \n",
       "2013-11-01 02:00:00  0.098434  0.098434  0.098434  0.098434  0.132079  ...   \n",
       "2013-11-01 03:00:00  0.041117  0.041117  0.041117  0.041117  0.067451  ...   \n",
       "2013-11-01 04:00:00  0.030070  0.030070  0.030070  0.030070  0.055475  ...   \n",
       "\n",
       "gridID                  9991      9992      9993      9994      9995   \\\n",
       "startTime                                                               \n",
       "2013-11-01 00:00:00  0.454009  0.503994  0.210340  0.178121  0.333928   \n",
       "2013-11-01 01:00:00  0.286118  0.337854  0.179074  0.150135  0.184403   \n",
       "2013-11-01 02:00:00  0.242083  0.273059  0.120781  0.093111  0.143985   \n",
       "2013-11-01 03:00:00  0.219951  0.245818  0.101754  0.068147  0.068547   \n",
       "2013-11-01 04:00:00  0.170191  0.217133  0.154831  0.154876  0.175142   \n",
       "\n",
       "gridID                  9996      9997      9998      9999      10000  \n",
       "startTime                                                              \n",
       "2013-11-01 00:00:00  0.304071  0.200537  0.214758  0.304316  0.208500  \n",
       "2013-11-01 01:00:00  0.117824  0.065346  0.071140  0.170086  0.224719  \n",
       "2013-11-01 02:00:00  0.131274  0.094235  0.097979  0.128875  0.127521  \n",
       "2013-11-01 03:00:00  0.044675  0.030236  0.030274  0.060521  0.120066  \n",
       "2013-11-01 04:00:00  0.126580  0.092381  0.095470  0.141605  0.165808  \n",
       "\n",
       "[5 rows x 10000 columns]"
      ]
     },
     "execution_count": 7,
     "metadata": {},
     "output_type": "execute_result"
    }
   ],
   "source": [
    "# prompt: write pandas to csv\n",
    "\n",
    "import pandas as pd\n",
    "\n",
    "# Save the DataFrame to a CSV file\n",
    "raw_data.rename(columns={'startTime': 'date'}, inplace=True)\n",
    "raw_data.to_csv(f\"./dataset/{dataset_name}/{sub_set_name}.csv\", index_label='date')\n",
    "raw_data.head()"
   ]
  },
  {
   "cell_type": "code",
   "execution_count": 8,
   "metadata": {},
   "outputs": [],
   "source": [
    "# Download the dataset\n",
    "# download_elec_dataset()\n",
    "\n",
    "# # Clean dataset\n",
    "# elec_data = clean_elec()\n",
    "\n",
    "# from sklearn.preprocessing import StandardScaler, MinMaxScaler\n",
    "# Std_normalization = 1\n",
    "# if Std_normalization:\n",
    "#     scaler = StandardScaler()\n",
    "#     temp = scaler.fit_transform(elec_data)\n",
    "#     norm_means = scaler.mean_\n",
    "#     norm_std = scaler.scale_\n",
    "# else:\n",
    "#     scaler = MinMaxScaler()\n",
    "#     temp = scaler.fit_transform(elec_data)\n",
    "\n",
    "# elec_data = pd.DataFrame(elec_data, index=elec_data.index, columns = elec_data.columns)"
   ]
  },
  {
   "cell_type": "code",
   "execution_count": 9,
   "metadata": {},
   "outputs": [
    {
     "data": {
      "text/plain": [
       "'internet.csv'"
      ]
     },
     "execution_count": 9,
     "metadata": {},
     "output_type": "execute_result"
    }
   ],
   "source": [
    "from ns_models.ns_TransformerConfig import NS_TransformerConfig\n",
    "user_num_ts = int(raw_data.shape[1] / n_users)\n",
    "args = NS_TransformerConfig()\n",
    "args.devices = gpu_id\n",
    "args.enc_in = user_num_ts\n",
    "args.dec_in = user_num_ts\n",
    "args.c_out = user_num_ts\n",
    "args.root_path='./dataset/milan/'\n",
    "args.data_path='internet.csv'\n",
    "args.data_path"
   ]
  },
  {
   "cell_type": "code",
   "execution_count": 10,
   "metadata": {},
   "outputs": [],
   "source": [
    "from torch.utils.data import DataLoader\n",
    "from data_provider.data_factory import *\n",
    "from data_provider.data_loader import *\n",
    "\n",
    "test_data, test_loader = data_provider(args, flag='test')"
   ]
  },
  {
   "cell_type": "code",
   "execution_count": 11,
   "metadata": {},
   "outputs": [
    {
     "data": {
      "text/plain": [
       "(96, 10000)"
      ]
     },
     "execution_count": 11,
     "metadata": {},
     "output_type": "execute_result"
    }
   ],
   "source": [
    "test_data[0][0].shape"
   ]
  },
  {
   "cell_type": "code",
   "execution_count": 12,
   "metadata": {},
   "outputs": [],
   "source": [
    "user_data_list = []\n",
    "server_data_list = []\n",
    "for i in range(n_users):\n",
    "    train_data, train_loader = data_provider(args, flag='train', start=i*user_num_ts+1, end=min(user_num_ts*(i+1)+1, raw_data.shape[1]+1))\n",
    "    test_data, test_loader = data_provider(args, flag='test', start=i*user_num_ts+1, end=min(user_num_ts*(i+1)+1, raw_data.shape[1]+1))\n",
    "    # user_data = train_set.filter(lambda e, idx: idx>=(i*user_num_ts) and idx < user_num_ts*(i+1), with_indices=True)\n",
    "    user_data_list.append(train_loader)\n",
    "    server_data_list.append(test_loader)\n",
    "    # print(train_data[0][0].shape)"
   ]
  },
  {
   "cell_type": "code",
   "execution_count": 13,
   "metadata": {},
   "outputs": [
    {
     "data": {
      "text/plain": [
       "Model(\n",
       "  (enc_embedding): DataEmbedding(\n",
       "    (value_embedding): TokenEmbedding(\n",
       "      (tokenConv): Conv1d(1000, 64, kernel_size=(3,), stride=(1,), padding=(1,), bias=False, padding_mode=circular)\n",
       "    )\n",
       "    (position_embedding): PositionalEmbedding()\n",
       "    (temporal_embedding): TimeFeatureEmbedding(\n",
       "      (embed): Linear(in_features=4, out_features=64, bias=False)\n",
       "    )\n",
       "    (dropout): Dropout(p=0.1, inplace=False)\n",
       "  )\n",
       "  (dec_embedding): DataEmbedding(\n",
       "    (value_embedding): TokenEmbedding(\n",
       "      (tokenConv): Conv1d(1000, 64, kernel_size=(3,), stride=(1,), padding=(1,), bias=False, padding_mode=circular)\n",
       "    )\n",
       "    (position_embedding): PositionalEmbedding()\n",
       "    (temporal_embedding): TimeFeatureEmbedding(\n",
       "      (embed): Linear(in_features=4, out_features=64, bias=False)\n",
       "    )\n",
       "    (dropout): Dropout(p=0.1, inplace=False)\n",
       "  )\n",
       "  (encoder): Encoder(\n",
       "    (attn_layers): ModuleList(\n",
       "      (0-5): 6 x EncoderLayer(\n",
       "        (attention): AttentionLayer(\n",
       "          (inner_attention): DSAttention(\n",
       "            (dropout): Dropout(p=0.1, inplace=False)\n",
       "          )\n",
       "          (query_projection): Linear(in_features=64, out_features=64, bias=True)\n",
       "          (key_projection): Linear(in_features=64, out_features=64, bias=True)\n",
       "          (value_projection): Linear(in_features=64, out_features=64, bias=True)\n",
       "          (out_projection): Linear(in_features=64, out_features=64, bias=True)\n",
       "        )\n",
       "        (conv1): Conv1d(64, 32, kernel_size=(1,), stride=(1,))\n",
       "        (conv2): Conv1d(32, 64, kernel_size=(1,), stride=(1,))\n",
       "        (norm1): LayerNorm((64,), eps=1e-05, elementwise_affine=True)\n",
       "        (norm2): LayerNorm((64,), eps=1e-05, elementwise_affine=True)\n",
       "        (dropout): Dropout(p=0.1, inplace=False)\n",
       "      )\n",
       "    )\n",
       "    (norm): LayerNorm((64,), eps=1e-05, elementwise_affine=True)\n",
       "  )\n",
       "  (decoder): Decoder(\n",
       "    (layers): ModuleList(\n",
       "      (0-3): 4 x DecoderLayer(\n",
       "        (self_attention): AttentionLayer(\n",
       "          (inner_attention): DSAttention(\n",
       "            (dropout): Dropout(p=0.1, inplace=False)\n",
       "          )\n",
       "          (query_projection): Linear(in_features=64, out_features=64, bias=True)\n",
       "          (key_projection): Linear(in_features=64, out_features=64, bias=True)\n",
       "          (value_projection): Linear(in_features=64, out_features=64, bias=True)\n",
       "          (out_projection): Linear(in_features=64, out_features=64, bias=True)\n",
       "        )\n",
       "        (cross_attention): AttentionLayer(\n",
       "          (inner_attention): DSAttention(\n",
       "            (dropout): Dropout(p=0.1, inplace=False)\n",
       "          )\n",
       "          (query_projection): Linear(in_features=64, out_features=64, bias=True)\n",
       "          (key_projection): Linear(in_features=64, out_features=64, bias=True)\n",
       "          (value_projection): Linear(in_features=64, out_features=64, bias=True)\n",
       "          (out_projection): Linear(in_features=64, out_features=64, bias=True)\n",
       "        )\n",
       "        (conv1): Conv1d(64, 32, kernel_size=(1,), stride=(1,))\n",
       "        (conv2): Conv1d(32, 64, kernel_size=(1,), stride=(1,))\n",
       "        (norm1): LayerNorm((64,), eps=1e-05, elementwise_affine=True)\n",
       "        (norm2): LayerNorm((64,), eps=1e-05, elementwise_affine=True)\n",
       "        (norm3): LayerNorm((64,), eps=1e-05, elementwise_affine=True)\n",
       "        (dropout): Dropout(p=0.1, inplace=False)\n",
       "      )\n",
       "    )\n",
       "    (norm): LayerNorm((64,), eps=1e-05, elementwise_affine=True)\n",
       "    (projection): Linear(in_features=64, out_features=1000, bias=True)\n",
       "  )\n",
       "  (tau_learner): Projector(\n",
       "    (series_conv): Conv1d(96, 1, kernel_size=(3,), stride=(1,), padding=(1,), bias=False, padding_mode=circular)\n",
       "    (backbone): Sequential(\n",
       "      (0): Linear(in_features=2000, out_features=64, bias=True)\n",
       "      (1): ReLU()\n",
       "      (2): Linear(in_features=64, out_features=64, bias=True)\n",
       "      (3): ReLU()\n",
       "      (4): Linear(in_features=64, out_features=1, bias=False)\n",
       "    )\n",
       "  )\n",
       "  (delta_learner): Projector(\n",
       "    (series_conv): Conv1d(96, 1, kernel_size=(3,), stride=(1,), padding=(1,), bias=False, padding_mode=circular)\n",
       "    (backbone): Sequential(\n",
       "      (0): Linear(in_features=2000, out_features=64, bias=True)\n",
       "      (1): ReLU()\n",
       "      (2): Linear(in_features=64, out_features=64, bias=True)\n",
       "      (3): ReLU()\n",
       "      (4): Linear(in_features=64, out_features=96, bias=False)\n",
       "    )\n",
       "  )\n",
       ")"
      ]
     },
     "execution_count": 13,
     "metadata": {},
     "output_type": "execute_result"
    }
   ],
   "source": [
    "from ns_models import ns_Transformer\n",
    "server_model = ns_Transformer.Model(configs=args)\n",
    "server_model"
   ]
  },
  {
   "cell_type": "markdown",
   "metadata": {},
   "source": [
    "# Setup WANDB"
   ]
  },
  {
   "cell_type": "code",
   "execution_count": 14,
   "metadata": {},
   "outputs": [
    {
     "name": "stderr",
     "output_type": "stream",
     "text": [
      "Failed to detect the name of this notebook, you can set it manually with the WANDB_NOTEBOOK_NAME environment variable to enable code saving.\n",
      "\u001b[34m\u001b[1mwandb\u001b[0m: Currently logged in as: \u001b[33mkenlvq\u001b[0m (\u001b[33mquanla\u001b[0m). Use \u001b[1m`wandb login --relogin`\u001b[0m to force relogin\n"
     ]
    },
    {
     "data": {
      "text/html": [
       "wandb version 0.17.3 is available!  To upgrade, please run:\n",
       " $ pip install wandb --upgrade"
      ],
      "text/plain": [
       "<IPython.core.display.HTML object>"
      ]
     },
     "metadata": {},
     "output_type": "display_data"
    },
    {
     "data": {
      "text/html": [
       "Tracking run with wandb version 0.16.3"
      ],
      "text/plain": [
       "<IPython.core.display.HTML object>"
      ]
     },
     "metadata": {},
     "output_type": "display_data"
    },
    {
     "data": {
      "text/html": [
       "Run data is saved locally in <code>/home/qula0496/quan/Nonstationary_Transformers/wandb/run-20240703_143045-7ep56yo8</code>"
      ],
      "text/plain": [
       "<IPython.core.display.HTML object>"
      ]
     },
     "metadata": {},
     "output_type": "display_data"
    },
    {
     "data": {
      "text/html": [
       "Syncing run <strong><a href='https://wandb.ai/quanla/Federated%20Non-Stationary%20Transformer%20on%20Milan%20dataset/runs/7ep56yo8' target=\"_blank\">Federated Non-Stationary Transformer on Milan Internet dataset</a></strong> to <a href='https://wandb.ai/quanla/Federated%20Non-Stationary%20Transformer%20on%20Milan%20dataset' target=\"_blank\">Weights & Biases</a> (<a href='https://wandb.me/run' target=\"_blank\">docs</a>)<br/>"
      ],
      "text/plain": [
       "<IPython.core.display.HTML object>"
      ]
     },
     "metadata": {},
     "output_type": "display_data"
    },
    {
     "data": {
      "text/html": [
       " View project at <a href='https://wandb.ai/quanla/Federated%20Non-Stationary%20Transformer%20on%20Milan%20dataset' target=\"_blank\">https://wandb.ai/quanla/Federated%20Non-Stationary%20Transformer%20on%20Milan%20dataset</a>"
      ],
      "text/plain": [
       "<IPython.core.display.HTML object>"
      ]
     },
     "metadata": {},
     "output_type": "display_data"
    },
    {
     "data": {
      "text/html": [
       " View run at <a href='https://wandb.ai/quanla/Federated%20Non-Stationary%20Transformer%20on%20Milan%20dataset/runs/7ep56yo8' target=\"_blank\">https://wandb.ai/quanla/Federated%20Non-Stationary%20Transformer%20on%20Milan%20dataset/runs/7ep56yo8</a>"
      ],
      "text/plain": [
       "<IPython.core.display.HTML object>"
      ]
     },
     "metadata": {},
     "output_type": "display_data"
    }
   ],
   "source": [
    "import wandb\n",
    "import torch\n",
    "\n",
    "NUM_GPUS = torch.cuda.device_count()\n",
    "LR = 1e-3\n",
    "GLOBAL_EPOCHS = 50\n",
    "LOCAL_EPOCHS = 5\n",
    "BATCH_SIZE = 128\n",
    "L2_PENALTY = 0.0\n",
    "USER_RATIO = 0.2\n",
    "run = wandb.init(\n",
    "    # project name\n",
    "    project=\"Federated Non-Stationary Transformer on Milan dataset\",\n",
    "    # experiment name\n",
    "    name=f\"Federated Non-Stationary Transformer on Milan Internet dataset\",\n",
    "    # Hyperparams\n",
    "    config={\n",
    "        \"dataset\": \"Milan Call\",\n",
    "        \"preprocess_type\": \"std\",\n",
    "        \"num_user\": n_users,\n",
    "        \"learning_rate\": LR,\n",
    "        \"global_epochs\": GLOBAL_EPOCHS,\n",
    "        \"local_epochs\": LOCAL_EPOCHS,\n",
    "        \"batch_size\": BATCH_SIZE,\n",
    "        \"num_gpus\": NUM_GPUS,\n",
    "        \"user_ratio\": USER_RATIO,\n",
    "        \"l2_penalty\": L2_PENALTY,\n",
    "        \"total_time_series\": 10000,\n",
    "        \"detrending_data\": \"No\"\n",
    "    })\n",
    "\n",
    "config_wanb = wandb.config"
   ]
  },
  {
   "cell_type": "code",
   "execution_count": 15,
   "metadata": {},
   "outputs": [
    {
     "name": "stderr",
     "output_type": "stream",
     "text": [
      "Progress:   0%|          | 0/50 [00:00<?, ?it/s]"
     ]
    },
    {
     "name": "stdout",
     "output_type": "stream",
     "text": [
      "<modules.usernsTranformer.UserNsTransformer object at 0x7f6fb53eb1f0>\n",
      "Epoch: 1 cost time: 2.9223687648773193\n",
      "Epoch: 2 cost time: 2.823718309402466\n",
      "Epoch: 3 cost time: 2.880047082901001\n",
      "Epoch: 4 cost time: 3.231069803237915\n",
      "Epoch: 5 cost time: 3.551377534866333\n",
      "<modules.usernsTranformer.UserNsTransformer object at 0x7f6fb520a320>\n",
      "Epoch: 1 cost time: 3.3303539752960205\n",
      "Epoch: 2 cost time: 3.308098316192627\n",
      "Epoch: 3 cost time: 3.244893789291382\n",
      "Epoch: 4 cost time: 3.2608113288879395\n",
      "Epoch: 5 cost time: 3.284633159637451\n"
     ]
    },
    {
     "name": "stderr",
     "output_type": "stream",
     "text": [
      "Progress:   2%|▏         | 1/50 [00:49<40:09, 49.18s/it]"
     ]
    },
    {
     "name": "stdout",
     "output_type": "stream",
     "text": [
      "<modules.usernsTranformer.UserNsTransformer object at 0x7f6fb53eb280>\n",
      "Epoch: 1 cost time: 3.565260887145996\n",
      "Epoch: 2 cost time: 3.4237890243530273\n",
      "Epoch: 3 cost time: 2.9332945346832275\n",
      "Epoch: 4 cost time: 2.8744475841522217\n",
      "Epoch: 5 cost time: 2.5942389965057373\n",
      "<modules.usernsTranformer.UserNsTransformer object at 0x7f6fb519a7a0>\n",
      "Epoch: 1 cost time: 2.634498119354248\n",
      "Epoch: 2 cost time: 2.807541608810425\n",
      "Epoch: 3 cost time: 2.7259631156921387\n",
      "Epoch: 4 cost time: 2.737649917602539\n",
      "Epoch: 5 cost time: 2.6219494342803955\n"
     ]
    },
    {
     "name": "stderr",
     "output_type": "stream",
     "text": [
      "Progress:   4%|▍         | 2/50 [01:33<37:13, 46.52s/it]"
     ]
    },
    {
     "name": "stdout",
     "output_type": "stream",
     "text": [
      "<modules.usernsTranformer.UserNsTransformer object at 0x7f6fc0ebc490>\n",
      "Epoch: 1 cost time: 3.231440305709839\n",
      "Epoch: 2 cost time: 3.2820749282836914\n",
      "Epoch: 3 cost time: 3.438709259033203\n",
      "Epoch: 4 cost time: 3.046491861343384\n",
      "Epoch: 5 cost time: 2.5277419090270996\n",
      "<modules.usernsTranformer.UserNsTransformer object at 0x7f6fb2ff2410>\n",
      "Epoch: 1 cost time: 2.5759706497192383\n",
      "Epoch: 2 cost time: 2.654243230819702\n",
      "Epoch: 3 cost time: 2.6391398906707764\n",
      "Epoch: 4 cost time: 2.698411464691162\n",
      "Epoch: 5 cost time: 2.6301231384277344\n"
     ]
    },
    {
     "name": "stderr",
     "output_type": "stream",
     "text": [
      "Progress:   6%|▌         | 3/50 [02:17<35:33, 45.40s/it]"
     ]
    },
    {
     "name": "stdout",
     "output_type": "stream",
     "text": [
      "<modules.usernsTranformer.UserNsTransformer object at 0x7f6fb53eb190>\n",
      "Epoch: 1 cost time: 3.424220561981201\n",
      "Epoch: 2 cost time: 3.4951577186584473\n",
      "Epoch: 3 cost time: 3.3022730350494385\n",
      "Epoch: 4 cost time: 3.2161049842834473\n",
      "Epoch: 5 cost time: 2.505444049835205\n",
      "<modules.usernsTranformer.UserNsTransformer object at 0x7f6fb3e259f0>\n",
      "Epoch: 1 cost time: 2.615262269973755\n",
      "Epoch: 2 cost time: 2.709484815597534\n",
      "Epoch: 3 cost time: 2.639810085296631\n",
      "Epoch: 4 cost time: 2.580716848373413\n",
      "Epoch: 5 cost time: 2.5861713886260986\n"
     ]
    },
    {
     "name": "stderr",
     "output_type": "stream",
     "text": [
      "Progress:   8%|▊         | 4/50 [03:01<34:11, 44.60s/it]"
     ]
    },
    {
     "name": "stdout",
     "output_type": "stream",
     "text": [
      "<modules.usernsTranformer.UserNsTransformer object at 0x7f6fb3e259f0>\n",
      "Epoch: 1 cost time: 3.4896862506866455\n",
      "Epoch: 2 cost time: 3.3925366401672363\n",
      "Epoch: 3 cost time: 3.6751456260681152\n",
      "Epoch: 4 cost time: 3.204810857772827\n",
      "Epoch: 5 cost time: 2.9547767639160156\n",
      "<modules.usernsTranformer.UserNsTransformer object at 0x7f6fb53eb280>\n",
      "Epoch: 1 cost time: 2.677583932876587\n",
      "Epoch: 2 cost time: 2.501732587814331\n",
      "Epoch: 3 cost time: 2.68387508392334\n",
      "Epoch: 4 cost time: 2.7728512287139893\n",
      "Epoch: 5 cost time: 2.7057502269744873\n"
     ]
    },
    {
     "name": "stderr",
     "output_type": "stream",
     "text": [
      "Progress:  10%|█         | 5/50 [03:45<33:17, 44.38s/it]"
     ]
    },
    {
     "name": "stdout",
     "output_type": "stream",
     "text": [
      "<modules.usernsTranformer.UserNsTransformer object at 0x7f6fb2ff2410>\n",
      "Epoch: 1 cost time: 3.185336112976074\n",
      "Epoch: 2 cost time: 3.3812243938446045\n",
      "Epoch: 3 cost time: 3.6926865577697754\n",
      "Epoch: 4 cost time: 3.256523370742798\n",
      "Epoch: 5 cost time: 3.1641485691070557\n",
      "<modules.usernsTranformer.UserNsTransformer object at 0x7f6fb5208b50>\n",
      "Epoch: 1 cost time: 2.7759017944335938\n",
      "Epoch: 2 cost time: 2.6657800674438477\n",
      "Epoch: 3 cost time: 2.737987518310547\n",
      "Epoch: 4 cost time: 2.5818979740142822\n",
      "Epoch: 5 cost time: 2.7234585285186768\n"
     ]
    },
    {
     "name": "stderr",
     "output_type": "stream",
     "text": [
      "Progress:  12%|█▏        | 6/50 [04:28<32:21, 44.12s/it]"
     ]
    },
    {
     "name": "stdout",
     "output_type": "stream",
     "text": [
      "<modules.usernsTranformer.UserNsTransformer object at 0x7f6fb53eb1f0>\n",
      "Epoch: 1 cost time: 3.3245997428894043\n",
      "Epoch: 2 cost time: 3.6664342880249023\n",
      "Epoch: 3 cost time: 3.4374029636383057\n",
      "Epoch: 4 cost time: 3.653451919555664\n",
      "Epoch: 5 cost time: 3.081861734390259\n",
      "<modules.usernsTranformer.UserNsTransformer object at 0x7f6fb2ff2410>\n",
      "Epoch: 1 cost time: 2.946464776992798\n",
      "Epoch: 2 cost time: 2.503230333328247\n",
      "Epoch: 3 cost time: 2.7696139812469482\n",
      "Epoch: 4 cost time: 2.672506093978882\n",
      "Epoch: 5 cost time: 2.7172598838806152\n"
     ]
    },
    {
     "name": "stderr",
     "output_type": "stream",
     "text": [
      "Progress:  14%|█▍        | 7/50 [05:12<31:30, 43.98s/it]"
     ]
    },
    {
     "name": "stdout",
     "output_type": "stream",
     "text": [
      "<modules.usernsTranformer.UserNsTransformer object at 0x7f6fb53eb190>\n",
      "Epoch: 1 cost time: 2.6823203563690186\n",
      "Epoch: 2 cost time: 3.2862870693206787\n",
      "Epoch: 3 cost time: 3.7288691997528076\n",
      "Epoch: 4 cost time: 3.329106569290161\n",
      "Epoch: 5 cost time: 3.426143169403076\n",
      "<modules.usernsTranformer.UserNsTransformer object at 0x7f6fb520a320>\n",
      "Epoch: 1 cost time: 3.414311647415161\n",
      "Epoch: 2 cost time: 2.903111696243286\n",
      "Epoch: 3 cost time: 2.5924181938171387\n",
      "Epoch: 4 cost time: 2.6517069339752197\n",
      "Epoch: 5 cost time: 2.7906510829925537\n"
     ]
    },
    {
     "name": "stderr",
     "output_type": "stream",
     "text": [
      "Progress:  16%|█▌        | 8/50 [05:56<30:49, 44.04s/it]"
     ]
    },
    {
     "name": "stdout",
     "output_type": "stream",
     "text": [
      "<modules.usernsTranformer.UserNsTransformer object at 0x7f6fb2ff2410>\n",
      "Epoch: 1 cost time: 2.655646562576294\n",
      "Epoch: 2 cost time: 2.6861414909362793\n",
      "Epoch: 3 cost time: 3.123169422149658\n",
      "Epoch: 4 cost time: 3.783747434616089\n",
      "Epoch: 5 cost time: 3.2973744869232178\n",
      "<modules.usernsTranformer.UserNsTransformer object at 0x7f6fb5208b50>\n",
      "Epoch: 1 cost time: 3.504127025604248\n",
      "Epoch: 2 cost time: 3.3590991497039795\n",
      "Epoch: 3 cost time: 2.867485761642456\n",
      "Epoch: 4 cost time: 2.8666129112243652\n",
      "Epoch: 5 cost time: 2.7088348865509033\n"
     ]
    },
    {
     "name": "stderr",
     "output_type": "stream",
     "text": [
      "Progress:  18%|█▊        | 9/50 [06:41<30:12, 44.20s/it]"
     ]
    },
    {
     "name": "stdout",
     "output_type": "stream",
     "text": [
      "<modules.usernsTranformer.UserNsTransformer object at 0x7f6fb53eb1f0>\n",
      "Epoch: 1 cost time: 2.7430381774902344\n",
      "Epoch: 2 cost time: 2.675358295440674\n",
      "Epoch: 3 cost time: 3.381274700164795\n",
      "Epoch: 4 cost time: 3.425584316253662\n",
      "Epoch: 5 cost time: 3.4074790477752686\n",
      "<modules.usernsTranformer.UserNsTransformer object at 0x7f6fb53eb280>\n",
      "Epoch: 1 cost time: 3.6603598594665527\n",
      "Epoch: 2 cost time: 3.489020824432373\n",
      "Epoch: 3 cost time: 2.867499589920044\n",
      "Epoch: 4 cost time: 2.730830430984497\n",
      "Epoch: 5 cost time: 2.5633864402770996\n"
     ]
    },
    {
     "name": "stderr",
     "output_type": "stream",
     "text": [
      "Progress:  20%|██        | 10/50 [07:25<29:32, 44.30s/it]"
     ]
    },
    {
     "name": "stdout",
     "output_type": "stream",
     "text": [
      "<modules.usernsTranformer.UserNsTransformer object at 0x7f6fb519a7a0>\n",
      "Epoch: 1 cost time: 2.517320394515991\n",
      "Epoch: 2 cost time: 2.6447930335998535\n",
      "Epoch: 3 cost time: 2.8767170906066895\n",
      "Epoch: 4 cost time: 3.2106430530548096\n",
      "Epoch: 5 cost time: 3.5217597484588623\n",
      "<modules.usernsTranformer.UserNsTransformer object at 0x7f6fb520a320>\n",
      "Epoch: 1 cost time: 3.380765199661255\n",
      "Epoch: 2 cost time: 3.407120943069458\n",
      "Epoch: 3 cost time: 3.1814541816711426\n",
      "Epoch: 4 cost time: 2.968738317489624\n",
      "Epoch: 5 cost time: 2.702061891555786\n"
     ]
    },
    {
     "name": "stderr",
     "output_type": "stream",
     "text": [
      "Progress:  22%|██▏       | 11/50 [08:09<28:44, 44.23s/it]"
     ]
    },
    {
     "name": "stdout",
     "output_type": "stream",
     "text": [
      "<modules.usernsTranformer.UserNsTransformer object at 0x7f6fb53eb190>\n",
      "Epoch: 1 cost time: 2.754077672958374\n",
      "Epoch: 2 cost time: 2.6766748428344727\n",
      "Epoch: 3 cost time: 2.5302910804748535\n",
      "Epoch: 4 cost time: 3.2351763248443604\n",
      "Epoch: 5 cost time: 3.7496604919433594\n",
      "<modules.usernsTranformer.UserNsTransformer object at 0x7f6fb53eb280>\n",
      "Epoch: 1 cost time: 3.5347142219543457\n",
      "Epoch: 2 cost time: 3.5209388732910156\n",
      "Epoch: 3 cost time: 3.148314952850342\n",
      "Epoch: 4 cost time: 2.683530569076538\n",
      "Epoch: 5 cost time: 2.6463351249694824\n"
     ]
    },
    {
     "name": "stderr",
     "output_type": "stream",
     "text": [
      "Progress:  24%|██▍       | 12/50 [08:53<27:56, 44.12s/it]"
     ]
    },
    {
     "name": "stdout",
     "output_type": "stream",
     "text": [
      "<modules.usernsTranformer.UserNsTransformer object at 0x7f6fb53eb190>\n",
      "Epoch: 1 cost time: 2.5875236988067627\n",
      "Epoch: 2 cost time: 2.9157395362854004\n",
      "Epoch: 3 cost time: 2.689631223678589\n",
      "Epoch: 4 cost time: 3.231497287750244\n",
      "Epoch: 5 cost time: 3.4651994705200195\n",
      "<modules.usernsTranformer.UserNsTransformer object at 0x7f6fb520a320>\n",
      "Epoch: 1 cost time: 3.5104215145111084\n",
      "Epoch: 2 cost time: 3.3650379180908203\n",
      "Epoch: 3 cost time: 3.316141128540039\n",
      "Epoch: 4 cost time: 3.2195651531219482\n",
      "Epoch: 5 cost time: 2.6478676795959473\n"
     ]
    },
    {
     "name": "stderr",
     "output_type": "stream",
     "text": [
      "Progress:  26%|██▌       | 13/50 [09:38<27:16, 44.24s/it]"
     ]
    },
    {
     "name": "stdout",
     "output_type": "stream",
     "text": [
      "<modules.usernsTranformer.UserNsTransformer object at 0x7f6fc0ebc490>\n",
      "Epoch: 1 cost time: 2.57901668548584\n",
      "Epoch: 2 cost time: 2.5382583141326904\n",
      "Epoch: 3 cost time: 2.882948637008667\n",
      "Epoch: 4 cost time: 2.531611680984497\n",
      "Epoch: 5 cost time: 3.501546859741211\n",
      "<modules.usernsTranformer.UserNsTransformer object at 0x7f6fb5198880>\n",
      "Epoch: 1 cost time: 3.4610376358032227\n",
      "Epoch: 2 cost time: 3.8862314224243164\n",
      "Epoch: 3 cost time: 3.486501455307007\n",
      "Epoch: 4 cost time: 3.142045259475708\n",
      "Epoch: 5 cost time: 2.706874132156372\n"
     ]
    },
    {
     "name": "stderr",
     "output_type": "stream",
     "text": [
      "Progress:  28%|██▊       | 14/50 [10:22<26:34, 44.28s/it]"
     ]
    },
    {
     "name": "stdout",
     "output_type": "stream",
     "text": [
      "<modules.usernsTranformer.UserNsTransformer object at 0x7f6fb520a320>\n",
      "Epoch: 1 cost time: 2.6288986206054688\n",
      "Epoch: 2 cost time: 2.643305778503418\n",
      "Epoch: 3 cost time: 2.759871482849121\n",
      "Epoch: 4 cost time: 2.6425745487213135\n",
      "Epoch: 5 cost time: 3.4848949909210205\n",
      "<modules.usernsTranformer.UserNsTransformer object at 0x7f6fb53eb1f0>\n",
      "Epoch: 1 cost time: 3.2109129428863525\n",
      "Epoch: 2 cost time: 3.3081398010253906\n",
      "Epoch: 3 cost time: 3.660395860671997\n",
      "Epoch: 4 cost time: 3.845087766647339\n",
      "Epoch: 5 cost time: 3.086435317993164\n"
     ]
    },
    {
     "name": "stderr",
     "output_type": "stream",
     "text": [
      "Progress:  30%|███       | 15/50 [11:07<25:54, 44.43s/it]"
     ]
    },
    {
     "name": "stdout",
     "output_type": "stream",
     "text": [
      "<modules.usernsTranformer.UserNsTransformer object at 0x7f6fb5208b50>\n",
      "Epoch: 1 cost time: 2.5433003902435303\n",
      "Epoch: 2 cost time: 2.7826087474823\n",
      "Epoch: 3 cost time: 2.6514251232147217\n",
      "Epoch: 4 cost time: 2.593435525894165\n",
      "Epoch: 5 cost time: 3.1498444080352783\n",
      "<modules.usernsTranformer.UserNsTransformer object at 0x7f6fb53eb280>\n",
      "Epoch: 1 cost time: 3.454012632369995\n",
      "Epoch: 2 cost time: 3.6585094928741455\n",
      "Epoch: 3 cost time: 3.1787075996398926\n",
      "Epoch: 4 cost time: 3.7125918865203857\n",
      "Epoch: 5 cost time: 2.9748640060424805\n"
     ]
    },
    {
     "name": "stderr",
     "output_type": "stream",
     "text": [
      "Progress:  32%|███▏      | 16/50 [11:51<25:07, 44.33s/it]"
     ]
    },
    {
     "name": "stdout",
     "output_type": "stream",
     "text": [
      "<modules.usernsTranformer.UserNsTransformer object at 0x7f6fb519a7a0>\n",
      "Epoch: 1 cost time: 2.759096384048462\n",
      "Epoch: 2 cost time: 2.53218674659729\n",
      "Epoch: 3 cost time: 2.760720729827881\n",
      "Epoch: 4 cost time: 2.748250722885132\n",
      "Epoch: 5 cost time: 3.071510076522827\n",
      "<modules.usernsTranformer.UserNsTransformer object at 0x7f6fb3e259f0>\n",
      "Epoch: 1 cost time: 3.596599578857422\n",
      "Epoch: 2 cost time: 3.653545618057251\n",
      "Epoch: 3 cost time: 3.2733466625213623\n",
      "Epoch: 4 cost time: 3.4661951065063477\n",
      "Epoch: 5 cost time: 3.222079277038574\n"
     ]
    },
    {
     "name": "stderr",
     "output_type": "stream",
     "text": [
      "Progress:  34%|███▍      | 17/50 [12:36<24:26, 44.45s/it]"
     ]
    },
    {
     "name": "stdout",
     "output_type": "stream",
     "text": [
      "<modules.usernsTranformer.UserNsTransformer object at 0x7f6fb520a320>\n",
      "Epoch: 1 cost time: 2.6253788471221924\n",
      "Epoch: 2 cost time: 2.883171319961548\n",
      "Epoch: 3 cost time: 2.6643309593200684\n",
      "Epoch: 4 cost time: 2.9308719635009766\n",
      "Epoch: 5 cost time: 3.5473735332489014\n",
      "<modules.usernsTranformer.UserNsTransformer object at 0x7f6fb2ff2410>\n",
      "Epoch: 1 cost time: 3.2588186264038086\n",
      "Epoch: 2 cost time: 3.1974334716796875\n",
      "Epoch: 3 cost time: 3.3838047981262207\n",
      "Epoch: 4 cost time: 3.197503089904785\n",
      "Epoch: 5 cost time: 3.4587724208831787\n"
     ]
    },
    {
     "name": "stderr",
     "output_type": "stream",
     "text": [
      "Progress:  36%|███▌      | 18/50 [13:21<23:50, 44.72s/it]"
     ]
    },
    {
     "name": "stdout",
     "output_type": "stream",
     "text": [
      "<modules.usernsTranformer.UserNsTransformer object at 0x7f6fb5198880>\n",
      "Epoch: 1 cost time: 2.602064371109009\n",
      "Epoch: 2 cost time: 2.6290955543518066\n",
      "Epoch: 3 cost time: 2.716409206390381\n",
      "Epoch: 4 cost time: 2.6046955585479736\n",
      "Epoch: 5 cost time: 2.997321128845215\n",
      "<modules.usernsTranformer.UserNsTransformer object at 0x7f6fb53eb280>\n",
      "Epoch: 1 cost time: 2.956378698348999\n",
      "Epoch: 2 cost time: 3.5561630725860596\n",
      "Epoch: 3 cost time: 3.338423252105713\n",
      "Epoch: 4 cost time: 3.4162724018096924\n",
      "Epoch: 5 cost time: 3.026052713394165\n"
     ]
    },
    {
     "name": "stderr",
     "output_type": "stream",
     "text": [
      "Progress:  38%|███▊      | 19/50 [14:05<22:59, 44.50s/it]"
     ]
    },
    {
     "name": "stdout",
     "output_type": "stream",
     "text": [
      "<modules.usernsTranformer.UserNsTransformer object at 0x7f6fb520a320>\n",
      "Epoch: 1 cost time: 2.692615509033203\n",
      "Epoch: 2 cost time: 2.6276354789733887\n",
      "Epoch: 3 cost time: 2.6045076847076416\n",
      "Epoch: 4 cost time: 2.8262550830841064\n",
      "Epoch: 5 cost time: 2.867144823074341\n",
      "<modules.usernsTranformer.UserNsTransformer object at 0x7f6fb5198880>\n",
      "Epoch: 1 cost time: 3.1624765396118164\n",
      "Epoch: 2 cost time: 3.265627384185791\n",
      "Epoch: 3 cost time: 3.70418643951416\n",
      "Epoch: 4 cost time: 3.3357810974121094\n",
      "Epoch: 5 cost time: 3.2302887439727783\n"
     ]
    },
    {
     "name": "stderr",
     "output_type": "stream",
     "text": [
      "Progress:  40%|████      | 20/50 [14:51<22:25, 44.84s/it]"
     ]
    },
    {
     "name": "stdout",
     "output_type": "stream",
     "text": [
      "<modules.usernsTranformer.UserNsTransformer object at 0x7f6fb5198880>\n",
      "Epoch: 1 cost time: 2.5349371433258057\n",
      "Epoch: 2 cost time: 2.597379207611084\n",
      "Epoch: 3 cost time: 2.6783361434936523\n",
      "Epoch: 4 cost time: 2.707381010055542\n",
      "Epoch: 5 cost time: 3.030445098876953\n",
      "<modules.usernsTranformer.UserNsTransformer object at 0x7f6fb53eb190>\n",
      "Epoch: 1 cost time: 3.3877737522125244\n",
      "Epoch: 2 cost time: 3.1197750568389893\n",
      "Epoch: 3 cost time: 3.1937313079833984\n",
      "Epoch: 4 cost time: 3.260272264480591\n",
      "Epoch: 5 cost time: 3.1030187606811523\n"
     ]
    },
    {
     "name": "stderr",
     "output_type": "stream",
     "text": [
      "Progress:  42%|████▏     | 21/50 [15:36<21:43, 44.96s/it]"
     ]
    },
    {
     "name": "stdout",
     "output_type": "stream",
     "text": [
      "<modules.usernsTranformer.UserNsTransformer object at 0x7f6fb2ff2410>\n",
      "Epoch: 1 cost time: 2.5052390098571777\n",
      "Epoch: 2 cost time: 2.7151615619659424\n",
      "Epoch: 3 cost time: 2.8209521770477295\n",
      "Epoch: 4 cost time: 2.666811227798462\n",
      "Epoch: 5 cost time: 3.17740797996521\n",
      "<modules.usernsTranformer.UserNsTransformer object at 0x7f6fb3e259f0>\n",
      "Epoch: 1 cost time: 3.508470058441162\n",
      "Epoch: 2 cost time: 3.104060411453247\n",
      "Epoch: 3 cost time: 3.398514747619629\n",
      "Epoch: 4 cost time: 3.227454662322998\n",
      "Epoch: 5 cost time: 3.14255428314209\n"
     ]
    },
    {
     "name": "stderr",
     "output_type": "stream",
     "text": [
      "Progress:  44%|████▍     | 22/50 [16:22<21:11, 45.42s/it]"
     ]
    },
    {
     "name": "stdout",
     "output_type": "stream",
     "text": [
      "<modules.usernsTranformer.UserNsTransformer object at 0x7f6fb520a320>\n",
      "Epoch: 1 cost time: 2.668606996536255\n",
      "Epoch: 2 cost time: 2.5962092876434326\n",
      "Epoch: 3 cost time: 2.6313605308532715\n",
      "Epoch: 4 cost time: 2.808732271194458\n",
      "Epoch: 5 cost time: 3.306821584701538\n",
      "<modules.usernsTranformer.UserNsTransformer object at 0x7f6fc0ebc490>\n",
      "Epoch: 1 cost time: 3.5098960399627686\n",
      "Epoch: 2 cost time: 3.030296564102173\n",
      "Epoch: 3 cost time: 3.1567161083221436\n",
      "Epoch: 4 cost time: 3.1393892765045166\n",
      "Epoch: 5 cost time: 3.10141658782959\n"
     ]
    },
    {
     "name": "stderr",
     "output_type": "stream",
     "text": [
      "Progress:  46%|████▌     | 23/50 [17:07<20:20, 45.22s/it]"
     ]
    },
    {
     "name": "stdout",
     "output_type": "stream",
     "text": [
      "<modules.usernsTranformer.UserNsTransformer object at 0x7f6fc0ebc490>\n",
      "Epoch: 1 cost time: 2.676107406616211\n",
      "Epoch: 2 cost time: 2.6279006004333496\n",
      "Epoch: 3 cost time: 2.751675844192505\n",
      "Epoch: 4 cost time: 3.101255178451538\n",
      "Epoch: 5 cost time: 3.235123872756958\n",
      "<modules.usernsTranformer.UserNsTransformer object at 0x7f6fb53eb1f0>\n",
      "Epoch: 1 cost time: 3.514373302459717\n",
      "Epoch: 2 cost time: 3.0577192306518555\n",
      "Epoch: 3 cost time: 2.950530529022217\n",
      "Epoch: 4 cost time: 2.825654983520508\n",
      "Epoch: 5 cost time: 3.3457915782928467\n"
     ]
    },
    {
     "name": "stderr",
     "output_type": "stream",
     "text": [
      "Progress:  48%|████▊     | 24/50 [17:52<19:36, 45.25s/it]"
     ]
    },
    {
     "name": "stdout",
     "output_type": "stream",
     "text": [
      "<modules.usernsTranformer.UserNsTransformer object at 0x7f6fc0ebc490>\n",
      "Epoch: 1 cost time: 2.590177059173584\n",
      "Epoch: 2 cost time: 2.7671332359313965\n",
      "Epoch: 3 cost time: 2.632020950317383\n",
      "Epoch: 4 cost time: 3.0767903327941895\n",
      "Epoch: 5 cost time: 3.223151922225952\n",
      "<modules.usernsTranformer.UserNsTransformer object at 0x7f6fb53eb190>\n",
      "Epoch: 1 cost time: 3.2222583293914795\n",
      "Epoch: 2 cost time: 3.299758195877075\n",
      "Epoch: 3 cost time: 2.670341730117798\n",
      "Epoch: 4 cost time: 3.125534772872925\n",
      "Epoch: 5 cost time: 3.286529541015625\n"
     ]
    },
    {
     "name": "stderr",
     "output_type": "stream",
     "text": [
      "Progress:  50%|█████     | 25/50 [18:37<18:48, 45.15s/it]"
     ]
    },
    {
     "name": "stdout",
     "output_type": "stream",
     "text": [
      "<modules.usernsTranformer.UserNsTransformer object at 0x7f6fb53eb1f0>\n",
      "Epoch: 1 cost time: 2.581677198410034\n",
      "Epoch: 2 cost time: 2.739335060119629\n",
      "Epoch: 3 cost time: 2.7783381938934326\n",
      "Epoch: 4 cost time: 3.3074989318847656\n",
      "Epoch: 5 cost time: 3.326385736465454\n",
      "<modules.usernsTranformer.UserNsTransformer object at 0x7f6fb53eb280>\n",
      "Epoch: 1 cost time: 3.2857353687286377\n",
      "Epoch: 2 cost time: 3.260084390640259\n",
      "Epoch: 3 cost time: 2.8356289863586426\n",
      "Epoch: 4 cost time: 2.70792555809021\n",
      "Epoch: 5 cost time: 2.9884490966796875\n"
     ]
    },
    {
     "name": "stderr",
     "output_type": "stream",
     "text": [
      "Progress:  52%|█████▏    | 26/50 [19:23<18:07, 45.30s/it]"
     ]
    },
    {
     "name": "stdout",
     "output_type": "stream",
     "text": [
      "<modules.usernsTranformer.UserNsTransformer object at 0x7f6fb2ff2410>\n",
      "Epoch: 1 cost time: 2.5419504642486572\n",
      "Epoch: 2 cost time: 2.8587632179260254\n",
      "Epoch: 3 cost time: 2.925004005432129\n",
      "Epoch: 4 cost time: 3.104886770248413\n",
      "Epoch: 5 cost time: 3.3141698837280273\n",
      "<modules.usernsTranformer.UserNsTransformer object at 0x7f6fb53eb1f0>\n",
      "Epoch: 1 cost time: 3.4267609119415283\n",
      "Epoch: 2 cost time: 3.0813281536102295\n",
      "Epoch: 3 cost time: 2.7995998859405518\n",
      "Epoch: 4 cost time: 2.5892250537872314\n",
      "Epoch: 5 cost time: 3.1797945499420166\n"
     ]
    },
    {
     "name": "stderr",
     "output_type": "stream",
     "text": [
      "Progress:  54%|█████▍    | 27/50 [20:08<17:21, 45.29s/it]"
     ]
    },
    {
     "name": "stdout",
     "output_type": "stream",
     "text": [
      "<modules.usernsTranformer.UserNsTransformer object at 0x7f6fb53eb190>\n",
      "Epoch: 1 cost time: 2.7073044776916504\n",
      "Epoch: 2 cost time: 2.6911191940307617\n",
      "Epoch: 3 cost time: 3.254690647125244\n",
      "Epoch: 4 cost time: 3.1373977661132812\n",
      "Epoch: 5 cost time: 3.141021490097046\n",
      "<modules.usernsTranformer.UserNsTransformer object at 0x7f6fb5208b50>\n",
      "Epoch: 1 cost time: 3.2055485248565674\n",
      "Epoch: 2 cost time: 2.9337539672851562\n",
      "Epoch: 3 cost time: 2.5901968479156494\n",
      "Epoch: 4 cost time: 2.6750550270080566\n",
      "Epoch: 5 cost time: 3.6260271072387695\n"
     ]
    },
    {
     "name": "stderr",
     "output_type": "stream",
     "text": [
      "Progress:  56%|█████▌    | 28/50 [20:53<16:34, 45.19s/it]"
     ]
    },
    {
     "name": "stdout",
     "output_type": "stream",
     "text": [
      "<modules.usernsTranformer.UserNsTransformer object at 0x7f6fb520a320>\n",
      "Epoch: 1 cost time: 2.742877721786499\n",
      "Epoch: 2 cost time: 2.851119041442871\n",
      "Epoch: 3 cost time: 3.236400842666626\n",
      "Epoch: 4 cost time: 3.090787410736084\n",
      "Epoch: 5 cost time: 3.48919415473938\n",
      "<modules.usernsTranformer.UserNsTransformer object at 0x7f6fb2ff2410>\n",
      "Epoch: 1 cost time: 3.1140193939208984\n",
      "Epoch: 2 cost time: 2.4922614097595215\n",
      "Epoch: 3 cost time: 2.692836046218872\n",
      "Epoch: 4 cost time: 2.5353927612304688\n",
      "Epoch: 5 cost time: 3.204667568206787\n"
     ]
    },
    {
     "name": "stderr",
     "output_type": "stream",
     "text": [
      "Progress:  58%|█████▊    | 29/50 [21:38<15:47, 45.11s/it]"
     ]
    },
    {
     "name": "stdout",
     "output_type": "stream",
     "text": [
      "<modules.usernsTranformer.UserNsTransformer object at 0x7f6fb53eb1f0>\n",
      "Epoch: 1 cost time: 2.7166311740875244\n",
      "Epoch: 2 cost time: 2.554994821548462\n",
      "Epoch: 3 cost time: 3.1983590126037598\n",
      "Epoch: 4 cost time: 3.4710443019866943\n",
      "Epoch: 5 cost time: 3.532808542251587\n",
      "<modules.usernsTranformer.UserNsTransformer object at 0x7f6fb2ff2410>\n",
      "Epoch: 1 cost time: 3.135256290435791\n",
      "Epoch: 2 cost time: 2.8018248081207275\n",
      "Epoch: 3 cost time: 2.903165817260742\n",
      "Epoch: 4 cost time: 2.5372328758239746\n",
      "Epoch: 5 cost time: 3.3805365562438965\n"
     ]
    },
    {
     "name": "stderr",
     "output_type": "stream",
     "text": [
      "Progress:  60%|██████    | 30/50 [22:24<15:09, 45.45s/it]"
     ]
    },
    {
     "name": "stdout",
     "output_type": "stream",
     "text": [
      "<modules.usernsTranformer.UserNsTransformer object at 0x7f6fb520a320>\n",
      "Epoch: 1 cost time: 2.5491254329681396\n",
      "Epoch: 2 cost time: 2.9761669635772705\n",
      "Epoch: 3 cost time: 3.380089521408081\n",
      "Epoch: 4 cost time: 3.1944870948791504\n",
      "Epoch: 5 cost time: 3.287071466445923\n",
      "<modules.usernsTranformer.UserNsTransformer object at 0x7f6fb5208b50>\n",
      "Epoch: 1 cost time: 2.9726834297180176\n",
      "Epoch: 2 cost time: 2.6859753131866455\n",
      "Epoch: 3 cost time: 2.6327383518218994\n",
      "Epoch: 4 cost time: 2.4443817138671875\n",
      "Epoch: 5 cost time: 3.287182092666626\n"
     ]
    },
    {
     "name": "stderr",
     "output_type": "stream",
     "text": [
      "Progress:  62%|██████▏   | 31/50 [23:09<14:17, 45.14s/it]"
     ]
    },
    {
     "name": "stdout",
     "output_type": "stream",
     "text": [
      "<modules.usernsTranformer.UserNsTransformer object at 0x7f6fc0ebc490>\n",
      "Epoch: 1 cost time: 2.6501166820526123\n",
      "Epoch: 2 cost time: 3.07612943649292\n",
      "Epoch: 3 cost time: 3.138099193572998\n",
      "Epoch: 4 cost time: 3.26727294921875\n",
      "Epoch: 5 cost time: 3.233456611633301\n",
      "<modules.usernsTranformer.UserNsTransformer object at 0x7f6fb5208b50>\n",
      "Epoch: 1 cost time: 2.8326239585876465\n",
      "Epoch: 2 cost time: 2.585888624191284\n",
      "Epoch: 3 cost time: 2.7868874073028564\n",
      "Epoch: 4 cost time: 2.564021348953247\n",
      "Epoch: 5 cost time: 3.1559276580810547\n"
     ]
    },
    {
     "name": "stderr",
     "output_type": "stream",
     "text": [
      "Progress:  64%|██████▍   | 32/50 [23:54<13:31, 45.08s/it]"
     ]
    },
    {
     "name": "stdout",
     "output_type": "stream",
     "text": [
      "<modules.usernsTranformer.UserNsTransformer object at 0x7f6fb53eb1f0>\n",
      "Epoch: 1 cost time: 2.630202293395996\n",
      "Epoch: 2 cost time: 3.283818244934082\n",
      "Epoch: 3 cost time: 3.3878114223480225\n",
      "Epoch: 4 cost time: 3.0309579372406006\n",
      "Epoch: 5 cost time: 3.0805270671844482\n",
      "<modules.usernsTranformer.UserNsTransformer object at 0x7f6fc0ebc490>\n",
      "Epoch: 1 cost time: 2.7151081562042236\n",
      "Epoch: 2 cost time: 2.65773868560791\n",
      "Epoch: 3 cost time: 2.701711416244507\n",
      "Epoch: 4 cost time: 2.4586966037750244\n",
      "Epoch: 5 cost time: 2.957789659500122\n"
     ]
    },
    {
     "name": "stderr",
     "output_type": "stream",
     "text": [
      "Progress:  66%|██████▌   | 33/50 [24:39<12:48, 45.19s/it]"
     ]
    },
    {
     "name": "stdout",
     "output_type": "stream",
     "text": [
      "<modules.usernsTranformer.UserNsTransformer object at 0x7f6fc0ebc490>\n",
      "Epoch: 1 cost time: 3.286702871322632\n",
      "Epoch: 2 cost time: 2.877176523208618\n",
      "Epoch: 3 cost time: 3.304748773574829\n",
      "Epoch: 4 cost time: 3.2422871589660645\n",
      "Epoch: 5 cost time: 2.9838552474975586\n",
      "<modules.usernsTranformer.UserNsTransformer object at 0x7f6fb519a7a0>\n",
      "Epoch: 1 cost time: 2.6340346336364746\n",
      "Epoch: 2 cost time: 2.6825833320617676\n",
      "Epoch: 3 cost time: 2.6751914024353027\n",
      "Epoch: 4 cost time: 2.5379750728607178\n",
      "Epoch: 5 cost time: 3.049921751022339\n"
     ]
    },
    {
     "name": "stderr",
     "output_type": "stream",
     "text": [
      "Progress:  68%|██████▊   | 34/50 [25:24<12:03, 45.19s/it]"
     ]
    },
    {
     "name": "stdout",
     "output_type": "stream",
     "text": [
      "<modules.usernsTranformer.UserNsTransformer object at 0x7f6fb53eb1f0>\n",
      "Epoch: 1 cost time: 3.3105380535125732\n",
      "Epoch: 2 cost time: 3.298788547515869\n",
      "Epoch: 3 cost time: 3.38608717918396\n",
      "Epoch: 4 cost time: 2.938049793243408\n",
      "Epoch: 5 cost time: 2.8130717277526855\n",
      "<modules.usernsTranformer.UserNsTransformer object at 0x7f6fb3e259f0>\n",
      "Epoch: 1 cost time: 2.711061477661133\n",
      "Epoch: 2 cost time: 2.711085557937622\n",
      "Epoch: 3 cost time: 2.895303726196289\n",
      "Epoch: 4 cost time: 2.656489610671997\n",
      "Epoch: 5 cost time: 3.168884038925171\n"
     ]
    },
    {
     "name": "stderr",
     "output_type": "stream",
     "text": [
      "Progress:  70%|███████   | 35/50 [26:12<11:30, 46.02s/it]"
     ]
    },
    {
     "name": "stdout",
     "output_type": "stream",
     "text": [
      "<modules.usernsTranformer.UserNsTransformer object at 0x7f6fb53eb280>\n",
      "Epoch: 1 cost time: 3.2045154571533203\n",
      "Epoch: 2 cost time: 3.219241142272949\n",
      "Epoch: 3 cost time: 3.03657603263855\n",
      "Epoch: 4 cost time: 2.609583616256714\n",
      "Epoch: 5 cost time: 2.6052541732788086\n",
      "<modules.usernsTranformer.UserNsTransformer object at 0x7f6fb520a320>\n",
      "Epoch: 1 cost time: 2.780299663543701\n",
      "Epoch: 2 cost time: 2.612952709197998\n",
      "Epoch: 3 cost time: 2.5679216384887695\n",
      "Epoch: 4 cost time: 2.6015524864196777\n",
      "Epoch: 5 cost time: 3.231907367706299\n"
     ]
    },
    {
     "name": "stderr",
     "output_type": "stream",
     "text": [
      "Progress:  72%|███████▏  | 36/50 [26:56<10:35, 45.39s/it]"
     ]
    },
    {
     "name": "stdout",
     "output_type": "stream",
     "text": [
      "<modules.usernsTranformer.UserNsTransformer object at 0x7f6fb5198880>\n",
      "Epoch: 1 cost time: 3.2078895568847656\n",
      "Epoch: 2 cost time: 3.489197015762329\n",
      "Epoch: 3 cost time: 2.9151971340179443\n",
      "Epoch: 4 cost time: 2.715435743331909\n",
      "Epoch: 5 cost time: 2.7194814682006836\n",
      "<modules.usernsTranformer.UserNsTransformer object at 0x7f6fb3e259f0>\n",
      "Epoch: 1 cost time: 2.7846198081970215\n",
      "Epoch: 2 cost time: 2.5998427867889404\n",
      "Epoch: 3 cost time: 2.8009231090545654\n",
      "Epoch: 4 cost time: 2.6663177013397217\n",
      "Epoch: 5 cost time: 2.8159282207489014\n"
     ]
    },
    {
     "name": "stderr",
     "output_type": "stream",
     "text": [
      "Progress:  74%|███████▍  | 37/50 [27:43<09:54, 45.73s/it]"
     ]
    },
    {
     "name": "stdout",
     "output_type": "stream",
     "text": [
      "<modules.usernsTranformer.UserNsTransformer object at 0x7f6fb520a320>\n",
      "Epoch: 1 cost time: 3.285849094390869\n",
      "Epoch: 2 cost time: 3.4331507682800293\n",
      "Epoch: 3 cost time: 2.9921960830688477\n",
      "Epoch: 4 cost time: 2.6420743465423584\n",
      "Epoch: 5 cost time: 2.816051721572876\n",
      "<modules.usernsTranformer.UserNsTransformer object at 0x7f6fc0ebc490>\n",
      "Epoch: 1 cost time: 2.723355770111084\n",
      "Epoch: 2 cost time: 2.7338497638702393\n",
      "Epoch: 3 cost time: 2.646634817123413\n",
      "Epoch: 4 cost time: 2.6992857456207275\n",
      "Epoch: 5 cost time: 3.0450189113616943\n"
     ]
    },
    {
     "name": "stderr",
     "output_type": "stream",
     "text": [
      "Progress:  76%|███████▌  | 38/50 [28:30<09:14, 46.17s/it]"
     ]
    },
    {
     "name": "stdout",
     "output_type": "stream",
     "text": [
      "<modules.usernsTranformer.UserNsTransformer object at 0x7f6fb53eb190>\n",
      "Epoch: 1 cost time: 3.0251128673553467\n",
      "Epoch: 2 cost time: 3.00874662399292\n",
      "Epoch: 3 cost time: 2.624661922454834\n",
      "Epoch: 4 cost time: 2.6608638763427734\n",
      "Epoch: 5 cost time: 2.561269998550415\n",
      "<modules.usernsTranformer.UserNsTransformer object at 0x7f6fb5198880>\n",
      "Epoch: 1 cost time: 2.7375354766845703\n",
      "Epoch: 2 cost time: 2.7512624263763428\n",
      "Epoch: 3 cost time: 2.697067975997925\n",
      "Epoch: 4 cost time: 2.771455764770508\n",
      "Epoch: 5 cost time: 3.232625722885132\n"
     ]
    },
    {
     "name": "stderr",
     "output_type": "stream",
     "text": [
      "Progress:  78%|███████▊  | 39/50 [29:16<08:28, 46.20s/it]"
     ]
    },
    {
     "name": "stdout",
     "output_type": "stream",
     "text": [
      "<modules.usernsTranformer.UserNsTransformer object at 0x7f6fc0ebc490>\n",
      "Epoch: 1 cost time: 3.387486457824707\n",
      "Epoch: 2 cost time: 3.144441843032837\n",
      "Epoch: 3 cost time: 2.4857211112976074\n",
      "Epoch: 4 cost time: 2.615466833114624\n",
      "Epoch: 5 cost time: 2.7678003311157227\n",
      "<modules.usernsTranformer.UserNsTransformer object at 0x7f6fb2ff2410>\n",
      "Epoch: 1 cost time: 2.66025710105896\n",
      "Epoch: 2 cost time: 2.599015235900879\n",
      "Epoch: 3 cost time: 2.611600160598755\n",
      "Epoch: 4 cost time: 2.789100170135498\n",
      "Epoch: 5 cost time: 3.4478135108947754\n"
     ]
    },
    {
     "name": "stderr",
     "output_type": "stream",
     "text": [
      "Progress:  80%|████████  | 40/50 [30:02<07:39, 45.96s/it]"
     ]
    },
    {
     "name": "stdout",
     "output_type": "stream",
     "text": [
      "<modules.usernsTranformer.UserNsTransformer object at 0x7f6fb520a320>\n",
      "Epoch: 1 cost time: 2.955612897872925\n",
      "Epoch: 2 cost time: 2.8352625370025635\n",
      "Epoch: 3 cost time: 2.5662643909454346\n",
      "Epoch: 4 cost time: 2.6548879146575928\n",
      "Epoch: 5 cost time: 2.6618995666503906\n",
      "<modules.usernsTranformer.UserNsTransformer object at 0x7f6fb2ff2410>\n",
      "Epoch: 1 cost time: 2.720059871673584\n",
      "Epoch: 2 cost time: 2.697585105895996\n",
      "Epoch: 3 cost time: 2.619371175765991\n",
      "Epoch: 4 cost time: 2.7394847869873047\n",
      "Epoch: 5 cost time: 3.1371686458587646\n"
     ]
    },
    {
     "name": "stderr",
     "output_type": "stream",
     "text": [
      "Progress:  82%|████████▏ | 41/50 [30:48<06:53, 45.92s/it]"
     ]
    },
    {
     "name": "stdout",
     "output_type": "stream",
     "text": [
      "<modules.usernsTranformer.UserNsTransformer object at 0x7f6fb53eb190>\n",
      "Epoch: 1 cost time: 3.2882986068725586\n",
      "Epoch: 2 cost time: 2.734959125518799\n",
      "Epoch: 3 cost time: 2.727385997772217\n",
      "Epoch: 4 cost time: 2.797900438308716\n",
      "Epoch: 5 cost time: 2.696439266204834\n",
      "<modules.usernsTranformer.UserNsTransformer object at 0x7f6fb2ff2410>\n",
      "Epoch: 1 cost time: 2.6580541133880615\n",
      "Epoch: 2 cost time: 2.7650299072265625\n",
      "Epoch: 3 cost time: 2.6900618076324463\n",
      "Epoch: 4 cost time: 2.601883888244629\n",
      "Epoch: 5 cost time: 3.271054267883301\n"
     ]
    },
    {
     "name": "stderr",
     "output_type": "stream",
     "text": [
      "Progress:  84%|████████▍ | 42/50 [31:34<06:07, 45.95s/it]"
     ]
    },
    {
     "name": "stdout",
     "output_type": "stream",
     "text": [
      "<modules.usernsTranformer.UserNsTransformer object at 0x7f6fb520a320>\n",
      "Epoch: 1 cost time: 3.0087077617645264\n",
      "Epoch: 2 cost time: 2.4985954761505127\n",
      "Epoch: 3 cost time: 2.7266993522644043\n",
      "Epoch: 4 cost time: 2.779683828353882\n",
      "Epoch: 5 cost time: 2.568922519683838\n",
      "<modules.usernsTranformer.UserNsTransformer object at 0x7f6fb519a7a0>\n",
      "Epoch: 1 cost time: 2.596057176589966\n",
      "Epoch: 2 cost time: 2.786315441131592\n",
      "Epoch: 3 cost time: 2.883821487426758\n",
      "Epoch: 4 cost time: 2.5971062183380127\n",
      "Epoch: 5 cost time: 3.4277772903442383\n"
     ]
    },
    {
     "name": "stderr",
     "output_type": "stream",
     "text": [
      "Progress:  86%|████████▌ | 43/50 [32:19<05:20, 45.73s/it]"
     ]
    },
    {
     "name": "stdout",
     "output_type": "stream",
     "text": [
      "<modules.usernsTranformer.UserNsTransformer object at 0x7f6fb520a320>\n",
      "Epoch: 1 cost time: 3.260952949523926\n",
      "Epoch: 2 cost time: 2.7898552417755127\n",
      "Epoch: 3 cost time: 2.5861644744873047\n",
      "Epoch: 4 cost time: 2.776465654373169\n",
      "Epoch: 5 cost time: 2.7558043003082275\n",
      "<modules.usernsTranformer.UserNsTransformer object at 0x7f6fb519a7a0>\n",
      "Epoch: 1 cost time: 2.574383020401001\n",
      "Epoch: 2 cost time: 2.739912271499634\n",
      "Epoch: 3 cost time: 2.754528760910034\n",
      "Epoch: 4 cost time: 2.975200891494751\n",
      "Epoch: 5 cost time: 3.123408317565918\n"
     ]
    },
    {
     "name": "stderr",
     "output_type": "stream",
     "text": [
      "Progress:  88%|████████▊ | 44/50 [33:06<04:36, 46.11s/it]"
     ]
    },
    {
     "name": "stdout",
     "output_type": "stream",
     "text": [
      "<modules.usernsTranformer.UserNsTransformer object at 0x7f6fb519a7a0>\n",
      "Epoch: 1 cost time: 3.06082820892334\n",
      "Epoch: 2 cost time: 2.6215672492980957\n",
      "Epoch: 3 cost time: 2.5748982429504395\n",
      "Epoch: 4 cost time: 2.632981061935425\n",
      "Epoch: 5 cost time: 2.553194761276245\n",
      "<modules.usernsTranformer.UserNsTransformer object at 0x7f6fc0ebc490>\n",
      "Epoch: 1 cost time: 2.72578763961792\n",
      "Epoch: 2 cost time: 2.827432632446289\n",
      "Epoch: 3 cost time: 2.6911540031433105\n",
      "Epoch: 4 cost time: 2.8637149333953857\n",
      "Epoch: 5 cost time: 3.3211050033569336\n"
     ]
    },
    {
     "name": "stderr",
     "output_type": "stream",
     "text": [
      "Progress:  90%|█████████ | 45/50 [33:52<03:50, 46.04s/it]"
     ]
    },
    {
     "name": "stdout",
     "output_type": "stream",
     "text": [
      "<modules.usernsTranformer.UserNsTransformer object at 0x7f6fb53eb280>\n",
      "Epoch: 1 cost time: 3.005086898803711\n",
      "Epoch: 2 cost time: 2.7340757846832275\n",
      "Epoch: 3 cost time: 2.623352289199829\n",
      "Epoch: 4 cost time: 2.642961025238037\n",
      "Epoch: 5 cost time: 2.638038396835327\n",
      "<modules.usernsTranformer.UserNsTransformer object at 0x7f6fb519a7a0>\n",
      "Epoch: 1 cost time: 2.6930432319641113\n",
      "Epoch: 2 cost time: 2.842383861541748\n",
      "Epoch: 3 cost time: 2.6803276538848877\n",
      "Epoch: 4 cost time: 2.6066503524780273\n",
      "Epoch: 5 cost time: 3.3254623413085938\n"
     ]
    },
    {
     "name": "stderr",
     "output_type": "stream",
     "text": [
      "Progress:  92%|█████████▏| 46/50 [34:37<03:02, 45.74s/it]"
     ]
    },
    {
     "name": "stdout",
     "output_type": "stream",
     "text": [
      "<modules.usernsTranformer.UserNsTransformer object at 0x7f6fb3e259f0>\n",
      "Epoch: 1 cost time: 3.0631721019744873\n",
      "Epoch: 2 cost time: 2.5812625885009766\n",
      "Epoch: 3 cost time: 2.6506693363189697\n",
      "Epoch: 4 cost time: 2.745225191116333\n",
      "Epoch: 5 cost time: 2.652369976043701\n",
      "<modules.usernsTranformer.UserNsTransformer object at 0x7f6fc0ebc490>\n",
      "Epoch: 1 cost time: 2.671368360519409\n",
      "Epoch: 2 cost time: 2.5618536472320557\n",
      "Epoch: 3 cost time: 2.6728365421295166\n",
      "Epoch: 4 cost time: 2.726264476776123\n",
      "Epoch: 5 cost time: 3.3451952934265137\n"
     ]
    },
    {
     "name": "stderr",
     "output_type": "stream",
     "text": [
      "Progress:  94%|█████████▍| 47/50 [35:22<02:16, 45.66s/it]"
     ]
    },
    {
     "name": "stdout",
     "output_type": "stream",
     "text": [
      "<modules.usernsTranformer.UserNsTransformer object at 0x7f6fb2ff2410>\n",
      "Epoch: 1 cost time: 2.920124053955078\n",
      "Epoch: 2 cost time: 2.6754701137542725\n",
      "Epoch: 3 cost time: 2.571263313293457\n",
      "Epoch: 4 cost time: 2.5927555561065674\n",
      "Epoch: 5 cost time: 2.7854273319244385\n",
      "<modules.usernsTranformer.UserNsTransformer object at 0x7f6fb53eb1f0>\n",
      "Epoch: 1 cost time: 2.6241278648376465\n",
      "Epoch: 2 cost time: 2.698885202407837\n",
      "Epoch: 3 cost time: 2.8122103214263916\n",
      "Epoch: 4 cost time: 2.9022419452667236\n",
      "Epoch: 5 cost time: 3.257417678833008\n"
     ]
    },
    {
     "name": "stderr",
     "output_type": "stream",
     "text": [
      "Progress:  96%|█████████▌| 48/50 [36:09<01:31, 45.88s/it]"
     ]
    },
    {
     "name": "stdout",
     "output_type": "stream",
     "text": [
      "<modules.usernsTranformer.UserNsTransformer object at 0x7f6fb2ff2410>\n",
      "Epoch: 1 cost time: 2.7150840759277344\n",
      "Epoch: 2 cost time: 2.7350668907165527\n",
      "Epoch: 3 cost time: 2.752040147781372\n",
      "Epoch: 4 cost time: 2.618532419204712\n",
      "Epoch: 5 cost time: 2.6865949630737305\n",
      "<modules.usernsTranformer.UserNsTransformer object at 0x7f6fb53eb280>\n",
      "Epoch: 1 cost time: 2.5649943351745605\n",
      "Epoch: 2 cost time: 2.607041835784912\n",
      "Epoch: 3 cost time: 2.7102508544921875\n",
      "Epoch: 4 cost time: 2.8107006549835205\n",
      "Epoch: 5 cost time: 3.126596450805664\n"
     ]
    },
    {
     "name": "stderr",
     "output_type": "stream",
     "text": [
      "Progress:  98%|█████████▊| 49/50 [36:54<00:45, 45.63s/it]"
     ]
    },
    {
     "name": "stdout",
     "output_type": "stream",
     "text": [
      "<modules.usernsTranformer.UserNsTransformer object at 0x7f6fb3e259f0>\n",
      "Epoch: 1 cost time: 2.597545623779297\n",
      "Epoch: 2 cost time: 2.6431353092193604\n",
      "Epoch: 3 cost time: 2.7455830574035645\n",
      "Epoch: 4 cost time: 2.7292542457580566\n",
      "Epoch: 5 cost time: 2.5640883445739746\n",
      "<modules.usernsTranformer.UserNsTransformer object at 0x7f6fb5198880>\n",
      "Epoch: 1 cost time: 2.587702512741089\n",
      "Epoch: 2 cost time: 2.505488395690918\n",
      "Epoch: 3 cost time: 2.8555119037628174\n",
      "Epoch: 4 cost time: 3.143329620361328\n",
      "Epoch: 5 cost time: 3.383490562438965\n"
     ]
    },
    {
     "name": "stderr",
     "output_type": "stream",
     "text": [
      "Progress: 100%|██████████| 50/50 [37:39<00:00, 45.18s/it]\n"
     ]
    }
   ],
   "source": [
    "import random\n",
    "from tqdm import tqdm\n",
    "from math import sqrt\n",
    "\n",
    "server = ServerNsTransformer(model=server_model, test_loader=server_data_list)\n",
    "\n",
    "user_list = []\n",
    "\n",
    "# Create users\n",
    "for i in range(config_wanb.num_user):\n",
    "    user_i = UserNsTransformer(train_loader=user_data_list[i], model=server_model, user_id=i, local_epochs=config_wanb.local_epochs)\n",
    "    user_list.append(user_i)\n",
    "\n",
    "for _ in tqdm(range(config_wanb.global_epochs), desc=f\"Progress\"):\n",
    "    # Distribute initial model to users\n",
    "    server.distribute_model(user_list)\n",
    "    \n",
    "    # Sub-sample users\n",
    "    sub_user_list = random.sample(user_list, int(config_wanb.user_ratio * config_wanb.num_user))\n",
    "\n",
    "    # Check the sub-sampled user and train model\n",
    "    users_loss = 0.0\n",
    "    for user in sub_user_list:\n",
    "        print(user)\n",
    "        user_loss = user.user_train(args)\n",
    "        users_loss += user_loss\n",
    "    # Aggregate weights on server\n",
    "    server.aggregate_weights(sub_user_list)\n",
    "\n",
    "    # Calulate avg loss on selected users\n",
    "    train_loss =  users_loss / len(sub_user_list)\n",
    "\n",
    "    total_mae = []\n",
    "    total_mse = []\n",
    "    for test_loader in server.test_loader:    \n",
    "        mae, mse, rmse, mape, mspe = server.model_eval(args=args, test_loader=test_loader)\n",
    "        total_mae.append(mae)\n",
    "        total_mse.append(mse)\n",
    "    \n",
    "    wandb.log({\"train_loss\": train_loss, \"mae\": sum(total_mae)/len(total_mae), 'rmse': sqrt(sum(total_mse)/len(total_mse))})"
   ]
  }
 ],
 "metadata": {
  "kernelspec": {
   "display_name": ".venv",
   "language": "python",
   "name": "python3"
  },
  "language_info": {
   "codemirror_mode": {
    "name": "ipython",
    "version": 3
   },
   "file_extension": ".py",
   "mimetype": "text/x-python",
   "name": "python",
   "nbconvert_exporter": "python",
   "pygments_lexer": "ipython3",
   "version": "3.10.12"
  }
 },
 "nbformat": 4,
 "nbformat_minor": 2
}
