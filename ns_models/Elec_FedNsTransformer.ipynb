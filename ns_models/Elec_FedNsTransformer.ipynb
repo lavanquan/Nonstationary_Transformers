{
 "cells": [
  {
   "cell_type": "code",
   "execution_count": 1,
   "metadata": {},
   "outputs": [
    {
     "data": {
      "text/plain": [
       "'/home/qula0496/quan/Nonstationary_Transformers/ns_models'"
      ]
     },
     "execution_count": 1,
     "metadata": {},
     "output_type": "execute_result"
    }
   ],
   "source": [
    "%pwd"
   ]
  },
  {
   "cell_type": "code",
   "execution_count": 2,
   "metadata": {},
   "outputs": [
    {
     "name": "stdout",
     "output_type": "stream",
     "text": [
      "/home/qula0496/quan/Nonstationary_Transformers\n"
     ]
    },
    {
     "name": "stderr",
     "output_type": "stream",
     "text": [
      "/home/qula0496/quan/.venv/lib/python3.10/site-packages/IPython/core/magics/osm.py:417: UserWarning: This is now an optional IPython functionality, setting dhist requires you to install the `pickleshare` library.\n",
      "  self.shell.db['dhist'] = compress_dhist(dhist)[-100:]\n"
     ]
    }
   ],
   "source": [
    "%cd .."
   ]
  },
  {
   "cell_type": "code",
   "execution_count": 3,
   "metadata": {},
   "outputs": [],
   "source": [
    "from utils.data_utils import *\n",
    "from utils.model_utils import *\n",
    "# from utils.koopman_utils import *\n",
    "from modules.serverbase import *\n",
    "from modules.userbase import *\n",
    "from modules.servernsTransformer import *\n",
    "from modules.usernsTranformer import *\n",
    "import numpy as np\n",
    "import torch\n",
    "torch.cuda.init()"
   ]
  },
  {
   "cell_type": "code",
   "execution_count": 4,
   "metadata": {},
   "outputs": [
    {
     "name": "stdout",
     "output_type": "stream",
     "text": [
      "Files are ready\n",
      "Data loaded..\n",
      "Data aggregated by hour: (26304, 370)\n"
     ]
    }
   ],
   "source": [
    "# Download the dataset\n",
    "download_elec_dataset()\n",
    "\n",
    "# Clean dataset\n",
    "elec_data = clean_elec()\n",
    "\n",
    "from sklearn.preprocessing import StandardScaler, MinMaxScaler\n",
    "Std_normalization = 1\n",
    "if Std_normalization:\n",
    "    scaler = StandardScaler()\n",
    "    temp = scaler.fit_transform(elec_data)\n",
    "    norm_means = scaler.mean_\n",
    "    norm_std = scaler.scale_\n",
    "else:\n",
    "    scaler = MinMaxScaler()\n",
    "    temp = scaler.fit_transform(elec_data)\n",
    "\n",
    "elec_data = pd.DataFrame(elec_data, index=elec_data.index, columns = elec_data.columns)"
   ]
  },
  {
   "cell_type": "code",
   "execution_count": 5,
   "metadata": {},
   "outputs": [],
   "source": [
    "# # prompt: write pandas to csv\n",
    "\n",
    "# import pandas as pd\n",
    "\n",
    "# # Save the DataFrame to a CSV file\n",
    "# elec_data.to_csv('/home/qula0496/quan/Nonstationary_Transformers/dataset/electricity/electricity.csv', index_label='date')\n"
   ]
  },
  {
   "cell_type": "code",
   "execution_count": 6,
   "metadata": {},
   "outputs": [
    {
     "data": {
      "text/plain": [
       "'electricity.csv'"
      ]
     },
     "execution_count": 6,
     "metadata": {},
     "output_type": "execute_result"
    }
   ],
   "source": [
    "from ns_models.ns_TransformerConfig import NS_TransformerConfig\n",
    "\n",
    "args = NS_TransformerConfig()\n",
    "args.data_path"
   ]
  },
  {
   "cell_type": "code",
   "execution_count": 7,
   "metadata": {},
   "outputs": [],
   "source": [
    "from torch.utils.data import DataLoader\n",
    "from data_provider.data_factory import *\n",
    "from data_provider.data_loader import *\n",
    "\n",
    "test_data, test_loader = data_provider(args, flag='test')"
   ]
  },
  {
   "cell_type": "code",
   "execution_count": 8,
   "metadata": {},
   "outputs": [
    {
     "data": {
      "text/plain": [
       "(96, 371)"
      ]
     },
     "execution_count": 8,
     "metadata": {},
     "output_type": "execute_result"
    }
   ],
   "source": [
    "test_data[0][0].shape"
   ]
  },
  {
   "cell_type": "code",
   "execution_count": 9,
   "metadata": {},
   "outputs": [],
   "source": [
    "n_users = 10\n",
    "user_num_ts = int(elec_data.shape[1] / n_users)\n",
    "user_data_list = []\n",
    "server_data_list = []\n",
    "for i in range(n_users):\n",
    "    train_data, train_loader = data_provider(args, flag='train', start=i*user_num_ts+1, end=min(user_num_ts*(i+1)+1, elec_data.shape[1]+1))\n",
    "    test_data, test_loader = data_provider(args, flag='test', start=i*user_num_ts+1, end=min(user_num_ts*(i+1)+1, elec_data.shape[1]+1))\n",
    "    # user_data = train_set.filter(lambda e, idx: idx>=(i*user_num_ts) and idx < user_num_ts*(i+1), with_indices=True)\n",
    "    user_data_list.append(train_loader)\n",
    "    server_data_list.append(test_loader)\n",
    "    # print(train_data[0][0].shape)"
   ]
  },
  {
   "cell_type": "code",
   "execution_count": 10,
   "metadata": {},
   "outputs": [
    {
     "data": {
      "text/plain": [
       "Model(\n",
       "  (enc_embedding): DataEmbedding(\n",
       "    (value_embedding): TokenEmbedding(\n",
       "      (tokenConv): Conv1d(37, 64, kernel_size=(3,), stride=(1,), padding=(1,), bias=False, padding_mode=circular)\n",
       "    )\n",
       "    (position_embedding): PositionalEmbedding()\n",
       "    (temporal_embedding): TimeFeatureEmbedding(\n",
       "      (embed): Linear(in_features=4, out_features=64, bias=False)\n",
       "    )\n",
       "    (dropout): Dropout(p=0.1, inplace=False)\n",
       "  )\n",
       "  (dec_embedding): DataEmbedding(\n",
       "    (value_embedding): TokenEmbedding(\n",
       "      (tokenConv): Conv1d(37, 64, kernel_size=(3,), stride=(1,), padding=(1,), bias=False, padding_mode=circular)\n",
       "    )\n",
       "    (position_embedding): PositionalEmbedding()\n",
       "    (temporal_embedding): TimeFeatureEmbedding(\n",
       "      (embed): Linear(in_features=4, out_features=64, bias=False)\n",
       "    )\n",
       "    (dropout): Dropout(p=0.1, inplace=False)\n",
       "  )\n",
       "  (encoder): Encoder(\n",
       "    (attn_layers): ModuleList(\n",
       "      (0-5): 6 x EncoderLayer(\n",
       "        (attention): AttentionLayer(\n",
       "          (inner_attention): DSAttention(\n",
       "            (dropout): Dropout(p=0.1, inplace=False)\n",
       "          )\n",
       "          (query_projection): Linear(in_features=64, out_features=64, bias=True)\n",
       "          (key_projection): Linear(in_features=64, out_features=64, bias=True)\n",
       "          (value_projection): Linear(in_features=64, out_features=64, bias=True)\n",
       "          (out_projection): Linear(in_features=64, out_features=64, bias=True)\n",
       "        )\n",
       "        (conv1): Conv1d(64, 32, kernel_size=(1,), stride=(1,))\n",
       "        (conv2): Conv1d(32, 64, kernel_size=(1,), stride=(1,))\n",
       "        (norm1): LayerNorm((64,), eps=1e-05, elementwise_affine=True)\n",
       "        (norm2): LayerNorm((64,), eps=1e-05, elementwise_affine=True)\n",
       "        (dropout): Dropout(p=0.1, inplace=False)\n",
       "      )\n",
       "    )\n",
       "    (norm): LayerNorm((64,), eps=1e-05, elementwise_affine=True)\n",
       "  )\n",
       "  (decoder): Decoder(\n",
       "    (layers): ModuleList(\n",
       "      (0-3): 4 x DecoderLayer(\n",
       "        (self_attention): AttentionLayer(\n",
       "          (inner_attention): DSAttention(\n",
       "            (dropout): Dropout(p=0.1, inplace=False)\n",
       "          )\n",
       "          (query_projection): Linear(in_features=64, out_features=64, bias=True)\n",
       "          (key_projection): Linear(in_features=64, out_features=64, bias=True)\n",
       "          (value_projection): Linear(in_features=64, out_features=64, bias=True)\n",
       "          (out_projection): Linear(in_features=64, out_features=64, bias=True)\n",
       "        )\n",
       "        (cross_attention): AttentionLayer(\n",
       "          (inner_attention): DSAttention(\n",
       "            (dropout): Dropout(p=0.1, inplace=False)\n",
       "          )\n",
       "          (query_projection): Linear(in_features=64, out_features=64, bias=True)\n",
       "          (key_projection): Linear(in_features=64, out_features=64, bias=True)\n",
       "          (value_projection): Linear(in_features=64, out_features=64, bias=True)\n",
       "          (out_projection): Linear(in_features=64, out_features=64, bias=True)\n",
       "        )\n",
       "        (conv1): Conv1d(64, 32, kernel_size=(1,), stride=(1,))\n",
       "        (conv2): Conv1d(32, 64, kernel_size=(1,), stride=(1,))\n",
       "        (norm1): LayerNorm((64,), eps=1e-05, elementwise_affine=True)\n",
       "        (norm2): LayerNorm((64,), eps=1e-05, elementwise_affine=True)\n",
       "        (norm3): LayerNorm((64,), eps=1e-05, elementwise_affine=True)\n",
       "        (dropout): Dropout(p=0.1, inplace=False)\n",
       "      )\n",
       "    )\n",
       "    (norm): LayerNorm((64,), eps=1e-05, elementwise_affine=True)\n",
       "    (projection): Linear(in_features=64, out_features=37, bias=True)\n",
       "  )\n",
       "  (tau_learner): Projector(\n",
       "    (series_conv): Conv1d(96, 1, kernel_size=(3,), stride=(1,), padding=(1,), bias=False, padding_mode=circular)\n",
       "    (backbone): Sequential(\n",
       "      (0): Linear(in_features=74, out_features=64, bias=True)\n",
       "      (1): ReLU()\n",
       "      (2): Linear(in_features=64, out_features=64, bias=True)\n",
       "      (3): ReLU()\n",
       "      (4): Linear(in_features=64, out_features=1, bias=False)\n",
       "    )\n",
       "  )\n",
       "  (delta_learner): Projector(\n",
       "    (series_conv): Conv1d(96, 1, kernel_size=(3,), stride=(1,), padding=(1,), bias=False, padding_mode=circular)\n",
       "    (backbone): Sequential(\n",
       "      (0): Linear(in_features=74, out_features=64, bias=True)\n",
       "      (1): ReLU()\n",
       "      (2): Linear(in_features=64, out_features=64, bias=True)\n",
       "      (3): ReLU()\n",
       "      (4): Linear(in_features=64, out_features=96, bias=False)\n",
       "    )\n",
       "  )\n",
       ")"
      ]
     },
     "execution_count": 10,
     "metadata": {},
     "output_type": "execute_result"
    }
   ],
   "source": [
    "from ns_models import ns_Transformer\n",
    "server_model = ns_Transformer.Model(configs=args)\n",
    "server_model"
   ]
  },
  {
   "cell_type": "markdown",
   "metadata": {},
   "source": [
    "# Setup WANDB"
   ]
  },
  {
   "cell_type": "code",
   "execution_count": 11,
   "metadata": {},
   "outputs": [
    {
     "name": "stderr",
     "output_type": "stream",
     "text": [
      "Failed to detect the name of this notebook, you can set it manually with the WANDB_NOTEBOOK_NAME environment variable to enable code saving.\n",
      "\u001b[34m\u001b[1mwandb\u001b[0m: Currently logged in as: \u001b[33mkenlvq\u001b[0m (\u001b[33mquanla\u001b[0m). Use \u001b[1m`wandb login --relogin`\u001b[0m to force relogin\n"
     ]
    },
    {
     "data": {
      "application/vnd.jupyter.widget-view+json": {
       "model_id": "596f45df2e724b23b5052d037bdefa4c",
       "version_major": 2,
       "version_minor": 0
      },
      "text/plain": [
       "VBox(children=(Label(value='Waiting for wandb.init()...\\r'), FloatProgress(value=0.011112942774262693, max=1.0…"
      ]
     },
     "metadata": {},
     "output_type": "display_data"
    },
    {
     "data": {
      "text/html": [
       "wandb version 0.17.1 is available!  To upgrade, please run:\n",
       " $ pip install wandb --upgrade"
      ],
      "text/plain": [
       "<IPython.core.display.HTML object>"
      ]
     },
     "metadata": {},
     "output_type": "display_data"
    },
    {
     "data": {
      "text/html": [
       "Tracking run with wandb version 0.16.3"
      ],
      "text/plain": [
       "<IPython.core.display.HTML object>"
      ]
     },
     "metadata": {},
     "output_type": "display_data"
    },
    {
     "data": {
      "text/html": [
       "Run data is saved locally in <code>/home/qula0496/quan/Nonstationary_Transformers/wandb/run-20240608_121017-dgm1nnqw</code>"
      ],
      "text/plain": [
       "<IPython.core.display.HTML object>"
      ]
     },
     "metadata": {},
     "output_type": "display_data"
    },
    {
     "data": {
      "text/html": [
       "Syncing run <strong><a href='https://wandb.ai/quanla/Federated%20Non-Stationary%20Transformer%20on%20Elec%20dataset/runs/dgm1nnqw' target=\"_blank\">Federated Non-Stationary Transformer on Elec dataset</a></strong> to <a href='https://wandb.ai/quanla/Federated%20Non-Stationary%20Transformer%20on%20Elec%20dataset' target=\"_blank\">Weights & Biases</a> (<a href='https://wandb.me/run' target=\"_blank\">docs</a>)<br/>"
      ],
      "text/plain": [
       "<IPython.core.display.HTML object>"
      ]
     },
     "metadata": {},
     "output_type": "display_data"
    },
    {
     "data": {
      "text/html": [
       " View project at <a href='https://wandb.ai/quanla/Federated%20Non-Stationary%20Transformer%20on%20Elec%20dataset' target=\"_blank\">https://wandb.ai/quanla/Federated%20Non-Stationary%20Transformer%20on%20Elec%20dataset</a>"
      ],
      "text/plain": [
       "<IPython.core.display.HTML object>"
      ]
     },
     "metadata": {},
     "output_type": "display_data"
    },
    {
     "data": {
      "text/html": [
       " View run at <a href='https://wandb.ai/quanla/Federated%20Non-Stationary%20Transformer%20on%20Elec%20dataset/runs/dgm1nnqw' target=\"_blank\">https://wandb.ai/quanla/Federated%20Non-Stationary%20Transformer%20on%20Elec%20dataset/runs/dgm1nnqw</a>"
      ],
      "text/plain": [
       "<IPython.core.display.HTML object>"
      ]
     },
     "metadata": {},
     "output_type": "display_data"
    }
   ],
   "source": [
    "import wandb\n",
    "import torch\n",
    "\n",
    "NUM_GPUS = torch.cuda.device_count()\n",
    "LR = 1e-3\n",
    "GLOBAL_EPOCHS = 30\n",
    "LOCAL_EPOCHS = 5\n",
    "BATCH_SIZE = 128\n",
    "L2_PENALTY = 0.0\n",
    "USER_RATIO = 0.1\n",
    "run = wandb.init(\n",
    "    # project name\n",
    "    project=\"Federated Non-Stationary Transformer on Elec dataset\",\n",
    "    # experiment name\n",
    "    name=f\"Federated Non-Stationary Transformer on Elec dataset\",\n",
    "    # Hyperparams\n",
    "    config={\n",
    "        \"dataset\": \"Elec370\",\n",
    "        \"preprocess_type\": \"std\",\n",
    "        \"num_user\": n_users,\n",
    "        \"learning_rate\": LR,\n",
    "        \"global_epochs\": GLOBAL_EPOCHS,\n",
    "        \"local_epochs\": LOCAL_EPOCHS,\n",
    "        \"batch_size\": BATCH_SIZE,\n",
    "        \"num_gpus\": NUM_GPUS,\n",
    "        \"user_ratio\": USER_RATIO,\n",
    "        \"l2_penalty\": L2_PENALTY,\n",
    "        \"total_time_series\": 370,\n",
    "        \"detrending_data\": \"No\"\n",
    "    })\n",
    "\n",
    "config_wanb = wandb.config"
   ]
  },
  {
   "cell_type": "code",
   "execution_count": 12,
   "metadata": {},
   "outputs": [
    {
     "name": "stderr",
     "output_type": "stream",
     "text": [
      "Progress:   0%|          | 0/30 [00:00<?, ?it/s]"
     ]
    },
    {
     "name": "stdout",
     "output_type": "stream",
     "text": [
      "<modules.usernsTranformer.UserNsTransformer object at 0x7fe645063fd0>\n",
      "Epoch: 1 cost time: 52.40694856643677\n",
      "Epoch: 2 cost time: 52.24674606323242\n",
      "Epoch: 3 cost time: 52.87699007987976\n",
      "Epoch: 4 cost time: 51.57536315917969\n",
      "Epoch: 5 cost time: 53.146167278289795\n"
     ]
    },
    {
     "name": "stderr",
     "output_type": "stream",
     "text": [
      "Progress:   3%|▎         | 1/30 [04:29<2:10:04, 269.12s/it]"
     ]
    },
    {
     "name": "stdout",
     "output_type": "stream",
     "text": [
      "<modules.usernsTranformer.UserNsTransformer object at 0x7fe645060c70>\n",
      "Epoch: 1 cost time: 52.15255522727966\n",
      "Epoch: 2 cost time: 52.064481019973755\n",
      "Epoch: 3 cost time: 54.12309956550598\n",
      "Epoch: 4 cost time: 51.28715252876282\n",
      "Epoch: 5 cost time: 52.43724203109741\n"
     ]
    },
    {
     "name": "stderr",
     "output_type": "stream",
     "text": [
      "Progress:   7%|▋         | 2/30 [08:58<2:05:32, 269.02s/it]"
     ]
    },
    {
     "name": "stdout",
     "output_type": "stream",
     "text": [
      "<modules.usernsTranformer.UserNsTransformer object at 0x7fe645063fd0>\n",
      "Epoch: 1 cost time: 53.138848543167114\n",
      "Epoch: 2 cost time: 52.81447887420654\n",
      "Epoch: 3 cost time: 51.4735221862793\n",
      "Epoch: 4 cost time: 54.02710819244385\n",
      "Epoch: 5 cost time: 52.48602652549744\n"
     ]
    },
    {
     "name": "stderr",
     "output_type": "stream",
     "text": [
      "Progress:  10%|█         | 3/30 [13:29<2:01:28, 269.96s/it]"
     ]
    },
    {
     "name": "stdout",
     "output_type": "stream",
     "text": [
      "<modules.usernsTranformer.UserNsTransformer object at 0x7fe6450613f0>\n",
      "Epoch: 1 cost time: 53.477906227111816\n",
      "Epoch: 2 cost time: 52.58668923377991\n",
      "Epoch: 3 cost time: 52.61528921127319\n",
      "Epoch: 4 cost time: 53.22037172317505\n",
      "Epoch: 5 cost time: 53.1072838306427\n"
     ]
    },
    {
     "name": "stderr",
     "output_type": "stream",
     "text": [
      "Progress:  13%|█▎        | 4/30 [18:00<1:57:16, 270.63s/it]"
     ]
    },
    {
     "name": "stdout",
     "output_type": "stream",
     "text": [
      "<modules.usernsTranformer.UserNsTransformer object at 0x7fe64440d420>\n",
      "Epoch: 1 cost time: 52.782689571380615\n",
      "Epoch: 2 cost time: 53.123515605926514\n",
      "Epoch: 3 cost time: 52.15494251251221\n",
      "Epoch: 4 cost time: 51.933758020401\n",
      "Epoch: 5 cost time: 53.4035267829895\n"
     ]
    },
    {
     "name": "stderr",
     "output_type": "stream",
     "text": [
      "Progress:  17%|█▋        | 5/30 [22:30<1:52:40, 270.41s/it]"
     ]
    },
    {
     "name": "stdout",
     "output_type": "stream",
     "text": [
      "<modules.usernsTranformer.UserNsTransformer object at 0x7fe64505a9e0>\n",
      "Epoch: 1 cost time: 51.0523316860199\n",
      "Epoch: 2 cost time: 54.13284111022949\n",
      "Epoch: 3 cost time: 52.802953481674194\n",
      "Epoch: 4 cost time: 52.51832818984985\n",
      "Epoch: 5 cost time: 52.38682532310486\n"
     ]
    },
    {
     "name": "stderr",
     "output_type": "stream",
     "text": [
      "Progress:  20%|██        | 6/30 [26:59<1:47:58, 269.94s/it]"
     ]
    },
    {
     "name": "stdout",
     "output_type": "stream",
     "text": [
      "<modules.usernsTranformer.UserNsTransformer object at 0x7fe64505b3d0>\n",
      "Epoch: 1 cost time: 53.007906675338745\n",
      "Epoch: 2 cost time: 51.44727158546448\n",
      "Epoch: 3 cost time: 53.76794934272766\n",
      "Epoch: 4 cost time: 52.41983723640442\n",
      "Epoch: 5 cost time: 51.562169313430786\n"
     ]
    },
    {
     "name": "stderr",
     "output_type": "stream",
     "text": [
      "Progress:  23%|██▎       | 7/30 [31:27<1:43:12, 269.25s/it]"
     ]
    },
    {
     "name": "stdout",
     "output_type": "stream",
     "text": [
      "<modules.usernsTranformer.UserNsTransformer object at 0x7fe6450639a0>\n",
      "Epoch: 1 cost time: 50.44380307197571\n",
      "Epoch: 2 cost time: 51.191447019577026\n",
      "Epoch: 3 cost time: 53.09641170501709\n",
      "Epoch: 4 cost time: 52.02666735649109\n",
      "Epoch: 5 cost time: 53.5954213142395\n"
     ]
    },
    {
     "name": "stderr",
     "output_type": "stream",
     "text": [
      "Progress:  27%|██▋       | 8/30 [35:54<1:38:23, 268.33s/it]"
     ]
    },
    {
     "name": "stdout",
     "output_type": "stream",
     "text": [
      "<modules.usernsTranformer.UserNsTransformer object at 0x7fe641510e80>\n",
      "Epoch: 1 cost time: 51.82737874984741\n",
      "Epoch: 2 cost time: 51.868125200271606\n",
      "Epoch: 3 cost time: 52.109224796295166\n",
      "Epoch: 4 cost time: 51.87097692489624\n",
      "Epoch: 5 cost time: 51.91671538352966\n"
     ]
    },
    {
     "name": "stderr",
     "output_type": "stream",
     "text": [
      "Progress:  30%|███       | 9/30 [40:20<1:33:43, 267.79s/it]"
     ]
    },
    {
     "name": "stdout",
     "output_type": "stream",
     "text": [
      "<modules.usernsTranformer.UserNsTransformer object at 0x7fe645060c70>\n",
      "Epoch: 1 cost time: 53.48445224761963\n",
      "Epoch: 2 cost time: 52.05021524429321\n",
      "Epoch: 3 cost time: 51.49218940734863\n",
      "Epoch: 4 cost time: 52.42208170890808\n",
      "Epoch: 5 cost time: 53.723360776901245\n"
     ]
    },
    {
     "name": "stderr",
     "output_type": "stream",
     "text": [
      "Progress:  33%|███▎      | 10/30 [44:49<1:29:21, 268.08s/it]"
     ]
    },
    {
     "name": "stdout",
     "output_type": "stream",
     "text": [
      "<modules.usernsTranformer.UserNsTransformer object at 0x7fe64440d420>\n",
      "Epoch: 1 cost time: 51.786712408065796\n",
      "Epoch: 2 cost time: 50.595876932144165\n",
      "Epoch: 3 cost time: 51.673604249954224\n",
      "Epoch: 4 cost time: 52.1665244102478\n",
      "Epoch: 5 cost time: 53.120704650878906\n"
     ]
    },
    {
     "name": "stderr",
     "output_type": "stream",
     "text": [
      "Progress:  37%|███▋      | 11/30 [49:15<1:24:41, 267.45s/it]"
     ]
    },
    {
     "name": "stdout",
     "output_type": "stream",
     "text": [
      "<modules.usernsTranformer.UserNsTransformer object at 0x7fe645063fd0>\n",
      "Epoch: 1 cost time: 52.58861041069031\n",
      "Epoch: 2 cost time: 52.875383615493774\n",
      "Epoch: 3 cost time: 52.32805109024048\n",
      "Epoch: 4 cost time: 52.599327087402344\n",
      "Epoch: 5 cost time: 53.07412648200989\n"
     ]
    },
    {
     "name": "stderr",
     "output_type": "stream",
     "text": [
      "Progress:  40%|████      | 12/30 [53:45<1:20:30, 268.38s/it]"
     ]
    },
    {
     "name": "stdout",
     "output_type": "stream",
     "text": [
      "<modules.usernsTranformer.UserNsTransformer object at 0x7fe64505a9e0>\n",
      "Epoch: 1 cost time: 52.19747519493103\n",
      "Epoch: 2 cost time: 52.63590097427368\n",
      "Epoch: 3 cost time: 53.187580585479736\n",
      "Epoch: 4 cost time: 50.39817190170288\n",
      "Epoch: 5 cost time: 50.595184564590454\n"
     ]
    },
    {
     "name": "stderr",
     "output_type": "stream",
     "text": [
      "Progress:  43%|████▎     | 13/30 [58:12<1:15:52, 267.77s/it]"
     ]
    },
    {
     "name": "stdout",
     "output_type": "stream",
     "text": [
      "<modules.usernsTranformer.UserNsTransformer object at 0x7fe6450613f0>\n",
      "Epoch: 1 cost time: 53.212717056274414\n",
      "Epoch: 2 cost time: 54.60154986381531\n",
      "Epoch: 3 cost time: 52.42022657394409\n",
      "Epoch: 4 cost time: 51.786877393722534\n",
      "Epoch: 5 cost time: 52.22784733772278\n"
     ]
    },
    {
     "name": "stderr",
     "output_type": "stream",
     "text": [
      "Progress:  47%|████▋     | 14/30 [1:02:43<1:11:40, 268.81s/it]"
     ]
    },
    {
     "name": "stdout",
     "output_type": "stream",
     "text": [
      "<modules.usernsTranformer.UserNsTransformer object at 0x7fe645063fd0>\n",
      "Epoch: 1 cost time: 51.47289037704468\n",
      "Epoch: 2 cost time: 52.78514337539673\n",
      "Epoch: 3 cost time: 54.00660443305969\n",
      "Epoch: 4 cost time: 53.2324492931366\n",
      "Epoch: 5 cost time: 51.62282967567444\n"
     ]
    },
    {
     "name": "stderr",
     "output_type": "stream",
     "text": [
      "Progress:  50%|█████     | 15/30 [1:07:13<1:07:18, 269.26s/it]"
     ]
    },
    {
     "name": "stdout",
     "output_type": "stream",
     "text": [
      "<modules.usernsTranformer.UserNsTransformer object at 0x7fe6450613f0>\n",
      "Epoch: 1 cost time: 51.85987973213196\n",
      "Epoch: 2 cost time: 52.37627100944519\n",
      "Epoch: 3 cost time: 52.67147874832153\n",
      "Epoch: 4 cost time: 53.38353180885315\n",
      "Epoch: 5 cost time: 52.06028366088867\n"
     ]
    },
    {
     "name": "stderr",
     "output_type": "stream",
     "text": [
      "Progress:  53%|█████▎    | 16/30 [1:11:43<1:02:50, 269.32s/it]"
     ]
    },
    {
     "name": "stdout",
     "output_type": "stream",
     "text": [
      "<modules.usernsTranformer.UserNsTransformer object at 0x7fe64440d420>\n",
      "Epoch: 1 cost time: 53.39216494560242\n",
      "Epoch: 2 cost time: 51.957032203674316\n",
      "Epoch: 3 cost time: 52.15388107299805\n",
      "Epoch: 4 cost time: 51.86487340927124\n",
      "Epoch: 5 cost time: 52.80485391616821\n"
     ]
    },
    {
     "name": "stderr",
     "output_type": "stream",
     "text": [
      "Progress:  57%|█████▋    | 17/30 [1:16:10<58:14, 268.78s/it]  "
     ]
    },
    {
     "name": "stdout",
     "output_type": "stream",
     "text": [
      "<modules.usernsTranformer.UserNsTransformer object at 0x7fe641510e80>\n",
      "Epoch: 1 cost time: 52.392088890075684\n",
      "Epoch: 2 cost time: 52.94070911407471\n",
      "Epoch: 3 cost time: 52.98458456993103\n",
      "Epoch: 4 cost time: 53.09368968009949\n",
      "Epoch: 5 cost time: 51.60995054244995\n"
     ]
    },
    {
     "name": "stderr",
     "output_type": "stream",
     "text": [
      "Progress:  60%|██████    | 18/30 [1:20:39<53:43, 268.64s/it]"
     ]
    },
    {
     "name": "stdout",
     "output_type": "stream",
     "text": [
      "<modules.usernsTranformer.UserNsTransformer object at 0x7fe651c58a00>\n",
      "Epoch: 1 cost time: 52.26648283004761\n",
      "Epoch: 2 cost time: 52.913525342941284\n",
      "Epoch: 3 cost time: 52.63014769554138\n",
      "Epoch: 4 cost time: 53.4742431640625\n",
      "Epoch: 5 cost time: 51.61855864524841\n"
     ]
    },
    {
     "name": "stderr",
     "output_type": "stream",
     "text": [
      "Progress:  63%|██████▎   | 19/30 [1:25:09<49:19, 269.05s/it]"
     ]
    },
    {
     "name": "stdout",
     "output_type": "stream",
     "text": [
      "<modules.usernsTranformer.UserNsTransformer object at 0x7fe651c58a00>\n",
      "Epoch: 1 cost time: 53.080838203430176\n",
      "Epoch: 2 cost time: 53.46692180633545\n",
      "Epoch: 3 cost time: 52.36988425254822\n",
      "Epoch: 4 cost time: 52.82657504081726\n",
      "Epoch: 5 cost time: 53.6556453704834\n"
     ]
    },
    {
     "name": "stderr",
     "output_type": "stream",
     "text": [
      "Progress:  67%|██████▋   | 20/30 [1:29:41<44:59, 269.98s/it]"
     ]
    },
    {
     "name": "stdout",
     "output_type": "stream",
     "text": [
      "<modules.usernsTranformer.UserNsTransformer object at 0x7fe645063fd0>\n",
      "Epoch: 1 cost time: 51.56726026535034\n",
      "Epoch: 2 cost time: 52.58773899078369\n",
      "Epoch: 3 cost time: 53.17388606071472\n",
      "Epoch: 4 cost time: 51.78920650482178\n",
      "Epoch: 5 cost time: 52.654438972473145\n"
     ]
    },
    {
     "name": "stderr",
     "output_type": "stream",
     "text": [
      "Progress:  70%|███████   | 21/30 [1:34:10<40:26, 269.62s/it]"
     ]
    },
    {
     "name": "stdout",
     "output_type": "stream",
     "text": [
      "<modules.usernsTranformer.UserNsTransformer object at 0x7fe641510e80>\n",
      "Epoch: 1 cost time: 53.12385892868042\n",
      "Epoch: 2 cost time: 52.513587474823\n",
      "Epoch: 3 cost time: 52.719820976257324\n",
      "Epoch: 4 cost time: 53.6597683429718\n",
      "Epoch: 5 cost time: 51.94018626213074\n"
     ]
    },
    {
     "name": "stderr",
     "output_type": "stream",
     "text": [
      "Progress:  73%|███████▎  | 22/30 [1:38:40<35:59, 269.90s/it]"
     ]
    },
    {
     "name": "stdout",
     "output_type": "stream",
     "text": [
      "<modules.usernsTranformer.UserNsTransformer object at 0x7fe64440d420>\n",
      "Epoch: 1 cost time: 53.18828248977661\n",
      "Epoch: 2 cost time: 51.5042142868042\n",
      "Epoch: 3 cost time: 53.62932825088501\n",
      "Epoch: 4 cost time: 52.56880283355713\n",
      "Epoch: 5 cost time: 51.74747180938721\n"
     ]
    },
    {
     "name": "stderr",
     "output_type": "stream",
     "text": [
      "Progress:  77%|███████▋  | 23/30 [1:43:10<31:28, 269.81s/it]"
     ]
    },
    {
     "name": "stdout",
     "output_type": "stream",
     "text": [
      "<modules.usernsTranformer.UserNsTransformer object at 0x7fe651c58a00>\n",
      "Epoch: 1 cost time: 51.23675084114075\n",
      "Epoch: 2 cost time: 51.524054527282715\n",
      "Epoch: 3 cost time: 52.05529046058655\n",
      "Epoch: 4 cost time: 52.16409206390381\n",
      "Epoch: 5 cost time: 51.10803961753845\n"
     ]
    },
    {
     "name": "stderr",
     "output_type": "stream",
     "text": [
      "Progress:  80%|████████  | 24/30 [1:47:35<26:50, 268.40s/it]"
     ]
    },
    {
     "name": "stdout",
     "output_type": "stream",
     "text": [
      "<modules.usernsTranformer.UserNsTransformer object at 0x7fe64505a530>\n",
      "Epoch: 1 cost time: 51.91761517524719\n",
      "Epoch: 2 cost time: 49.60362505912781\n",
      "Epoch: 3 cost time: 49.868191957473755\n",
      "Epoch: 4 cost time: 49.63932728767395\n",
      "Epoch: 5 cost time: 48.655141830444336\n"
     ]
    },
    {
     "name": "stderr",
     "output_type": "stream",
     "text": [
      "Progress:  83%|████████▎ | 25/30 [1:51:50<22:02, 264.59s/it]"
     ]
    },
    {
     "name": "stdout",
     "output_type": "stream",
     "text": [
      "<modules.usernsTranformer.UserNsTransformer object at 0x7fe6450639a0>\n",
      "Epoch: 1 cost time: 50.15862703323364\n",
      "Epoch: 2 cost time: 49.90834069252014\n",
      "Epoch: 3 cost time: 48.98833894729614\n",
      "Epoch: 4 cost time: 49.0442271232605\n",
      "Epoch: 5 cost time: 50.75515794754028\n"
     ]
    },
    {
     "name": "stderr",
     "output_type": "stream",
     "text": [
      "Progress:  87%|████████▋ | 26/30 [1:56:06<17:28, 262.02s/it]"
     ]
    },
    {
     "name": "stdout",
     "output_type": "stream",
     "text": [
      "<modules.usernsTranformer.UserNsTransformer object at 0x7fe64505a9e0>\n",
      "Epoch: 1 cost time: 48.71198511123657\n",
      "Epoch: 2 cost time: 49.63181924819946\n",
      "Epoch: 3 cost time: 49.128270626068115\n",
      "Epoch: 4 cost time: 49.39206790924072\n",
      "Epoch: 5 cost time: 48.321635246276855\n"
     ]
    },
    {
     "name": "stderr",
     "output_type": "stream",
     "text": [
      "Progress:  90%|█████████ | 27/30 [2:00:19<12:57, 259.09s/it]"
     ]
    },
    {
     "name": "stdout",
     "output_type": "stream",
     "text": [
      "<modules.usernsTranformer.UserNsTransformer object at 0x7fe6450613f0>\n",
      "Epoch: 1 cost time: 50.37795686721802\n",
      "Epoch: 2 cost time: 48.942561626434326\n",
      "Epoch: 3 cost time: 47.69577980041504\n",
      "Epoch: 4 cost time: 48.839104890823364\n",
      "Epoch: 5 cost time: 50.14441132545471\n"
     ]
    },
    {
     "name": "stderr",
     "output_type": "stream",
     "text": [
      "Progress:  93%|█████████▎| 28/30 [2:04:31<08:34, 257.14s/it]"
     ]
    },
    {
     "name": "stdout",
     "output_type": "stream",
     "text": [
      "<modules.usernsTranformer.UserNsTransformer object at 0x7fe645063fd0>\n",
      "Epoch: 1 cost time: 50.30553960800171\n",
      "Epoch: 2 cost time: 49.08963465690613\n",
      "Epoch: 3 cost time: 50.09939122200012\n",
      "Epoch: 4 cost time: 49.09493279457092\n",
      "Epoch: 5 cost time: 50.41423058509827\n"
     ]
    },
    {
     "name": "stderr",
     "output_type": "stream",
     "text": [
      "Progress:  97%|█████████▋| 29/30 [2:08:48<04:16, 256.88s/it]"
     ]
    },
    {
     "name": "stdout",
     "output_type": "stream",
     "text": [
      "<modules.usernsTranformer.UserNsTransformer object at 0x7fe641510e80>\n",
      "Epoch: 1 cost time: 46.960026025772095\n",
      "Epoch: 2 cost time: 49.06699848175049\n",
      "Epoch: 3 cost time: 50.11863684654236\n",
      "Epoch: 4 cost time: 50.48432540893555\n",
      "Epoch: 5 cost time: 49.51280927658081\n"
     ]
    },
    {
     "name": "stderr",
     "output_type": "stream",
     "text": [
      "Progress: 100%|██████████| 30/30 [2:13:01<00:00, 266.05s/it]\n"
     ]
    }
   ],
   "source": [
    "import random\n",
    "from tqdm import tqdm\n",
    "\n",
    "server = ServerNsTransformer(model=server_model, test_loader=server_data_list)\n",
    "\n",
    "user_list = []\n",
    "\n",
    "# Create users\n",
    "for i in range(config_wanb.num_user):\n",
    "    user_i = UserNsTransformer(train_loader=user_data_list[i], model=server_model, user_id=i, local_epochs=config_wanb.local_epochs)\n",
    "    user_list.append(user_i)\n",
    "\n",
    "for _ in tqdm(range(config_wanb.global_epochs), desc=f\"Progress\"):\n",
    "    # Distribute initial model to users\n",
    "    server.distribute_model(user_list)\n",
    "    \n",
    "    # Sub-sample users\n",
    "    sub_user_list = random.sample(user_list, int(config_wanb.user_ratio * config_wanb.num_user))\n",
    "\n",
    "    # Check the sub-sampled user and train model\n",
    "    users_loss = 0.0\n",
    "    for user in sub_user_list:\n",
    "        print(user)\n",
    "        user_loss = user.user_train(args)\n",
    "        users_loss += user_loss\n",
    "    # Aggregate weights on server\n",
    "    server.aggregate_weights(sub_user_list)\n",
    "\n",
    "    # Calulate avg loss on selected users\n",
    "    train_loss =  users_loss / len(sub_user_list)\n",
    "\n",
    "    total_mae = []\n",
    "    total_rmse = []\n",
    "    for test_loader in server.test_loader:    \n",
    "        mae, mse, rmse, mape, mspe = server.model_eval(args=args, test_loader=test_loader)\n",
    "        total_mae.append(mae)\n",
    "        total_rmse.append(rmse)\n",
    "    \n",
    "    wandb.log({\"train_loss\": train_loss, \"mae\": sum(total_mae)/len(total_mae), 'rmse': sum(total_rmse)/len(total_rmse)})"
   ]
  }
 ],
 "metadata": {
  "kernelspec": {
   "display_name": ".venv",
   "language": "python",
   "name": "python3"
  },
  "language_info": {
   "codemirror_mode": {
    "name": "ipython",
    "version": 3
   },
   "file_extension": ".py",
   "mimetype": "text/x-python",
   "name": "python",
   "nbconvert_exporter": "python",
   "pygments_lexer": "ipython3",
   "version": "3.10.12"
  }
 },
 "nbformat": 4,
 "nbformat_minor": 2
}
