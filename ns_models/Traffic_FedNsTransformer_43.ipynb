{
 "cells": [
  {
   "cell_type": "code",
   "execution_count": 1,
   "metadata": {},
   "outputs": [
    {
     "data": {
      "text/plain": [
       "'/home/qula0496/quan/Nonstationary_Transformers/ns_models'"
      ]
     },
     "execution_count": 1,
     "metadata": {},
     "output_type": "execute_result"
    }
   ],
   "source": [
    "%pwd"
   ]
  },
  {
   "cell_type": "code",
   "execution_count": 2,
   "metadata": {},
   "outputs": [
    {
     "name": "stdout",
     "output_type": "stream",
     "text": [
      "/home/qula0496/quan/Nonstationary_Transformers\n"
     ]
    },
    {
     "name": "stderr",
     "output_type": "stream",
     "text": [
      "/home/qula0496/quan/.venv/lib/python3.10/site-packages/IPython/core/magics/osm.py:417: UserWarning: This is now an optional IPython functionality, setting dhist requires you to install the `pickleshare` library.\n",
      "  self.shell.db['dhist'] = compress_dhist(dhist)[-100:]\n"
     ]
    }
   ],
   "source": [
    "%cd .."
   ]
  },
  {
   "cell_type": "code",
   "execution_count": 3,
   "metadata": {},
   "outputs": [],
   "source": [
    "import os\n",
    "id_gpu = '2'\n",
    "n_users = 43\n",
    "os.environ['CUDA_VISIBLE_DEVICES'] = id_gpu"
   ]
  },
  {
   "cell_type": "code",
   "execution_count": 4,
   "metadata": {},
   "outputs": [],
   "source": [
    "from utils.data_utils import *\n",
    "from utils.model_utils import *\n",
    "# from utils.koopman_utils import *\n",
    "from modules.serverbase import *\n",
    "from modules.userbase import *\n",
    "from modules.servernsTransformer import *\n",
    "from modules.usernsTranformer import *\n",
    "import numpy as np\n",
    "import torch\n",
    "torch.cuda.init()"
   ]
  },
  {
   "cell_type": "code",
   "execution_count": 5,
   "metadata": {},
   "outputs": [],
   "source": [
    "num_ts = 862"
   ]
  },
  {
   "cell_type": "code",
   "execution_count": 6,
   "metadata": {},
   "outputs": [
    {
     "name": "stdout",
     "output_type": "stream",
     "text": [
      "Files not exist\n",
      "/home/qula0496/quan/Nonstationary_Transformers/utils/data_utils.py\n",
      "data loaded..\n"
     ]
    },
    {
     "data": {
      "text/plain": [
       "(17544, 862)"
      ]
     },
     "execution_count": 6,
     "metadata": {},
     "output_type": "execute_result"
    }
   ],
   "source": [
    "# Download the dataset\n",
    "download_traffic_dataset()\n",
    "\n",
    "# Clean the dataset\n",
    "traffic_data = clean_traffic(num_ts=num_ts)\n",
    "traffic_data.shape"
   ]
  },
  {
   "cell_type": "code",
   "execution_count": 7,
   "metadata": {},
   "outputs": [
    {
     "data": {
      "text/html": [
       "<div>\n",
       "<style scoped>\n",
       "    .dataframe tbody tr th:only-of-type {\n",
       "        vertical-align: middle;\n",
       "    }\n",
       "\n",
       "    .dataframe tbody tr th {\n",
       "        vertical-align: top;\n",
       "    }\n",
       "\n",
       "    .dataframe thead th {\n",
       "        text-align: right;\n",
       "    }\n",
       "</style>\n",
       "<table border=\"1\" class=\"dataframe\">\n",
       "  <thead>\n",
       "    <tr style=\"text-align: right;\">\n",
       "      <th></th>\n",
       "      <th>MT_001</th>\n",
       "      <th>MT_002</th>\n",
       "      <th>MT_003</th>\n",
       "      <th>MT_004</th>\n",
       "      <th>MT_005</th>\n",
       "      <th>MT_006</th>\n",
       "      <th>MT_007</th>\n",
       "      <th>MT_008</th>\n",
       "      <th>MT_009</th>\n",
       "      <th>MT_010</th>\n",
       "      <th>...</th>\n",
       "      <th>MT_853</th>\n",
       "      <th>MT_854</th>\n",
       "      <th>MT_855</th>\n",
       "      <th>MT_856</th>\n",
       "      <th>MT_857</th>\n",
       "      <th>MT_858</th>\n",
       "      <th>MT_859</th>\n",
       "      <th>MT_860</th>\n",
       "      <th>MT_861</th>\n",
       "      <th>MT_862</th>\n",
       "    </tr>\n",
       "    <tr>\n",
       "      <th>time</th>\n",
       "      <th></th>\n",
       "      <th></th>\n",
       "      <th></th>\n",
       "      <th></th>\n",
       "      <th></th>\n",
       "      <th></th>\n",
       "      <th></th>\n",
       "      <th></th>\n",
       "      <th></th>\n",
       "      <th></th>\n",
       "      <th></th>\n",
       "      <th></th>\n",
       "      <th></th>\n",
       "      <th></th>\n",
       "      <th></th>\n",
       "      <th></th>\n",
       "      <th></th>\n",
       "      <th></th>\n",
       "      <th></th>\n",
       "      <th></th>\n",
       "      <th></th>\n",
       "    </tr>\n",
       "  </thead>\n",
       "  <tbody>\n",
       "    <tr>\n",
       "      <th>2015-01-01 00:00:00</th>\n",
       "      <td>0.0048</td>\n",
       "      <td>0.0146</td>\n",
       "      <td>0.0289</td>\n",
       "      <td>0.0142</td>\n",
       "      <td>0.0064</td>\n",
       "      <td>0.0232</td>\n",
       "      <td>0.0162</td>\n",
       "      <td>0.0242</td>\n",
       "      <td>0.0341</td>\n",
       "      <td>0.0375</td>\n",
       "      <td>...</td>\n",
       "      <td>0.0051</td>\n",
       "      <td>0.0051</td>\n",
       "      <td>0.0074</td>\n",
       "      <td>0.0079</td>\n",
       "      <td>0.0051</td>\n",
       "      <td>0.0051</td>\n",
       "      <td>0.0339</td>\n",
       "      <td>0.0051</td>\n",
       "      <td>0.0100</td>\n",
       "      <td>0.0121</td>\n",
       "    </tr>\n",
       "    <tr>\n",
       "      <th>2015-01-01 01:00:00</th>\n",
       "      <td>0.0072</td>\n",
       "      <td>0.0148</td>\n",
       "      <td>0.0350</td>\n",
       "      <td>0.0174</td>\n",
       "      <td>0.0084</td>\n",
       "      <td>0.0240</td>\n",
       "      <td>0.0201</td>\n",
       "      <td>0.0338</td>\n",
       "      <td>0.0434</td>\n",
       "      <td>0.0381</td>\n",
       "      <td>...</td>\n",
       "      <td>0.0036</td>\n",
       "      <td>0.0036</td>\n",
       "      <td>0.0107</td>\n",
       "      <td>0.0058</td>\n",
       "      <td>0.0036</td>\n",
       "      <td>0.0036</td>\n",
       "      <td>0.0348</td>\n",
       "      <td>0.0036</td>\n",
       "      <td>0.0087</td>\n",
       "      <td>0.0136</td>\n",
       "    </tr>\n",
       "    <tr>\n",
       "      <th>2015-01-01 02:00:00</th>\n",
       "      <td>0.0040</td>\n",
       "      <td>0.0101</td>\n",
       "      <td>0.0267</td>\n",
       "      <td>0.0124</td>\n",
       "      <td>0.0049</td>\n",
       "      <td>0.0170</td>\n",
       "      <td>0.0127</td>\n",
       "      <td>0.0255</td>\n",
       "      <td>0.0332</td>\n",
       "      <td>0.0309</td>\n",
       "      <td>...</td>\n",
       "      <td>0.0030</td>\n",
       "      <td>0.0030</td>\n",
       "      <td>0.0043</td>\n",
       "      <td>0.0050</td>\n",
       "      <td>0.0030</td>\n",
       "      <td>0.0030</td>\n",
       "      <td>0.0327</td>\n",
       "      <td>0.0030</td>\n",
       "      <td>0.0061</td>\n",
       "      <td>0.0107</td>\n",
       "    </tr>\n",
       "    <tr>\n",
       "      <th>2015-01-01 03:00:00</th>\n",
       "      <td>0.0039</td>\n",
       "      <td>0.0060</td>\n",
       "      <td>0.0218</td>\n",
       "      <td>0.0090</td>\n",
       "      <td>0.0029</td>\n",
       "      <td>0.0118</td>\n",
       "      <td>0.0088</td>\n",
       "      <td>0.0163</td>\n",
       "      <td>0.0211</td>\n",
       "      <td>0.0199</td>\n",
       "      <td>...</td>\n",
       "      <td>0.0033</td>\n",
       "      <td>0.0033</td>\n",
       "      <td>0.0019</td>\n",
       "      <td>0.0052</td>\n",
       "      <td>0.0033</td>\n",
       "      <td>0.0033</td>\n",
       "      <td>0.0292</td>\n",
       "      <td>0.0033</td>\n",
       "      <td>0.0040</td>\n",
       "      <td>0.0071</td>\n",
       "    </tr>\n",
       "    <tr>\n",
       "      <th>2015-01-01 04:00:00</th>\n",
       "      <td>0.0042</td>\n",
       "      <td>0.0055</td>\n",
       "      <td>0.0191</td>\n",
       "      <td>0.0082</td>\n",
       "      <td>0.0024</td>\n",
       "      <td>0.0095</td>\n",
       "      <td>0.0064</td>\n",
       "      <td>0.0087</td>\n",
       "      <td>0.0144</td>\n",
       "      <td>0.0226</td>\n",
       "      <td>...</td>\n",
       "      <td>0.0049</td>\n",
       "      <td>0.0049</td>\n",
       "      <td>0.0011</td>\n",
       "      <td>0.0071</td>\n",
       "      <td>0.0049</td>\n",
       "      <td>0.0049</td>\n",
       "      <td>0.0264</td>\n",
       "      <td>0.0049</td>\n",
       "      <td>0.0040</td>\n",
       "      <td>0.0039</td>\n",
       "    </tr>\n",
       "  </tbody>\n",
       "</table>\n",
       "<p>5 rows × 862 columns</p>\n",
       "</div>"
      ],
      "text/plain": [
       "                     MT_001  MT_002  MT_003  MT_004  MT_005  MT_006  MT_007  \\\n",
       "time                                                                          \n",
       "2015-01-01 00:00:00  0.0048  0.0146  0.0289  0.0142  0.0064  0.0232  0.0162   \n",
       "2015-01-01 01:00:00  0.0072  0.0148  0.0350  0.0174  0.0084  0.0240  0.0201   \n",
       "2015-01-01 02:00:00  0.0040  0.0101  0.0267  0.0124  0.0049  0.0170  0.0127   \n",
       "2015-01-01 03:00:00  0.0039  0.0060  0.0218  0.0090  0.0029  0.0118  0.0088   \n",
       "2015-01-01 04:00:00  0.0042  0.0055  0.0191  0.0082  0.0024  0.0095  0.0064   \n",
       "\n",
       "                     MT_008  MT_009  MT_010  ...  MT_853  MT_854  MT_855  \\\n",
       "time                                         ...                           \n",
       "2015-01-01 00:00:00  0.0242  0.0341  0.0375  ...  0.0051  0.0051  0.0074   \n",
       "2015-01-01 01:00:00  0.0338  0.0434  0.0381  ...  0.0036  0.0036  0.0107   \n",
       "2015-01-01 02:00:00  0.0255  0.0332  0.0309  ...  0.0030  0.0030  0.0043   \n",
       "2015-01-01 03:00:00  0.0163  0.0211  0.0199  ...  0.0033  0.0033  0.0019   \n",
       "2015-01-01 04:00:00  0.0087  0.0144  0.0226  ...  0.0049  0.0049  0.0011   \n",
       "\n",
       "                     MT_856  MT_857  MT_858  MT_859  MT_860  MT_861  MT_862  \n",
       "time                                                                         \n",
       "2015-01-01 00:00:00  0.0079  0.0051  0.0051  0.0339  0.0051  0.0100  0.0121  \n",
       "2015-01-01 01:00:00  0.0058  0.0036  0.0036  0.0348  0.0036  0.0087  0.0136  \n",
       "2015-01-01 02:00:00  0.0050  0.0030  0.0030  0.0327  0.0030  0.0061  0.0107  \n",
       "2015-01-01 03:00:00  0.0052  0.0033  0.0033  0.0292  0.0033  0.0040  0.0071  \n",
       "2015-01-01 04:00:00  0.0071  0.0049  0.0049  0.0264  0.0049  0.0040  0.0039  \n",
       "\n",
       "[5 rows x 862 columns]"
      ]
     },
     "execution_count": 7,
     "metadata": {},
     "output_type": "execute_result"
    }
   ],
   "source": [
    "traffic_data.head()"
   ]
  },
  {
   "cell_type": "code",
   "execution_count": 8,
   "metadata": {},
   "outputs": [],
   "source": [
    "# # prompt: write pandas to csv\n",
    "\n",
    "# import pandas as pd\n",
    "\n",
    "# # Save the DataFrame to a CSV file\n",
    "# traffic_data.to_csv('/home/qula0496/quan/Nonstationary_Transformers/dataset/traffic/traffic.csv', index_label='date')"
   ]
  },
  {
   "cell_type": "code",
   "execution_count": 9,
   "metadata": {},
   "outputs": [
    {
     "data": {
      "text/plain": [
       "'traffic.csv'"
      ]
     },
     "execution_count": 9,
     "metadata": {},
     "output_type": "execute_result"
    }
   ],
   "source": [
    "from ns_models.ns_TransformerConfig import NS_TransformerConfig\n",
    "user_num_ts = int(traffic_data.shape[1] / n_users)\n",
    "args = NS_TransformerConfig()\n",
    "args.devices = id_gpu\n",
    "args.enc_in = user_num_ts\n",
    "args.dec_in = user_num_ts\n",
    "args.c_out = user_num_ts\n",
    "args.root_path = './dataset/traffic/'\n",
    "args.data_path = 'traffic.csv'\n",
    "args.model_id = 'traffic_96_96'\n",
    "args.data_path"
   ]
  },
  {
   "cell_type": "code",
   "execution_count": 10,
   "metadata": {},
   "outputs": [],
   "source": [
    "from torch.utils.data import DataLoader\n",
    "from data_provider.data_factory import *\n",
    "from data_provider.data_loader import *\n",
    "\n",
    "test_data, test_loader = data_provider(args, flag='test')"
   ]
  },
  {
   "cell_type": "code",
   "execution_count": 11,
   "metadata": {},
   "outputs": [
    {
     "data": {
      "text/plain": [
       "<data_provider.data_loader.Dataset_ETT_hour at 0x7f42332ffac0>"
      ]
     },
     "execution_count": 11,
     "metadata": {},
     "output_type": "execute_result"
    }
   ],
   "source": [
    "test_data"
   ]
  },
  {
   "cell_type": "code",
   "execution_count": 12,
   "metadata": {},
   "outputs": [],
   "source": [
    "user_data_list = []\n",
    "server_data_list = []\n",
    "for i in range(n_users):\n",
    "    train_data, train_loader = data_provider(args, flag='train', start=i*user_num_ts+1, end=min(user_num_ts*(i+1)+1, traffic_data.shape[1]+1))\n",
    "    test_data, test_loader = data_provider(args, flag='test', start=i*user_num_ts+1, end=min(user_num_ts*(i+1)+1, traffic_data.shape[1]+1))\n",
    "    # user_data = train_set.filter(lambda e, idx: idx>=(i*user_num_ts) and idx < user_num_ts*(i+1), with_indices=True)\n",
    "    user_data_list.append(train_loader)\n",
    "    server_data_list.append(test_loader)\n",
    "    # print(train_data[0][0].shape)"
   ]
  },
  {
   "cell_type": "code",
   "execution_count": 13,
   "metadata": {},
   "outputs": [
    {
     "data": {
      "text/plain": [
       "datetime.datetime(2015, 1, 1, 0, 0)"
      ]
     },
     "execution_count": 13,
     "metadata": {},
     "output_type": "execute_result"
    }
   ],
   "source": [
    "from datetime import datetime\n",
    "datetime.strptime('2015-01-01 00:00:00', '%Y-%m-%d %H:%M:%S')"
   ]
  },
  {
   "cell_type": "code",
   "execution_count": 14,
   "metadata": {},
   "outputs": [
    {
     "data": {
      "text/plain": [
       "Model(\n",
       "  (enc_embedding): DataEmbedding(\n",
       "    (value_embedding): TokenEmbedding(\n",
       "      (tokenConv): Conv1d(20, 64, kernel_size=(3,), stride=(1,), padding=(1,), bias=False, padding_mode=circular)\n",
       "    )\n",
       "    (position_embedding): PositionalEmbedding()\n",
       "    (temporal_embedding): TimeFeatureEmbedding(\n",
       "      (embed): Linear(in_features=4, out_features=64, bias=False)\n",
       "    )\n",
       "    (dropout): Dropout(p=0.1, inplace=False)\n",
       "  )\n",
       "  (dec_embedding): DataEmbedding(\n",
       "    (value_embedding): TokenEmbedding(\n",
       "      (tokenConv): Conv1d(20, 64, kernel_size=(3,), stride=(1,), padding=(1,), bias=False, padding_mode=circular)\n",
       "    )\n",
       "    (position_embedding): PositionalEmbedding()\n",
       "    (temporal_embedding): TimeFeatureEmbedding(\n",
       "      (embed): Linear(in_features=4, out_features=64, bias=False)\n",
       "    )\n",
       "    (dropout): Dropout(p=0.1, inplace=False)\n",
       "  )\n",
       "  (encoder): Encoder(\n",
       "    (attn_layers): ModuleList(\n",
       "      (0-5): 6 x EncoderLayer(\n",
       "        (attention): AttentionLayer(\n",
       "          (inner_attention): DSAttention(\n",
       "            (dropout): Dropout(p=0.1, inplace=False)\n",
       "          )\n",
       "          (query_projection): Linear(in_features=64, out_features=64, bias=True)\n",
       "          (key_projection): Linear(in_features=64, out_features=64, bias=True)\n",
       "          (value_projection): Linear(in_features=64, out_features=64, bias=True)\n",
       "          (out_projection): Linear(in_features=64, out_features=64, bias=True)\n",
       "        )\n",
       "        (conv1): Conv1d(64, 32, kernel_size=(1,), stride=(1,))\n",
       "        (conv2): Conv1d(32, 64, kernel_size=(1,), stride=(1,))\n",
       "        (norm1): LayerNorm((64,), eps=1e-05, elementwise_affine=True)\n",
       "        (norm2): LayerNorm((64,), eps=1e-05, elementwise_affine=True)\n",
       "        (dropout): Dropout(p=0.1, inplace=False)\n",
       "      )\n",
       "    )\n",
       "    (norm): LayerNorm((64,), eps=1e-05, elementwise_affine=True)\n",
       "  )\n",
       "  (decoder): Decoder(\n",
       "    (layers): ModuleList(\n",
       "      (0-3): 4 x DecoderLayer(\n",
       "        (self_attention): AttentionLayer(\n",
       "          (inner_attention): DSAttention(\n",
       "            (dropout): Dropout(p=0.1, inplace=False)\n",
       "          )\n",
       "          (query_projection): Linear(in_features=64, out_features=64, bias=True)\n",
       "          (key_projection): Linear(in_features=64, out_features=64, bias=True)\n",
       "          (value_projection): Linear(in_features=64, out_features=64, bias=True)\n",
       "          (out_projection): Linear(in_features=64, out_features=64, bias=True)\n",
       "        )\n",
       "        (cross_attention): AttentionLayer(\n",
       "          (inner_attention): DSAttention(\n",
       "            (dropout): Dropout(p=0.1, inplace=False)\n",
       "          )\n",
       "          (query_projection): Linear(in_features=64, out_features=64, bias=True)\n",
       "          (key_projection): Linear(in_features=64, out_features=64, bias=True)\n",
       "          (value_projection): Linear(in_features=64, out_features=64, bias=True)\n",
       "          (out_projection): Linear(in_features=64, out_features=64, bias=True)\n",
       "        )\n",
       "        (conv1): Conv1d(64, 32, kernel_size=(1,), stride=(1,))\n",
       "        (conv2): Conv1d(32, 64, kernel_size=(1,), stride=(1,))\n",
       "        (norm1): LayerNorm((64,), eps=1e-05, elementwise_affine=True)\n",
       "        (norm2): LayerNorm((64,), eps=1e-05, elementwise_affine=True)\n",
       "        (norm3): LayerNorm((64,), eps=1e-05, elementwise_affine=True)\n",
       "        (dropout): Dropout(p=0.1, inplace=False)\n",
       "      )\n",
       "    )\n",
       "    (norm): LayerNorm((64,), eps=1e-05, elementwise_affine=True)\n",
       "    (projection): Linear(in_features=64, out_features=20, bias=True)\n",
       "  )\n",
       "  (tau_learner): Projector(\n",
       "    (series_conv): Conv1d(96, 1, kernel_size=(3,), stride=(1,), padding=(1,), bias=False, padding_mode=circular)\n",
       "    (backbone): Sequential(\n",
       "      (0): Linear(in_features=40, out_features=64, bias=True)\n",
       "      (1): ReLU()\n",
       "      (2): Linear(in_features=64, out_features=64, bias=True)\n",
       "      (3): ReLU()\n",
       "      (4): Linear(in_features=64, out_features=1, bias=False)\n",
       "    )\n",
       "  )\n",
       "  (delta_learner): Projector(\n",
       "    (series_conv): Conv1d(96, 1, kernel_size=(3,), stride=(1,), padding=(1,), bias=False, padding_mode=circular)\n",
       "    (backbone): Sequential(\n",
       "      (0): Linear(in_features=40, out_features=64, bias=True)\n",
       "      (1): ReLU()\n",
       "      (2): Linear(in_features=64, out_features=64, bias=True)\n",
       "      (3): ReLU()\n",
       "      (4): Linear(in_features=64, out_features=96, bias=False)\n",
       "    )\n",
       "  )\n",
       ")"
      ]
     },
     "execution_count": 14,
     "metadata": {},
     "output_type": "execute_result"
    }
   ],
   "source": [
    "from ns_models import ns_Transformer\n",
    "server_model = ns_Transformer.Model(configs=args)\n",
    "server_model"
   ]
  },
  {
   "cell_type": "code",
   "execution_count": 15,
   "metadata": {},
   "outputs": [
    {
     "name": "stderr",
     "output_type": "stream",
     "text": [
      "Failed to detect the name of this notebook, you can set it manually with the WANDB_NOTEBOOK_NAME environment variable to enable code saving.\n",
      "\u001b[34m\u001b[1mwandb\u001b[0m: Currently logged in as: \u001b[33mkenlvq\u001b[0m (\u001b[33mquanla\u001b[0m). Use \u001b[1m`wandb login --relogin`\u001b[0m to force relogin\n"
     ]
    },
    {
     "data": {
      "application/vnd.jupyter.widget-view+json": {
       "model_id": "5370a2a3870a4a4f997a151b159edb2d",
       "version_major": 2,
       "version_minor": 0
      },
      "text/plain": [
       "VBox(children=(Label(value='Waiting for wandb.init()...\\r'), FloatProgress(value=0.011112095022367107, max=1.0…"
      ]
     },
     "metadata": {},
     "output_type": "display_data"
    },
    {
     "data": {
      "text/html": [
       "wandb version 0.17.1 is available!  To upgrade, please run:\n",
       " $ pip install wandb --upgrade"
      ],
      "text/plain": [
       "<IPython.core.display.HTML object>"
      ]
     },
     "metadata": {},
     "output_type": "display_data"
    },
    {
     "data": {
      "text/html": [
       "Tracking run with wandb version 0.16.3"
      ],
      "text/plain": [
       "<IPython.core.display.HTML object>"
      ]
     },
     "metadata": {},
     "output_type": "display_data"
    },
    {
     "data": {
      "text/html": [
       "Run data is saved locally in <code>/home/qula0496/quan/Nonstationary_Transformers/wandb/run-20240611_143431-cg0crtbj</code>"
      ],
      "text/plain": [
       "<IPython.core.display.HTML object>"
      ]
     },
     "metadata": {},
     "output_type": "display_data"
    },
    {
     "data": {
      "text/html": [
       "Syncing run <strong><a href='https://wandb.ai/quanla/Federated%20Non-Stationary%20Transformer%20on%20Traffic%20dataset/runs/cg0crtbj' target=\"_blank\">Federated Non-Stationary Transformer on Traffic dataset</a></strong> to <a href='https://wandb.ai/quanla/Federated%20Non-Stationary%20Transformer%20on%20Traffic%20dataset' target=\"_blank\">Weights & Biases</a> (<a href='https://wandb.me/run' target=\"_blank\">docs</a>)<br/>"
      ],
      "text/plain": [
       "<IPython.core.display.HTML object>"
      ]
     },
     "metadata": {},
     "output_type": "display_data"
    },
    {
     "data": {
      "text/html": [
       " View project at <a href='https://wandb.ai/quanla/Federated%20Non-Stationary%20Transformer%20on%20Traffic%20dataset' target=\"_blank\">https://wandb.ai/quanla/Federated%20Non-Stationary%20Transformer%20on%20Traffic%20dataset</a>"
      ],
      "text/plain": [
       "<IPython.core.display.HTML object>"
      ]
     },
     "metadata": {},
     "output_type": "display_data"
    },
    {
     "data": {
      "text/html": [
       " View run at <a href='https://wandb.ai/quanla/Federated%20Non-Stationary%20Transformer%20on%20Traffic%20dataset/runs/cg0crtbj' target=\"_blank\">https://wandb.ai/quanla/Federated%20Non-Stationary%20Transformer%20on%20Traffic%20dataset/runs/cg0crtbj</a>"
      ],
      "text/plain": [
       "<IPython.core.display.HTML object>"
      ]
     },
     "metadata": {},
     "output_type": "display_data"
    }
   ],
   "source": [
    "import wandb\n",
    "import torch\n",
    "\n",
    "NUM_GPUS = torch.cuda.device_count()\n",
    "LR = 1e-3\n",
    "GLOBAL_EPOCHS = 30\n",
    "LOCAL_EPOCHS = 5\n",
    "BATCH_SIZE = 128\n",
    "L2_PENALTY = 0.0\n",
    "USER_RATIO = 0.1\n",
    "run = wandb.init(\n",
    "    # project name\n",
    "    project=\"Federated Non-Stationary Transformer on Traffic dataset\",\n",
    "    # experiment name\n",
    "    name=f\"Federated Non-Stationary Transformer on Traffic dataset\",\n",
    "    # Hyperparams\n",
    "    config={\n",
    "        \"dataset\": \"Traffic860\",\n",
    "        \"preprocess_type\": \"std\",\n",
    "        \"num_user\": n_users,\n",
    "        \"learning_rate\": LR,\n",
    "        \"global_epochs\": GLOBAL_EPOCHS,\n",
    "        \"local_epochs\": LOCAL_EPOCHS,\n",
    "        \"batch_size\": BATCH_SIZE,\n",
    "        \"num_gpus\": NUM_GPUS,\n",
    "        \"user_ratio\": USER_RATIO,\n",
    "        \"l2_penalty\": L2_PENALTY,\n",
    "        \"total_time_series\": 860,\n",
    "        \"detrending_data\": \"No\"\n",
    "    })\n",
    "\n",
    "config_wanb = wandb.config"
   ]
  },
  {
   "cell_type": "code",
   "execution_count": 16,
   "metadata": {},
   "outputs": [],
   "source": [
    "# len(server.test_loader[0])"
   ]
  },
  {
   "cell_type": "code",
   "execution_count": 17,
   "metadata": {},
   "outputs": [
    {
     "name": "stderr",
     "output_type": "stream",
     "text": [
      "Progress:   0%|          | 0/30 [00:00<?, ?it/s]"
     ]
    },
    {
     "name": "stdout",
     "output_type": "stream",
     "text": [
      "<modules.usernsTranformer.UserNsTransformer object at 0x7f420983fd30>\n",
      "Epoch: 1 cost time: 128.77880334854126\n",
      "Epoch: 2 cost time: 149.21691060066223\n",
      "Epoch: 3 cost time: 223.0167372226715\n",
      "Epoch: 4 cost time: 245.58553194999695\n",
      "Epoch: 5 cost time: 264.81232023239136\n",
      "<modules.usernsTranformer.UserNsTransformer object at 0x7f4209f03430>\n",
      "Epoch: 1 cost time: 265.80989956855774\n",
      "Epoch: 2 cost time: 266.061963558197\n",
      "Epoch: 3 cost time: 266.995322227478\n",
      "Epoch: 4 cost time: 268.28659105300903\n",
      "Epoch: 5 cost time: 266.11939430236816\n",
      "<modules.usernsTranformer.UserNsTransformer object at 0x7f422012fb50>\n",
      "Epoch: 1 cost time: 265.2906529903412\n",
      "Epoch: 2 cost time: 265.53083181381226\n",
      "Epoch: 3 cost time: 266.8143925666809\n",
      "Epoch: 4 cost time: 266.62430596351624\n",
      "Epoch: 5 cost time: 266.4717514514923\n",
      "<modules.usernsTranformer.UserNsTransformer object at 0x7f420983eb00>\n",
      "Epoch: 1 cost time: 266.7112572193146\n",
      "Epoch: 2 cost time: 264.87778520584106\n",
      "Epoch: 3 cost time: 266.1696357727051\n",
      "Epoch: 4 cost time: 267.3686966896057\n",
      "Epoch: 5 cost time: 267.8868942260742\n"
     ]
    },
    {
     "name": "stderr",
     "output_type": "stream",
     "text": [
      "Progress:   3%|▎         | 1/30 [1:30:22<43:40:44, 5422.23s/it]"
     ]
    },
    {
     "name": "stdout",
     "output_type": "stream",
     "text": [
      "<modules.usernsTranformer.UserNsTransformer object at 0x7f42092b7e50>\n",
      "Epoch: 1 cost time: 266.6789638996124\n",
      "Epoch: 2 cost time: 267.5209991931915\n",
      "Epoch: 3 cost time: 267.1515202522278\n",
      "Epoch: 4 cost time: 266.4000873565674\n",
      "Epoch: 5 cost time: 267.16089820861816\n",
      "<modules.usernsTranformer.UserNsTransformer object at 0x7f422012ea70>\n",
      "Epoch: 1 cost time: 266.8360993862152\n",
      "Epoch: 2 cost time: 267.30051445961\n",
      "Epoch: 3 cost time: 266.4577851295471\n",
      "Epoch: 4 cost time: 266.45491886138916\n",
      "Epoch: 5 cost time: 268.2099003791809\n",
      "<modules.usernsTranformer.UserNsTransformer object at 0x7f4209c339a0>\n",
      "Epoch: 1 cost time: 264.7796673774719\n",
      "Epoch: 2 cost time: 266.4899032115936\n",
      "Epoch: 3 cost time: 266.72820687294006\n",
      "Epoch: 4 cost time: 266.99161863327026\n",
      "Epoch: 5 cost time: 265.53781056404114\n",
      "<modules.usernsTranformer.UserNsTransformer object at 0x7f42096aa920>\n",
      "Epoch: 1 cost time: 268.7816138267517\n",
      "Epoch: 2 cost time: 264.7610638141632\n",
      "Epoch: 3 cost time: 264.74677658081055\n",
      "Epoch: 4 cost time: 265.65533995628357\n",
      "Epoch: 5 cost time: 267.9452784061432\n"
     ]
    },
    {
     "name": "stderr",
     "output_type": "stream",
     "text": [
      "Progress:   7%|▋         | 2/30 [3:06:10<43:39:53, 5614.04s/it]"
     ]
    },
    {
     "name": "stdout",
     "output_type": "stream",
     "text": [
      "<modules.usernsTranformer.UserNsTransformer object at 0x7f4209d979a0>\n",
      "Epoch: 1 cost time: 266.5219666957855\n",
      "Epoch: 2 cost time: 266.704993724823\n",
      "Epoch: 3 cost time: 266.33297634124756\n",
      "Epoch: 4 cost time: 267.525431394577\n",
      "Epoch: 5 cost time: 266.34718203544617\n",
      "<modules.usernsTranformer.UserNsTransformer object at 0x7f4209d478b0>\n",
      "Epoch: 1 cost time: 268.4390618801117\n",
      "Epoch: 2 cost time: 265.77528977394104\n",
      "Epoch: 3 cost time: 266.6537582874298\n",
      "Epoch: 4 cost time: 268.3378539085388\n",
      "Epoch: 5 cost time: 265.5306866168976\n",
      "<modules.usernsTranformer.UserNsTransformer object at 0x7f422012e9e0>\n",
      "Epoch: 1 cost time: 266.4810035228729\n",
      "Epoch: 2 cost time: 266.3217079639435\n",
      "Epoch: 3 cost time: 267.16730761528015\n",
      "Epoch: 4 cost time: 265.3166506290436\n",
      "Epoch: 5 cost time: 265.6803994178772\n",
      "<modules.usernsTranformer.UserNsTransformer object at 0x7f42205c7af0>\n",
      "Epoch: 1 cost time: 266.59706258773804\n",
      "Epoch: 2 cost time: 266.57780170440674\n",
      "Epoch: 3 cost time: 269.1033284664154\n",
      "Epoch: 4 cost time: 267.06300234794617\n",
      "Epoch: 5 cost time: 266.3714699745178\n"
     ]
    },
    {
     "name": "stderr",
     "output_type": "stream",
     "text": [
      "Progress:  10%|█         | 3/30 [4:42:00<42:34:18, 5676.23s/it]"
     ]
    },
    {
     "name": "stdout",
     "output_type": "stream",
     "text": [
      "<modules.usernsTranformer.UserNsTransformer object at 0x7f422012fb50>\n",
      "Epoch: 1 cost time: 264.77133321762085\n",
      "Epoch: 2 cost time: 265.8915445804596\n",
      "Epoch: 3 cost time: 266.5790591239929\n",
      "Epoch: 4 cost time: 266.046457529068\n",
      "Epoch: 5 cost time: 265.6793704032898\n",
      "<modules.usernsTranformer.UserNsTransformer object at 0x7f4209bd6fe0>\n",
      "Epoch: 1 cost time: 266.873991727829\n",
      "Epoch: 2 cost time: 267.1012718677521\n",
      "Epoch: 3 cost time: 269.2296097278595\n",
      "Epoch: 4 cost time: 267.8192284107208\n",
      "Epoch: 5 cost time: 266.9802522659302\n",
      "<modules.usernsTranformer.UserNsTransformer object at 0x7f42097dfb80>\n",
      "Epoch: 1 cost time: 267.7944371700287\n",
      "Epoch: 2 cost time: 265.173189163208\n",
      "Epoch: 3 cost time: 266.1982796192169\n",
      "Epoch: 4 cost time: 269.4648778438568\n",
      "Epoch: 5 cost time: 268.8076844215393\n",
      "<modules.usernsTranformer.UserNsTransformer object at 0x7f42205c7ca0>\n",
      "Epoch: 1 cost time: 267.5173006057739\n",
      "Epoch: 2 cost time: 266.99824595451355\n",
      "Epoch: 3 cost time: 268.59515619277954\n",
      "Epoch: 4 cost time: 266.9372019767761\n",
      "Epoch: 5 cost time: 266.0174114704132\n"
     ]
    },
    {
     "name": "stderr",
     "output_type": "stream",
     "text": [
      "Progress:  13%|█▎        | 4/30 [6:17:56<41:13:16, 5707.56s/it]"
     ]
    },
    {
     "name": "stdout",
     "output_type": "stream",
     "text": [
      "<modules.usernsTranformer.UserNsTransformer object at 0x7f42202557b0>\n",
      "Epoch: 1 cost time: 266.389456987381\n",
      "Epoch: 2 cost time: 265.60806369781494\n",
      "Epoch: 3 cost time: 267.92348408699036\n",
      "Epoch: 4 cost time: 268.81842255592346\n",
      "Epoch: 5 cost time: 265.59994530677795\n",
      "<modules.usernsTranformer.UserNsTransformer object at 0x7f42097dfb80>\n",
      "Epoch: 1 cost time: 264.4286267757416\n",
      "Epoch: 2 cost time: 266.5669512748718\n",
      "Epoch: 3 cost time: 265.0198667049408\n",
      "Epoch: 4 cost time: 265.6875350475311\n",
      "Epoch: 5 cost time: 265.94159984588623\n",
      "<modules.usernsTranformer.UserNsTransformer object at 0x7f422012ea70>\n",
      "Epoch: 1 cost time: 265.4459853172302\n",
      "Epoch: 2 cost time: 265.4613211154938\n",
      "Epoch: 3 cost time: 266.37543392181396\n",
      "Epoch: 4 cost time: 266.45035314559937\n",
      "Epoch: 5 cost time: 266.8579931259155\n",
      "<modules.usernsTranformer.UserNsTransformer object at 0x7f42205c7d60>\n",
      "Epoch: 1 cost time: 268.01898670196533\n",
      "Epoch: 2 cost time: 268.1494028568268\n",
      "Epoch: 3 cost time: 266.102121591568\n",
      "Epoch: 4 cost time: 257.0834426879883\n",
      "Epoch: 5 cost time: 242.4304163455963\n"
     ]
    },
    {
     "name": "stderr",
     "output_type": "stream",
     "text": [
      "Progress:  17%|█▋        | 5/30 [7:52:26<39:32:34, 5694.20s/it]"
     ]
    },
    {
     "name": "stdout",
     "output_type": "stream",
     "text": [
      "<modules.usernsTranformer.UserNsTransformer object at 0x7f420983eb00>\n",
      "Epoch: 1 cost time: 242.92523193359375\n",
      "Epoch: 2 cost time: 241.30732560157776\n",
      "Epoch: 3 cost time: 241.55665254592896\n",
      "Epoch: 4 cost time: 241.10345196723938\n",
      "Epoch: 5 cost time: 241.72965550422668\n",
      "<modules.usernsTranformer.UserNsTransformer object at 0x7f4209b02380>\n",
      "Epoch: 1 cost time: 242.09877824783325\n",
      "Epoch: 2 cost time: 241.32367134094238\n",
      "Epoch: 3 cost time: 241.80644702911377\n",
      "Epoch: 4 cost time: 241.91198468208313\n",
      "Epoch: 5 cost time: 241.68646383285522\n",
      "<modules.usernsTranformer.UserNsTransformer object at 0x7f42205c7af0>\n",
      "Epoch: 1 cost time: 240.42553782463074\n",
      "Epoch: 2 cost time: 242.4343650341034\n",
      "Epoch: 3 cost time: 242.8468132019043\n",
      "Epoch: 4 cost time: 242.57253241539001\n",
      "Epoch: 5 cost time: 240.6445095539093\n",
      "<modules.usernsTranformer.UserNsTransformer object at 0x7f422020a830>\n",
      "Epoch: 1 cost time: 241.90809202194214\n",
      "Epoch: 2 cost time: 242.57078623771667\n",
      "Epoch: 3 cost time: 241.92437267303467\n",
      "Epoch: 4 cost time: 240.8890416622162\n",
      "Epoch: 5 cost time: 239.7479441165924\n"
     ]
    },
    {
     "name": "stderr",
     "output_type": "stream",
     "text": [
      "Progress:  20%|██        | 6/30 [9:19:15<36:51:36, 5529.04s/it]"
     ]
    },
    {
     "name": "stdout",
     "output_type": "stream",
     "text": [
      "<modules.usernsTranformer.UserNsTransformer object at 0x7f42205c7af0>\n",
      "Epoch: 1 cost time: 242.46750736236572\n",
      "Epoch: 2 cost time: 242.29531836509705\n",
      "Epoch: 3 cost time: 241.27562642097473\n",
      "Epoch: 4 cost time: 241.56357264518738\n",
      "Epoch: 5 cost time: 242.32086443901062\n",
      "<modules.usernsTranformer.UserNsTransformer object at 0x7f4220254d30>\n",
      "Epoch: 1 cost time: 242.04683446884155\n",
      "Epoch: 2 cost time: 240.81169199943542\n",
      "Epoch: 3 cost time: 242.49169254302979\n",
      "Epoch: 4 cost time: 242.71662259101868\n",
      "Epoch: 5 cost time: 240.51648235321045\n",
      "<modules.usernsTranformer.UserNsTransformer object at 0x7f4209c33ac0>\n",
      "Epoch: 1 cost time: 240.8799171447754\n",
      "Epoch: 2 cost time: 242.46776223182678\n",
      "Epoch: 3 cost time: 242.5157208442688\n",
      "Epoch: 4 cost time: 241.2682182788849\n",
      "Epoch: 5 cost time: 242.3349621295929\n",
      "<modules.usernsTranformer.UserNsTransformer object at 0x7f4209707610>\n",
      "Epoch: 1 cost time: 243.58969831466675\n",
      "Epoch: 2 cost time: 242.5015516281128\n",
      "Epoch: 3 cost time: 242.8629355430603\n",
      "Epoch: 4 cost time: 243.89175629615784\n",
      "Epoch: 5 cost time: 244.63561582565308\n"
     ]
    },
    {
     "name": "stderr",
     "output_type": "stream",
     "text": [
      "Progress:  23%|██▎       | 7/30 [10:46:17<34:40:59, 5428.68s/it]"
     ]
    },
    {
     "name": "stdout",
     "output_type": "stream",
     "text": [
      "<modules.usernsTranformer.UserNsTransformer object at 0x7f420983fd30>\n",
      "Epoch: 1 cost time: 241.61524868011475\n",
      "Epoch: 2 cost time: 243.34652853012085\n",
      "Epoch: 3 cost time: 241.15781998634338\n",
      "Epoch: 4 cost time: 243.12109518051147\n",
      "Epoch: 5 cost time: 243.27692031860352\n",
      "<modules.usernsTranformer.UserNsTransformer object at 0x7f42093eb340>\n",
      "Epoch: 1 cost time: 242.39037895202637\n",
      "Epoch: 2 cost time: 242.40747809410095\n",
      "Epoch: 3 cost time: 240.4598548412323\n",
      "Epoch: 4 cost time: 242.8399887084961\n",
      "Epoch: 5 cost time: 229.33895230293274\n",
      "<modules.usernsTranformer.UserNsTransformer object at 0x7f4209573520>\n",
      "Epoch: 1 cost time: 216.7439248561859\n",
      "Epoch: 2 cost time: 217.67737746238708\n",
      "Epoch: 3 cost time: 218.00753569602966\n",
      "Epoch: 4 cost time: 218.3571171760559\n",
      "Epoch: 5 cost time: 219.73282527923584\n",
      "<modules.usernsTranformer.UserNsTransformer object at 0x7f4209f03430>\n",
      "Epoch: 1 cost time: 217.0438961982727\n",
      "Epoch: 2 cost time: 217.55626463890076\n",
      "Epoch: 3 cost time: 217.33296918869019\n",
      "Epoch: 4 cost time: 217.86257672309875\n",
      "Epoch: 5 cost time: 217.80341005325317\n"
     ]
    },
    {
     "name": "stderr",
     "output_type": "stream",
     "text": [
      "Progress:  27%|██▋       | 8/30 [12:08:25<32:12:03, 5269.24s/it]"
     ]
    },
    {
     "name": "stdout",
     "output_type": "stream",
     "text": [
      "<modules.usernsTranformer.UserNsTransformer object at 0x7f420932a9e0>\n",
      "Epoch: 1 cost time: 216.47627449035645\n",
      "Epoch: 2 cost time: 216.98379755020142\n",
      "Epoch: 3 cost time: 216.45192551612854\n",
      "Epoch: 4 cost time: 217.3205451965332\n",
      "Epoch: 5 cost time: 217.9851109981537\n",
      "<modules.usernsTranformer.UserNsTransformer object at 0x7f422049c340>\n",
      "Epoch: 1 cost time: 218.23014545440674\n",
      "Epoch: 2 cost time: 198.99924635887146\n",
      "Epoch: 3 cost time: 198.35160064697266\n",
      "Epoch: 4 cost time: 195.33539199829102\n",
      "Epoch: 5 cost time: 194.55051040649414\n",
      "<modules.usernsTranformer.UserNsTransformer object at 0x7f422012ea70>\n",
      "Epoch: 1 cost time: 193.952561378479\n",
      "Epoch: 2 cost time: 193.02910375595093\n",
      "Epoch: 3 cost time: 193.7924885749817\n",
      "Epoch: 4 cost time: 194.26474952697754\n",
      "Epoch: 5 cost time: 193.70292949676514\n",
      "<modules.usernsTranformer.UserNsTransformer object at 0x7f42095735e0>\n",
      "Epoch: 1 cost time: 193.1819896697998\n",
      "Epoch: 2 cost time: 193.72893810272217\n",
      "Epoch: 3 cost time: 194.67481994628906\n",
      "Epoch: 4 cost time: 194.74370050430298\n",
      "Epoch: 5 cost time: 192.9017972946167\n"
     ]
    },
    {
     "name": "stderr",
     "output_type": "stream",
     "text": [
      "Progress:  30%|███       | 9/30 [13:20:35<29:01:29, 4975.68s/it]"
     ]
    },
    {
     "name": "stdout",
     "output_type": "stream",
     "text": [
      "<modules.usernsTranformer.UserNsTransformer object at 0x7f42096aa920>\n",
      "Epoch: 1 cost time: 175.39156532287598\n",
      "Epoch: 2 cost time: 169.28710055351257\n",
      "Epoch: 3 cost time: 168.17855024337769\n",
      "Epoch: 4 cost time: 168.20012044906616\n",
      "Epoch: 5 cost time: 168.5972023010254\n",
      "<modules.usernsTranformer.UserNsTransformer object at 0x7f422012ea70>\n",
      "Epoch: 1 cost time: 168.59375953674316\n",
      "Epoch: 2 cost time: 168.10093808174133\n",
      "Epoch: 3 cost time: 169.058899641037\n",
      "Epoch: 4 cost time: 168.46268463134766\n",
      "Epoch: 5 cost time: 166.44400191307068\n",
      "<modules.usernsTranformer.UserNsTransformer object at 0x7f4209c339a0>\n",
      "Epoch: 1 cost time: 169.22441959381104\n",
      "Epoch: 2 cost time: 170.43716502189636\n",
      "Epoch: 3 cost time: 170.6002378463745\n",
      "Epoch: 4 cost time: 170.53096795082092\n",
      "Epoch: 5 cost time: 170.12996339797974\n",
      "<modules.usernsTranformer.UserNsTransformer object at 0x7f4209bd6fe0>\n",
      "Epoch: 1 cost time: 168.98802542686462\n",
      "Epoch: 2 cost time: 168.68024134635925\n",
      "Epoch: 3 cost time: 167.47209930419922\n",
      "Epoch: 4 cost time: 169.44369316101074\n",
      "Epoch: 5 cost time: 167.920756816864\n"
     ]
    },
    {
     "name": "stderr",
     "output_type": "stream",
     "text": [
      "Progress:  33%|███▎      | 10/30 [14:21:21<25:21:47, 4565.36s/it]"
     ]
    },
    {
     "name": "stdout",
     "output_type": "stream",
     "text": [
      "<modules.usernsTranformer.UserNsTransformer object at 0x7f4220254d30>\n",
      "Epoch: 1 cost time: 167.55278182029724\n",
      "Epoch: 2 cost time: 168.80534434318542\n",
      "Epoch: 3 cost time: 169.74872374534607\n",
      "Epoch: 4 cost time: 169.2604682445526\n",
      "Epoch: 5 cost time: 168.72530102729797\n",
      "<modules.usernsTranformer.UserNsTransformer object at 0x7f42205c7ca0>\n",
      "Epoch: 1 cost time: 168.02933478355408\n",
      "Epoch: 2 cost time: 169.36356139183044\n",
      "Epoch: 3 cost time: 169.21269845962524\n",
      "Epoch: 4 cost time: 167.55747842788696\n",
      "Epoch: 5 cost time: 168.9920084476471\n",
      "<modules.usernsTranformer.UserNsTransformer object at 0x7f420983eb00>\n",
      "Epoch: 1 cost time: 169.60306358337402\n",
      "Epoch: 2 cost time: 169.17529797554016\n",
      "Epoch: 3 cost time: 167.75364327430725\n",
      "Epoch: 4 cost time: 167.94514513015747\n",
      "Epoch: 5 cost time: 168.09128522872925\n",
      "<modules.usernsTranformer.UserNsTransformer object at 0x7f4209973d60>\n",
      "Epoch: 1 cost time: 168.8925769329071\n",
      "Epoch: 2 cost time: 169.26769518852234\n",
      "Epoch: 3 cost time: 168.15699696540833\n",
      "Epoch: 4 cost time: 168.6567735671997\n",
      "Epoch: 5 cost time: 169.5007724761963\n"
     ]
    },
    {
     "name": "stderr",
     "output_type": "stream",
     "text": [
      "Progress:  37%|███▋      | 11/30 [15:21:59<22:35:44, 4281.27s/it]"
     ]
    },
    {
     "name": "stdout",
     "output_type": "stream",
     "text": [
      "<modules.usernsTranformer.UserNsTransformer object at 0x7f4209f019f0>\n",
      "Epoch: 1 cost time: 169.5550320148468\n",
      "Epoch: 2 cost time: 168.5249059200287\n",
      "Epoch: 3 cost time: 167.71021580696106\n",
      "Epoch: 4 cost time: 168.87044072151184\n",
      "Epoch: 5 cost time: 170.02826404571533\n",
      "<modules.usernsTranformer.UserNsTransformer object at 0x7f4220379180>\n",
      "Epoch: 1 cost time: 167.93481349945068\n",
      "Epoch: 2 cost time: 167.42220330238342\n",
      "Epoch: 3 cost time: 168.50539112091064\n",
      "Epoch: 4 cost time: 168.33650159835815\n",
      "Epoch: 5 cost time: 169.75271034240723\n",
      "<modules.usernsTranformer.UserNsTransformer object at 0x7f42096aa920>\n",
      "Epoch: 1 cost time: 168.26001286506653\n",
      "Epoch: 2 cost time: 168.03909397125244\n",
      "Epoch: 3 cost time: 167.91678428649902\n",
      "Epoch: 4 cost time: 168.17038869857788\n",
      "Epoch: 5 cost time: 167.25818133354187\n",
      "<modules.usernsTranformer.UserNsTransformer object at 0x7f420932a9e0>\n",
      "Epoch: 1 cost time: 167.71589970588684\n",
      "Epoch: 2 cost time: 167.00380945205688\n",
      "Epoch: 3 cost time: 168.87982726097107\n",
      "Epoch: 4 cost time: 170.15818643569946\n",
      "Epoch: 5 cost time: 168.880633354187\n"
     ]
    },
    {
     "name": "stderr",
     "output_type": "stream",
     "text": [
      "Progress:  40%|████      | 12/30 [16:22:30<20:25:03, 4083.55s/it]"
     ]
    },
    {
     "name": "stdout",
     "output_type": "stream",
     "text": [
      "<modules.usernsTranformer.UserNsTransformer object at 0x7f4209d478b0>\n",
      "Epoch: 1 cost time: 167.06449055671692\n",
      "Epoch: 2 cost time: 168.05015468597412\n",
      "Epoch: 3 cost time: 167.63725662231445\n",
      "Epoch: 4 cost time: 169.34717726707458\n",
      "Epoch: 5 cost time: 168.17239046096802\n",
      "<modules.usernsTranformer.UserNsTransformer object at 0x7f4220427c70>\n",
      "Epoch: 1 cost time: 168.1544370651245\n",
      "Epoch: 2 cost time: 168.7278127670288\n",
      "Epoch: 3 cost time: 169.66108894348145\n",
      "Epoch: 4 cost time: 170.3618869781494\n",
      "Epoch: 5 cost time: 169.92207622528076\n",
      "<modules.usernsTranformer.UserNsTransformer object at 0x7f42205c7ca0>\n",
      "Epoch: 1 cost time: 167.3791584968567\n",
      "Epoch: 2 cost time: 168.75500535964966\n",
      "Epoch: 3 cost time: 168.3345558643341\n",
      "Epoch: 4 cost time: 168.44878125190735\n",
      "Epoch: 5 cost time: 167.01215243339539\n",
      "<modules.usernsTranformer.UserNsTransformer object at 0x7f4209a9f8e0>\n",
      "Epoch: 1 cost time: 168.32602787017822\n",
      "Epoch: 2 cost time: 168.0233268737793\n",
      "Epoch: 3 cost time: 166.64345812797546\n",
      "Epoch: 4 cost time: 167.9203224182129\n",
      "Epoch: 5 cost time: 167.2605049610138\n"
     ]
    },
    {
     "name": "stderr",
     "output_type": "stream",
     "text": [
      "Progress:  43%|████▎     | 13/30 [17:22:56<18:37:46, 3945.08s/it]"
     ]
    },
    {
     "name": "stdout",
     "output_type": "stream",
     "text": [
      "<modules.usernsTranformer.UserNsTransformer object at 0x7f42093ebfa0>\n",
      "Epoch: 1 cost time: 168.0148413181305\n",
      "Epoch: 2 cost time: 169.7284824848175\n",
      "Epoch: 3 cost time: 168.04365873336792\n",
      "Epoch: 4 cost time: 167.33110904693604\n",
      "Epoch: 5 cost time: 168.1071116924286\n",
      "<modules.usernsTranformer.UserNsTransformer object at 0x7f42205c7af0>\n",
      "Epoch: 1 cost time: 168.97667717933655\n",
      "Epoch: 2 cost time: 167.63275170326233\n",
      "Epoch: 3 cost time: 170.076021194458\n",
      "Epoch: 4 cost time: 169.70448088645935\n",
      "Epoch: 5 cost time: 168.75876355171204\n",
      "<modules.usernsTranformer.UserNsTransformer object at 0x7f42096abb50>\n",
      "Epoch: 1 cost time: 168.13393807411194\n",
      "Epoch: 2 cost time: 168.23263931274414\n",
      "Epoch: 3 cost time: 168.79727435112\n",
      "Epoch: 4 cost time: 168.79089975357056\n",
      "Epoch: 5 cost time: 168.04696249961853\n",
      "<modules.usernsTranformer.UserNsTransformer object at 0x7f420932a9e0>\n",
      "Epoch: 1 cost time: 168.64385104179382\n",
      "Epoch: 2 cost time: 169.01003170013428\n",
      "Epoch: 3 cost time: 169.95007944107056\n",
      "Epoch: 4 cost time: 169.06879353523254\n",
      "Epoch: 5 cost time: 167.59833979606628\n"
     ]
    },
    {
     "name": "stderr",
     "output_type": "stream",
     "text": [
      "Progress:  47%|████▋     | 14/30 [18:23:32<17:07:05, 3851.59s/it]"
     ]
    },
    {
     "name": "stdout",
     "output_type": "stream",
     "text": [
      "<modules.usernsTranformer.UserNsTransformer object at 0x7f4220379180>\n",
      "Epoch: 1 cost time: 168.56471800804138\n",
      "Epoch: 2 cost time: 168.52894949913025\n",
      "Epoch: 3 cost time: 167.52247500419617\n",
      "Epoch: 4 cost time: 167.90127182006836\n",
      "Epoch: 5 cost time: 167.6911861896515\n",
      "<modules.usernsTranformer.UserNsTransformer object at 0x7f4209573520>\n",
      "Epoch: 1 cost time: 167.54303622245789\n",
      "Epoch: 2 cost time: 170.79489612579346\n",
      "Epoch: 3 cost time: 169.78980088233948\n",
      "Epoch: 4 cost time: 169.7217185497284\n",
      "Epoch: 5 cost time: 169.06566953659058\n",
      "<modules.usernsTranformer.UserNsTransformer object at 0x7f4209707610>\n",
      "Epoch: 1 cost time: 169.3038341999054\n",
      "Epoch: 2 cost time: 167.25017070770264\n",
      "Epoch: 3 cost time: 168.49123668670654\n",
      "Epoch: 4 cost time: 168.22771048545837\n",
      "Epoch: 5 cost time: 167.56189274787903\n",
      "<modules.usernsTranformer.UserNsTransformer object at 0x7f4220254d30>\n",
      "Epoch: 1 cost time: 168.35982060432434\n",
      "Epoch: 2 cost time: 168.00850200653076\n",
      "Epoch: 3 cost time: 168.69079780578613\n",
      "Epoch: 4 cost time: 168.39637565612793\n",
      "Epoch: 5 cost time: 167.8558452129364\n"
     ]
    },
    {
     "name": "stderr",
     "output_type": "stream",
     "text": [
      "Progress:  50%|█████     | 15/30 [19:24:03<15:46:17, 3785.18s/it]"
     ]
    },
    {
     "name": "stdout",
     "output_type": "stream",
     "text": [
      "<modules.usernsTranformer.UserNsTransformer object at 0x7f422012ea70>\n",
      "Epoch: 1 cost time: 168.41880226135254\n",
      "Epoch: 2 cost time: 168.9222207069397\n",
      "Epoch: 3 cost time: 169.75208401679993\n",
      "Epoch: 4 cost time: 170.49620985984802\n",
      "Epoch: 5 cost time: 170.31418752670288\n",
      "<modules.usernsTranformer.UserNsTransformer object at 0x7f4209d44dc0>\n",
      "Epoch: 1 cost time: 170.57233667373657\n",
      "Epoch: 2 cost time: 170.49574661254883\n",
      "Epoch: 3 cost time: 168.09700107574463\n",
      "Epoch: 4 cost time: 168.80182909965515\n",
      "Epoch: 5 cost time: 168.32406330108643\n",
      "<modules.usernsTranformer.UserNsTransformer object at 0x7f42205c7ca0>\n",
      "Epoch: 1 cost time: 166.98781538009644\n",
      "Epoch: 2 cost time: 168.44211077690125\n",
      "Epoch: 3 cost time: 169.35628986358643\n",
      "Epoch: 4 cost time: 168.85586714744568\n",
      "Epoch: 5 cost time: 168.71853470802307\n",
      "<modules.usernsTranformer.UserNsTransformer object at 0x7f4209c33ac0>\n",
      "Epoch: 1 cost time: 168.5128104686737\n",
      "Epoch: 2 cost time: 168.64380359649658\n",
      "Epoch: 3 cost time: 168.0856761932373\n",
      "Epoch: 4 cost time: 166.78444838523865\n",
      "Epoch: 5 cost time: 169.02148509025574\n"
     ]
    },
    {
     "name": "stderr",
     "output_type": "stream",
     "text": [
      "Progress:  53%|█████▎    | 16/30 [20:24:42<14:32:56, 3741.18s/it]"
     ]
    },
    {
     "name": "stdout",
     "output_type": "stream",
     "text": [
      "<modules.usernsTranformer.UserNsTransformer object at 0x7f42093ebfa0>\n",
      "Epoch: 1 cost time: 168.9543435573578\n",
      "Epoch: 2 cost time: 168.3408486843109\n",
      "Epoch: 3 cost time: 167.94827437400818\n",
      "Epoch: 4 cost time: 168.16345405578613\n",
      "Epoch: 5 cost time: 169.17644476890564\n",
      "<modules.usernsTranformer.UserNsTransformer object at 0x7f4209f03430>\n",
      "Epoch: 1 cost time: 169.45915341377258\n",
      "Epoch: 2 cost time: 167.71475958824158\n",
      "Epoch: 3 cost time: 167.51304006576538\n",
      "Epoch: 4 cost time: 166.84276795387268\n",
      "Epoch: 5 cost time: 168.60899877548218\n",
      "<modules.usernsTranformer.UserNsTransformer object at 0x7f422012fb50>\n",
      "Epoch: 1 cost time: 168.4725034236908\n",
      "Epoch: 2 cost time: 169.33002257347107\n",
      "Epoch: 3 cost time: 169.97451329231262\n",
      "Epoch: 4 cost time: 167.79315543174744\n",
      "Epoch: 5 cost time: 167.5875949859619\n",
      "<modules.usernsTranformer.UserNsTransformer object at 0x7f4220379180>\n",
      "Epoch: 1 cost time: 168.11442685127258\n",
      "Epoch: 2 cost time: 167.84336614608765\n",
      "Epoch: 3 cost time: 168.42084646224976\n",
      "Epoch: 4 cost time: 168.26843190193176\n",
      "Epoch: 5 cost time: 167.0432460308075\n"
     ]
    },
    {
     "name": "stderr",
     "output_type": "stream",
     "text": [
      "Progress:  57%|█████▋    | 17/30 [21:25:12<13:23:18, 3707.60s/it]"
     ]
    },
    {
     "name": "stdout",
     "output_type": "stream",
     "text": [
      "<modules.usernsTranformer.UserNsTransformer object at 0x7f422037b4f0>\n",
      "Epoch: 1 cost time: 170.03986644744873\n",
      "Epoch: 2 cost time: 167.10634660720825\n",
      "Epoch: 3 cost time: 166.87906765937805\n",
      "Epoch: 4 cost time: 168.48336148262024\n",
      "Epoch: 5 cost time: 168.939612865448\n",
      "<modules.usernsTranformer.UserNsTransformer object at 0x7f420944f9a0>\n",
      "Epoch: 1 cost time: 168.34459018707275\n",
      "Epoch: 2 cost time: 168.8174593448639\n",
      "Epoch: 3 cost time: 167.3107044696808\n",
      "Epoch: 4 cost time: 167.5524387359619\n",
      "Epoch: 5 cost time: 167.8382375240326\n",
      "<modules.usernsTranformer.UserNsTransformer object at 0x7f42097dfb80>\n",
      "Epoch: 1 cost time: 168.33690571784973\n",
      "Epoch: 2 cost time: 168.43339037895203\n",
      "Epoch: 3 cost time: 168.68683171272278\n",
      "Epoch: 4 cost time: 167.16857075691223\n",
      "Epoch: 5 cost time: 167.77483487129211\n",
      "<modules.usernsTranformer.UserNsTransformer object at 0x7f4209c33ac0>\n",
      "Epoch: 1 cost time: 169.9086081981659\n",
      "Epoch: 2 cost time: 169.7387523651123\n",
      "Epoch: 3 cost time: 168.4346408843994\n",
      "Epoch: 4 cost time: 169.5158772468567\n",
      "Epoch: 5 cost time: 169.59259128570557\n"
     ]
    },
    {
     "name": "stderr",
     "output_type": "stream",
     "text": [
      "Progress:  60%|██████    | 18/30 [22:25:47<12:17:11, 3685.98s/it]"
     ]
    },
    {
     "name": "stdout",
     "output_type": "stream",
     "text": [
      "<modules.usernsTranformer.UserNsTransformer object at 0x7f422012e9e0>\n",
      "Epoch: 1 cost time: 168.37432265281677\n",
      "Epoch: 2 cost time: 169.10093808174133\n",
      "Epoch: 3 cost time: 169.04058241844177\n",
      "Epoch: 4 cost time: 168.34632682800293\n",
      "Epoch: 5 cost time: 168.71588611602783\n",
      "<modules.usernsTranformer.UserNsTransformer object at 0x7f422020a830>\n",
      "Epoch: 1 cost time: 168.1001319885254\n",
      "Epoch: 2 cost time: 168.95853352546692\n",
      "Epoch: 3 cost time: 167.92711687088013\n",
      "Epoch: 4 cost time: 168.2581868171692\n",
      "Epoch: 5 cost time: 168.19163990020752\n",
      "<modules.usernsTranformer.UserNsTransformer object at 0x7f4209d979a0>\n",
      "Epoch: 1 cost time: 167.65233826637268\n",
      "Epoch: 2 cost time: 168.2078878879547\n",
      "Epoch: 3 cost time: 168.5403892993927\n",
      "Epoch: 4 cost time: 167.72594261169434\n",
      "Epoch: 5 cost time: 167.46002650260925\n",
      "<modules.usernsTranformer.UserNsTransformer object at 0x7f4209a9f7f0>\n",
      "Epoch: 1 cost time: 171.9365918636322\n",
      "Epoch: 2 cost time: 167.60089564323425\n",
      "Epoch: 3 cost time: 168.5117564201355\n",
      "Epoch: 4 cost time: 169.31346225738525\n",
      "Epoch: 5 cost time: 167.3688406944275\n"
     ]
    },
    {
     "name": "stderr",
     "output_type": "stream",
     "text": [
      "Progress:  63%|██████▎   | 19/30 [23:26:19<11:12:46, 3669.72s/it]"
     ]
    },
    {
     "name": "stdout",
     "output_type": "stream",
     "text": [
      "<modules.usernsTranformer.UserNsTransformer object at 0x7f42202557b0>\n",
      "Epoch: 1 cost time: 168.2971088886261\n",
      "Epoch: 2 cost time: 169.90526032447815\n",
      "Epoch: 3 cost time: 169.35854625701904\n",
      "Epoch: 4 cost time: 169.0609486103058\n",
      "Epoch: 5 cost time: 168.19023060798645\n",
      "<modules.usernsTranformer.UserNsTransformer object at 0x7f4209f03430>\n",
      "Epoch: 1 cost time: 169.5402853488922\n",
      "Epoch: 2 cost time: 169.319669008255\n",
      "Epoch: 3 cost time: 169.6054244041443\n",
      "Epoch: 4 cost time: 167.15523982048035\n",
      "Epoch: 5 cost time: 167.9984414577484\n",
      "<modules.usernsTranformer.UserNsTransformer object at 0x7f42205c7d60>\n",
      "Epoch: 1 cost time: 167.95003366470337\n",
      "Epoch: 2 cost time: 167.50814056396484\n",
      "Epoch: 3 cost time: 168.76791214942932\n",
      "Epoch: 4 cost time: 168.66760754585266\n",
      "Epoch: 5 cost time: 167.67971563339233\n",
      "<modules.usernsTranformer.UserNsTransformer object at 0x7f4209d979a0>\n",
      "Epoch: 1 cost time: 168.73668336868286\n",
      "Epoch: 2 cost time: 167.8037872314453\n",
      "Epoch: 3 cost time: 169.18577098846436\n",
      "Epoch: 4 cost time: 168.5776743888855\n",
      "Epoch: 5 cost time: 168.47073674201965\n"
     ]
    },
    {
     "name": "stderr",
     "output_type": "stream",
     "text": [
      "Progress:  67%|██████▋   | 20/30 [24:26:52<10:09:46, 3658.65s/it]"
     ]
    },
    {
     "name": "stdout",
     "output_type": "stream",
     "text": [
      "<modules.usernsTranformer.UserNsTransformer object at 0x7f4209bd7cd0>\n",
      "Epoch: 1 cost time: 168.0241105556488\n",
      "Epoch: 2 cost time: 168.68262600898743\n",
      "Epoch: 3 cost time: 169.304790019989\n",
      "Epoch: 4 cost time: 167.29354453086853\n",
      "Epoch: 5 cost time: 167.49895477294922\n",
      "<modules.usernsTranformer.UserNsTransformer object at 0x7f4209d979a0>\n",
      "Epoch: 1 cost time: 168.26891446113586\n",
      "Epoch: 2 cost time: 167.86548113822937\n",
      "Epoch: 3 cost time: 167.66188025474548\n",
      "Epoch: 4 cost time: 168.69134831428528\n",
      "Epoch: 5 cost time: 168.99413776397705\n",
      "<modules.usernsTranformer.UserNsTransformer object at 0x7f420932a9e0>\n",
      "Epoch: 1 cost time: 167.1597867012024\n",
      "Epoch: 2 cost time: 168.20224738121033\n",
      "Epoch: 3 cost time: 168.81871819496155\n",
      "Epoch: 4 cost time: 168.99108242988586\n",
      "Epoch: 5 cost time: 169.3309588432312\n",
      "<modules.usernsTranformer.UserNsTransformer object at 0x7f4209707700>\n",
      "Epoch: 1 cost time: 169.63623476028442\n",
      "Epoch: 2 cost time: 168.25537705421448\n",
      "Epoch: 3 cost time: 169.00884246826172\n",
      "Epoch: 4 cost time: 169.15524649620056\n",
      "Epoch: 5 cost time: 168.5615599155426\n"
     ]
    },
    {
     "name": "stderr",
     "output_type": "stream",
     "text": [
      "Progress:  70%|███████   | 21/30 [25:27:26<9:07:41, 3651.28s/it] "
     ]
    },
    {
     "name": "stdout",
     "output_type": "stream",
     "text": [
      "<modules.usernsTranformer.UserNsTransformer object at 0x7f4209a9f7f0>\n",
      "Epoch: 1 cost time: 167.75900173187256\n",
      "Epoch: 2 cost time: 169.68999862670898\n",
      "Epoch: 3 cost time: 167.6461420059204\n",
      "Epoch: 4 cost time: 168.16363406181335\n",
      "Epoch: 5 cost time: 168.2563111782074\n",
      "<modules.usernsTranformer.UserNsTransformer object at 0x7f42093ebfa0>\n",
      "Epoch: 1 cost time: 167.79385209083557\n",
      "Epoch: 2 cost time: 167.64102697372437\n",
      "Epoch: 3 cost time: 167.8929319381714\n",
      "Epoch: 4 cost time: 167.49456310272217\n",
      "Epoch: 5 cost time: 166.79353141784668\n",
      "<modules.usernsTranformer.UserNsTransformer object at 0x7f42205c7af0>\n",
      "Epoch: 1 cost time: 167.878591299057\n",
      "Epoch: 2 cost time: 170.27139377593994\n",
      "Epoch: 3 cost time: 169.39506006240845\n",
      "Epoch: 4 cost time: 170.1094024181366\n",
      "Epoch: 5 cost time: 168.8518967628479\n",
      "<modules.usernsTranformer.UserNsTransformer object at 0x7f4209f019f0>\n",
      "Epoch: 1 cost time: 169.6511960029602\n",
      "Epoch: 2 cost time: 168.35422611236572\n",
      "Epoch: 3 cost time: 167.15365600585938\n",
      "Epoch: 4 cost time: 167.46477007865906\n",
      "Epoch: 5 cost time: 167.12831115722656\n"
     ]
    },
    {
     "name": "stderr",
     "output_type": "stream",
     "text": [
      "Progress:  73%|███████▎  | 22/30 [26:27:55<8:05:56, 3644.58s/it]"
     ]
    },
    {
     "name": "stdout",
     "output_type": "stream",
     "text": [
      "<modules.usernsTranformer.UserNsTransformer object at 0x7f4209c339a0>\n",
      "Epoch: 1 cost time: 171.4562041759491\n",
      "Epoch: 2 cost time: 169.93678951263428\n",
      "Epoch: 3 cost time: 170.6130690574646\n",
      "Epoch: 4 cost time: 167.77047324180603\n",
      "Epoch: 5 cost time: 168.58129286766052\n",
      "<modules.usernsTranformer.UserNsTransformer object at 0x7f42092b7e50>\n",
      "Epoch: 1 cost time: 168.55235815048218\n",
      "Epoch: 2 cost time: 168.7485065460205\n",
      "Epoch: 3 cost time: 168.0226194858551\n",
      "Epoch: 4 cost time: 168.91670632362366\n",
      "Epoch: 5 cost time: 168.11634922027588\n",
      "<modules.usernsTranformer.UserNsTransformer object at 0x7f42095735e0>\n",
      "Epoch: 1 cost time: 166.73695588111877\n",
      "Epoch: 2 cost time: 167.90562081336975\n",
      "Epoch: 3 cost time: 167.50085830688477\n",
      "Epoch: 4 cost time: 168.1048765182495\n",
      "Epoch: 5 cost time: 168.04129457473755\n",
      "<modules.usernsTranformer.UserNsTransformer object at 0x7f4209573520>\n",
      "Epoch: 1 cost time: 168.149254322052\n",
      "Epoch: 2 cost time: 168.40156173706055\n",
      "Epoch: 3 cost time: 168.0045120716095\n",
      "Epoch: 4 cost time: 167.81906723976135\n",
      "Epoch: 5 cost time: 168.62437748908997\n"
     ]
    },
    {
     "name": "stderr",
     "output_type": "stream",
     "text": [
      "Progress:  77%|███████▋  | 23/30 [27:28:29<7:04:49, 3641.35s/it]"
     ]
    },
    {
     "name": "stdout",
     "output_type": "stream",
     "text": [
      "<modules.usernsTranformer.UserNsTransformer object at 0x7f4209c339a0>\n",
      "Epoch: 1 cost time: 167.99589824676514\n",
      "Epoch: 2 cost time: 168.10277843475342\n",
      "Epoch: 3 cost time: 167.70411372184753\n",
      "Epoch: 4 cost time: 167.7609899044037\n",
      "Epoch: 5 cost time: 168.82764291763306\n",
      "<modules.usernsTranformer.UserNsTransformer object at 0x7f42096abb50>\n",
      "Epoch: 1 cost time: 168.46498847007751\n",
      "Epoch: 2 cost time: 168.24947237968445\n",
      "Epoch: 3 cost time: 168.5629322528839\n",
      "Epoch: 4 cost time: 169.38508200645447\n",
      "Epoch: 5 cost time: 168.1227035522461\n",
      "<modules.usernsTranformer.UserNsTransformer object at 0x7f4209d979a0>\n",
      "Epoch: 1 cost time: 169.462242603302\n",
      "Epoch: 2 cost time: 168.222665309906\n",
      "Epoch: 3 cost time: 167.66443967819214\n",
      "Epoch: 4 cost time: 167.99400663375854\n",
      "Epoch: 5 cost time: 168.68944478034973\n",
      "<modules.usernsTranformer.UserNsTransformer object at 0x7f420932a9e0>\n",
      "Epoch: 1 cost time: 167.205486536026\n",
      "Epoch: 2 cost time: 168.72920513153076\n",
      "Epoch: 3 cost time: 168.60445642471313\n",
      "Epoch: 4 cost time: 170.26631903648376\n",
      "Epoch: 5 cost time: 167.94896912574768\n"
     ]
    },
    {
     "name": "stderr",
     "output_type": "stream",
     "text": [
      "Progress:  80%|████████  | 24/30 [28:28:59<6:03:48, 3638.05s/it]"
     ]
    },
    {
     "name": "stdout",
     "output_type": "stream",
     "text": [
      "<modules.usernsTranformer.UserNsTransformer object at 0x7f4209d478b0>\n",
      "Epoch: 1 cost time: 168.13616800308228\n",
      "Epoch: 2 cost time: 167.6667857170105\n",
      "Epoch: 3 cost time: 167.1227216720581\n",
      "Epoch: 4 cost time: 168.06158828735352\n",
      "Epoch: 5 cost time: 167.94729614257812\n",
      "<modules.usernsTranformer.UserNsTransformer object at 0x7f42205c7c40>\n",
      "Epoch: 1 cost time: 169.8725528717041\n",
      "Epoch: 2 cost time: 169.524005651474\n",
      "Epoch: 3 cost time: 168.43033528327942\n",
      "Epoch: 4 cost time: 167.88222694396973\n",
      "Epoch: 5 cost time: 168.06894779205322\n",
      "<modules.usernsTranformer.UserNsTransformer object at 0x7f42205c7af0>\n",
      "Epoch: 1 cost time: 168.16171598434448\n",
      "Epoch: 2 cost time: 167.54725575447083\n",
      "Epoch: 3 cost time: 166.75357675552368\n",
      "Epoch: 4 cost time: 168.4914059638977\n",
      "Epoch: 5 cost time: 167.92124271392822\n",
      "<modules.usernsTranformer.UserNsTransformer object at 0x7f4220254d30>\n",
      "Epoch: 1 cost time: 168.59117722511292\n",
      "Epoch: 2 cost time: 168.57111406326294\n",
      "Epoch: 3 cost time: 170.92169761657715\n",
      "Epoch: 4 cost time: 169.95292210578918\n",
      "Epoch: 5 cost time: 167.3364863395691\n"
     ]
    },
    {
     "name": "stderr",
     "output_type": "stream",
     "text": [
      "Progress:  83%|████████▎ | 25/30 [29:29:28<5:02:56, 3635.24s/it]"
     ]
    },
    {
     "name": "stdout",
     "output_type": "stream",
     "text": [
      "<modules.usernsTranformer.UserNsTransformer object at 0x7f42092b7e50>\n",
      "Epoch: 1 cost time: 168.2211410999298\n",
      "Epoch: 2 cost time: 168.67974519729614\n",
      "Epoch: 3 cost time: 169.35921049118042\n",
      "Epoch: 4 cost time: 169.5700168609619\n",
      "Epoch: 5 cost time: 168.9644672870636\n",
      "<modules.usernsTranformer.UserNsTransformer object at 0x7f42096aa920>\n",
      "Epoch: 1 cost time: 169.54406189918518\n",
      "Epoch: 2 cost time: 169.30541682243347\n",
      "Epoch: 3 cost time: 170.45145297050476\n",
      "Epoch: 4 cost time: 167.7247097492218\n",
      "Epoch: 5 cost time: 168.41007089614868\n",
      "<modules.usernsTranformer.UserNsTransformer object at 0x7f420932a740>\n",
      "Epoch: 1 cost time: 169.10747480392456\n",
      "Epoch: 2 cost time: 168.97406387329102\n",
      "Epoch: 3 cost time: 167.71821522712708\n",
      "Epoch: 4 cost time: 168.05845975875854\n",
      "Epoch: 5 cost time: 168.21020197868347\n",
      "<modules.usernsTranformer.UserNsTransformer object at 0x7f4209f019f0>\n",
      "Epoch: 1 cost time: 168.00665974617004\n",
      "Epoch: 2 cost time: 168.628276348114\n",
      "Epoch: 3 cost time: 169.98502683639526\n",
      "Epoch: 4 cost time: 169.0024914741516\n",
      "Epoch: 5 cost time: 168.371812582016\n"
     ]
    },
    {
     "name": "stderr",
     "output_type": "stream",
     "text": [
      "Progress:  87%|████████▋ | 26/30 [30:30:07<4:02:25, 3636.45s/it]"
     ]
    },
    {
     "name": "stdout",
     "output_type": "stream",
     "text": [
      "<modules.usernsTranformer.UserNsTransformer object at 0x7f4209f019f0>\n",
      "Epoch: 1 cost time: 168.84448552131653\n",
      "Epoch: 2 cost time: 169.26973056793213\n",
      "Epoch: 3 cost time: 169.61558079719543\n",
      "Epoch: 4 cost time: 168.92490768432617\n",
      "Epoch: 5 cost time: 170.89023756980896\n",
      "<modules.usernsTranformer.UserNsTransformer object at 0x7f422037b4f0>\n",
      "Epoch: 1 cost time: 150.44937372207642\n",
      "Epoch: 2 cost time: 141.39844179153442\n",
      "Epoch: 3 cost time: 143.58266973495483\n",
      "Epoch: 4 cost time: 144.07367134094238\n",
      "Epoch: 5 cost time: 144.2708923816681\n",
      "<modules.usernsTranformer.UserNsTransformer object at 0x7f42205c7af0>\n",
      "Epoch: 1 cost time: 143.9379801750183\n",
      "Epoch: 2 cost time: 144.07718896865845\n",
      "Epoch: 3 cost time: 144.2546889781952\n",
      "Epoch: 4 cost time: 139.372328042984\n",
      "Epoch: 5 cost time: 142.83879280090332\n",
      "<modules.usernsTranformer.UserNsTransformer object at 0x7f4209f03430>\n",
      "Epoch: 1 cost time: 143.78405141830444\n",
      "Epoch: 2 cost time: 143.47664093971252\n",
      "Epoch: 3 cost time: 143.25676202774048\n",
      "Epoch: 4 cost time: 142.81588292121887\n",
      "Epoch: 5 cost time: 141.5744547843933\n"
     ]
    },
    {
     "name": "stderr",
     "output_type": "stream",
     "text": [
      "Progress:  90%|█████████ | 27/30 [31:23:50<2:55:36, 3512.33s/it]"
     ]
    },
    {
     "name": "stdout",
     "output_type": "stream",
     "text": [
      "<modules.usernsTranformer.UserNsTransformer object at 0x7f42097dfb80>\n",
      "Epoch: 1 cost time: 141.53458309173584\n",
      "Epoch: 2 cost time: 142.70770835876465\n",
      "Epoch: 3 cost time: 142.3439998626709\n",
      "Epoch: 4 cost time: 142.20573544502258\n",
      "Epoch: 5 cost time: 143.6576554775238\n",
      "<modules.usernsTranformer.UserNsTransformer object at 0x7f4209707700>\n",
      "Epoch: 1 cost time: 143.80927872657776\n",
      "Epoch: 2 cost time: 140.72120761871338\n",
      "Epoch: 3 cost time: 142.1595118045807\n",
      "Epoch: 4 cost time: 142.29590773582458\n",
      "Epoch: 5 cost time: 142.23926091194153\n",
      "<modules.usernsTranformer.UserNsTransformer object at 0x7f4209a9f7f0>\n",
      "Epoch: 1 cost time: 141.8208236694336\n",
      "Epoch: 2 cost time: 144.56431126594543\n",
      "Epoch: 3 cost time: 143.74568271636963\n",
      "Epoch: 4 cost time: 143.313818693161\n",
      "Epoch: 5 cost time: 143.034166097641\n",
      "<modules.usernsTranformer.UserNsTransformer object at 0x7f4220379180>\n",
      "Epoch: 1 cost time: 142.90028715133667\n",
      "Epoch: 2 cost time: 142.98628067970276\n",
      "Epoch: 3 cost time: 141.64234614372253\n",
      "Epoch: 4 cost time: 140.71483635902405\n",
      "Epoch: 5 cost time: 141.6378993988037\n"
     ]
    },
    {
     "name": "stderr",
     "output_type": "stream",
     "text": [
      "Progress:  93%|█████████▎| 28/30 [32:15:04<1:52:41, 3380.80s/it]"
     ]
    },
    {
     "name": "stdout",
     "output_type": "stream",
     "text": [
      "<modules.usernsTranformer.UserNsTransformer object at 0x7f4220254d30>\n",
      "Epoch: 1 cost time: 142.39138555526733\n",
      "Epoch: 2 cost time: 142.3800048828125\n",
      "Epoch: 3 cost time: 143.04570817947388\n",
      "Epoch: 4 cost time: 142.63516640663147\n",
      "Epoch: 5 cost time: 141.59208631515503\n",
      "<modules.usernsTranformer.UserNsTransformer object at 0x7f42202557b0>\n",
      "Epoch: 1 cost time: 143.05583262443542\n",
      "Epoch: 2 cost time: 141.88444995880127\n",
      "Epoch: 3 cost time: 142.14557600021362\n",
      "Epoch: 4 cost time: 143.45768904685974\n",
      "Epoch: 5 cost time: 140.9634268283844\n",
      "<modules.usernsTranformer.UserNsTransformer object at 0x7f4209707700>\n",
      "Epoch: 1 cost time: 141.3039882183075\n",
      "Epoch: 2 cost time: 143.68184304237366\n",
      "Epoch: 3 cost time: 142.96706104278564\n",
      "Epoch: 4 cost time: 143.66659545898438\n",
      "Epoch: 5 cost time: 144.144268989563\n",
      "<modules.usernsTranformer.UserNsTransformer object at 0x7f42095735e0>\n",
      "Epoch: 1 cost time: 144.62233638763428\n",
      "Epoch: 2 cost time: 119.11511754989624\n",
      "Epoch: 3 cost time: 116.17452025413513\n",
      "Epoch: 4 cost time: 116.26573753356934\n",
      "Epoch: 5 cost time: 120.64423847198486\n"
     ]
    },
    {
     "name": "stderr",
     "output_type": "stream",
     "text": [
      "Progress:  97%|█████████▋| 29/30 [33:04:08<54:09, 3249.65s/it]  "
     ]
    },
    {
     "name": "stdout",
     "output_type": "stream",
     "text": [
      "<modules.usernsTranformer.UserNsTransformer object at 0x7f420932a9e0>\n",
      "Epoch: 1 cost time: 113.76352596282959\n",
      "Epoch: 2 cost time: 111.37110757827759\n",
      "Epoch: 3 cost time: 113.2837336063385\n",
      "Epoch: 4 cost time: 111.24582362174988\n",
      "Epoch: 5 cost time: 112.99351787567139\n",
      "<modules.usernsTranformer.UserNsTransformer object at 0x7f422012e9e0>\n",
      "Epoch: 1 cost time: 112.21153211593628\n",
      "Epoch: 2 cost time: 112.0816388130188\n",
      "Epoch: 3 cost time: 111.50443816184998\n",
      "Epoch: 4 cost time: 112.05832815170288\n",
      "Epoch: 5 cost time: 112.19026708602905\n",
      "<modules.usernsTranformer.UserNsTransformer object at 0x7f4209bd6fe0>\n",
      "Epoch: 1 cost time: 111.82082962989807\n",
      "Epoch: 2 cost time: 113.30190992355347\n",
      "Epoch: 3 cost time: 112.46572589874268\n",
      "Epoch: 4 cost time: 112.50230550765991\n",
      "Epoch: 5 cost time: 109.82794761657715\n",
      "<modules.usernsTranformer.UserNsTransformer object at 0x7f420944f9a0>\n",
      "Epoch: 1 cost time: 111.70939230918884\n",
      "Epoch: 2 cost time: 112.01958274841309\n",
      "Epoch: 3 cost time: 113.5833191871643\n",
      "Epoch: 4 cost time: 113.56173419952393\n",
      "Epoch: 5 cost time: 113.66753959655762\n"
     ]
    },
    {
     "name": "stderr",
     "output_type": "stream",
     "text": [
      "Progress: 100%|██████████| 30/30 [33:44:31<00:00, 4049.05s/it]\n"
     ]
    }
   ],
   "source": [
    "import random\n",
    "from tqdm import tqdm\n",
    "from math import sqrt\n",
    "\n",
    "server = ServerNsTransformer(model=server_model, test_loader=server_data_list)\n",
    "\n",
    "user_list = []\n",
    "\n",
    "# Create users\n",
    "for i in range(config_wanb.num_user):\n",
    "    user_i = UserNsTransformer(train_loader=user_data_list[i], model=server_model, user_id=i, local_epochs=config_wanb.local_epochs)\n",
    "    user_list.append(user_i)\n",
    "\n",
    "for _ in tqdm(range(config_wanb.global_epochs), desc=f\"Progress\"):\n",
    "    # Distribute initial model to users\n",
    "    server.distribute_model(user_list)\n",
    "    \n",
    "    # Sub-sample users\n",
    "    sub_user_list = random.sample(user_list, int(config_wanb.user_ratio * config_wanb.num_user))\n",
    "\n",
    "    # Check the sub-sampled user and train model\n",
    "    users_loss = 0.0\n",
    "    for user in sub_user_list:\n",
    "        print(user)\n",
    "        user_loss = user.user_train(args)\n",
    "        users_loss += user_loss\n",
    "    # Aggregate weights on server\n",
    "    server.aggregate_weights(sub_user_list)\n",
    "\n",
    "    # Calulate avg loss on selected users\n",
    "    train_loss =  users_loss / len(sub_user_list)\n",
    "\n",
    "    total_mae = []\n",
    "    total_mse = []\n",
    "    for test_loader in server.test_loader:    \n",
    "        mae, mse, rmse, mape, mspe = server.model_eval(args=args, test_loader=test_loader)\n",
    "        total_mae.append(mae)\n",
    "        total_mse.append(mse)\n",
    "    \n",
    "    wandb.log({\"train_loss\": train_loss, \"mae\": sum(total_mae)/len(total_mae), 'rmse': sqrt(sum(total_mse)/len(total_mse))})"
   ]
  },
  {
   "cell_type": "code",
   "execution_count": 18,
   "metadata": {},
   "outputs": [
    {
     "data": {
      "text/plain": [
       "[0.26244587,\n",
       " 0.29568663,\n",
       " 0.23205206,\n",
       " 0.25478095,\n",
       " 0.28187844,\n",
       " 0.37863362,\n",
       " 0.31492305,\n",
       " 0.30888048,\n",
       " 0.34229752,\n",
       " 0.26122627,\n",
       " 0.32674596,\n",
       " 0.2626313,\n",
       " 0.26402968,\n",
       " 0.26033714,\n",
       " 0.3715763,\n",
       " 0.2646031,\n",
       " 0.23957962,\n",
       " 0.2509775,\n",
       " 0.24376087,\n",
       " 0.25778008,\n",
       " 0.2856703,\n",
       " 0.28105497,\n",
       " 0.30834326,\n",
       " 0.29272947,\n",
       " 0.3616104,\n",
       " 0.38590533,\n",
       " 0.35685366,\n",
       " 0.2399795,\n",
       " 0.32879335,\n",
       " 0.2807287,\n",
       " 0.32140052,\n",
       " 0.29822317,\n",
       " 0.30820486,\n",
       " 0.37697136,\n",
       " 0.36903372,\n",
       " 0.34757096,\n",
       " 0.39956367,\n",
       " 0.32349962,\n",
       " 0.32898465,\n",
       " 0.3685847,\n",
       " 0.32926857,\n",
       " 0.35520858,\n",
       " 0.31802034]"
      ]
     },
     "execution_count": 18,
     "metadata": {},
     "output_type": "execute_result"
    }
   ],
   "source": [
    "total_mae"
   ]
  }
 ],
 "metadata": {
  "kernelspec": {
   "display_name": ".venv",
   "language": "python",
   "name": "python3"
  },
  "language_info": {
   "codemirror_mode": {
    "name": "ipython",
    "version": 3
   },
   "file_extension": ".py",
   "mimetype": "text/x-python",
   "name": "python",
   "nbconvert_exporter": "python",
   "pygments_lexer": "ipython3",
   "version": "3.10.12"
  }
 },
 "nbformat": 4,
 "nbformat_minor": 2
}
