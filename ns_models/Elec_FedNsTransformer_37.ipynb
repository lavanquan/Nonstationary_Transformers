{
 "cells": [
  {
   "cell_type": "code",
   "execution_count": 1,
   "metadata": {},
   "outputs": [
    {
     "data": {
      "text/plain": [
       "'/home/qula0496/quan/Nonstationary_Transformers/ns_models'"
      ]
     },
     "execution_count": 1,
     "metadata": {},
     "output_type": "execute_result"
    }
   ],
   "source": [
    "%pwd"
   ]
  },
  {
   "cell_type": "code",
   "execution_count": 2,
   "metadata": {},
   "outputs": [
    {
     "name": "stdout",
     "output_type": "stream",
     "text": [
      "/home/qula0496/quan/Nonstationary_Transformers\n"
     ]
    },
    {
     "name": "stderr",
     "output_type": "stream",
     "text": [
      "/home/qula0496/quan/.venv/lib/python3.10/site-packages/IPython/core/magics/osm.py:417: UserWarning: This is now an optional IPython functionality, setting dhist requires you to install the `pickleshare` library.\n",
      "  self.shell.db['dhist'] = compress_dhist(dhist)[-100:]\n"
     ]
    }
   ],
   "source": [
    "%cd .."
   ]
  },
  {
   "cell_type": "code",
   "execution_count": 3,
   "metadata": {},
   "outputs": [],
   "source": [
    "import os\n",
    "n_users = 37\n",
    "gpu_id = '1'\n",
    "os.environ['CUDA_VISIBLE_DEVICES'] = gpu_id"
   ]
  },
  {
   "cell_type": "code",
   "execution_count": 4,
   "metadata": {},
   "outputs": [],
   "source": [
    "from utils.data_utils import *\n",
    "from utils.model_utils import *\n",
    "# from utils.koopman_utils import *\n",
    "from modules.serverbase import *\n",
    "from modules.userbase import *\n",
    "from modules.servernsTransformer import *\n",
    "from modules.usernsTranformer import *\n",
    "import numpy as np\n",
    "import torch\n",
    "torch.cuda.init()"
   ]
  },
  {
   "cell_type": "code",
   "execution_count": 5,
   "metadata": {},
   "outputs": [
    {
     "name": "stdout",
     "output_type": "stream",
     "text": [
      "Files are ready\n",
      "Data loaded..\n",
      "Data aggregated by hour: (26304, 370)\n"
     ]
    }
   ],
   "source": [
    "# Download the dataset\n",
    "download_elec_dataset()\n",
    "\n",
    "# Clean dataset\n",
    "elec_data = clean_elec()\n",
    "\n",
    "from sklearn.preprocessing import StandardScaler, MinMaxScaler\n",
    "Std_normalization = 1\n",
    "if Std_normalization:\n",
    "    scaler = StandardScaler()\n",
    "    temp = scaler.fit_transform(elec_data)\n",
    "    norm_means = scaler.mean_\n",
    "    norm_std = scaler.scale_\n",
    "else:\n",
    "    scaler = MinMaxScaler()\n",
    "    temp = scaler.fit_transform(elec_data)\n",
    "\n",
    "elec_data = pd.DataFrame(elec_data, index=elec_data.index, columns = elec_data.columns)"
   ]
  },
  {
   "cell_type": "code",
   "execution_count": 6,
   "metadata": {},
   "outputs": [],
   "source": [
    "# # prompt: write pandas to csv\n",
    "\n",
    "# import pandas as pd\n",
    "\n",
    "# # Save the DataFrame to a CSV file\n",
    "# elec_data.to_csv('/home/qula0496/quan/Nonstationary_Transformers/dataset/electricity/electricity.csv', index_label='date')\n"
   ]
  },
  {
   "cell_type": "code",
   "execution_count": 7,
   "metadata": {},
   "outputs": [
    {
     "data": {
      "text/plain": [
       "'electricity.csv'"
      ]
     },
     "execution_count": 7,
     "metadata": {},
     "output_type": "execute_result"
    }
   ],
   "source": [
    "from ns_models.ns_TransformerConfig import NS_TransformerConfig\n",
    "user_num_ts = int(elec_data.shape[1] / n_users)\n",
    "args = NS_TransformerConfig()\n",
    "args.devices = gpu_id\n",
    "args.enc_in = user_num_ts\n",
    "args.dec_in = user_num_ts\n",
    "args.c_out = user_num_ts\n",
    "args.data_path"
   ]
  },
  {
   "cell_type": "code",
   "execution_count": 8,
   "metadata": {},
   "outputs": [],
   "source": [
    "from torch.utils.data import DataLoader\n",
    "from data_provider.data_factory import *\n",
    "from data_provider.data_loader import *\n",
    "\n",
    "test_data, test_loader = data_provider(args, flag='test')"
   ]
  },
  {
   "cell_type": "code",
   "execution_count": 9,
   "metadata": {},
   "outputs": [
    {
     "data": {
      "text/plain": [
       "(96, 371)"
      ]
     },
     "execution_count": 9,
     "metadata": {},
     "output_type": "execute_result"
    }
   ],
   "source": [
    "test_data[0][0].shape"
   ]
  },
  {
   "cell_type": "code",
   "execution_count": 10,
   "metadata": {},
   "outputs": [],
   "source": [
    "user_data_list = []\n",
    "server_data_list = []\n",
    "for i in range(n_users):\n",
    "    train_data, train_loader = data_provider(args, flag='train', start=i*user_num_ts+1, end=min(user_num_ts*(i+1)+1, elec_data.shape[1]+1))\n",
    "    test_data, test_loader = data_provider(args, flag='test', start=i*user_num_ts+1, end=min(user_num_ts*(i+1)+1, elec_data.shape[1]+1))\n",
    "    # user_data = train_set.filter(lambda e, idx: idx>=(i*user_num_ts) and idx < user_num_ts*(i+1), with_indices=True)\n",
    "    user_data_list.append(train_loader)\n",
    "    server_data_list.append(test_loader)\n",
    "    # print(train_data[0][0].shape)"
   ]
  },
  {
   "cell_type": "code",
   "execution_count": 11,
   "metadata": {},
   "outputs": [
    {
     "data": {
      "text/plain": [
       "Model(\n",
       "  (enc_embedding): DataEmbedding(\n",
       "    (value_embedding): TokenEmbedding(\n",
       "      (tokenConv): Conv1d(10, 64, kernel_size=(3,), stride=(1,), padding=(1,), bias=False, padding_mode=circular)\n",
       "    )\n",
       "    (position_embedding): PositionalEmbedding()\n",
       "    (temporal_embedding): TimeFeatureEmbedding(\n",
       "      (embed): Linear(in_features=4, out_features=64, bias=False)\n",
       "    )\n",
       "    (dropout): Dropout(p=0.1, inplace=False)\n",
       "  )\n",
       "  (dec_embedding): DataEmbedding(\n",
       "    (value_embedding): TokenEmbedding(\n",
       "      (tokenConv): Conv1d(10, 64, kernel_size=(3,), stride=(1,), padding=(1,), bias=False, padding_mode=circular)\n",
       "    )\n",
       "    (position_embedding): PositionalEmbedding()\n",
       "    (temporal_embedding): TimeFeatureEmbedding(\n",
       "      (embed): Linear(in_features=4, out_features=64, bias=False)\n",
       "    )\n",
       "    (dropout): Dropout(p=0.1, inplace=False)\n",
       "  )\n",
       "  (encoder): Encoder(\n",
       "    (attn_layers): ModuleList(\n",
       "      (0-5): 6 x EncoderLayer(\n",
       "        (attention): AttentionLayer(\n",
       "          (inner_attention): DSAttention(\n",
       "            (dropout): Dropout(p=0.1, inplace=False)\n",
       "          )\n",
       "          (query_projection): Linear(in_features=64, out_features=64, bias=True)\n",
       "          (key_projection): Linear(in_features=64, out_features=64, bias=True)\n",
       "          (value_projection): Linear(in_features=64, out_features=64, bias=True)\n",
       "          (out_projection): Linear(in_features=64, out_features=64, bias=True)\n",
       "        )\n",
       "        (conv1): Conv1d(64, 32, kernel_size=(1,), stride=(1,))\n",
       "        (conv2): Conv1d(32, 64, kernel_size=(1,), stride=(1,))\n",
       "        (norm1): LayerNorm((64,), eps=1e-05, elementwise_affine=True)\n",
       "        (norm2): LayerNorm((64,), eps=1e-05, elementwise_affine=True)\n",
       "        (dropout): Dropout(p=0.1, inplace=False)\n",
       "      )\n",
       "    )\n",
       "    (norm): LayerNorm((64,), eps=1e-05, elementwise_affine=True)\n",
       "  )\n",
       "  (decoder): Decoder(\n",
       "    (layers): ModuleList(\n",
       "      (0-3): 4 x DecoderLayer(\n",
       "        (self_attention): AttentionLayer(\n",
       "          (inner_attention): DSAttention(\n",
       "            (dropout): Dropout(p=0.1, inplace=False)\n",
       "          )\n",
       "          (query_projection): Linear(in_features=64, out_features=64, bias=True)\n",
       "          (key_projection): Linear(in_features=64, out_features=64, bias=True)\n",
       "          (value_projection): Linear(in_features=64, out_features=64, bias=True)\n",
       "          (out_projection): Linear(in_features=64, out_features=64, bias=True)\n",
       "        )\n",
       "        (cross_attention): AttentionLayer(\n",
       "          (inner_attention): DSAttention(\n",
       "            (dropout): Dropout(p=0.1, inplace=False)\n",
       "          )\n",
       "          (query_projection): Linear(in_features=64, out_features=64, bias=True)\n",
       "          (key_projection): Linear(in_features=64, out_features=64, bias=True)\n",
       "          (value_projection): Linear(in_features=64, out_features=64, bias=True)\n",
       "          (out_projection): Linear(in_features=64, out_features=64, bias=True)\n",
       "        )\n",
       "        (conv1): Conv1d(64, 32, kernel_size=(1,), stride=(1,))\n",
       "        (conv2): Conv1d(32, 64, kernel_size=(1,), stride=(1,))\n",
       "        (norm1): LayerNorm((64,), eps=1e-05, elementwise_affine=True)\n",
       "        (norm2): LayerNorm((64,), eps=1e-05, elementwise_affine=True)\n",
       "        (norm3): LayerNorm((64,), eps=1e-05, elementwise_affine=True)\n",
       "        (dropout): Dropout(p=0.1, inplace=False)\n",
       "      )\n",
       "    )\n",
       "    (norm): LayerNorm((64,), eps=1e-05, elementwise_affine=True)\n",
       "    (projection): Linear(in_features=64, out_features=10, bias=True)\n",
       "  )\n",
       "  (tau_learner): Projector(\n",
       "    (series_conv): Conv1d(96, 1, kernel_size=(3,), stride=(1,), padding=(1,), bias=False, padding_mode=circular)\n",
       "    (backbone): Sequential(\n",
       "      (0): Linear(in_features=20, out_features=64, bias=True)\n",
       "      (1): ReLU()\n",
       "      (2): Linear(in_features=64, out_features=64, bias=True)\n",
       "      (3): ReLU()\n",
       "      (4): Linear(in_features=64, out_features=1, bias=False)\n",
       "    )\n",
       "  )\n",
       "  (delta_learner): Projector(\n",
       "    (series_conv): Conv1d(96, 1, kernel_size=(3,), stride=(1,), padding=(1,), bias=False, padding_mode=circular)\n",
       "    (backbone): Sequential(\n",
       "      (0): Linear(in_features=20, out_features=64, bias=True)\n",
       "      (1): ReLU()\n",
       "      (2): Linear(in_features=64, out_features=64, bias=True)\n",
       "      (3): ReLU()\n",
       "      (4): Linear(in_features=64, out_features=96, bias=False)\n",
       "    )\n",
       "  )\n",
       ")"
      ]
     },
     "execution_count": 11,
     "metadata": {},
     "output_type": "execute_result"
    }
   ],
   "source": [
    "from ns_models import ns_Transformer\n",
    "server_model = ns_Transformer.Model(configs=args)\n",
    "server_model"
   ]
  },
  {
   "cell_type": "markdown",
   "metadata": {},
   "source": [
    "# Setup WANDB"
   ]
  },
  {
   "cell_type": "code",
   "execution_count": 12,
   "metadata": {},
   "outputs": [
    {
     "name": "stderr",
     "output_type": "stream",
     "text": [
      "Failed to detect the name of this notebook, you can set it manually with the WANDB_NOTEBOOK_NAME environment variable to enable code saving.\n",
      "\u001b[34m\u001b[1mwandb\u001b[0m: Currently logged in as: \u001b[33mkenlvq\u001b[0m (\u001b[33mquanla\u001b[0m). Use \u001b[1m`wandb login --relogin`\u001b[0m to force relogin\n"
     ]
    },
    {
     "data": {
      "application/vnd.jupyter.widget-view+json": {
       "model_id": "9f3debdb3efe4503a3d180b5789e5806",
       "version_major": 2,
       "version_minor": 0
      },
      "text/plain": [
       "VBox(children=(Label(value='Waiting for wandb.init()...\\r'), FloatProgress(value=0.011112175778382354, max=1.0…"
      ]
     },
     "metadata": {},
     "output_type": "display_data"
    },
    {
     "data": {
      "text/html": [
       "wandb version 0.17.1 is available!  To upgrade, please run:\n",
       " $ pip install wandb --upgrade"
      ],
      "text/plain": [
       "<IPython.core.display.HTML object>"
      ]
     },
     "metadata": {},
     "output_type": "display_data"
    },
    {
     "data": {
      "text/html": [
       "Tracking run with wandb version 0.16.3"
      ],
      "text/plain": [
       "<IPython.core.display.HTML object>"
      ]
     },
     "metadata": {},
     "output_type": "display_data"
    },
    {
     "data": {
      "text/html": [
       "Run data is saved locally in <code>/home/qula0496/quan/Nonstationary_Transformers/wandb/run-20240611_141056-rcektjh6</code>"
      ],
      "text/plain": [
       "<IPython.core.display.HTML object>"
      ]
     },
     "metadata": {},
     "output_type": "display_data"
    },
    {
     "data": {
      "text/html": [
       "Syncing run <strong><a href='https://wandb.ai/quanla/Federated%20Non-Stationary%20Transformer%20on%20Elec%20dataset/runs/rcektjh6' target=\"_blank\">Federated Non-Stationary Transformer on Elec dataset</a></strong> to <a href='https://wandb.ai/quanla/Federated%20Non-Stationary%20Transformer%20on%20Elec%20dataset' target=\"_blank\">Weights & Biases</a> (<a href='https://wandb.me/run' target=\"_blank\">docs</a>)<br/>"
      ],
      "text/plain": [
       "<IPython.core.display.HTML object>"
      ]
     },
     "metadata": {},
     "output_type": "display_data"
    },
    {
     "data": {
      "text/html": [
       " View project at <a href='https://wandb.ai/quanla/Federated%20Non-Stationary%20Transformer%20on%20Elec%20dataset' target=\"_blank\">https://wandb.ai/quanla/Federated%20Non-Stationary%20Transformer%20on%20Elec%20dataset</a>"
      ],
      "text/plain": [
       "<IPython.core.display.HTML object>"
      ]
     },
     "metadata": {},
     "output_type": "display_data"
    },
    {
     "data": {
      "text/html": [
       " View run at <a href='https://wandb.ai/quanla/Federated%20Non-Stationary%20Transformer%20on%20Elec%20dataset/runs/rcektjh6' target=\"_blank\">https://wandb.ai/quanla/Federated%20Non-Stationary%20Transformer%20on%20Elec%20dataset/runs/rcektjh6</a>"
      ],
      "text/plain": [
       "<IPython.core.display.HTML object>"
      ]
     },
     "metadata": {},
     "output_type": "display_data"
    }
   ],
   "source": [
    "import wandb\n",
    "import torch\n",
    "\n",
    "NUM_GPUS = torch.cuda.device_count()\n",
    "LR = 1e-3\n",
    "GLOBAL_EPOCHS = 30\n",
    "LOCAL_EPOCHS = 5\n",
    "BATCH_SIZE = 128\n",
    "L2_PENALTY = 0.0\n",
    "USER_RATIO = 0.1\n",
    "run = wandb.init(\n",
    "    # project name\n",
    "    project=\"Federated Non-Stationary Transformer on Elec dataset\",\n",
    "    # experiment name\n",
    "    name=f\"Federated Non-Stationary Transformer on Elec dataset\",\n",
    "    # Hyperparams\n",
    "    config={\n",
    "        \"dataset\": \"Elec370\",\n",
    "        \"preprocess_type\": \"std\",\n",
    "        \"num_user\": n_users,\n",
    "        \"learning_rate\": LR,\n",
    "        \"global_epochs\": GLOBAL_EPOCHS,\n",
    "        \"local_epochs\": LOCAL_EPOCHS,\n",
    "        \"batch_size\": BATCH_SIZE,\n",
    "        \"num_gpus\": NUM_GPUS,\n",
    "        \"user_ratio\": USER_RATIO,\n",
    "        \"l2_penalty\": L2_PENALTY,\n",
    "        \"total_time_series\": 370,\n",
    "        \"detrending_data\": \"No\"\n",
    "    })\n",
    "\n",
    "config_wanb = wandb.config"
   ]
  },
  {
   "cell_type": "code",
   "execution_count": 13,
   "metadata": {},
   "outputs": [
    {
     "name": "stderr",
     "output_type": "stream",
     "text": [
      "Progress:   0%|          | 0/30 [00:00<?, ?it/s]"
     ]
    },
    {
     "name": "stdout",
     "output_type": "stream",
     "text": [
      "<modules.usernsTranformer.UserNsTransformer object at 0x7f8edaa23310>\n",
      "Epoch: 1 cost time: 34.68894410133362\n",
      "Epoch: 2 cost time: 36.45457410812378\n",
      "Epoch: 3 cost time: 34.13445329666138\n",
      "Epoch: 4 cost time: 32.56888127326965\n",
      "Epoch: 5 cost time: 34.17438197135925\n",
      "<modules.usernsTranformer.UserNsTransformer object at 0x7f8ed84a6830>\n",
      "Epoch: 1 cost time: 32.09558176994324\n",
      "Epoch: 2 cost time: 32.05680513381958\n",
      "Epoch: 3 cost time: 32.024245738983154\n",
      "Epoch: 4 cost time: 31.901092052459717\n",
      "Epoch: 5 cost time: 35.43361568450928\n",
      "<modules.usernsTranformer.UserNsTransformer object at 0x7f8edac7b970>\n",
      "Epoch: 1 cost time: 45.04165554046631\n",
      "Epoch: 2 cost time: 43.79860210418701\n",
      "Epoch: 3 cost time: 44.56614017486572\n",
      "Epoch: 4 cost time: 43.137893199920654\n",
      "Epoch: 5 cost time: 48.70283102989197\n"
     ]
    },
    {
     "name": "stderr",
     "output_type": "stream",
     "text": [
      "Progress:   3%|▎         | 1/30 [10:30<5:04:50, 630.71s/it]"
     ]
    },
    {
     "name": "stdout",
     "output_type": "stream",
     "text": [
      "<modules.usernsTranformer.UserNsTransformer object at 0x7f8ed8997a30>\n",
      "Epoch: 1 cost time: 45.934237241744995\n",
      "Epoch: 2 cost time: 44.445760011672974\n",
      "Epoch: 3 cost time: 43.672683238983154\n",
      "Epoch: 4 cost time: 45.42060208320618\n",
      "Epoch: 5 cost time: 44.88624405860901\n",
      "<modules.usernsTranformer.UserNsTransformer object at 0x7f8ed88235b0>\n",
      "Epoch: 1 cost time: 45.1038556098938\n",
      "Epoch: 2 cost time: 46.94602346420288\n",
      "Epoch: 3 cost time: 44.94026064872742\n",
      "Epoch: 4 cost time: 44.26863741874695\n",
      "Epoch: 5 cost time: 45.250282764434814\n",
      "<modules.usernsTranformer.UserNsTransformer object at 0x7f8edad9d690>\n",
      "Epoch: 1 cost time: 44.34543776512146\n",
      "Epoch: 2 cost time: 44.40358066558838\n",
      "Epoch: 3 cost time: 45.23905301094055\n",
      "Epoch: 4 cost time: 45.90857148170471\n",
      "Epoch: 5 cost time: 85.078453540802\n"
     ]
    },
    {
     "name": "stderr",
     "output_type": "stream",
     "text": [
      "Progress:   7%|▋         | 2/30 [25:00<6:00:02, 771.53s/it]"
     ]
    },
    {
     "name": "stdout",
     "output_type": "stream",
     "text": [
      "<modules.usernsTranformer.UserNsTransformer object at 0x7f8ed84a6830>\n",
      "Epoch: 1 cost time: 177.07407569885254\n",
      "Epoch: 2 cost time: 284.36673617362976\n",
      "Epoch: 3 cost time: 315.9074773788452\n",
      "Epoch: 4 cost time: 334.04599618911743\n",
      "Epoch: 5 cost time: 335.97278475761414\n",
      "<modules.usernsTranformer.UserNsTransformer object at 0x7f8eda7ce7d0>\n",
      "Epoch: 1 cost time: 335.1090290546417\n",
      "Epoch: 2 cost time: 335.46734046936035\n",
      "Epoch: 3 cost time: 334.27096724510193\n",
      "Epoch: 4 cost time: 335.1031262874603\n",
      "Epoch: 5 cost time: 334.3727581501007\n",
      "<modules.usernsTranformer.UserNsTransformer object at 0x7f8ed8ab7ee0>\n",
      "Epoch: 1 cost time: 333.1292245388031\n",
      "Epoch: 2 cost time: 333.87051796913147\n",
      "Epoch: 3 cost time: 334.73031735420227\n",
      "Epoch: 4 cost time: 332.2830238342285\n",
      "Epoch: 5 cost time: 334.4968726634979\n"
     ]
    },
    {
     "name": "stderr",
     "output_type": "stream",
     "text": [
      "Progress:  10%|█         | 3/30 [1:50:49<20:46:37, 2770.29s/it]"
     ]
    },
    {
     "name": "stdout",
     "output_type": "stream",
     "text": [
      "<modules.usernsTranformer.UserNsTransformer object at 0x7f8eda8fff10>\n",
      "Epoch: 1 cost time: 337.1194529533386\n",
      "Epoch: 2 cost time: 333.8738329410553\n",
      "Epoch: 3 cost time: 333.1742458343506\n",
      "Epoch: 4 cost time: 332.0842559337616\n",
      "Epoch: 5 cost time: 333.3148612976074\n",
      "<modules.usernsTranformer.UserNsTransformer object at 0x7f8ed84a6830>\n",
      "Epoch: 1 cost time: 335.27196049690247\n",
      "Epoch: 2 cost time: 334.08382844924927\n",
      "Epoch: 3 cost time: 336.4408721923828\n",
      "Epoch: 4 cost time: 336.01642775535583\n",
      "Epoch: 5 cost time: 332.7212326526642\n",
      "<modules.usernsTranformer.UserNsTransformer object at 0x7f8ed8997b50>\n",
      "Epoch: 1 cost time: 333.63572931289673\n",
      "Epoch: 2 cost time: 334.59844732284546\n",
      "Epoch: 3 cost time: 335.47416377067566\n",
      "Epoch: 4 cost time: 332.20678901672363\n",
      "Epoch: 5 cost time: 333.29089617729187\n"
     ]
    },
    {
     "name": "stderr",
     "output_type": "stream",
     "text": [
      "Progress:  13%|█▎        | 4/30 [3:20:20<27:25:24, 3797.11s/it]"
     ]
    },
    {
     "name": "stdout",
     "output_type": "stream",
     "text": [
      "<modules.usernsTranformer.UserNsTransformer object at 0x7f8eda7cfe50>\n",
      "Epoch: 1 cost time: 334.95502519607544\n",
      "Epoch: 2 cost time: 333.1406047344208\n",
      "Epoch: 3 cost time: 334.24544405937195\n",
      "Epoch: 4 cost time: 333.96638894081116\n",
      "Epoch: 5 cost time: 333.13886189460754\n",
      "<modules.usernsTranformer.UserNsTransformer object at 0x7f8ed8466b30>\n",
      "Epoch: 1 cost time: 335.82226037979126\n",
      "Epoch: 2 cost time: 333.5041501522064\n",
      "Epoch: 3 cost time: 333.84899640083313\n",
      "Epoch: 4 cost time: 333.74790716171265\n",
      "Epoch: 5 cost time: 331.2942087650299\n",
      "<modules.usernsTranformer.UserNsTransformer object at 0x7f8edac7b970>\n",
      "Epoch: 1 cost time: 335.75070214271545\n",
      "Epoch: 2 cost time: 335.03278136253357\n",
      "Epoch: 3 cost time: 333.7825813293457\n",
      "Epoch: 4 cost time: 333.58537459373474\n",
      "Epoch: 5 cost time: 331.9299921989441\n"
     ]
    },
    {
     "name": "stderr",
     "output_type": "stream",
     "text": [
      "Progress:  17%|█▋        | 5/30 [4:49:47<30:17:54, 4362.99s/it]"
     ]
    },
    {
     "name": "stdout",
     "output_type": "stream",
     "text": [
      "<modules.usernsTranformer.UserNsTransformer object at 0x7f8edad9d690>\n",
      "Epoch: 1 cost time: 333.6860911846161\n",
      "Epoch: 2 cost time: 333.40873289108276\n",
      "Epoch: 3 cost time: 333.1384527683258\n",
      "Epoch: 4 cost time: 335.7786371707916\n",
      "Epoch: 5 cost time: 332.29575514793396\n",
      "<modules.usernsTranformer.UserNsTransformer object at 0x7f8eda893130>\n",
      "Epoch: 1 cost time: 336.0791599750519\n",
      "Epoch: 2 cost time: 333.34525656700134\n",
      "Epoch: 3 cost time: 333.48596239089966\n",
      "Epoch: 4 cost time: 334.6492545604706\n",
      "Epoch: 5 cost time: 334.52546191215515\n",
      "<modules.usernsTranformer.UserNsTransformer object at 0x7f8ed8d1bd30>\n",
      "Epoch: 1 cost time: 333.9412536621094\n",
      "Epoch: 2 cost time: 335.47602939605713\n",
      "Epoch: 3 cost time: 332.5509207248688\n",
      "Epoch: 4 cost time: 334.55985379219055\n",
      "Epoch: 5 cost time: 333.54682540893555\n"
     ]
    },
    {
     "name": "stderr",
     "output_type": "stream",
     "text": [
      "Progress:  20%|██        | 6/30 [6:19:15<31:21:55, 4704.82s/it]"
     ]
    },
    {
     "name": "stdout",
     "output_type": "stream",
     "text": [
      "<modules.usernsTranformer.UserNsTransformer object at 0x7f8eda7cfe50>\n",
      "Epoch: 1 cost time: 333.5132873058319\n",
      "Epoch: 2 cost time: 335.50349974632263\n",
      "Epoch: 3 cost time: 332.81926941871643\n",
      "Epoch: 4 cost time: 334.10304403305054\n",
      "Epoch: 5 cost time: 332.0970313549042\n",
      "<modules.usernsTranformer.UserNsTransformer object at 0x7f8eda893c40>\n",
      "Epoch: 1 cost time: 333.83720660209656\n",
      "Epoch: 2 cost time: 335.6119194030762\n",
      "Epoch: 3 cost time: 332.77319836616516\n",
      "Epoch: 4 cost time: 331.2803990840912\n",
      "Epoch: 5 cost time: 334.3887085914612\n",
      "<modules.usernsTranformer.UserNsTransformer object at 0x7f8ed8997a30>\n",
      "Epoch: 1 cost time: 332.7553369998932\n",
      "Epoch: 2 cost time: 331.9697308540344\n",
      "Epoch: 3 cost time: 331.92571997642517\n",
      "Epoch: 4 cost time: 333.7075037956238\n",
      "Epoch: 5 cost time: 334.03599667549133\n"
     ]
    },
    {
     "name": "stderr",
     "output_type": "stream",
     "text": [
      "Progress:  23%|██▎       | 7/30 [7:48:34<31:25:31, 4918.78s/it]"
     ]
    },
    {
     "name": "stdout",
     "output_type": "stream",
     "text": [
      "<modules.usernsTranformer.UserNsTransformer object at 0x7f8eda893130>\n",
      "Epoch: 1 cost time: 333.7435145378113\n",
      "Epoch: 2 cost time: 333.9135868549347\n",
      "Epoch: 3 cost time: 328.14540338516235\n",
      "Epoch: 4 cost time: 303.1580653190613\n",
      "Epoch: 5 cost time: 304.42252945899963\n",
      "<modules.usernsTranformer.UserNsTransformer object at 0x7f8ed88234f0>\n",
      "Epoch: 1 cost time: 302.4213705062866\n",
      "Epoch: 2 cost time: 303.2228331565857\n",
      "Epoch: 3 cost time: 303.73856353759766\n",
      "Epoch: 4 cost time: 302.06914615631104\n",
      "Epoch: 5 cost time: 303.4255123138428\n",
      "<modules.usernsTranformer.UserNsTransformer object at 0x7f8eda7ce7d0>\n",
      "Epoch: 1 cost time: 303.33487462997437\n",
      "Epoch: 2 cost time: 303.1654245853424\n",
      "Epoch: 3 cost time: 303.5672855377197\n",
      "Epoch: 4 cost time: 304.05415201187134\n",
      "Epoch: 5 cost time: 304.0890853404999\n"
     ]
    },
    {
     "name": "stderr",
     "output_type": "stream",
     "text": [
      "Progress:  27%|██▋       | 8/30 [9:11:16<30:08:34, 4932.46s/it]"
     ]
    },
    {
     "name": "stdout",
     "output_type": "stream",
     "text": [
      "<modules.usernsTranformer.UserNsTransformer object at 0x7f8edab5a710>\n",
      "Epoch: 1 cost time: 303.3115019798279\n",
      "Epoch: 2 cost time: 302.4073348045349\n",
      "Epoch: 3 cost time: 304.3673722743988\n",
      "Epoch: 4 cost time: 303.51051092147827\n",
      "Epoch: 5 cost time: 305.5899393558502\n",
      "<modules.usernsTranformer.UserNsTransformer object at 0x7f8edaf8ae60>\n",
      "Epoch: 1 cost time: 301.7728896141052\n",
      "Epoch: 2 cost time: 302.08898067474365\n",
      "Epoch: 3 cost time: 302.6272339820862\n",
      "Epoch: 4 cost time: 302.3809106349945\n",
      "Epoch: 5 cost time: 301.55294466018677\n",
      "<modules.usernsTranformer.UserNsTransformer object at 0x7f8eda5b4280>\n",
      "Epoch: 1 cost time: 301.02507066726685\n",
      "Epoch: 2 cost time: 303.90884733200073\n",
      "Epoch: 3 cost time: 302.8876085281372\n",
      "Epoch: 4 cost time: 303.02301001548767\n",
      "Epoch: 5 cost time: 303.1463553905487\n"
     ]
    },
    {
     "name": "stderr",
     "output_type": "stream",
     "text": [
      "Progress:  30%|███       | 9/30 [10:32:24<28:39:20, 4912.41s/it]"
     ]
    },
    {
     "name": "stdout",
     "output_type": "stream",
     "text": [
      "<modules.usernsTranformer.UserNsTransformer object at 0x7f8edad9d600>\n",
      "Epoch: 1 cost time: 303.57899713516235\n",
      "Epoch: 2 cost time: 303.7572252750397\n",
      "Epoch: 3 cost time: 305.4566628932953\n",
      "Epoch: 4 cost time: 304.7205832004547\n",
      "Epoch: 5 cost time: 305.5338125228882\n",
      "<modules.usernsTranformer.UserNsTransformer object at 0x7f8ed8997a30>\n",
      "Epoch: 1 cost time: 305.0929501056671\n",
      "Epoch: 2 cost time: 302.3794860839844\n",
      "Epoch: 3 cost time: 301.8488178253174\n",
      "Epoch: 4 cost time: 302.89203572273254\n",
      "Epoch: 5 cost time: 304.21070885658264\n",
      "<modules.usernsTranformer.UserNsTransformer object at 0x7f8edad9d6c0>\n",
      "Epoch: 1 cost time: 303.11096143722534\n",
      "Epoch: 2 cost time: 304.1927845478058\n",
      "Epoch: 3 cost time: 304.6921103000641\n",
      "Epoch: 4 cost time: 301.67235016822815\n",
      "Epoch: 5 cost time: 301.4107892513275\n"
     ]
    },
    {
     "name": "stderr",
     "output_type": "stream",
     "text": [
      "Progress:  33%|███▎      | 10/30 [11:53:13<27:10:55, 4892.78s/it]"
     ]
    },
    {
     "name": "stdout",
     "output_type": "stream",
     "text": [
      "<modules.usernsTranformer.UserNsTransformer object at 0x7f8edab5a710>\n",
      "Epoch: 1 cost time: 271.88694167137146\n",
      "Epoch: 2 cost time: 273.4464166164398\n",
      "Epoch: 3 cost time: 272.39453411102295\n",
      "Epoch: 4 cost time: 271.8832347393036\n",
      "Epoch: 5 cost time: 271.8807625770569\n",
      "<modules.usernsTranformer.UserNsTransformer object at 0x7f8ed8803b20>\n",
      "Epoch: 1 cost time: 270.9736843109131\n",
      "Epoch: 2 cost time: 271.8448257446289\n",
      "Epoch: 3 cost time: 271.5385675430298\n",
      "Epoch: 4 cost time: 272.3316159248352\n",
      "Epoch: 5 cost time: 273.2743339538574\n",
      "<modules.usernsTranformer.UserNsTransformer object at 0x7f8edaa23310>\n",
      "Epoch: 1 cost time: 274.14208698272705\n",
      "Epoch: 2 cost time: 273.1521544456482\n",
      "Epoch: 3 cost time: 274.4926130771637\n",
      "Epoch: 4 cost time: 258.5604784488678\n",
      "Epoch: 5 cost time: 249.48846578598022\n"
     ]
    },
    {
     "name": "stderr",
     "output_type": "stream",
     "text": [
      "Progress:  37%|███▋      | 11/30 [13:05:07<24:53:17, 4715.68s/it]"
     ]
    },
    {
     "name": "stdout",
     "output_type": "stream",
     "text": [
      "<modules.usernsTranformer.UserNsTransformer object at 0x7f8ed8ab7ee0>\n",
      "Epoch: 1 cost time: 244.99866461753845\n",
      "Epoch: 2 cost time: 243.1095998287201\n",
      "Epoch: 3 cost time: 244.1400260925293\n",
      "Epoch: 4 cost time: 243.63371539115906\n",
      "Epoch: 5 cost time: 242.60840702056885\n",
      "<modules.usernsTranformer.UserNsTransformer object at 0x7f8edab5a710>\n",
      "Epoch: 1 cost time: 243.8620150089264\n",
      "Epoch: 2 cost time: 245.90432810783386\n",
      "Epoch: 3 cost time: 243.61776995658875\n",
      "Epoch: 4 cost time: 243.7279531955719\n",
      "Epoch: 5 cost time: 237.68593645095825\n",
      "<modules.usernsTranformer.UserNsTransformer object at 0x7f8edaf8ae60>\n",
      "Epoch: 1 cost time: 212.04785776138306\n",
      "Epoch: 2 cost time: 212.39418411254883\n",
      "Epoch: 3 cost time: 211.49085569381714\n",
      "Epoch: 4 cost time: 210.8477168083191\n",
      "Epoch: 5 cost time: 212.55592322349548\n"
     ]
    },
    {
     "name": "stderr",
     "output_type": "stream",
     "text": [
      "Progress:  40%|████      | 12/30 [14:07:08<22:03:52, 4412.93s/it]"
     ]
    },
    {
     "name": "stdout",
     "output_type": "stream",
     "text": [
      "<modules.usernsTranformer.UserNsTransformer object at 0x7f8edab5a710>\n",
      "Epoch: 1 cost time: 211.55809688568115\n",
      "Epoch: 2 cost time: 211.8499789237976\n",
      "Epoch: 3 cost time: 214.77719497680664\n",
      "Epoch: 4 cost time: 215.48531866073608\n",
      "Epoch: 5 cost time: 213.92458510398865\n",
      "<modules.usernsTranformer.UserNsTransformer object at 0x7f8edab5a9b0>\n",
      "Epoch: 1 cost time: 213.17280173301697\n",
      "Epoch: 2 cost time: 211.0250072479248\n",
      "Epoch: 3 cost time: 212.1809766292572\n",
      "Epoch: 4 cost time: 211.86826992034912\n",
      "Epoch: 5 cost time: 213.06019735336304\n",
      "<modules.usernsTranformer.UserNsTransformer object at 0x7f8edad9d690>\n",
      "Epoch: 1 cost time: 210.7978024482727\n",
      "Epoch: 2 cost time: 211.11856722831726\n",
      "Epoch: 3 cost time: 211.20675230026245\n",
      "Epoch: 4 cost time: 213.6267478466034\n",
      "Epoch: 5 cost time: 211.4775333404541\n"
     ]
    },
    {
     "name": "stderr",
     "output_type": "stream",
     "text": [
      "Progress:  43%|████▎     | 13/30 [15:04:03<19:24:40, 4110.59s/it]"
     ]
    },
    {
     "name": "stdout",
     "output_type": "stream",
     "text": [
      "<modules.usernsTranformer.UserNsTransformer object at 0x7f8edab5a9b0>\n",
      "Epoch: 1 cost time: 211.08812046051025\n",
      "Epoch: 2 cost time: 210.31070399284363\n",
      "Epoch: 3 cost time: 211.80563044548035\n",
      "Epoch: 4 cost time: 213.02258682250977\n",
      "Epoch: 5 cost time: 212.35725569725037\n",
      "<modules.usernsTranformer.UserNsTransformer object at 0x7f8eda5b4280>\n",
      "Epoch: 1 cost time: 211.17144536972046\n",
      "Epoch: 2 cost time: 212.46062016487122\n",
      "Epoch: 3 cost time: 212.78685069084167\n",
      "Epoch: 4 cost time: 212.78912353515625\n",
      "Epoch: 5 cost time: 211.74475812911987\n",
      "<modules.usernsTranformer.UserNsTransformer object at 0x7f8edaa23310>\n",
      "Epoch: 1 cost time: 212.41730523109436\n",
      "Epoch: 2 cost time: 213.55839562416077\n",
      "Epoch: 3 cost time: 212.25409412384033\n",
      "Epoch: 4 cost time: 211.59365487098694\n",
      "Epoch: 5 cost time: 213.14986205101013\n"
     ]
    },
    {
     "name": "stderr",
     "output_type": "stream",
     "text": [
      "Progress:  47%|████▋     | 14/30 [16:00:53<17:19:45, 3899.12s/it]"
     ]
    },
    {
     "name": "stdout",
     "output_type": "stream",
     "text": [
      "<modules.usernsTranformer.UserNsTransformer object at 0x7f8ed8d1be80>\n",
      "Epoch: 1 cost time: 210.22665286064148\n",
      "Epoch: 2 cost time: 211.1110134124756\n",
      "Epoch: 3 cost time: 210.38422060012817\n",
      "Epoch: 4 cost time: 211.44904708862305\n",
      "Epoch: 5 cost time: 211.60013842582703\n",
      "<modules.usernsTranformer.UserNsTransformer object at 0x7f8edaf8ae60>\n",
      "Epoch: 1 cost time: 210.16452741622925\n",
      "Epoch: 2 cost time: 210.80866765975952\n",
      "Epoch: 3 cost time: 211.765949010849\n",
      "Epoch: 4 cost time: 210.80280923843384\n",
      "Epoch: 5 cost time: 212.1521759033203\n",
      "<modules.usernsTranformer.UserNsTransformer object at 0x7f8ee675fd00>\n",
      "Epoch: 1 cost time: 211.4372308254242\n",
      "Epoch: 2 cost time: 212.87049531936646\n",
      "Epoch: 3 cost time: 209.82059168815613\n",
      "Epoch: 4 cost time: 211.83308053016663\n",
      "Epoch: 5 cost time: 212.42371082305908\n"
     ]
    },
    {
     "name": "stderr",
     "output_type": "stream",
     "text": [
      "Progress:  50%|█████     | 15/30 [16:57:31<15:36:57, 3747.86s/it]"
     ]
    },
    {
     "name": "stdout",
     "output_type": "stream",
     "text": [
      "<modules.usernsTranformer.UserNsTransformer object at 0x7f8edaf89420>\n",
      "Epoch: 1 cost time: 210.61708784103394\n",
      "Epoch: 2 cost time: 211.4286494255066\n",
      "Epoch: 3 cost time: 212.28373670578003\n",
      "Epoch: 4 cost time: 213.4602656364441\n",
      "Epoch: 5 cost time: 213.94698357582092\n",
      "<modules.usernsTranformer.UserNsTransformer object at 0x7f8edad9d690>\n",
      "Epoch: 1 cost time: 210.2172975540161\n",
      "Epoch: 2 cost time: 210.7905089855194\n",
      "Epoch: 3 cost time: 212.26707458496094\n",
      "Epoch: 4 cost time: 212.2393250465393\n",
      "Epoch: 5 cost time: 211.81540966033936\n",
      "<modules.usernsTranformer.UserNsTransformer object at 0x7f8ed88235b0>\n",
      "Epoch: 1 cost time: 211.99824237823486\n",
      "Epoch: 2 cost time: 211.06086230278015\n",
      "Epoch: 3 cost time: 210.65836453437805\n",
      "Epoch: 4 cost time: 212.52561855316162\n",
      "Epoch: 5 cost time: 210.39930844306946\n"
     ]
    },
    {
     "name": "stderr",
     "output_type": "stream",
     "text": [
      "Progress:  53%|█████▎    | 16/30 [17:54:13<14:10:12, 3643.75s/it]"
     ]
    },
    {
     "name": "stdout",
     "output_type": "stream",
     "text": [
      "<modules.usernsTranformer.UserNsTransformer object at 0x7f8ed8997b50>\n",
      "Epoch: 1 cost time: 211.32890820503235\n",
      "Epoch: 2 cost time: 210.34503197669983\n",
      "Epoch: 3 cost time: 211.29846024513245\n",
      "Epoch: 4 cost time: 212.76075339317322\n",
      "Epoch: 5 cost time: 213.61944389343262\n",
      "<modules.usernsTranformer.UserNsTransformer object at 0x7f8ed8bf65f0>\n",
      "Epoch: 1 cost time: 210.8455023765564\n",
      "Epoch: 2 cost time: 211.27427768707275\n",
      "Epoch: 3 cost time: 213.55452418327332\n",
      "Epoch: 4 cost time: 211.88922357559204\n",
      "Epoch: 5 cost time: 212.55743622779846\n",
      "<modules.usernsTranformer.UserNsTransformer object at 0x7f8eda893c40>\n",
      "Epoch: 1 cost time: 212.28610968589783\n",
      "Epoch: 2 cost time: 212.2916967868805\n",
      "Epoch: 3 cost time: 211.42473649978638\n",
      "Epoch: 4 cost time: 210.83402013778687\n",
      "Epoch: 5 cost time: 211.1829855442047\n"
     ]
    },
    {
     "name": "stderr",
     "output_type": "stream",
     "text": [
      "Progress:  57%|█████▋    | 17/30 [18:50:56<12:53:50, 3571.55s/it]"
     ]
    },
    {
     "name": "stdout",
     "output_type": "stream",
     "text": [
      "<modules.usernsTranformer.UserNsTransformer object at 0x7f8edac7b970>\n",
      "Epoch: 1 cost time: 211.8121063709259\n",
      "Epoch: 2 cost time: 211.3188762664795\n",
      "Epoch: 3 cost time: 211.26596069335938\n",
      "Epoch: 4 cost time: 212.0064594745636\n",
      "Epoch: 5 cost time: 212.9924395084381\n",
      "<modules.usernsTranformer.UserNsTransformer object at 0x7f8ed88234f0>\n",
      "Epoch: 1 cost time: 212.79000854492188\n",
      "Epoch: 2 cost time: 212.61385011672974\n",
      "Epoch: 3 cost time: 213.68088936805725\n",
      "Epoch: 4 cost time: 210.88248801231384\n",
      "Epoch: 5 cost time: 211.40149927139282\n",
      "<modules.usernsTranformer.UserNsTransformer object at 0x7f8edaf8ae60>\n",
      "Epoch: 1 cost time: 211.39772057533264\n",
      "Epoch: 2 cost time: 212.03836727142334\n",
      "Epoch: 3 cost time: 211.9927270412445\n",
      "Epoch: 4 cost time: 211.51211833953857\n",
      "Epoch: 5 cost time: 211.03407502174377\n"
     ]
    },
    {
     "name": "stderr",
     "output_type": "stream",
     "text": [
      "Progress:  60%|██████    | 18/30 [19:47:43<11:44:23, 3521.97s/it]"
     ]
    },
    {
     "name": "stdout",
     "output_type": "stream",
     "text": [
      "<modules.usernsTranformer.UserNsTransformer object at 0x7f8eda5878e0>\n",
      "Epoch: 1 cost time: 211.73259210586548\n",
      "Epoch: 2 cost time: 212.31889581680298\n",
      "Epoch: 3 cost time: 214.2131953239441\n",
      "Epoch: 4 cost time: 214.54087805747986\n",
      "Epoch: 5 cost time: 215.13310742378235\n",
      "<modules.usernsTranformer.UserNsTransformer object at 0x7f8eda8fff10>\n",
      "Epoch: 1 cost time: 214.4473214149475\n",
      "Epoch: 2 cost time: 210.50080037117004\n",
      "Epoch: 3 cost time: 210.5987687110901\n",
      "Epoch: 4 cost time: 212.19120264053345\n",
      "Epoch: 5 cost time: 214.10983896255493\n",
      "<modules.usernsTranformer.UserNsTransformer object at 0x7f8edad9d600>\n",
      "Epoch: 1 cost time: 212.43967199325562\n",
      "Epoch: 2 cost time: 211.90326166152954\n",
      "Epoch: 3 cost time: 210.0190393924713\n",
      "Epoch: 4 cost time: 212.60464882850647\n",
      "Epoch: 5 cost time: 211.57584357261658\n"
     ]
    },
    {
     "name": "stderr",
     "output_type": "stream",
     "text": [
      "Progress:  63%|██████▎   | 19/30 [20:44:39<10:39:51, 3490.10s/it]"
     ]
    },
    {
     "name": "stdout",
     "output_type": "stream",
     "text": [
      "<modules.usernsTranformer.UserNsTransformer object at 0x7f8ed8466110>\n",
      "Epoch: 1 cost time: 211.42910361289978\n",
      "Epoch: 2 cost time: 211.99505591392517\n",
      "Epoch: 3 cost time: 210.34989023208618\n",
      "Epoch: 4 cost time: 211.4578835964203\n",
      "Epoch: 5 cost time: 211.44145250320435\n",
      "<modules.usernsTranformer.UserNsTransformer object at 0x7f8eda7ce7d0>\n",
      "Epoch: 1 cost time: 211.3383071422577\n",
      "Epoch: 2 cost time: 211.02737021446228\n",
      "Epoch: 3 cost time: 211.81088519096375\n",
      "Epoch: 4 cost time: 210.6137340068817\n",
      "Epoch: 5 cost time: 212.89113664627075\n",
      "<modules.usernsTranformer.UserNsTransformer object at 0x7f8ed88234f0>\n",
      "Epoch: 1 cost time: 210.5254783630371\n",
      "Epoch: 2 cost time: 211.50135350227356\n",
      "Epoch: 3 cost time: 210.77331852912903\n",
      "Epoch: 4 cost time: 211.79867148399353\n",
      "Epoch: 5 cost time: 210.03819823265076\n"
     ]
    },
    {
     "name": "stderr",
     "output_type": "stream",
     "text": [
      "Progress:  67%|██████▋   | 20/30 [21:41:14<9:36:55, 3461.54s/it] "
     ]
    },
    {
     "name": "stdout",
     "output_type": "stream",
     "text": [
      "<modules.usernsTranformer.UserNsTransformer object at 0x7f8ed877b2e0>\n",
      "Epoch: 1 cost time: 210.91717267036438\n",
      "Epoch: 2 cost time: 213.37513041496277\n",
      "Epoch: 3 cost time: 212.11313223838806\n",
      "Epoch: 4 cost time: 211.97343277931213\n",
      "Epoch: 5 cost time: 210.75319695472717\n",
      "<modules.usernsTranformer.UserNsTransformer object at 0x7f8edad9d690>\n",
      "Epoch: 1 cost time: 212.4769263267517\n",
      "Epoch: 2 cost time: 212.06819128990173\n",
      "Epoch: 3 cost time: 211.64999628067017\n",
      "Epoch: 4 cost time: 211.9428369998932\n",
      "Epoch: 5 cost time: 210.39807653427124\n",
      "<modules.usernsTranformer.UserNsTransformer object at 0x7f8eda7ce7d0>\n",
      "Epoch: 1 cost time: 209.85259342193604\n",
      "Epoch: 2 cost time: 210.94210839271545\n",
      "Epoch: 3 cost time: 212.05480647087097\n",
      "Epoch: 4 cost time: 210.196049451828\n",
      "Epoch: 5 cost time: 212.19843077659607\n"
     ]
    },
    {
     "name": "stderr",
     "output_type": "stream",
     "text": [
      "Progress:  70%|███████   | 21/30 [22:37:54<8:36:28, 3443.13s/it]"
     ]
    },
    {
     "name": "stdout",
     "output_type": "stream",
     "text": [
      "<modules.usernsTranformer.UserNsTransformer object at 0x7f8edaa23f70>\n",
      "Epoch: 1 cost time: 212.47146797180176\n",
      "Epoch: 2 cost time: 214.0760509967804\n",
      "Epoch: 3 cost time: 213.73190331459045\n",
      "Epoch: 4 cost time: 212.41545867919922\n",
      "Epoch: 5 cost time: 212.23916125297546\n",
      "<modules.usernsTranformer.UserNsTransformer object at 0x7f8ed84cd7e0>\n",
      "Epoch: 1 cost time: 211.60213828086853\n",
      "Epoch: 2 cost time: 211.87100839614868\n",
      "Epoch: 3 cost time: 210.3101930618286\n",
      "Epoch: 4 cost time: 211.43844723701477\n",
      "Epoch: 5 cost time: 210.6779899597168\n",
      "<modules.usernsTranformer.UserNsTransformer object at 0x7f8edac7b970>\n",
      "Epoch: 1 cost time: 210.68154740333557\n",
      "Epoch: 2 cost time: 210.40688014030457\n",
      "Epoch: 3 cost time: 212.13257598876953\n",
      "Epoch: 4 cost time: 210.28185510635376\n",
      "Epoch: 5 cost time: 212.33265781402588\n"
     ]
    },
    {
     "name": "stderr",
     "output_type": "stream",
     "text": [
      "Progress:  73%|███████▎  | 22/30 [23:34:39<7:37:35, 3431.90s/it]"
     ]
    },
    {
     "name": "stdout",
     "output_type": "stream",
     "text": [
      "<modules.usernsTranformer.UserNsTransformer object at 0x7f8ed88234f0>\n",
      "Epoch: 1 cost time: 211.29964017868042\n",
      "Epoch: 2 cost time: 211.36706376075745\n",
      "Epoch: 3 cost time: 211.5046570301056\n",
      "Epoch: 4 cost time: 211.89727425575256\n",
      "Epoch: 5 cost time: 210.0614743232727\n",
      "<modules.usernsTranformer.UserNsTransformer object at 0x7f8ed88235b0>\n",
      "Epoch: 1 cost time: 212.3908712863922\n",
      "Epoch: 2 cost time: 213.74871349334717\n",
      "Epoch: 3 cost time: 212.47375631332397\n",
      "Epoch: 4 cost time: 213.02363967895508\n",
      "Epoch: 5 cost time: 212.64250373840332\n",
      "<modules.usernsTranformer.UserNsTransformer object at 0x7f8ed8bf65f0>\n",
      "Epoch: 1 cost time: 211.95010256767273\n",
      "Epoch: 2 cost time: 211.528817653656\n",
      "Epoch: 3 cost time: 210.70356035232544\n",
      "Epoch: 4 cost time: 212.13127756118774\n",
      "Epoch: 5 cost time: 211.3918640613556\n"
     ]
    },
    {
     "name": "stderr",
     "output_type": "stream",
     "text": [
      "Progress:  77%|███████▋  | 23/30 [24:31:24<6:39:26, 3423.82s/it]"
     ]
    },
    {
     "name": "stdout",
     "output_type": "stream",
     "text": [
      "<modules.usernsTranformer.UserNsTransformer object at 0x7f8ed8d1be80>\n",
      "Epoch: 1 cost time: 211.08636116981506\n",
      "Epoch: 2 cost time: 210.79441094398499\n",
      "Epoch: 3 cost time: 211.32694745063782\n",
      "Epoch: 4 cost time: 211.9346764087677\n",
      "Epoch: 5 cost time: 212.37796640396118\n",
      "<modules.usernsTranformer.UserNsTransformer object at 0x7f8edab5a9b0>\n",
      "Epoch: 1 cost time: 211.87785410881042\n",
      "Epoch: 2 cost time: 212.80529642105103\n",
      "Epoch: 3 cost time: 213.5164668560028\n",
      "Epoch: 4 cost time: 210.37236857414246\n",
      "Epoch: 5 cost time: 211.3764624595642\n",
      "<modules.usernsTranformer.UserNsTransformer object at 0x7f8ed87787f0>\n",
      "Epoch: 1 cost time: 211.66619229316711\n",
      "Epoch: 2 cost time: 211.320303440094\n",
      "Epoch: 3 cost time: 212.4469792842865\n",
      "Epoch: 4 cost time: 212.55692887306213\n",
      "Epoch: 5 cost time: 210.89152026176453\n"
     ]
    },
    {
     "name": "stderr",
     "output_type": "stream",
     "text": [
      "Progress:  80%|████████  | 24/30 [25:28:08<5:41:46, 3417.76s/it]"
     ]
    },
    {
     "name": "stdout",
     "output_type": "stream",
     "text": [
      "<modules.usernsTranformer.UserNsTransformer object at 0x7f8ee675fd00>\n",
      "Epoch: 1 cost time: 214.24249911308289\n",
      "Epoch: 2 cost time: 211.8103997707367\n",
      "Epoch: 3 cost time: 212.47630190849304\n",
      "Epoch: 4 cost time: 212.90689253807068\n",
      "Epoch: 5 cost time: 211.74914526939392\n",
      "<modules.usernsTranformer.UserNsTransformer object at 0x7f8eda7ce7d0>\n",
      "Epoch: 1 cost time: 212.2460503578186\n",
      "Epoch: 2 cost time: 212.70032238960266\n",
      "Epoch: 3 cost time: 212.05174016952515\n",
      "Epoch: 4 cost time: 210.91078639030457\n",
      "Epoch: 5 cost time: 211.08245539665222\n",
      "<modules.usernsTranformer.UserNsTransformer object at 0x7f8ed88234f0>\n",
      "Epoch: 1 cost time: 211.1261670589447\n",
      "Epoch: 2 cost time: 210.99954986572266\n",
      "Epoch: 3 cost time: 209.62868309020996\n",
      "Epoch: 4 cost time: 210.27592206001282\n",
      "Epoch: 5 cost time: 211.8437623977661\n"
     ]
    },
    {
     "name": "stderr",
     "output_type": "stream",
     "text": [
      "Progress:  83%|████████▎ | 25/30 [26:24:52<4:44:28, 3413.76s/it]"
     ]
    },
    {
     "name": "stdout",
     "output_type": "stream",
     "text": [
      "<modules.usernsTranformer.UserNsTransformer object at 0x7f8eda8fff10>\n",
      "Epoch: 1 cost time: 212.65683269500732\n",
      "Epoch: 2 cost time: 212.08090233802795\n",
      "Epoch: 3 cost time: 213.395405292511\n",
      "Epoch: 4 cost time: 209.9474744796753\n",
      "Epoch: 5 cost time: 210.72146844863892\n",
      "<modules.usernsTranformer.UserNsTransformer object at 0x7f8edab5a710>\n",
      "Epoch: 1 cost time: 211.36120772361755\n",
      "Epoch: 2 cost time: 211.53927159309387\n",
      "Epoch: 3 cost time: 213.74606323242188\n",
      "Epoch: 4 cost time: 215.7597188949585\n",
      "Epoch: 5 cost time: 214.3070468902588\n",
      "<modules.usernsTranformer.UserNsTransformer object at 0x7f8ed8d1bd30>\n",
      "Epoch: 1 cost time: 211.0976951122284\n",
      "Epoch: 2 cost time: 211.82949233055115\n",
      "Epoch: 3 cost time: 211.09336304664612\n",
      "Epoch: 4 cost time: 211.0171661376953\n",
      "Epoch: 5 cost time: 212.36258840560913\n"
     ]
    },
    {
     "name": "stderr",
     "output_type": "stream",
     "text": [
      "Progress:  87%|████████▋ | 26/30 [27:21:43<3:47:30, 3412.68s/it]"
     ]
    },
    {
     "name": "stdout",
     "output_type": "stream",
     "text": [
      "<modules.usernsTranformer.UserNsTransformer object at 0x7f8ed8ab6f50>\n",
      "Epoch: 1 cost time: 211.7682867050171\n",
      "Epoch: 2 cost time: 211.40578198432922\n",
      "Epoch: 3 cost time: 212.19650530815125\n",
      "Epoch: 4 cost time: 211.2488307952881\n",
      "Epoch: 5 cost time: 211.36303043365479\n",
      "<modules.usernsTranformer.UserNsTransformer object at 0x7f8edac7b970>\n",
      "Epoch: 1 cost time: 210.28558659553528\n",
      "Epoch: 2 cost time: 210.70210242271423\n",
      "Epoch: 3 cost time: 214.24828124046326\n",
      "Epoch: 4 cost time: 212.39247512817383\n",
      "Epoch: 5 cost time: 212.230162858963\n",
      "<modules.usernsTranformer.UserNsTransformer object at 0x7f8ed8ab7ee0>\n",
      "Epoch: 1 cost time: 210.84486865997314\n",
      "Epoch: 2 cost time: 211.62633419036865\n",
      "Epoch: 3 cost time: 211.32296586036682\n",
      "Epoch: 4 cost time: 211.1574411392212\n",
      "Epoch: 5 cost time: 209.84068298339844\n"
     ]
    },
    {
     "name": "stderr",
     "output_type": "stream",
     "text": [
      "Progress:  90%|█████████ | 27/30 [28:18:23<2:50:26, 3408.98s/it]"
     ]
    },
    {
     "name": "stdout",
     "output_type": "stream",
     "text": [
      "<modules.usernsTranformer.UserNsTransformer object at 0x7f8ed8803b20>\n",
      "Epoch: 1 cost time: 213.27882647514343\n",
      "Epoch: 2 cost time: 211.87958025932312\n",
      "Epoch: 3 cost time: 211.92384719848633\n",
      "Epoch: 4 cost time: 212.19714832305908\n",
      "Epoch: 5 cost time: 210.70237684249878\n",
      "<modules.usernsTranformer.UserNsTransformer object at 0x7f8ed877b2e0>\n",
      "Epoch: 1 cost time: 211.62534499168396\n",
      "Epoch: 2 cost time: 213.30934023857117\n",
      "Epoch: 3 cost time: 211.6980414390564\n",
      "Epoch: 4 cost time: 212.2454788684845\n",
      "Epoch: 5 cost time: 210.18431115150452\n",
      "<modules.usernsTranformer.UserNsTransformer object at 0x7f8eda8fff10>\n",
      "Epoch: 1 cost time: 211.64285135269165\n",
      "Epoch: 2 cost time: 210.77288794517517\n",
      "Epoch: 3 cost time: 210.55822658538818\n",
      "Epoch: 4 cost time: 212.81946778297424\n",
      "Epoch: 5 cost time: 212.4775984287262\n"
     ]
    },
    {
     "name": "stderr",
     "output_type": "stream",
     "text": [
      "Progress:  93%|█████████▎| 28/30 [29:15:08<1:53:35, 3407.64s/it]"
     ]
    },
    {
     "name": "stdout",
     "output_type": "stream",
     "text": [
      "<modules.usernsTranformer.UserNsTransformer object at 0x7f8eda586d10>\n",
      "Epoch: 1 cost time: 211.5407838821411\n",
      "Epoch: 2 cost time: 210.9681956768036\n",
      "Epoch: 3 cost time: 211.8253870010376\n",
      "Epoch: 4 cost time: 211.16775822639465\n",
      "Epoch: 5 cost time: 211.61272621154785\n",
      "<modules.usernsTranformer.UserNsTransformer object at 0x7f8ed8997b50>\n",
      "Epoch: 1 cost time: 211.46603727340698\n",
      "Epoch: 2 cost time: 213.48965167999268\n",
      "Epoch: 3 cost time: 212.50907349586487\n",
      "Epoch: 4 cost time: 214.5305690765381\n",
      "Epoch: 5 cost time: 211.1011679172516\n",
      "<modules.usernsTranformer.UserNsTransformer object at 0x7f8ed8bf65f0>\n",
      "Epoch: 1 cost time: 210.58139634132385\n",
      "Epoch: 2 cost time: 212.21718454360962\n",
      "Epoch: 3 cost time: 212.41357278823853\n",
      "Epoch: 4 cost time: 211.59238362312317\n",
      "Epoch: 5 cost time: 213.6138300895691\n"
     ]
    },
    {
     "name": "stderr",
     "output_type": "stream",
     "text": [
      "Progress:  97%|█████████▋| 29/30 [30:11:57<56:48, 3408.34s/it]  "
     ]
    },
    {
     "name": "stdout",
     "output_type": "stream",
     "text": [
      "<modules.usernsTranformer.UserNsTransformer object at 0x7f8ed8ab6f50>\n",
      "Epoch: 1 cost time: 212.90618920326233\n",
      "Epoch: 2 cost time: 209.63871002197266\n",
      "Epoch: 3 cost time: 212.27269387245178\n",
      "Epoch: 4 cost time: 212.86779236793518\n",
      "Epoch: 5 cost time: 212.0769543647766\n",
      "<modules.usernsTranformer.UserNsTransformer object at 0x7f8edaa23310>\n",
      "Epoch: 1 cost time: 212.1082866191864\n",
      "Epoch: 2 cost time: 212.28877687454224\n",
      "Epoch: 3 cost time: 212.36102080345154\n",
      "Epoch: 4 cost time: 213.16665768623352\n",
      "Epoch: 5 cost time: 213.15836668014526\n",
      "<modules.usernsTranformer.UserNsTransformer object at 0x7f8edaa23f70>\n",
      "Epoch: 1 cost time: 210.76384830474854\n",
      "Epoch: 2 cost time: 210.7933211326599\n",
      "Epoch: 3 cost time: 209.49010753631592\n",
      "Epoch: 4 cost time: 210.91504430770874\n",
      "Epoch: 5 cost time: 212.3227415084839\n"
     ]
    },
    {
     "name": "stderr",
     "output_type": "stream",
     "text": [
      "Progress: 100%|██████████| 30/30 [31:08:43<00:00, 3737.46s/it]\n"
     ]
    }
   ],
   "source": [
    "import random\n",
    "from tqdm import tqdm\n",
    "from math import sqrt\n",
    "\n",
    "server = ServerNsTransformer(model=server_model, test_loader=server_data_list)\n",
    "\n",
    "user_list = []\n",
    "\n",
    "# Create users\n",
    "for i in range(config_wanb.num_user):\n",
    "    user_i = UserNsTransformer(train_loader=user_data_list[i], model=server_model, user_id=i, local_epochs=config_wanb.local_epochs)\n",
    "    user_list.append(user_i)\n",
    "\n",
    "for _ in tqdm(range(config_wanb.global_epochs), desc=f\"Progress\"):\n",
    "    # Distribute initial model to users\n",
    "    server.distribute_model(user_list)\n",
    "    \n",
    "    # Sub-sample users\n",
    "    sub_user_list = random.sample(user_list, int(config_wanb.user_ratio * config_wanb.num_user))\n",
    "\n",
    "    # Check the sub-sampled user and train model\n",
    "    users_loss = 0.0\n",
    "    for user in sub_user_list:\n",
    "        print(user)\n",
    "        user_loss = user.user_train(args)\n",
    "        users_loss += user_loss\n",
    "    # Aggregate weights on server\n",
    "    server.aggregate_weights(sub_user_list)\n",
    "\n",
    "    # Calulate avg loss on selected users\n",
    "    train_loss =  users_loss / len(sub_user_list)\n",
    "\n",
    "    total_mae = []\n",
    "    total_mse = []\n",
    "    for test_loader in server.test_loader:    \n",
    "        mae, mse, rmse, mape, mspe = server.model_eval(args=args, test_loader=test_loader)\n",
    "        total_mae.append(mae)\n",
    "        total_mse.append(mse)\n",
    "    \n",
    "    wandb.log({\"train_loss\": train_loss, \"mae\": sum(total_mae)/len(total_mae), 'rmse': sqrt(sum(total_mse)/len(total_mse))})"
   ]
  }
 ],
 "metadata": {
  "kernelspec": {
   "display_name": ".venv",
   "language": "python",
   "name": "python3"
  },
  "language_info": {
   "codemirror_mode": {
    "name": "ipython",
    "version": 3
   },
   "file_extension": ".py",
   "mimetype": "text/x-python",
   "name": "python",
   "nbconvert_exporter": "python",
   "pygments_lexer": "ipython3",
   "version": "3.10.12"
  }
 },
 "nbformat": 4,
 "nbformat_minor": 2
}
