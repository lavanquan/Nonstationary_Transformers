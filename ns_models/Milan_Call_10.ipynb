{
 "cells": [
  {
   "cell_type": "code",
   "execution_count": 1,
   "metadata": {},
   "outputs": [
    {
     "data": {
      "text/plain": [
       "'/home/qula0496/quan/Nonstationary_Transformers/ns_models'"
      ]
     },
     "execution_count": 1,
     "metadata": {},
     "output_type": "execute_result"
    }
   ],
   "source": [
    "%pwd"
   ]
  },
  {
   "cell_type": "code",
   "execution_count": 2,
   "metadata": {},
   "outputs": [
    {
     "name": "stdout",
     "output_type": "stream",
     "text": [
      "/home/qula0496/quan/Nonstationary_Transformers\n"
     ]
    },
    {
     "name": "stderr",
     "output_type": "stream",
     "text": [
      "/home/qula0496/quan/.venv/lib/python3.10/site-packages/IPython/core/magics/osm.py:417: UserWarning: This is now an optional IPython functionality, setting dhist requires you to install the `pickleshare` library.\n",
      "  self.shell.db['dhist'] = compress_dhist(dhist)[-100:]\n"
     ]
    }
   ],
   "source": [
    "%cd .."
   ]
  },
  {
   "cell_type": "code",
   "execution_count": 3,
   "metadata": {},
   "outputs": [],
   "source": [
    "import os\n",
    "gpu_id = '0'\n",
    "n_users = 10\n",
    "os.environ['CUDA_VISIBLE_DEVICES'] = gpu_id\n",
    "dataset_name = 'milan'\n",
    "sub_set_name = 'call'\n",
    "series_type = 'hourly'"
   ]
  },
  {
   "cell_type": "code",
   "execution_count": 4,
   "metadata": {},
   "outputs": [],
   "source": [
    "from utils.data_utils import *\n",
    "from utils.model_utils import *\n",
    "# from utils.koopman_utils import *\n",
    "from modules.serverbase import *\n",
    "from modules.userbase import *\n",
    "from modules.servernsTransformer import *\n",
    "from modules.usernsTranformer import *\n",
    "import numpy as np\n",
    "import torch\n",
    "torch.cuda.init()"
   ]
  },
  {
   "cell_type": "code",
   "execution_count": 5,
   "metadata": {},
   "outputs": [],
   "source": [
    "from sklearn.preprocessing import StandardScaler, MinMaxScaler\n",
    "def preprocess(data, std=True):\n",
    "    '''\n",
    "    Function to do preprocess for input data\n",
    "    inputs:\n",
    "        + data: pandas.DataFrame\n",
    "    outputs:\n",
    "        + preprocessed_data: pandas.DataFrame\n",
    "    '''\n",
    "    if std:\n",
    "        scaler = StandardScaler()\n",
    "        temp = scaler.fit_transform(data)\n",
    "    else:\n",
    "        scaler = MinMaxScaler()\n",
    "        temp = scaler.fit_transform(data)\n",
    "    processed_data = pd.DataFrame(temp, index=data.index, columns = data.columns)\n",
    "    # processed_data = processed_data.to_numpy()\n",
    "    return processed_data"
   ]
  },
  {
   "cell_type": "code",
   "execution_count": 6,
   "metadata": {},
   "outputs": [
    {
     "data": {
      "text/html": [
       "<div>\n",
       "<style scoped>\n",
       "    .dataframe tbody tr th:only-of-type {\n",
       "        vertical-align: middle;\n",
       "    }\n",
       "\n",
       "    .dataframe tbody tr th {\n",
       "        vertical-align: top;\n",
       "    }\n",
       "\n",
       "    .dataframe thead th {\n",
       "        text-align: right;\n",
       "    }\n",
       "</style>\n",
       "<table border=\"1\" class=\"dataframe\">\n",
       "  <thead>\n",
       "    <tr style=\"text-align: right;\">\n",
       "      <th>gridID</th>\n",
       "      <th>1</th>\n",
       "      <th>2</th>\n",
       "      <th>3</th>\n",
       "      <th>4</th>\n",
       "      <th>5</th>\n",
       "      <th>6</th>\n",
       "      <th>7</th>\n",
       "      <th>8</th>\n",
       "      <th>9</th>\n",
       "      <th>10</th>\n",
       "      <th>...</th>\n",
       "      <th>9991</th>\n",
       "      <th>9992</th>\n",
       "      <th>9993</th>\n",
       "      <th>9994</th>\n",
       "      <th>9995</th>\n",
       "      <th>9996</th>\n",
       "      <th>9997</th>\n",
       "      <th>9998</th>\n",
       "      <th>9999</th>\n",
       "      <th>10000</th>\n",
       "    </tr>\n",
       "    <tr>\n",
       "      <th>startTime</th>\n",
       "      <th></th>\n",
       "      <th></th>\n",
       "      <th></th>\n",
       "      <th></th>\n",
       "      <th></th>\n",
       "      <th></th>\n",
       "      <th></th>\n",
       "      <th></th>\n",
       "      <th></th>\n",
       "      <th></th>\n",
       "      <th></th>\n",
       "      <th></th>\n",
       "      <th></th>\n",
       "      <th></th>\n",
       "      <th></th>\n",
       "      <th></th>\n",
       "      <th></th>\n",
       "      <th></th>\n",
       "      <th></th>\n",
       "      <th></th>\n",
       "      <th></th>\n",
       "    </tr>\n",
       "  </thead>\n",
       "  <tbody>\n",
       "    <tr>\n",
       "      <th>2013-11-01 00:00:00</th>\n",
       "      <td>0.056744</td>\n",
       "      <td>0.056868</td>\n",
       "      <td>0.056997</td>\n",
       "      <td>0.056358</td>\n",
       "      <td>0.055267</td>\n",
       "      <td>0.056997</td>\n",
       "      <td>0.056997</td>\n",
       "      <td>0.056997</td>\n",
       "      <td>0.056997</td>\n",
       "      <td>0.052012</td>\n",
       "      <td>...</td>\n",
       "      <td>0.071669</td>\n",
       "      <td>0.094064</td>\n",
       "      <td>0.132937</td>\n",
       "      <td>0.119432</td>\n",
       "      <td>0.067270</td>\n",
       "      <td>0.031713</td>\n",
       "      <td>0.032608</td>\n",
       "      <td>0.032041</td>\n",
       "      <td>0.024616</td>\n",
       "      <td>0.023914</td>\n",
       "    </tr>\n",
       "    <tr>\n",
       "      <th>2013-11-01 01:00:00</th>\n",
       "      <td>0.021376</td>\n",
       "      <td>0.021109</td>\n",
       "      <td>0.020834</td>\n",
       "      <td>0.022201</td>\n",
       "      <td>0.021617</td>\n",
       "      <td>0.020834</td>\n",
       "      <td>0.020834</td>\n",
       "      <td>0.020834</td>\n",
       "      <td>0.020834</td>\n",
       "      <td>0.016131</td>\n",
       "      <td>...</td>\n",
       "      <td>0.074835</td>\n",
       "      <td>0.073968</td>\n",
       "      <td>0.060506</td>\n",
       "      <td>0.043087</td>\n",
       "      <td>0.025463</td>\n",
       "      <td>0.012429</td>\n",
       "      <td>0.011351</td>\n",
       "      <td>0.011405</td>\n",
       "      <td>0.013007</td>\n",
       "      <td>0.015169</td>\n",
       "    </tr>\n",
       "    <tr>\n",
       "      <th>2013-11-01 02:00:00</th>\n",
       "      <td>0.009106</td>\n",
       "      <td>0.009065</td>\n",
       "      <td>0.009022</td>\n",
       "      <td>0.009234</td>\n",
       "      <td>0.009305</td>\n",
       "      <td>0.009022</td>\n",
       "      <td>0.009022</td>\n",
       "      <td>0.009022</td>\n",
       "      <td>0.009022</td>\n",
       "      <td>0.009141</td>\n",
       "      <td>...</td>\n",
       "      <td>0.019759</td>\n",
       "      <td>0.034425</td>\n",
       "      <td>0.064591</td>\n",
       "      <td>0.061299</td>\n",
       "      <td>0.031238</td>\n",
       "      <td>0.007821</td>\n",
       "      <td>0.008347</td>\n",
       "      <td>0.008025</td>\n",
       "      <td>0.006499</td>\n",
       "      <td>0.008660</td>\n",
       "    </tr>\n",
       "    <tr>\n",
       "      <th>2013-11-01 03:00:00</th>\n",
       "      <td>0.001552</td>\n",
       "      <td>0.001546</td>\n",
       "      <td>0.001540</td>\n",
       "      <td>0.001569</td>\n",
       "      <td>0.001852</td>\n",
       "      <td>0.001540</td>\n",
       "      <td>0.001540</td>\n",
       "      <td>0.001540</td>\n",
       "      <td>0.001540</td>\n",
       "      <td>0.002994</td>\n",
       "      <td>...</td>\n",
       "      <td>0.016774</td>\n",
       "      <td>0.022286</td>\n",
       "      <td>0.026397</td>\n",
       "      <td>0.012527</td>\n",
       "      <td>0.005052</td>\n",
       "      <td>0.002354</td>\n",
       "      <td>0.003822</td>\n",
       "      <td>0.003479</td>\n",
       "      <td>0.000364</td>\n",
       "      <td>0.001038</td>\n",
       "    </tr>\n",
       "    <tr>\n",
       "      <th>2013-11-01 04:00:00</th>\n",
       "      <td>0.001750</td>\n",
       "      <td>0.001647</td>\n",
       "      <td>0.001540</td>\n",
       "      <td>0.002070</td>\n",
       "      <td>0.002279</td>\n",
       "      <td>0.001540</td>\n",
       "      <td>0.001540</td>\n",
       "      <td>0.001540</td>\n",
       "      <td>0.001540</td>\n",
       "      <td>0.002005</td>\n",
       "      <td>...</td>\n",
       "      <td>0.014927</td>\n",
       "      <td>0.011260</td>\n",
       "      <td>0.002684</td>\n",
       "      <td>0.002901</td>\n",
       "      <td>0.002525</td>\n",
       "      <td>0.002312</td>\n",
       "      <td>0.002263</td>\n",
       "      <td>0.002273</td>\n",
       "      <td>0.002942</td>\n",
       "      <td>0.003292</td>\n",
       "    </tr>\n",
       "  </tbody>\n",
       "</table>\n",
       "<p>5 rows × 10000 columns</p>\n",
       "</div>"
      ],
      "text/plain": [
       "gridID                  1         2         3         4         5      \\\n",
       "startTime                                                               \n",
       "2013-11-01 00:00:00  0.056744  0.056868  0.056997  0.056358  0.055267   \n",
       "2013-11-01 01:00:00  0.021376  0.021109  0.020834  0.022201  0.021617   \n",
       "2013-11-01 02:00:00  0.009106  0.009065  0.009022  0.009234  0.009305   \n",
       "2013-11-01 03:00:00  0.001552  0.001546  0.001540  0.001569  0.001852   \n",
       "2013-11-01 04:00:00  0.001750  0.001647  0.001540  0.002070  0.002279   \n",
       "\n",
       "gridID                  6         7         8         9         10     ...  \\\n",
       "startTime                                                              ...   \n",
       "2013-11-01 00:00:00  0.056997  0.056997  0.056997  0.056997  0.052012  ...   \n",
       "2013-11-01 01:00:00  0.020834  0.020834  0.020834  0.020834  0.016131  ...   \n",
       "2013-11-01 02:00:00  0.009022  0.009022  0.009022  0.009022  0.009141  ...   \n",
       "2013-11-01 03:00:00  0.001540  0.001540  0.001540  0.001540  0.002994  ...   \n",
       "2013-11-01 04:00:00  0.001540  0.001540  0.001540  0.001540  0.002005  ...   \n",
       "\n",
       "gridID                  9991      9992      9993      9994      9995   \\\n",
       "startTime                                                               \n",
       "2013-11-01 00:00:00  0.071669  0.094064  0.132937  0.119432  0.067270   \n",
       "2013-11-01 01:00:00  0.074835  0.073968  0.060506  0.043087  0.025463   \n",
       "2013-11-01 02:00:00  0.019759  0.034425  0.064591  0.061299  0.031238   \n",
       "2013-11-01 03:00:00  0.016774  0.022286  0.026397  0.012527  0.005052   \n",
       "2013-11-01 04:00:00  0.014927  0.011260  0.002684  0.002901  0.002525   \n",
       "\n",
       "gridID                  9996      9997      9998      9999      10000  \n",
       "startTime                                                              \n",
       "2013-11-01 00:00:00  0.031713  0.032608  0.032041  0.024616  0.023914  \n",
       "2013-11-01 01:00:00  0.012429  0.011351  0.011405  0.013007  0.015169  \n",
       "2013-11-01 02:00:00  0.007821  0.008347  0.008025  0.006499  0.008660  \n",
       "2013-11-01 03:00:00  0.002354  0.003822  0.003479  0.000364  0.001038  \n",
       "2013-11-01 04:00:00  0.002312  0.002263  0.002273  0.002942  0.003292  \n",
       "\n",
       "[5 rows x 10000 columns]"
      ]
     },
     "execution_count": 6,
     "metadata": {},
     "output_type": "execute_result"
    }
   ],
   "source": [
    "file_path = f\"./dataset/{dataset_name}/{dataset_name}_{sub_set_name}_{series_type}.csv\"\n",
    "raw_data = pd.read_csv(file_path)\n",
    "raw_data = raw_data.pivot(index='startTime', columns='gridID', values=sub_set_name)\n",
    "raw_data = raw_data.fillna(0)\n",
    "raw_data = preprocess(raw_data, std=False)\n",
    "raw_data.head()"
   ]
  },
  {
   "cell_type": "code",
   "execution_count": 7,
   "metadata": {},
   "outputs": [
    {
     "data": {
      "text/html": [
       "<div>\n",
       "<style scoped>\n",
       "    .dataframe tbody tr th:only-of-type {\n",
       "        vertical-align: middle;\n",
       "    }\n",
       "\n",
       "    .dataframe tbody tr th {\n",
       "        vertical-align: top;\n",
       "    }\n",
       "\n",
       "    .dataframe thead th {\n",
       "        text-align: right;\n",
       "    }\n",
       "</style>\n",
       "<table border=\"1\" class=\"dataframe\">\n",
       "  <thead>\n",
       "    <tr style=\"text-align: right;\">\n",
       "      <th>gridID</th>\n",
       "      <th>1</th>\n",
       "      <th>2</th>\n",
       "      <th>3</th>\n",
       "      <th>4</th>\n",
       "      <th>5</th>\n",
       "      <th>6</th>\n",
       "      <th>7</th>\n",
       "      <th>8</th>\n",
       "      <th>9</th>\n",
       "      <th>10</th>\n",
       "      <th>...</th>\n",
       "      <th>9991</th>\n",
       "      <th>9992</th>\n",
       "      <th>9993</th>\n",
       "      <th>9994</th>\n",
       "      <th>9995</th>\n",
       "      <th>9996</th>\n",
       "      <th>9997</th>\n",
       "      <th>9998</th>\n",
       "      <th>9999</th>\n",
       "      <th>10000</th>\n",
       "    </tr>\n",
       "    <tr>\n",
       "      <th>startTime</th>\n",
       "      <th></th>\n",
       "      <th></th>\n",
       "      <th></th>\n",
       "      <th></th>\n",
       "      <th></th>\n",
       "      <th></th>\n",
       "      <th></th>\n",
       "      <th></th>\n",
       "      <th></th>\n",
       "      <th></th>\n",
       "      <th></th>\n",
       "      <th></th>\n",
       "      <th></th>\n",
       "      <th></th>\n",
       "      <th></th>\n",
       "      <th></th>\n",
       "      <th></th>\n",
       "      <th></th>\n",
       "      <th></th>\n",
       "      <th></th>\n",
       "      <th></th>\n",
       "    </tr>\n",
       "  </thead>\n",
       "  <tbody>\n",
       "    <tr>\n",
       "      <th>2013-11-01 00:00:00</th>\n",
       "      <td>0.056744</td>\n",
       "      <td>0.056868</td>\n",
       "      <td>0.056997</td>\n",
       "      <td>0.056358</td>\n",
       "      <td>0.055267</td>\n",
       "      <td>0.056997</td>\n",
       "      <td>0.056997</td>\n",
       "      <td>0.056997</td>\n",
       "      <td>0.056997</td>\n",
       "      <td>0.052012</td>\n",
       "      <td>...</td>\n",
       "      <td>0.071669</td>\n",
       "      <td>0.094064</td>\n",
       "      <td>0.132937</td>\n",
       "      <td>0.119432</td>\n",
       "      <td>0.067270</td>\n",
       "      <td>0.031713</td>\n",
       "      <td>0.032608</td>\n",
       "      <td>0.032041</td>\n",
       "      <td>0.024616</td>\n",
       "      <td>0.023914</td>\n",
       "    </tr>\n",
       "    <tr>\n",
       "      <th>2013-11-01 01:00:00</th>\n",
       "      <td>0.021376</td>\n",
       "      <td>0.021109</td>\n",
       "      <td>0.020834</td>\n",
       "      <td>0.022201</td>\n",
       "      <td>0.021617</td>\n",
       "      <td>0.020834</td>\n",
       "      <td>0.020834</td>\n",
       "      <td>0.020834</td>\n",
       "      <td>0.020834</td>\n",
       "      <td>0.016131</td>\n",
       "      <td>...</td>\n",
       "      <td>0.074835</td>\n",
       "      <td>0.073968</td>\n",
       "      <td>0.060506</td>\n",
       "      <td>0.043087</td>\n",
       "      <td>0.025463</td>\n",
       "      <td>0.012429</td>\n",
       "      <td>0.011351</td>\n",
       "      <td>0.011405</td>\n",
       "      <td>0.013007</td>\n",
       "      <td>0.015169</td>\n",
       "    </tr>\n",
       "    <tr>\n",
       "      <th>2013-11-01 02:00:00</th>\n",
       "      <td>0.009106</td>\n",
       "      <td>0.009065</td>\n",
       "      <td>0.009022</td>\n",
       "      <td>0.009234</td>\n",
       "      <td>0.009305</td>\n",
       "      <td>0.009022</td>\n",
       "      <td>0.009022</td>\n",
       "      <td>0.009022</td>\n",
       "      <td>0.009022</td>\n",
       "      <td>0.009141</td>\n",
       "      <td>...</td>\n",
       "      <td>0.019759</td>\n",
       "      <td>0.034425</td>\n",
       "      <td>0.064591</td>\n",
       "      <td>0.061299</td>\n",
       "      <td>0.031238</td>\n",
       "      <td>0.007821</td>\n",
       "      <td>0.008347</td>\n",
       "      <td>0.008025</td>\n",
       "      <td>0.006499</td>\n",
       "      <td>0.008660</td>\n",
       "    </tr>\n",
       "    <tr>\n",
       "      <th>2013-11-01 03:00:00</th>\n",
       "      <td>0.001552</td>\n",
       "      <td>0.001546</td>\n",
       "      <td>0.001540</td>\n",
       "      <td>0.001569</td>\n",
       "      <td>0.001852</td>\n",
       "      <td>0.001540</td>\n",
       "      <td>0.001540</td>\n",
       "      <td>0.001540</td>\n",
       "      <td>0.001540</td>\n",
       "      <td>0.002994</td>\n",
       "      <td>...</td>\n",
       "      <td>0.016774</td>\n",
       "      <td>0.022286</td>\n",
       "      <td>0.026397</td>\n",
       "      <td>0.012527</td>\n",
       "      <td>0.005052</td>\n",
       "      <td>0.002354</td>\n",
       "      <td>0.003822</td>\n",
       "      <td>0.003479</td>\n",
       "      <td>0.000364</td>\n",
       "      <td>0.001038</td>\n",
       "    </tr>\n",
       "    <tr>\n",
       "      <th>2013-11-01 04:00:00</th>\n",
       "      <td>0.001750</td>\n",
       "      <td>0.001647</td>\n",
       "      <td>0.001540</td>\n",
       "      <td>0.002070</td>\n",
       "      <td>0.002279</td>\n",
       "      <td>0.001540</td>\n",
       "      <td>0.001540</td>\n",
       "      <td>0.001540</td>\n",
       "      <td>0.001540</td>\n",
       "      <td>0.002005</td>\n",
       "      <td>...</td>\n",
       "      <td>0.014927</td>\n",
       "      <td>0.011260</td>\n",
       "      <td>0.002684</td>\n",
       "      <td>0.002901</td>\n",
       "      <td>0.002525</td>\n",
       "      <td>0.002312</td>\n",
       "      <td>0.002263</td>\n",
       "      <td>0.002273</td>\n",
       "      <td>0.002942</td>\n",
       "      <td>0.003292</td>\n",
       "    </tr>\n",
       "  </tbody>\n",
       "</table>\n",
       "<p>5 rows × 10000 columns</p>\n",
       "</div>"
      ],
      "text/plain": [
       "gridID                  1         2         3         4         5      \\\n",
       "startTime                                                               \n",
       "2013-11-01 00:00:00  0.056744  0.056868  0.056997  0.056358  0.055267   \n",
       "2013-11-01 01:00:00  0.021376  0.021109  0.020834  0.022201  0.021617   \n",
       "2013-11-01 02:00:00  0.009106  0.009065  0.009022  0.009234  0.009305   \n",
       "2013-11-01 03:00:00  0.001552  0.001546  0.001540  0.001569  0.001852   \n",
       "2013-11-01 04:00:00  0.001750  0.001647  0.001540  0.002070  0.002279   \n",
       "\n",
       "gridID                  6         7         8         9         10     ...  \\\n",
       "startTime                                                              ...   \n",
       "2013-11-01 00:00:00  0.056997  0.056997  0.056997  0.056997  0.052012  ...   \n",
       "2013-11-01 01:00:00  0.020834  0.020834  0.020834  0.020834  0.016131  ...   \n",
       "2013-11-01 02:00:00  0.009022  0.009022  0.009022  0.009022  0.009141  ...   \n",
       "2013-11-01 03:00:00  0.001540  0.001540  0.001540  0.001540  0.002994  ...   \n",
       "2013-11-01 04:00:00  0.001540  0.001540  0.001540  0.001540  0.002005  ...   \n",
       "\n",
       "gridID                  9991      9992      9993      9994      9995   \\\n",
       "startTime                                                               \n",
       "2013-11-01 00:00:00  0.071669  0.094064  0.132937  0.119432  0.067270   \n",
       "2013-11-01 01:00:00  0.074835  0.073968  0.060506  0.043087  0.025463   \n",
       "2013-11-01 02:00:00  0.019759  0.034425  0.064591  0.061299  0.031238   \n",
       "2013-11-01 03:00:00  0.016774  0.022286  0.026397  0.012527  0.005052   \n",
       "2013-11-01 04:00:00  0.014927  0.011260  0.002684  0.002901  0.002525   \n",
       "\n",
       "gridID                  9996      9997      9998      9999      10000  \n",
       "startTime                                                              \n",
       "2013-11-01 00:00:00  0.031713  0.032608  0.032041  0.024616  0.023914  \n",
       "2013-11-01 01:00:00  0.012429  0.011351  0.011405  0.013007  0.015169  \n",
       "2013-11-01 02:00:00  0.007821  0.008347  0.008025  0.006499  0.008660  \n",
       "2013-11-01 03:00:00  0.002354  0.003822  0.003479  0.000364  0.001038  \n",
       "2013-11-01 04:00:00  0.002312  0.002263  0.002273  0.002942  0.003292  \n",
       "\n",
       "[5 rows x 10000 columns]"
      ]
     },
     "execution_count": 7,
     "metadata": {},
     "output_type": "execute_result"
    }
   ],
   "source": [
    "# prompt: write pandas to csv\n",
    "\n",
    "import pandas as pd\n",
    "\n",
    "# Save the DataFrame to a CSV file\n",
    "raw_data.rename(columns={'startTime': 'date'}, inplace=True)\n",
    "raw_data.to_csv(f\"./dataset/{dataset_name}/{sub_set_name}.csv\", index_label='date')\n",
    "raw_data.head()"
   ]
  },
  {
   "cell_type": "code",
   "execution_count": 8,
   "metadata": {},
   "outputs": [],
   "source": [
    "# Download the dataset\n",
    "# download_elec_dataset()\n",
    "\n",
    "# # Clean dataset\n",
    "# elec_data = clean_elec()\n",
    "\n",
    "# from sklearn.preprocessing import StandardScaler, MinMaxScaler\n",
    "# Std_normalization = 1\n",
    "# if Std_normalization:\n",
    "#     scaler = StandardScaler()\n",
    "#     temp = scaler.fit_transform(elec_data)\n",
    "#     norm_means = scaler.mean_\n",
    "#     norm_std = scaler.scale_\n",
    "# else:\n",
    "#     scaler = MinMaxScaler()\n",
    "#     temp = scaler.fit_transform(elec_data)\n",
    "\n",
    "# elec_data = pd.DataFrame(elec_data, index=elec_data.index, columns = elec_data.columns)"
   ]
  },
  {
   "cell_type": "code",
   "execution_count": 9,
   "metadata": {},
   "outputs": [
    {
     "data": {
      "text/plain": [
       "'call.csv'"
      ]
     },
     "execution_count": 9,
     "metadata": {},
     "output_type": "execute_result"
    }
   ],
   "source": [
    "from ns_models.ns_TransformerConfig import NS_TransformerConfig\n",
    "user_num_ts = int(raw_data.shape[1] / n_users)\n",
    "args = NS_TransformerConfig()\n",
    "args.devices = gpu_id\n",
    "args.enc_in = user_num_ts\n",
    "args.dec_in = user_num_ts\n",
    "args.c_out = user_num_ts\n",
    "args.root_path='./dataset/milan/'\n",
    "args.data_path='call.csv'\n",
    "args.data_path"
   ]
  },
  {
   "cell_type": "code",
   "execution_count": 10,
   "metadata": {},
   "outputs": [],
   "source": [
    "from torch.utils.data import DataLoader\n",
    "from data_provider.data_factory import *\n",
    "from data_provider.data_loader import *\n",
    "\n",
    "test_data, test_loader = data_provider(args, flag='test')"
   ]
  },
  {
   "cell_type": "code",
   "execution_count": 11,
   "metadata": {},
   "outputs": [
    {
     "data": {
      "text/plain": [
       "(96, 10000)"
      ]
     },
     "execution_count": 11,
     "metadata": {},
     "output_type": "execute_result"
    }
   ],
   "source": [
    "test_data[0][0].shape"
   ]
  },
  {
   "cell_type": "code",
   "execution_count": 12,
   "metadata": {},
   "outputs": [],
   "source": [
    "user_data_list = []\n",
    "server_data_list = []\n",
    "for i in range(n_users):\n",
    "    train_data, train_loader = data_provider(args, flag='train', start=i*user_num_ts+1, end=min(user_num_ts*(i+1)+1, raw_data.shape[1]+1))\n",
    "    test_data, test_loader = data_provider(args, flag='test', start=i*user_num_ts+1, end=min(user_num_ts*(i+1)+1, raw_data.shape[1]+1))\n",
    "    # user_data = train_set.filter(lambda e, idx: idx>=(i*user_num_ts) and idx < user_num_ts*(i+1), with_indices=True)\n",
    "    user_data_list.append(train_loader)\n",
    "    server_data_list.append(test_loader)\n",
    "    # print(train_data[0][0].shape)"
   ]
  },
  {
   "cell_type": "code",
   "execution_count": 13,
   "metadata": {},
   "outputs": [
    {
     "data": {
      "text/plain": [
       "Model(\n",
       "  (enc_embedding): DataEmbedding(\n",
       "    (value_embedding): TokenEmbedding(\n",
       "      (tokenConv): Conv1d(1000, 64, kernel_size=(3,), stride=(1,), padding=(1,), bias=False, padding_mode=circular)\n",
       "    )\n",
       "    (position_embedding): PositionalEmbedding()\n",
       "    (temporal_embedding): TimeFeatureEmbedding(\n",
       "      (embed): Linear(in_features=4, out_features=64, bias=False)\n",
       "    )\n",
       "    (dropout): Dropout(p=0.1, inplace=False)\n",
       "  )\n",
       "  (dec_embedding): DataEmbedding(\n",
       "    (value_embedding): TokenEmbedding(\n",
       "      (tokenConv): Conv1d(1000, 64, kernel_size=(3,), stride=(1,), padding=(1,), bias=False, padding_mode=circular)\n",
       "    )\n",
       "    (position_embedding): PositionalEmbedding()\n",
       "    (temporal_embedding): TimeFeatureEmbedding(\n",
       "      (embed): Linear(in_features=4, out_features=64, bias=False)\n",
       "    )\n",
       "    (dropout): Dropout(p=0.1, inplace=False)\n",
       "  )\n",
       "  (encoder): Encoder(\n",
       "    (attn_layers): ModuleList(\n",
       "      (0-5): 6 x EncoderLayer(\n",
       "        (attention): AttentionLayer(\n",
       "          (inner_attention): DSAttention(\n",
       "            (dropout): Dropout(p=0.1, inplace=False)\n",
       "          )\n",
       "          (query_projection): Linear(in_features=64, out_features=64, bias=True)\n",
       "          (key_projection): Linear(in_features=64, out_features=64, bias=True)\n",
       "          (value_projection): Linear(in_features=64, out_features=64, bias=True)\n",
       "          (out_projection): Linear(in_features=64, out_features=64, bias=True)\n",
       "        )\n",
       "        (conv1): Conv1d(64, 32, kernel_size=(1,), stride=(1,))\n",
       "        (conv2): Conv1d(32, 64, kernel_size=(1,), stride=(1,))\n",
       "        (norm1): LayerNorm((64,), eps=1e-05, elementwise_affine=True)\n",
       "        (norm2): LayerNorm((64,), eps=1e-05, elementwise_affine=True)\n",
       "        (dropout): Dropout(p=0.1, inplace=False)\n",
       "      )\n",
       "    )\n",
       "    (norm): LayerNorm((64,), eps=1e-05, elementwise_affine=True)\n",
       "  )\n",
       "  (decoder): Decoder(\n",
       "    (layers): ModuleList(\n",
       "      (0-3): 4 x DecoderLayer(\n",
       "        (self_attention): AttentionLayer(\n",
       "          (inner_attention): DSAttention(\n",
       "            (dropout): Dropout(p=0.1, inplace=False)\n",
       "          )\n",
       "          (query_projection): Linear(in_features=64, out_features=64, bias=True)\n",
       "          (key_projection): Linear(in_features=64, out_features=64, bias=True)\n",
       "          (value_projection): Linear(in_features=64, out_features=64, bias=True)\n",
       "          (out_projection): Linear(in_features=64, out_features=64, bias=True)\n",
       "        )\n",
       "        (cross_attention): AttentionLayer(\n",
       "          (inner_attention): DSAttention(\n",
       "            (dropout): Dropout(p=0.1, inplace=False)\n",
       "          )\n",
       "          (query_projection): Linear(in_features=64, out_features=64, bias=True)\n",
       "          (key_projection): Linear(in_features=64, out_features=64, bias=True)\n",
       "          (value_projection): Linear(in_features=64, out_features=64, bias=True)\n",
       "          (out_projection): Linear(in_features=64, out_features=64, bias=True)\n",
       "        )\n",
       "        (conv1): Conv1d(64, 32, kernel_size=(1,), stride=(1,))\n",
       "        (conv2): Conv1d(32, 64, kernel_size=(1,), stride=(1,))\n",
       "        (norm1): LayerNorm((64,), eps=1e-05, elementwise_affine=True)\n",
       "        (norm2): LayerNorm((64,), eps=1e-05, elementwise_affine=True)\n",
       "        (norm3): LayerNorm((64,), eps=1e-05, elementwise_affine=True)\n",
       "        (dropout): Dropout(p=0.1, inplace=False)\n",
       "      )\n",
       "    )\n",
       "    (norm): LayerNorm((64,), eps=1e-05, elementwise_affine=True)\n",
       "    (projection): Linear(in_features=64, out_features=1000, bias=True)\n",
       "  )\n",
       "  (tau_learner): Projector(\n",
       "    (series_conv): Conv1d(96, 1, kernel_size=(3,), stride=(1,), padding=(1,), bias=False, padding_mode=circular)\n",
       "    (backbone): Sequential(\n",
       "      (0): Linear(in_features=2000, out_features=64, bias=True)\n",
       "      (1): ReLU()\n",
       "      (2): Linear(in_features=64, out_features=64, bias=True)\n",
       "      (3): ReLU()\n",
       "      (4): Linear(in_features=64, out_features=1, bias=False)\n",
       "    )\n",
       "  )\n",
       "  (delta_learner): Projector(\n",
       "    (series_conv): Conv1d(96, 1, kernel_size=(3,), stride=(1,), padding=(1,), bias=False, padding_mode=circular)\n",
       "    (backbone): Sequential(\n",
       "      (0): Linear(in_features=2000, out_features=64, bias=True)\n",
       "      (1): ReLU()\n",
       "      (2): Linear(in_features=64, out_features=64, bias=True)\n",
       "      (3): ReLU()\n",
       "      (4): Linear(in_features=64, out_features=96, bias=False)\n",
       "    )\n",
       "  )\n",
       ")"
      ]
     },
     "execution_count": 13,
     "metadata": {},
     "output_type": "execute_result"
    }
   ],
   "source": [
    "from ns_models import ns_Transformer\n",
    "server_model = ns_Transformer.Model(configs=args)\n",
    "server_model"
   ]
  },
  {
   "cell_type": "markdown",
   "metadata": {},
   "source": [
    "# Setup WANDB"
   ]
  },
  {
   "cell_type": "code",
   "execution_count": 14,
   "metadata": {},
   "outputs": [
    {
     "name": "stderr",
     "output_type": "stream",
     "text": [
      "Failed to detect the name of this notebook, you can set it manually with the WANDB_NOTEBOOK_NAME environment variable to enable code saving.\n",
      "\u001b[34m\u001b[1mwandb\u001b[0m: Currently logged in as: \u001b[33mkenlvq\u001b[0m (\u001b[33mquanla\u001b[0m). Use \u001b[1m`wandb login --relogin`\u001b[0m to force relogin\n"
     ]
    },
    {
     "data": {
      "application/vnd.jupyter.widget-view+json": {
       "model_id": "00587154bed846d4a64516d9008124df",
       "version_major": 2,
       "version_minor": 0
      },
      "text/plain": [
       "VBox(children=(Label(value='Waiting for wandb.init()...\\r'), FloatProgress(value=0.011112426769816212, max=1.0…"
      ]
     },
     "metadata": {},
     "output_type": "display_data"
    },
    {
     "data": {
      "text/html": [
       "wandb version 0.17.3 is available!  To upgrade, please run:\n",
       " $ pip install wandb --upgrade"
      ],
      "text/plain": [
       "<IPython.core.display.HTML object>"
      ]
     },
     "metadata": {},
     "output_type": "display_data"
    },
    {
     "data": {
      "text/html": [
       "Tracking run with wandb version 0.16.3"
      ],
      "text/plain": [
       "<IPython.core.display.HTML object>"
      ]
     },
     "metadata": {},
     "output_type": "display_data"
    },
    {
     "data": {
      "text/html": [
       "Run data is saved locally in <code>/home/qula0496/quan/Nonstationary_Transformers/wandb/run-20240703_143045-aamu02sc</code>"
      ],
      "text/plain": [
       "<IPython.core.display.HTML object>"
      ]
     },
     "metadata": {},
     "output_type": "display_data"
    },
    {
     "data": {
      "text/html": [
       "Syncing run <strong><a href='https://wandb.ai/quanla/Federated%20Non-Stationary%20Transformer%20on%20Milan%20dataset/runs/aamu02sc' target=\"_blank\">Federated Non-Stationary Transformer on Milan Call dataset</a></strong> to <a href='https://wandb.ai/quanla/Federated%20Non-Stationary%20Transformer%20on%20Milan%20dataset' target=\"_blank\">Weights & Biases</a> (<a href='https://wandb.me/run' target=\"_blank\">docs</a>)<br/>"
      ],
      "text/plain": [
       "<IPython.core.display.HTML object>"
      ]
     },
     "metadata": {},
     "output_type": "display_data"
    },
    {
     "data": {
      "text/html": [
       " View project at <a href='https://wandb.ai/quanla/Federated%20Non-Stationary%20Transformer%20on%20Milan%20dataset' target=\"_blank\">https://wandb.ai/quanla/Federated%20Non-Stationary%20Transformer%20on%20Milan%20dataset</a>"
      ],
      "text/plain": [
       "<IPython.core.display.HTML object>"
      ]
     },
     "metadata": {},
     "output_type": "display_data"
    },
    {
     "data": {
      "text/html": [
       " View run at <a href='https://wandb.ai/quanla/Federated%20Non-Stationary%20Transformer%20on%20Milan%20dataset/runs/aamu02sc' target=\"_blank\">https://wandb.ai/quanla/Federated%20Non-Stationary%20Transformer%20on%20Milan%20dataset/runs/aamu02sc</a>"
      ],
      "text/plain": [
       "<IPython.core.display.HTML object>"
      ]
     },
     "metadata": {},
     "output_type": "display_data"
    }
   ],
   "source": [
    "import wandb\n",
    "import torch\n",
    "\n",
    "NUM_GPUS = torch.cuda.device_count()\n",
    "LR = 1e-3\n",
    "GLOBAL_EPOCHS = 50\n",
    "LOCAL_EPOCHS = 5\n",
    "BATCH_SIZE = 128\n",
    "L2_PENALTY = 0.0\n",
    "USER_RATIO = 0.2\n",
    "run = wandb.init(\n",
    "    # project name\n",
    "    project=\"Federated Non-Stationary Transformer on Milan dataset\",\n",
    "    # experiment name\n",
    "    name=f\"Federated Non-Stationary Transformer on Milan Call dataset\",\n",
    "    # Hyperparams\n",
    "    config={\n",
    "        \"dataset\": \"Milan Call\",\n",
    "        \"preprocess_type\": \"std\",\n",
    "        \"num_user\": n_users,\n",
    "        \"learning_rate\": LR,\n",
    "        \"global_epochs\": GLOBAL_EPOCHS,\n",
    "        \"local_epochs\": LOCAL_EPOCHS,\n",
    "        \"batch_size\": BATCH_SIZE,\n",
    "        \"num_gpus\": NUM_GPUS,\n",
    "        \"user_ratio\": USER_RATIO,\n",
    "        \"l2_penalty\": L2_PENALTY,\n",
    "        \"total_time_series\": 10000,\n",
    "        \"detrending_data\": \"No\"\n",
    "    })\n",
    "\n",
    "config_wanb = wandb.config"
   ]
  },
  {
   "cell_type": "code",
   "execution_count": 15,
   "metadata": {},
   "outputs": [
    {
     "name": "stderr",
     "output_type": "stream",
     "text": [
      "Progress:   0%|          | 0/50 [00:00<?, ?it/s]"
     ]
    },
    {
     "name": "stdout",
     "output_type": "stream",
     "text": [
      "<modules.usernsTranformer.UserNsTransformer object at 0x7f75704a0fa0>\n",
      "Epoch: 1 cost time: 4.116959571838379\n",
      "Epoch: 2 cost time: 3.045100450515747\n",
      "Epoch: 3 cost time: 3.2812418937683105\n",
      "Epoch: 4 cost time: 3.4994986057281494\n",
      "Epoch: 5 cost time: 3.349930763244629\n",
      "<modules.usernsTranformer.UserNsTransformer object at 0x7f757031c2e0>\n",
      "Epoch: 1 cost time: 3.5722365379333496\n",
      "Epoch: 2 cost time: 3.202925682067871\n",
      "Epoch: 3 cost time: 3.258208990097046\n",
      "Epoch: 4 cost time: 3.4547953605651855\n",
      "Epoch: 5 cost time: 4.19439959526062\n"
     ]
    },
    {
     "name": "stderr",
     "output_type": "stream",
     "text": [
      "Progress:   2%|▏         | 1/50 [00:52<42:57, 52.59s/it]"
     ]
    },
    {
     "name": "stdout",
     "output_type": "stream",
     "text": [
      "<modules.usernsTranformer.UserNsTransformer object at 0x7f7570f43580>\n",
      "Epoch: 1 cost time: 3.3483195304870605\n",
      "Epoch: 2 cost time: 2.9153664112091064\n",
      "Epoch: 3 cost time: 2.5463497638702393\n",
      "Epoch: 4 cost time: 2.7634458541870117\n",
      "Epoch: 5 cost time: 2.7667489051818848\n",
      "<modules.usernsTranformer.UserNsTransformer object at 0x7f75702905b0>\n",
      "Epoch: 1 cost time: 2.7629284858703613\n",
      "Epoch: 2 cost time: 2.6164495944976807\n",
      "Epoch: 3 cost time: 2.6933438777923584\n",
      "Epoch: 4 cost time: 3.351234197616577\n",
      "Epoch: 5 cost time: 3.120293140411377\n"
     ]
    },
    {
     "name": "stderr",
     "output_type": "stream",
     "text": [
      "Progress:   4%|▍         | 2/50 [01:39<39:10, 48.96s/it]"
     ]
    },
    {
     "name": "stdout",
     "output_type": "stream",
     "text": [
      "<modules.usernsTranformer.UserNsTransformer object at 0x7f757031e200>\n",
      "Epoch: 1 cost time: 3.237654685974121\n",
      "Epoch: 2 cost time: 2.6519768238067627\n",
      "Epoch: 3 cost time: 2.6537179946899414\n",
      "Epoch: 4 cost time: 2.546520948410034\n",
      "Epoch: 5 cost time: 2.711444854736328\n",
      "<modules.usernsTranformer.UserNsTransformer object at 0x7f757031c2e0>\n",
      "Epoch: 1 cost time: 2.6564488410949707\n",
      "Epoch: 2 cost time: 2.782973527908325\n",
      "Epoch: 3 cost time: 2.9192123413085938\n",
      "Epoch: 4 cost time: 3.3040771484375\n",
      "Epoch: 5 cost time: 3.228879451751709\n"
     ]
    },
    {
     "name": "stderr",
     "output_type": "stream",
     "text": [
      "Progress:   6%|▌         | 3/50 [02:23<36:54, 47.11s/it]"
     ]
    },
    {
     "name": "stdout",
     "output_type": "stream",
     "text": [
      "<modules.usernsTranformer.UserNsTransformer object at 0x7f757031c2e0>\n",
      "Epoch: 1 cost time: 2.927976369857788\n",
      "Epoch: 2 cost time: 3.0072503089904785\n",
      "Epoch: 3 cost time: 2.547182083129883\n",
      "Epoch: 4 cost time: 2.8442935943603516\n",
      "Epoch: 5 cost time: 2.7979860305786133\n",
      "<modules.usernsTranformer.UserNsTransformer object at 0x7f75704a1090>\n",
      "Epoch: 1 cost time: 2.566774606704712\n",
      "Epoch: 2 cost time: 2.6103901863098145\n",
      "Epoch: 3 cost time: 2.8464243412017822\n",
      "Epoch: 4 cost time: 3.151475191116333\n",
      "Epoch: 5 cost time: 3.3856618404388428\n"
     ]
    },
    {
     "name": "stderr",
     "output_type": "stream",
     "text": [
      "Progress:   8%|▊         | 4/50 [03:10<35:50, 46.76s/it]"
     ]
    },
    {
     "name": "stdout",
     "output_type": "stream",
     "text": [
      "<modules.usernsTranformer.UserNsTransformer object at 0x7f755fa05450>\n",
      "Epoch: 1 cost time: 3.1605234146118164\n",
      "Epoch: 2 cost time: 2.821789503097534\n",
      "Epoch: 3 cost time: 2.5710372924804688\n",
      "Epoch: 4 cost time: 2.7203855514526367\n",
      "Epoch: 5 cost time: 2.6384902000427246\n",
      "<modules.usernsTranformer.UserNsTransformer object at 0x7f7570f43580>\n",
      "Epoch: 1 cost time: 2.7108075618743896\n",
      "Epoch: 2 cost time: 3.0886952877044678\n",
      "Epoch: 3 cost time: 3.332481622695923\n",
      "Epoch: 4 cost time: 3.537101984024048\n",
      "Epoch: 5 cost time: 3.1685774326324463\n"
     ]
    },
    {
     "name": "stderr",
     "output_type": "stream",
     "text": [
      "Progress:  10%|█         | 5/50 [03:55<34:46, 46.37s/it]"
     ]
    },
    {
     "name": "stdout",
     "output_type": "stream",
     "text": [
      "<modules.usernsTranformer.UserNsTransformer object at 0x7f757031e200>\n",
      "Epoch: 1 cost time: 3.2024970054626465\n",
      "Epoch: 2 cost time: 2.649388551712036\n",
      "Epoch: 3 cost time: 2.638637065887451\n",
      "Epoch: 4 cost time: 2.5750458240509033\n",
      "Epoch: 5 cost time: 2.7496511936187744\n",
      "<modules.usernsTranformer.UserNsTransformer object at 0x7f75704a0fa0>\n",
      "Epoch: 1 cost time: 2.6510050296783447\n",
      "Epoch: 2 cost time: 3.281360626220703\n",
      "Epoch: 3 cost time: 3.3662705421447754\n",
      "Epoch: 4 cost time: 3.536900758743286\n",
      "Epoch: 5 cost time: 3.489980936050415\n"
     ]
    },
    {
     "name": "stderr",
     "output_type": "stream",
     "text": [
      "Progress:  12%|█▏        | 6/50 [04:42<34:00, 46.37s/it]"
     ]
    },
    {
     "name": "stdout",
     "output_type": "stream",
     "text": [
      "<modules.usernsTranformer.UserNsTransformer object at 0x7f75704a1090>\n",
      "Epoch: 1 cost time: 3.0350520610809326\n",
      "Epoch: 2 cost time: 2.6499156951904297\n",
      "Epoch: 3 cost time: 2.592677116394043\n",
      "Epoch: 4 cost time: 2.629282236099243\n",
      "Epoch: 5 cost time: 2.824354887008667\n",
      "<modules.usernsTranformer.UserNsTransformer object at 0x7f75704a0f70>\n",
      "Epoch: 1 cost time: 2.7225890159606934\n",
      "Epoch: 2 cost time: 3.2831196784973145\n",
      "Epoch: 3 cost time: 3.264242172241211\n",
      "Epoch: 4 cost time: 3.164053201675415\n",
      "Epoch: 5 cost time: 2.956254482269287\n"
     ]
    },
    {
     "name": "stderr",
     "output_type": "stream",
     "text": [
      "Progress:  14%|█▍        | 7/50 [05:28<33:15, 46.40s/it]"
     ]
    },
    {
     "name": "stdout",
     "output_type": "stream",
     "text": [
      "<modules.usernsTranformer.UserNsTransformer object at 0x7f75704a1090>\n",
      "Epoch: 1 cost time: 2.8056273460388184\n",
      "Epoch: 2 cost time: 2.5494744777679443\n",
      "Epoch: 3 cost time: 2.7814788818359375\n",
      "Epoch: 4 cost time: 2.751058340072632\n",
      "Epoch: 5 cost time: 3.2823476791381836\n",
      "<modules.usernsTranformer.UserNsTransformer object at 0x7f75702905b0>\n",
      "Epoch: 1 cost time: 3.305091381072998\n",
      "Epoch: 2 cost time: 3.3969554901123047\n",
      "Epoch: 3 cost time: 3.1784465312957764\n",
      "Epoch: 4 cost time: 2.6785895824432373\n",
      "Epoch: 5 cost time: 2.764113664627075\n"
     ]
    },
    {
     "name": "stderr",
     "output_type": "stream",
     "text": [
      "Progress:  16%|█▌        | 8/50 [06:15<32:31, 46.47s/it]"
     ]
    },
    {
     "name": "stdout",
     "output_type": "stream",
     "text": [
      "<modules.usernsTranformer.UserNsTransformer object at 0x7f757031e200>\n",
      "Epoch: 1 cost time: 3.0271546840667725\n",
      "Epoch: 2 cost time: 2.535935640335083\n",
      "Epoch: 3 cost time: 2.5953688621520996\n",
      "Epoch: 4 cost time: 3.050226926803589\n",
      "Epoch: 5 cost time: 3.130145788192749\n",
      "<modules.usernsTranformer.UserNsTransformer object at 0x7f755fa05450>\n",
      "Epoch: 1 cost time: 3.0583667755126953\n",
      "Epoch: 2 cost time: 3.358927011489868\n",
      "Epoch: 3 cost time: 3.0654118061065674\n",
      "Epoch: 4 cost time: 2.6620371341705322\n",
      "Epoch: 5 cost time: 2.6434683799743652\n"
     ]
    },
    {
     "name": "stderr",
     "output_type": "stream",
     "text": [
      "Progress:  18%|█▊        | 9/50 [06:59<31:19, 45.84s/it]"
     ]
    },
    {
     "name": "stdout",
     "output_type": "stream",
     "text": [
      "<modules.usernsTranformer.UserNsTransformer object at 0x7f75702905b0>\n",
      "Epoch: 1 cost time: 3.3712942600250244\n",
      "Epoch: 2 cost time: 2.794977903366089\n",
      "Epoch: 3 cost time: 2.624783754348755\n",
      "Epoch: 4 cost time: 3.0673093795776367\n",
      "Epoch: 5 cost time: 3.3107409477233887\n",
      "<modules.usernsTranformer.UserNsTransformer object at 0x7f75704a0f70>\n",
      "Epoch: 1 cost time: 3.491564989089966\n",
      "Epoch: 2 cost time: 3.477511405944824\n",
      "Epoch: 3 cost time: 2.629627227783203\n",
      "Epoch: 4 cost time: 2.54584002494812\n",
      "Epoch: 5 cost time: 2.758212089538574\n"
     ]
    },
    {
     "name": "stderr",
     "output_type": "stream",
     "text": [
      "Progress:  20%|██        | 10/50 [07:45<30:29, 45.73s/it]"
     ]
    },
    {
     "name": "stdout",
     "output_type": "stream",
     "text": [
      "<modules.usernsTranformer.UserNsTransformer object at 0x7f75704a0fa0>\n",
      "Epoch: 1 cost time: 3.114377975463867\n",
      "Epoch: 2 cost time: 2.718557119369507\n",
      "Epoch: 3 cost time: 2.690983533859253\n",
      "Epoch: 4 cost time: 3.1240439414978027\n",
      "Epoch: 5 cost time: 3.214787006378174\n",
      "<modules.usernsTranformer.UserNsTransformer object at 0x7f75704a0ee0>\n",
      "Epoch: 1 cost time: 3.349766254425049\n",
      "Epoch: 2 cost time: 3.2601497173309326\n",
      "Epoch: 3 cost time: 2.7835395336151123\n",
      "Epoch: 4 cost time: 2.768315553665161\n",
      "Epoch: 5 cost time: 2.5834710597991943\n"
     ]
    },
    {
     "name": "stderr",
     "output_type": "stream",
     "text": [
      "Progress:  22%|██▏       | 11/50 [08:29<29:28, 45.35s/it]"
     ]
    },
    {
     "name": "stdout",
     "output_type": "stream",
     "text": [
      "<modules.usernsTranformer.UserNsTransformer object at 0x7f7570f43580>\n",
      "Epoch: 1 cost time: 3.250901937484741\n",
      "Epoch: 2 cost time: 2.7215256690979004\n",
      "Epoch: 3 cost time: 2.8745946884155273\n",
      "Epoch: 4 cost time: 3.3268020153045654\n",
      "Epoch: 5 cost time: 3.094353199005127\n",
      "<modules.usernsTranformer.UserNsTransformer object at 0x7f75704a1090>\n",
      "Epoch: 1 cost time: 3.166569948196411\n",
      "Epoch: 2 cost time: 3.213447332382202\n",
      "Epoch: 3 cost time: 2.6324713230133057\n",
      "Epoch: 4 cost time: 2.8473360538482666\n",
      "Epoch: 5 cost time: 2.7318003177642822\n"
     ]
    },
    {
     "name": "stderr",
     "output_type": "stream",
     "text": [
      "Progress:  24%|██▍       | 12/50 [09:16<28:57, 45.71s/it]"
     ]
    },
    {
     "name": "stdout",
     "output_type": "stream",
     "text": [
      "<modules.usernsTranformer.UserNsTransformer object at 0x7f75704a0f70>\n",
      "Epoch: 1 cost time: 3.106593370437622\n",
      "Epoch: 2 cost time: 2.6803994178771973\n",
      "Epoch: 3 cost time: 3.28143572807312\n",
      "Epoch: 4 cost time: 3.180809736251831\n",
      "Epoch: 5 cost time: 3.2430782318115234\n",
      "<modules.usernsTranformer.UserNsTransformer object at 0x7f757031c2e0>\n",
      "Epoch: 1 cost time: 3.1518282890319824\n",
      "Epoch: 2 cost time: 2.546602725982666\n",
      "Epoch: 3 cost time: 2.598175525665283\n",
      "Epoch: 4 cost time: 2.6714727878570557\n",
      "Epoch: 5 cost time: 2.805738687515259\n"
     ]
    },
    {
     "name": "stderr",
     "output_type": "stream",
     "text": [
      "Progress:  26%|██▌       | 13/50 [10:00<27:58, 45.35s/it]"
     ]
    },
    {
     "name": "stdout",
     "output_type": "stream",
     "text": [
      "<modules.usernsTranformer.UserNsTransformer object at 0x7f75704a0ee0>\n",
      "Epoch: 1 cost time: 3.1719133853912354\n",
      "Epoch: 2 cost time: 2.611863851547241\n",
      "Epoch: 3 cost time: 3.068101644515991\n",
      "Epoch: 4 cost time: 3.273101806640625\n",
      "Epoch: 5 cost time: 3.283580780029297\n",
      "<modules.usernsTranformer.UserNsTransformer object at 0x7f7570291d80>\n",
      "Epoch: 1 cost time: 3.2707526683807373\n",
      "Epoch: 2 cost time: 2.833298683166504\n",
      "Epoch: 3 cost time: 2.6619691848754883\n",
      "Epoch: 4 cost time: 2.685819387435913\n",
      "Epoch: 5 cost time: 2.7250442504882812\n"
     ]
    },
    {
     "name": "stderr",
     "output_type": "stream",
     "text": [
      "Progress:  28%|██▊       | 14/50 [10:45<27:01, 45.04s/it]"
     ]
    },
    {
     "name": "stdout",
     "output_type": "stream",
     "text": [
      "<modules.usernsTranformer.UserNsTransformer object at 0x7f75704a0f70>\n",
      "Epoch: 1 cost time: 2.977642059326172\n",
      "Epoch: 2 cost time: 2.900339365005493\n",
      "Epoch: 3 cost time: 3.243976354598999\n",
      "Epoch: 4 cost time: 3.3553006649017334\n",
      "Epoch: 5 cost time: 3.128162384033203\n",
      "<modules.usernsTranformer.UserNsTransformer object at 0x7f757031c2e0>\n",
      "Epoch: 1 cost time: 3.2961370944976807\n",
      "Epoch: 2 cost time: 2.642810106277466\n",
      "Epoch: 3 cost time: 2.770005702972412\n",
      "Epoch: 4 cost time: 2.5406129360198975\n",
      "Epoch: 5 cost time: 2.727888584136963\n"
     ]
    },
    {
     "name": "stderr",
     "output_type": "stream",
     "text": [
      "Progress:  30%|███       | 15/50 [11:29<26:14, 45.00s/it]"
     ]
    },
    {
     "name": "stdout",
     "output_type": "stream",
     "text": [
      "<modules.usernsTranformer.UserNsTransformer object at 0x7f7570f43580>\n",
      "Epoch: 1 cost time: 3.2306010723114014\n",
      "Epoch: 2 cost time: 2.9490551948547363\n",
      "Epoch: 3 cost time: 3.2232868671417236\n",
      "Epoch: 4 cost time: 3.093367338180542\n",
      "Epoch: 5 cost time: 3.2954447269439697\n",
      "<modules.usernsTranformer.UserNsTransformer object at 0x7f757031e200>\n",
      "Epoch: 1 cost time: 3.119688034057617\n",
      "Epoch: 2 cost time: 2.523458957672119\n",
      "Epoch: 3 cost time: 2.642040729522705\n",
      "Epoch: 4 cost time: 2.7655441761016846\n",
      "Epoch: 5 cost time: 2.687079429626465\n"
     ]
    },
    {
     "name": "stderr",
     "output_type": "stream",
     "text": [
      "Progress:  32%|███▏      | 16/50 [12:14<25:23, 44.82s/it]"
     ]
    },
    {
     "name": "stdout",
     "output_type": "stream",
     "text": [
      "<modules.usernsTranformer.UserNsTransformer object at 0x7f755fa05450>\n",
      "Epoch: 1 cost time: 3.2081568241119385\n",
      "Epoch: 2 cost time: 2.781247615814209\n",
      "Epoch: 3 cost time: 3.3381145000457764\n",
      "Epoch: 4 cost time: 3.2530031204223633\n",
      "Epoch: 5 cost time: 3.26000714302063\n",
      "<modules.usernsTranformer.UserNsTransformer object at 0x7f75704a1090>\n",
      "Epoch: 1 cost time: 3.2545807361602783\n",
      "Epoch: 2 cost time: 2.6492221355438232\n",
      "Epoch: 3 cost time: 2.754298210144043\n",
      "Epoch: 4 cost time: 2.8223700523376465\n",
      "Epoch: 5 cost time: 2.7410993576049805\n"
     ]
    },
    {
     "name": "stderr",
     "output_type": "stream",
     "text": [
      "Progress:  34%|███▍      | 17/50 [13:00<24:54, 45.28s/it]"
     ]
    },
    {
     "name": "stdout",
     "output_type": "stream",
     "text": [
      "<modules.usernsTranformer.UserNsTransformer object at 0x7f75704a1090>\n",
      "Epoch: 1 cost time: 3.353717088699341\n",
      "Epoch: 2 cost time: 3.381164073944092\n",
      "Epoch: 3 cost time: 2.819084405899048\n",
      "Epoch: 4 cost time: 3.0998802185058594\n",
      "Epoch: 5 cost time: 3.054612398147583\n",
      "<modules.usernsTranformer.UserNsTransformer object at 0x7f7570f43580>\n",
      "Epoch: 1 cost time: 2.978668451309204\n",
      "Epoch: 2 cost time: 2.703612804412842\n",
      "Epoch: 3 cost time: 2.8037662506103516\n",
      "Epoch: 4 cost time: 2.787842035293579\n",
      "Epoch: 5 cost time: 2.7168664932250977\n"
     ]
    },
    {
     "name": "stderr",
     "output_type": "stream",
     "text": [
      "Progress:  36%|███▌      | 18/50 [13:46<24:08, 45.27s/it]"
     ]
    },
    {
     "name": "stdout",
     "output_type": "stream",
     "text": [
      "<modules.usernsTranformer.UserNsTransformer object at 0x7f757031e200>\n",
      "Epoch: 1 cost time: 2.9386677742004395\n",
      "Epoch: 2 cost time: 3.5851125717163086\n",
      "Epoch: 3 cost time: 3.311258316040039\n",
      "Epoch: 4 cost time: 3.0057919025421143\n",
      "Epoch: 5 cost time: 3.2311031818389893\n",
      "<modules.usernsTranformer.UserNsTransformer object at 0x7f7570291d80>\n",
      "Epoch: 1 cost time: 2.734311103820801\n",
      "Epoch: 2 cost time: 2.582940101623535\n",
      "Epoch: 3 cost time: 2.6519105434417725\n",
      "Epoch: 4 cost time: 2.6383659839630127\n",
      "Epoch: 5 cost time: 2.613781452178955\n"
     ]
    },
    {
     "name": "stderr",
     "output_type": "stream",
     "text": [
      "Progress:  38%|███▊      | 19/50 [14:29<23:07, 44.76s/it]"
     ]
    },
    {
     "name": "stdout",
     "output_type": "stream",
     "text": [
      "<modules.usernsTranformer.UserNsTransformer object at 0x7f75702905b0>\n",
      "Epoch: 1 cost time: 3.3216116428375244\n",
      "Epoch: 2 cost time: 3.4709150791168213\n",
      "Epoch: 3 cost time: 3.338339328765869\n",
      "Epoch: 4 cost time: 3.5083041191101074\n",
      "Epoch: 5 cost time: 3.1540210247039795\n",
      "<modules.usernsTranformer.UserNsTransformer object at 0x7f75704a0fa0>\n",
      "Epoch: 1 cost time: 2.9169363975524902\n",
      "Epoch: 2 cost time: 2.6568045616149902\n",
      "Epoch: 3 cost time: 2.665165901184082\n",
      "Epoch: 4 cost time: 2.7788076400756836\n",
      "Epoch: 5 cost time: 2.76947021484375\n"
     ]
    },
    {
     "name": "stderr",
     "output_type": "stream",
     "text": [
      "Progress:  40%|████      | 20/50 [15:14<22:22, 44.75s/it]"
     ]
    },
    {
     "name": "stdout",
     "output_type": "stream",
     "text": [
      "<modules.usernsTranformer.UserNsTransformer object at 0x7f75702905b0>\n",
      "Epoch: 1 cost time: 3.3542275428771973\n",
      "Epoch: 2 cost time: 3.1732053756713867\n",
      "Epoch: 3 cost time: 3.51688814163208\n",
      "Epoch: 4 cost time: 3.255094528198242\n",
      "Epoch: 5 cost time: 3.4031834602355957\n",
      "<modules.usernsTranformer.UserNsTransformer object at 0x7f75704a1090>\n",
      "Epoch: 1 cost time: 2.823237419128418\n",
      "Epoch: 2 cost time: 2.643346071243286\n",
      "Epoch: 3 cost time: 2.544687032699585\n",
      "Epoch: 4 cost time: 2.6544134616851807\n",
      "Epoch: 5 cost time: 2.626573085784912\n"
     ]
    },
    {
     "name": "stderr",
     "output_type": "stream",
     "text": [
      "Progress:  42%|████▏     | 21/50 [15:57<21:27, 44.38s/it]"
     ]
    },
    {
     "name": "stdout",
     "output_type": "stream",
     "text": [
      "<modules.usernsTranformer.UserNsTransformer object at 0x7f755fa05450>\n",
      "Epoch: 1 cost time: 3.134981393814087\n",
      "Epoch: 2 cost time: 3.220885753631592\n",
      "Epoch: 3 cost time: 3.524991035461426\n",
      "Epoch: 4 cost time: 3.7366511821746826\n",
      "Epoch: 5 cost time: 3.275444269180298\n",
      "<modules.usernsTranformer.UserNsTransformer object at 0x7f75704a0fa0>\n",
      "Epoch: 1 cost time: 3.5916967391967773\n",
      "Epoch: 2 cost time: 3.0869991779327393\n",
      "Epoch: 3 cost time: 2.8693337440490723\n",
      "Epoch: 4 cost time: 2.656071662902832\n",
      "Epoch: 5 cost time: 2.812077045440674\n"
     ]
    },
    {
     "name": "stderr",
     "output_type": "stream",
     "text": [
      "Progress:  44%|████▍     | 22/50 [16:42<20:47, 44.57s/it]"
     ]
    },
    {
     "name": "stdout",
     "output_type": "stream",
     "text": [
      "<modules.usernsTranformer.UserNsTransformer object at 0x7f75704a1090>\n",
      "Epoch: 1 cost time: 3.0935921669006348\n",
      "Epoch: 2 cost time: 3.121028423309326\n",
      "Epoch: 3 cost time: 3.3084700107574463\n",
      "Epoch: 4 cost time: 3.7475106716156006\n",
      "Epoch: 5 cost time: 3.3710436820983887\n",
      "<modules.usernsTranformer.UserNsTransformer object at 0x7f75704a0f70>\n",
      "Epoch: 1 cost time: 3.253685235977173\n",
      "Epoch: 2 cost time: 2.99796724319458\n",
      "Epoch: 3 cost time: 2.632622480392456\n",
      "Epoch: 4 cost time: 2.625563383102417\n",
      "Epoch: 5 cost time: 2.98889422416687\n"
     ]
    },
    {
     "name": "stderr",
     "output_type": "stream",
     "text": [
      "Progress:  46%|████▌     | 23/50 [17:27<20:03, 44.58s/it]"
     ]
    },
    {
     "name": "stdout",
     "output_type": "stream",
     "text": [
      "<modules.usernsTranformer.UserNsTransformer object at 0x7f757031c2e0>\n",
      "Epoch: 1 cost time: 2.5967249870300293\n",
      "Epoch: 2 cost time: 3.0971591472625732\n",
      "Epoch: 3 cost time: 3.533790349960327\n",
      "Epoch: 4 cost time: 3.522862195968628\n",
      "Epoch: 5 cost time: 3.675424575805664\n",
      "<modules.usernsTranformer.UserNsTransformer object at 0x7f75704a1090>\n",
      "Epoch: 1 cost time: 3.291544198989868\n",
      "Epoch: 2 cost time: 3.1271049976348877\n",
      "Epoch: 3 cost time: 2.6456072330474854\n",
      "Epoch: 4 cost time: 2.775935649871826\n",
      "Epoch: 5 cost time: 2.648651599884033\n"
     ]
    },
    {
     "name": "stderr",
     "output_type": "stream",
     "text": [
      "Progress:  48%|████▊     | 24/50 [18:11<19:17, 44.53s/it]"
     ]
    },
    {
     "name": "stdout",
     "output_type": "stream",
     "text": [
      "<modules.usernsTranformer.UserNsTransformer object at 0x7f7570291d80>\n",
      "Epoch: 1 cost time: 2.860321521759033\n",
      "Epoch: 2 cost time: 3.2612242698669434\n",
      "Epoch: 3 cost time: 3.441028594970703\n",
      "Epoch: 4 cost time: 3.3911426067352295\n",
      "Epoch: 5 cost time: 3.59970760345459\n",
      "<modules.usernsTranformer.UserNsTransformer object at 0x7f75704a1090>\n",
      "Epoch: 1 cost time: 3.0941359996795654\n",
      "Epoch: 2 cost time: 3.3647894859313965\n",
      "Epoch: 3 cost time: 2.55399227142334\n",
      "Epoch: 4 cost time: 2.761461019515991\n",
      "Epoch: 5 cost time: 2.90763258934021\n"
     ]
    },
    {
     "name": "stderr",
     "output_type": "stream",
     "text": [
      "Progress:  50%|█████     | 25/50 [18:56<18:35, 44.61s/it]"
     ]
    },
    {
     "name": "stdout",
     "output_type": "stream",
     "text": [
      "<modules.usernsTranformer.UserNsTransformer object at 0x7f75702905b0>\n",
      "Epoch: 1 cost time: 2.5278677940368652\n",
      "Epoch: 2 cost time: 2.8943357467651367\n",
      "Epoch: 3 cost time: 3.107387065887451\n",
      "Epoch: 4 cost time: 3.342430353164673\n",
      "Epoch: 5 cost time: 3.442652702331543\n",
      "<modules.usernsTranformer.UserNsTransformer object at 0x7f75704a0ee0>\n",
      "Epoch: 1 cost time: 3.558227062225342\n",
      "Epoch: 2 cost time: 3.1575801372528076\n",
      "Epoch: 3 cost time: 3.12385630607605\n",
      "Epoch: 4 cost time: 2.66195011138916\n",
      "Epoch: 5 cost time: 2.61452579498291\n"
     ]
    },
    {
     "name": "stderr",
     "output_type": "stream",
     "text": [
      "Progress:  52%|█████▏    | 26/50 [19:40<17:46, 44.43s/it]"
     ]
    },
    {
     "name": "stdout",
     "output_type": "stream",
     "text": [
      "<modules.usernsTranformer.UserNsTransformer object at 0x7f757031c2e0>\n",
      "Epoch: 1 cost time: 2.7472057342529297\n",
      "Epoch: 2 cost time: 2.714397668838501\n",
      "Epoch: 3 cost time: 2.9152274131774902\n",
      "Epoch: 4 cost time: 3.4440512657165527\n",
      "Epoch: 5 cost time: 3.719688892364502\n",
      "<modules.usernsTranformer.UserNsTransformer object at 0x7f75704a0f70>\n",
      "Epoch: 1 cost time: 3.326051712036133\n",
      "Epoch: 2 cost time: 3.3764095306396484\n",
      "Epoch: 3 cost time: 3.310136318206787\n",
      "Epoch: 4 cost time: 2.656622886657715\n",
      "Epoch: 5 cost time: 2.5888822078704834\n"
     ]
    },
    {
     "name": "stderr",
     "output_type": "stream",
     "text": [
      "Progress:  54%|█████▍    | 27/50 [20:25<17:05, 44.57s/it]"
     ]
    },
    {
     "name": "stdout",
     "output_type": "stream",
     "text": [
      "<modules.usernsTranformer.UserNsTransformer object at 0x7f75704a1090>\n",
      "Epoch: 1 cost time: 2.5317864418029785\n",
      "Epoch: 2 cost time: 2.7083306312561035\n",
      "Epoch: 3 cost time: 2.7844197750091553\n",
      "Epoch: 4 cost time: 3.510495901107788\n",
      "Epoch: 5 cost time: 3.8407275676727295\n",
      "<modules.usernsTranformer.UserNsTransformer object at 0x7f75704a0f70>\n",
      "Epoch: 1 cost time: 3.406590461730957\n",
      "Epoch: 2 cost time: 3.6046981811523438\n",
      "Epoch: 3 cost time: 2.997488260269165\n",
      "Epoch: 4 cost time: 2.798314332962036\n",
      "Epoch: 5 cost time: 2.706848621368408\n"
     ]
    },
    {
     "name": "stderr",
     "output_type": "stream",
     "text": [
      "Progress:  56%|█████▌    | 28/50 [21:10<16:22, 44.66s/it]"
     ]
    },
    {
     "name": "stdout",
     "output_type": "stream",
     "text": [
      "<modules.usernsTranformer.UserNsTransformer object at 0x7f75704a0f70>\n",
      "Epoch: 1 cost time: 2.532270908355713\n",
      "Epoch: 2 cost time: 2.5981104373931885\n",
      "Epoch: 3 cost time: 2.882514476776123\n",
      "Epoch: 4 cost time: 3.3766655921936035\n",
      "Epoch: 5 cost time: 3.3636116981506348\n",
      "<modules.usernsTranformer.UserNsTransformer object at 0x7f75704a0ee0>\n",
      "Epoch: 1 cost time: 3.3997809886932373\n",
      "Epoch: 2 cost time: 3.4996917247772217\n",
      "Epoch: 3 cost time: 3.4233319759368896\n",
      "Epoch: 4 cost time: 2.7587952613830566\n",
      "Epoch: 5 cost time: 2.509690284729004\n"
     ]
    },
    {
     "name": "stderr",
     "output_type": "stream",
     "text": [
      "Progress:  58%|█████▊    | 29/50 [21:54<15:33, 44.48s/it]"
     ]
    },
    {
     "name": "stdout",
     "output_type": "stream",
     "text": [
      "<modules.usernsTranformer.UserNsTransformer object at 0x7f75704a0fa0>\n",
      "Epoch: 1 cost time: 2.759516477584839\n",
      "Epoch: 2 cost time: 2.8257832527160645\n",
      "Epoch: 3 cost time: 2.597461223602295\n",
      "Epoch: 4 cost time: 3.3990590572357178\n",
      "Epoch: 5 cost time: 3.386465072631836\n",
      "<modules.usernsTranformer.UserNsTransformer object at 0x7f757031c2e0>\n",
      "Epoch: 1 cost time: 3.520167350769043\n",
      "Epoch: 2 cost time: 3.6376404762268066\n",
      "Epoch: 3 cost time: 3.764986991882324\n",
      "Epoch: 4 cost time: 2.853869915008545\n",
      "Epoch: 5 cost time: 2.733783721923828\n"
     ]
    },
    {
     "name": "stderr",
     "output_type": "stream",
     "text": [
      "Progress:  60%|██████    | 30/50 [22:39<14:53, 44.66s/it]"
     ]
    },
    {
     "name": "stdout",
     "output_type": "stream",
     "text": [
      "<modules.usernsTranformer.UserNsTransformer object at 0x7f75704a0fa0>\n",
      "Epoch: 1 cost time: 2.68263578414917\n",
      "Epoch: 2 cost time: 2.654888868331909\n",
      "Epoch: 3 cost time: 2.485654354095459\n",
      "Epoch: 4 cost time: 3.180281639099121\n",
      "Epoch: 5 cost time: 3.638788938522339\n",
      "<modules.usernsTranformer.UserNsTransformer object at 0x7f757031e200>\n",
      "Epoch: 1 cost time: 3.4000356197357178\n",
      "Epoch: 2 cost time: 3.350325107574463\n",
      "Epoch: 3 cost time: 3.373462200164795\n",
      "Epoch: 4 cost time: 2.7900266647338867\n",
      "Epoch: 5 cost time: 2.6515321731567383\n"
     ]
    },
    {
     "name": "stderr",
     "output_type": "stream",
     "text": [
      "Progress:  62%|██████▏   | 31/50 [23:23<14:03, 44.38s/it]"
     ]
    },
    {
     "name": "stdout",
     "output_type": "stream",
     "text": [
      "<modules.usernsTranformer.UserNsTransformer object at 0x7f7570291d80>\n",
      "Epoch: 1 cost time: 2.8396151065826416\n",
      "Epoch: 2 cost time: 2.7181074619293213\n",
      "Epoch: 3 cost time: 2.6096644401550293\n",
      "Epoch: 4 cost time: 2.9240760803222656\n",
      "Epoch: 5 cost time: 3.246615171432495\n",
      "<modules.usernsTranformer.UserNsTransformer object at 0x7f75704a0fa0>\n",
      "Epoch: 1 cost time: 3.5887386798858643\n",
      "Epoch: 2 cost time: 3.5925610065460205\n",
      "Epoch: 3 cost time: 3.389584541320801\n",
      "Epoch: 4 cost time: 3.1787662506103516\n",
      "Epoch: 5 cost time: 2.710326671600342\n"
     ]
    },
    {
     "name": "stderr",
     "output_type": "stream",
     "text": [
      "Progress:  64%|██████▍   | 32/50 [24:07<13:18, 44.34s/it]"
     ]
    },
    {
     "name": "stdout",
     "output_type": "stream",
     "text": [
      "<modules.usernsTranformer.UserNsTransformer object at 0x7f757031e200>\n",
      "Epoch: 1 cost time: 2.6561203002929688\n",
      "Epoch: 2 cost time: 2.664517879486084\n",
      "Epoch: 3 cost time: 2.713898181915283\n",
      "Epoch: 4 cost time: 2.510739803314209\n",
      "Epoch: 5 cost time: 3.0011606216430664\n",
      "<modules.usernsTranformer.UserNsTransformer object at 0x7f757031c2e0>\n",
      "Epoch: 1 cost time: 3.5795557498931885\n",
      "Epoch: 2 cost time: 3.4950811862945557\n",
      "Epoch: 3 cost time: 3.2965900897979736\n",
      "Epoch: 4 cost time: 3.276371717453003\n",
      "Epoch: 5 cost time: 3.1938400268554688\n"
     ]
    },
    {
     "name": "stderr",
     "output_type": "stream",
     "text": [
      "Progress:  66%|██████▌   | 33/50 [24:51<12:31, 44.21s/it]"
     ]
    },
    {
     "name": "stdout",
     "output_type": "stream",
     "text": [
      "<modules.usernsTranformer.UserNsTransformer object at 0x7f757031c2e0>\n",
      "Epoch: 1 cost time: 2.617016315460205\n",
      "Epoch: 2 cost time: 2.701554536819458\n",
      "Epoch: 3 cost time: 2.75007700920105\n",
      "Epoch: 4 cost time: 2.6030399799346924\n",
      "Epoch: 5 cost time: 2.675448179244995\n",
      "<modules.usernsTranformer.UserNsTransformer object at 0x7f75704a0ee0>\n",
      "Epoch: 1 cost time: 3.381744623184204\n",
      "Epoch: 2 cost time: 3.518165111541748\n",
      "Epoch: 3 cost time: 3.372134208679199\n",
      "Epoch: 4 cost time: 3.429079532623291\n",
      "Epoch: 5 cost time: 3.271885395050049\n"
     ]
    },
    {
     "name": "stderr",
     "output_type": "stream",
     "text": [
      "Progress:  68%|██████▊   | 34/50 [25:34<11:43, 43.98s/it]"
     ]
    },
    {
     "name": "stdout",
     "output_type": "stream",
     "text": [
      "<modules.usernsTranformer.UserNsTransformer object at 0x7f757031c2e0>\n",
      "Epoch: 1 cost time: 2.547624349594116\n",
      "Epoch: 2 cost time: 2.5876200199127197\n",
      "Epoch: 3 cost time: 2.579639196395874\n",
      "Epoch: 4 cost time: 2.943497657775879\n",
      "Epoch: 5 cost time: 2.6940529346466064\n",
      "<modules.usernsTranformer.UserNsTransformer object at 0x7f75702905b0>\n",
      "Epoch: 1 cost time: 3.028424024581909\n",
      "Epoch: 2 cost time: 3.318559408187866\n",
      "Epoch: 3 cost time: 3.285740613937378\n",
      "Epoch: 4 cost time: 3.3051090240478516\n",
      "Epoch: 5 cost time: 3.295815944671631\n"
     ]
    },
    {
     "name": "stderr",
     "output_type": "stream",
     "text": [
      "Progress:  70%|███████   | 35/50 [26:19<11:00, 44.02s/it]"
     ]
    },
    {
     "name": "stdout",
     "output_type": "stream",
     "text": [
      "<modules.usernsTranformer.UserNsTransformer object at 0x7f757031c2e0>\n",
      "Epoch: 1 cost time: 2.5773866176605225\n",
      "Epoch: 2 cost time: 2.8276445865631104\n",
      "Epoch: 3 cost time: 2.484541416168213\n",
      "Epoch: 4 cost time: 2.6578524112701416\n",
      "Epoch: 5 cost time: 2.7072513103485107\n",
      "<modules.usernsTranformer.UserNsTransformer object at 0x7f75704a0f70>\n",
      "Epoch: 1 cost time: 2.730165481567383\n",
      "Epoch: 2 cost time: 2.9492123126983643\n",
      "Epoch: 3 cost time: 3.6700193881988525\n",
      "Epoch: 4 cost time: 3.2527801990509033\n",
      "Epoch: 5 cost time: 3.4192049503326416\n"
     ]
    },
    {
     "name": "stderr",
     "output_type": "stream",
     "text": [
      "Progress:  72%|███████▏  | 36/50 [27:02<10:15, 43.95s/it]"
     ]
    },
    {
     "name": "stdout",
     "output_type": "stream",
     "text": [
      "<modules.usernsTranformer.UserNsTransformer object at 0x7f755fa05450>\n",
      "Epoch: 1 cost time: 2.852567434310913\n",
      "Epoch: 2 cost time: 2.639477014541626\n",
      "Epoch: 3 cost time: 2.59218692779541\n",
      "Epoch: 4 cost time: 2.72391939163208\n",
      "Epoch: 5 cost time: 2.5655369758605957\n",
      "<modules.usernsTranformer.UserNsTransformer object at 0x7f75704a0ee0>\n",
      "Epoch: 1 cost time: 2.7583658695220947\n",
      "Epoch: 2 cost time: 2.524592876434326\n",
      "Epoch: 3 cost time: 3.24491024017334\n",
      "Epoch: 4 cost time: 3.3665201663970947\n",
      "Epoch: 5 cost time: 3.4197094440460205\n"
     ]
    },
    {
     "name": "stderr",
     "output_type": "stream",
     "text": [
      "Progress:  74%|███████▍  | 37/50 [27:47<09:34, 44.17s/it]"
     ]
    },
    {
     "name": "stdout",
     "output_type": "stream",
     "text": [
      "<modules.usernsTranformer.UserNsTransformer object at 0x7f7570f43580>\n",
      "Epoch: 1 cost time: 2.6489086151123047\n",
      "Epoch: 2 cost time: 2.578988790512085\n",
      "Epoch: 3 cost time: 2.632606029510498\n",
      "Epoch: 4 cost time: 2.6718883514404297\n",
      "Epoch: 5 cost time: 2.7383968830108643\n",
      "<modules.usernsTranformer.UserNsTransformer object at 0x7f75702905b0>\n",
      "Epoch: 1 cost time: 2.7573935985565186\n",
      "Epoch: 2 cost time: 2.7901787757873535\n",
      "Epoch: 3 cost time: 3.211371898651123\n",
      "Epoch: 4 cost time: 3.7234199047088623\n",
      "Epoch: 5 cost time: 3.3356645107269287\n"
     ]
    },
    {
     "name": "stderr",
     "output_type": "stream",
     "text": [
      "Progress:  76%|███████▌  | 38/50 [28:32<08:53, 44.46s/it]"
     ]
    },
    {
     "name": "stdout",
     "output_type": "stream",
     "text": [
      "<modules.usernsTranformer.UserNsTransformer object at 0x7f7570f43580>\n",
      "Epoch: 1 cost time: 2.665086030960083\n",
      "Epoch: 2 cost time: 2.881777286529541\n",
      "Epoch: 3 cost time: 2.6854605674743652\n",
      "Epoch: 4 cost time: 2.8914358615875244\n",
      "Epoch: 5 cost time: 2.8171958923339844\n",
      "<modules.usernsTranformer.UserNsTransformer object at 0x7f75704a0f70>\n",
      "Epoch: 1 cost time: 2.723041534423828\n",
      "Epoch: 2 cost time: 2.8001863956451416\n",
      "Epoch: 3 cost time: 3.0830845832824707\n",
      "Epoch: 4 cost time: 3.652568817138672\n",
      "Epoch: 5 cost time: 3.5395350456237793\n"
     ]
    },
    {
     "name": "stderr",
     "output_type": "stream",
     "text": [
      "Progress:  78%|███████▊  | 39/50 [29:19<08:17, 45.19s/it]"
     ]
    },
    {
     "name": "stdout",
     "output_type": "stream",
     "text": [
      "<modules.usernsTranformer.UserNsTransformer object at 0x7f7570f43580>\n",
      "Epoch: 1 cost time: 2.528183698654175\n",
      "Epoch: 2 cost time: 2.591545581817627\n",
      "Epoch: 3 cost time: 2.455259323120117\n",
      "Epoch: 4 cost time: 2.7231454849243164\n",
      "Epoch: 5 cost time: 2.7654802799224854\n",
      "<modules.usernsTranformer.UserNsTransformer object at 0x7f75704a0f70>\n",
      "Epoch: 1 cost time: 2.717238426208496\n",
      "Epoch: 2 cost time: 2.7076992988586426\n",
      "Epoch: 3 cost time: 3.2512741088867188\n",
      "Epoch: 4 cost time: 3.5620038509368896\n",
      "Epoch: 5 cost time: 3.5463078022003174\n"
     ]
    },
    {
     "name": "stderr",
     "output_type": "stream",
     "text": [
      "Progress:  80%|████████  | 40/50 [30:03<07:29, 44.95s/it]"
     ]
    },
    {
     "name": "stdout",
     "output_type": "stream",
     "text": [
      "<modules.usernsTranformer.UserNsTransformer object at 0x7f7570291d80>\n",
      "Epoch: 1 cost time: 2.6084799766540527\n",
      "Epoch: 2 cost time: 2.7609055042266846\n",
      "Epoch: 3 cost time: 2.783379316329956\n",
      "Epoch: 4 cost time: 2.7470104694366455\n",
      "Epoch: 5 cost time: 2.672701835632324\n",
      "<modules.usernsTranformer.UserNsTransformer object at 0x7f75704a0f70>\n",
      "Epoch: 1 cost time: 2.6763927936553955\n",
      "Epoch: 2 cost time: 2.602506637573242\n",
      "Epoch: 3 cost time: 2.8633487224578857\n",
      "Epoch: 4 cost time: 3.1617634296417236\n",
      "Epoch: 5 cost time: 3.1810340881347656\n"
     ]
    },
    {
     "name": "stderr",
     "output_type": "stream",
     "text": [
      "Progress:  82%|████████▏ | 41/50 [30:48<06:42, 44.76s/it]"
     ]
    },
    {
     "name": "stdout",
     "output_type": "stream",
     "text": [
      "<modules.usernsTranformer.UserNsTransformer object at 0x7f757031e200>\n",
      "Epoch: 1 cost time: 2.6590683460235596\n",
      "Epoch: 2 cost time: 2.6211202144622803\n",
      "Epoch: 3 cost time: 2.5876946449279785\n",
      "Epoch: 4 cost time: 2.6521823406219482\n",
      "Epoch: 5 cost time: 2.684908151626587\n",
      "<modules.usernsTranformer.UserNsTransformer object at 0x7f75704a0fa0>\n",
      "Epoch: 1 cost time: 2.854463577270508\n",
      "Epoch: 2 cost time: 2.7552406787872314\n",
      "Epoch: 3 cost time: 2.7400074005126953\n",
      "Epoch: 4 cost time: 3.090806722640991\n",
      "Epoch: 5 cost time: 3.2654271125793457\n"
     ]
    },
    {
     "name": "stderr",
     "output_type": "stream",
     "text": [
      "Progress:  84%|████████▍ | 42/50 [31:34<06:00, 45.08s/it]"
     ]
    },
    {
     "name": "stdout",
     "output_type": "stream",
     "text": [
      "<modules.usernsTranformer.UserNsTransformer object at 0x7f75704a0f70>\n",
      "Epoch: 1 cost time: 2.520301103591919\n",
      "Epoch: 2 cost time: 3.0424604415893555\n",
      "Epoch: 3 cost time: 2.8288869857788086\n",
      "Epoch: 4 cost time: 2.728398084640503\n",
      "Epoch: 5 cost time: 2.731187343597412\n",
      "<modules.usernsTranformer.UserNsTransformer object at 0x7f757031e200>\n",
      "Epoch: 1 cost time: 2.742971658706665\n",
      "Epoch: 2 cost time: 2.6638104915618896\n",
      "Epoch: 3 cost time: 2.63722825050354\n",
      "Epoch: 4 cost time: 3.5724852085113525\n",
      "Epoch: 5 cost time: 3.5777299404144287\n"
     ]
    },
    {
     "name": "stderr",
     "output_type": "stream",
     "text": [
      "Progress:  86%|████████▌ | 43/50 [32:19<05:16, 45.21s/it]"
     ]
    },
    {
     "name": "stdout",
     "output_type": "stream",
     "text": [
      "<modules.usernsTranformer.UserNsTransformer object at 0x7f755fa05450>\n",
      "Epoch: 1 cost time: 2.7321901321411133\n",
      "Epoch: 2 cost time: 2.61376953125\n",
      "Epoch: 3 cost time: 2.764899492263794\n",
      "Epoch: 4 cost time: 2.7600836753845215\n",
      "Epoch: 5 cost time: 2.6517245769500732\n",
      "<modules.usernsTranformer.UserNsTransformer object at 0x7f7570291d80>\n",
      "Epoch: 1 cost time: 2.763533592224121\n",
      "Epoch: 2 cost time: 2.659803628921509\n",
      "Epoch: 3 cost time: 2.8573226928710938\n",
      "Epoch: 4 cost time: 3.380972146987915\n",
      "Epoch: 5 cost time: 3.429027795791626\n"
     ]
    },
    {
     "name": "stderr",
     "output_type": "stream",
     "text": [
      "Progress:  88%|████████▊ | 44/50 [33:05<04:32, 45.44s/it]"
     ]
    },
    {
     "name": "stdout",
     "output_type": "stream",
     "text": [
      "<modules.usernsTranformer.UserNsTransformer object at 0x7f75704a0f70>\n",
      "Epoch: 1 cost time: 2.551081657409668\n",
      "Epoch: 2 cost time: 2.8218202590942383\n",
      "Epoch: 3 cost time: 2.5253264904022217\n",
      "Epoch: 4 cost time: 2.6933376789093018\n",
      "Epoch: 5 cost time: 2.9115569591522217\n",
      "<modules.usernsTranformer.UserNsTransformer object at 0x7f75704a1090>\n",
      "Epoch: 1 cost time: 2.548328161239624\n",
      "Epoch: 2 cost time: 2.499596357345581\n",
      "Epoch: 3 cost time: 2.6912856101989746\n",
      "Epoch: 4 cost time: 3.1742732524871826\n",
      "Epoch: 5 cost time: 3.517382860183716\n"
     ]
    },
    {
     "name": "stderr",
     "output_type": "stream",
     "text": [
      "Progress:  90%|█████████ | 45/50 [33:50<03:46, 45.33s/it]"
     ]
    },
    {
     "name": "stdout",
     "output_type": "stream",
     "text": [
      "<modules.usernsTranformer.UserNsTransformer object at 0x7f755fa05450>\n",
      "Epoch: 1 cost time: 2.8353917598724365\n",
      "Epoch: 2 cost time: 2.7123961448669434\n",
      "Epoch: 3 cost time: 2.717726945877075\n",
      "Epoch: 4 cost time: 2.7869174480438232\n",
      "Epoch: 5 cost time: 2.695574998855591\n",
      "<modules.usernsTranformer.UserNsTransformer object at 0x7f757031e200>\n",
      "Epoch: 1 cost time: 2.802544116973877\n",
      "Epoch: 2 cost time: 2.6613869667053223\n",
      "Epoch: 3 cost time: 2.7486255168914795\n",
      "Epoch: 4 cost time: 2.8016982078552246\n",
      "Epoch: 5 cost time: 3.2731540203094482\n"
     ]
    },
    {
     "name": "stderr",
     "output_type": "stream",
     "text": [
      "Progress:  92%|█████████▏| 46/50 [34:36<03:01, 45.45s/it]"
     ]
    },
    {
     "name": "stdout",
     "output_type": "stream",
     "text": [
      "<modules.usernsTranformer.UserNsTransformer object at 0x7f757031e200>\n",
      "Epoch: 1 cost time: 2.733886241912842\n",
      "Epoch: 2 cost time: 2.60914945602417\n",
      "Epoch: 3 cost time: 2.6634747982025146\n",
      "Epoch: 4 cost time: 2.569851875305176\n",
      "Epoch: 5 cost time: 2.616612195968628\n",
      "<modules.usernsTranformer.UserNsTransformer object at 0x7f7570f43580>\n",
      "Epoch: 1 cost time: 2.6309244632720947\n",
      "Epoch: 2 cost time: 2.6682960987091064\n",
      "Epoch: 3 cost time: 2.6650454998016357\n",
      "Epoch: 4 cost time: 2.953491687774658\n",
      "Epoch: 5 cost time: 3.3916914463043213\n"
     ]
    },
    {
     "name": "stderr",
     "output_type": "stream",
     "text": [
      "Progress:  94%|█████████▍| 47/50 [35:20<02:15, 45.08s/it]"
     ]
    },
    {
     "name": "stdout",
     "output_type": "stream",
     "text": [
      "<modules.usernsTranformer.UserNsTransformer object at 0x7f7570291d80>\n",
      "Epoch: 1 cost time: 2.6667933464050293\n",
      "Epoch: 2 cost time: 2.8756473064422607\n",
      "Epoch: 3 cost time: 2.517411470413208\n",
      "Epoch: 4 cost time: 2.7444283962249756\n",
      "Epoch: 5 cost time: 2.7579433917999268\n",
      "<modules.usernsTranformer.UserNsTransformer object at 0x7f757031c2e0>\n",
      "Epoch: 1 cost time: 2.6889195442199707\n",
      "Epoch: 2 cost time: 2.634321689605713\n",
      "Epoch: 3 cost time: 2.5929598808288574\n",
      "Epoch: 4 cost time: 3.0666418075561523\n",
      "Epoch: 5 cost time: 3.3722641468048096\n"
     ]
    },
    {
     "name": "stderr",
     "output_type": "stream",
     "text": [
      "Progress:  96%|█████████▌| 48/50 [36:05<01:30, 45.09s/it]"
     ]
    },
    {
     "name": "stdout",
     "output_type": "stream",
     "text": [
      "<modules.usernsTranformer.UserNsTransformer object at 0x7f75704a0ee0>\n",
      "Epoch: 1 cost time: 2.611452102661133\n",
      "Epoch: 2 cost time: 2.7414143085479736\n",
      "Epoch: 3 cost time: 2.756295919418335\n",
      "Epoch: 4 cost time: 2.6683170795440674\n",
      "Epoch: 5 cost time: 2.6029977798461914\n",
      "<modules.usernsTranformer.UserNsTransformer object at 0x7f75704a0f70>\n",
      "Epoch: 1 cost time: 2.615856409072876\n",
      "Epoch: 2 cost time: 2.6213197708129883\n",
      "Epoch: 3 cost time: 2.6658236980438232\n",
      "Epoch: 4 cost time: 2.5820019245147705\n",
      "Epoch: 5 cost time: 3.092862606048584\n"
     ]
    },
    {
     "name": "stderr",
     "output_type": "stream",
     "text": [
      "Progress:  98%|█████████▊| 49/50 [36:51<00:45, 45.34s/it]"
     ]
    },
    {
     "name": "stdout",
     "output_type": "stream",
     "text": [
      "<modules.usernsTranformer.UserNsTransformer object at 0x7f757031e200>\n",
      "Epoch: 1 cost time: 2.706667900085449\n",
      "Epoch: 2 cost time: 2.7491159439086914\n",
      "Epoch: 3 cost time: 2.7062649726867676\n",
      "Epoch: 4 cost time: 2.707118272781372\n",
      "Epoch: 5 cost time: 2.689405679702759\n",
      "<modules.usernsTranformer.UserNsTransformer object at 0x7f7570291d80>\n",
      "Epoch: 1 cost time: 2.799125909805298\n",
      "Epoch: 2 cost time: 2.666731834411621\n",
      "Epoch: 3 cost time: 2.7930688858032227\n",
      "Epoch: 4 cost time: 3.049820899963379\n",
      "Epoch: 5 cost time: 3.2678730487823486\n"
     ]
    },
    {
     "name": "stderr",
     "output_type": "stream",
     "text": [
      "Progress: 100%|██████████| 50/50 [37:36<00:00, 45.13s/it]\n"
     ]
    }
   ],
   "source": [
    "import random\n",
    "from tqdm import tqdm\n",
    "from math import sqrt\n",
    "\n",
    "server = ServerNsTransformer(model=server_model, test_loader=server_data_list)\n",
    "\n",
    "user_list = []\n",
    "\n",
    "# Create users\n",
    "for i in range(config_wanb.num_user):\n",
    "    user_i = UserNsTransformer(train_loader=user_data_list[i], model=server_model, user_id=i, local_epochs=config_wanb.local_epochs)\n",
    "    user_list.append(user_i)\n",
    "\n",
    "for _ in tqdm(range(config_wanb.global_epochs), desc=f\"Progress\"):\n",
    "    # Distribute initial model to users\n",
    "    server.distribute_model(user_list)\n",
    "    \n",
    "    # Sub-sample users\n",
    "    sub_user_list = random.sample(user_list, int(config_wanb.user_ratio * config_wanb.num_user))\n",
    "\n",
    "    # Check the sub-sampled user and train model\n",
    "    users_loss = 0.0\n",
    "    for user in sub_user_list:\n",
    "        print(user)\n",
    "        user_loss = user.user_train(args)\n",
    "        users_loss += user_loss\n",
    "    # Aggregate weights on server\n",
    "    server.aggregate_weights(sub_user_list)\n",
    "\n",
    "    # Calulate avg loss on selected users\n",
    "    train_loss =  users_loss / len(sub_user_list)\n",
    "\n",
    "    total_mae = []\n",
    "    total_mse = []\n",
    "    for test_loader in server.test_loader:    \n",
    "        mae, mse, rmse, mape, mspe = server.model_eval(args=args, test_loader=test_loader)\n",
    "        total_mae.append(mae)\n",
    "        total_mse.append(mse)\n",
    "    \n",
    "    wandb.log({\"train_loss\": train_loss, \"mae\": sum(total_mae)/len(total_mae), 'rmse': sqrt(sum(total_mse)/len(total_mse))})"
   ]
  }
 ],
 "metadata": {
  "kernelspec": {
   "display_name": ".venv",
   "language": "python",
   "name": "python3"
  },
  "language_info": {
   "codemirror_mode": {
    "name": "ipython",
    "version": 3
   },
   "file_extension": ".py",
   "mimetype": "text/x-python",
   "name": "python",
   "nbconvert_exporter": "python",
   "pygments_lexer": "ipython3",
   "version": "3.10.12"
  }
 },
 "nbformat": 4,
 "nbformat_minor": 2
}
