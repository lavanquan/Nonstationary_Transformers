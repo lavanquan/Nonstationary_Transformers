{
 "cells": [
  {
   "cell_type": "code",
   "execution_count": 1,
   "metadata": {},
   "outputs": [
    {
     "data": {
      "text/plain": [
       "'/home/qula0496/quan/Nonstationary_Transformers/ns_models'"
      ]
     },
     "execution_count": 1,
     "metadata": {},
     "output_type": "execute_result"
    }
   ],
   "source": [
    "%pwd"
   ]
  },
  {
   "cell_type": "code",
   "execution_count": 2,
   "metadata": {},
   "outputs": [
    {
     "name": "stdout",
     "output_type": "stream",
     "text": [
      "/home/qula0496/quan/Nonstationary_Transformers\n"
     ]
    },
    {
     "name": "stderr",
     "output_type": "stream",
     "text": [
      "/home/qula0496/quan/.venv/lib/python3.10/site-packages/IPython/core/magics/osm.py:417: UserWarning: This is now an optional IPython functionality, setting dhist requires you to install the `pickleshare` library.\n",
      "  self.shell.db['dhist'] = compress_dhist(dhist)[-100:]\n"
     ]
    }
   ],
   "source": [
    "%cd .."
   ]
  },
  {
   "cell_type": "code",
   "execution_count": 3,
   "metadata": {},
   "outputs": [],
   "source": [
    "from utils.data_utils import *\n",
    "from utils.model_utils import *\n",
    "# from utils.koopman_utils import *\n",
    "from modules.serverbase import *\n",
    "from modules.userbase import *\n",
    "from modules.servernsTransformer import *\n",
    "from modules.usernsTranformer import *\n",
    "import numpy as np\n",
    "import torch\n",
    "torch.cuda.init()"
   ]
  },
  {
   "cell_type": "code",
   "execution_count": 4,
   "metadata": {},
   "outputs": [],
   "source": [
    "num_ts = 862"
   ]
  },
  {
   "cell_type": "code",
   "execution_count": 5,
   "metadata": {},
   "outputs": [
    {
     "name": "stdout",
     "output_type": "stream",
     "text": [
      "Files not exist\n",
      "/home/qula0496/quan/Nonstationary_Transformers/utils/data_utils.py\n",
      "data loaded..\n"
     ]
    },
    {
     "data": {
      "text/plain": [
       "(17544, 862)"
      ]
     },
     "execution_count": 5,
     "metadata": {},
     "output_type": "execute_result"
    }
   ],
   "source": [
    "# Download the dataset\n",
    "download_traffic_dataset()\n",
    "\n",
    "# Clean the dataset\n",
    "traffic_data = clean_traffic(num_ts=num_ts)\n",
    "traffic_data.shape"
   ]
  },
  {
   "cell_type": "code",
   "execution_count": 6,
   "metadata": {},
   "outputs": [
    {
     "data": {
      "text/html": [
       "<div>\n",
       "<style scoped>\n",
       "    .dataframe tbody tr th:only-of-type {\n",
       "        vertical-align: middle;\n",
       "    }\n",
       "\n",
       "    .dataframe tbody tr th {\n",
       "        vertical-align: top;\n",
       "    }\n",
       "\n",
       "    .dataframe thead th {\n",
       "        text-align: right;\n",
       "    }\n",
       "</style>\n",
       "<table border=\"1\" class=\"dataframe\">\n",
       "  <thead>\n",
       "    <tr style=\"text-align: right;\">\n",
       "      <th></th>\n",
       "      <th>MT_001</th>\n",
       "      <th>MT_002</th>\n",
       "      <th>MT_003</th>\n",
       "      <th>MT_004</th>\n",
       "      <th>MT_005</th>\n",
       "      <th>MT_006</th>\n",
       "      <th>MT_007</th>\n",
       "      <th>MT_008</th>\n",
       "      <th>MT_009</th>\n",
       "      <th>MT_010</th>\n",
       "      <th>...</th>\n",
       "      <th>MT_853</th>\n",
       "      <th>MT_854</th>\n",
       "      <th>MT_855</th>\n",
       "      <th>MT_856</th>\n",
       "      <th>MT_857</th>\n",
       "      <th>MT_858</th>\n",
       "      <th>MT_859</th>\n",
       "      <th>MT_860</th>\n",
       "      <th>MT_861</th>\n",
       "      <th>MT_862</th>\n",
       "    </tr>\n",
       "    <tr>\n",
       "      <th>time</th>\n",
       "      <th></th>\n",
       "      <th></th>\n",
       "      <th></th>\n",
       "      <th></th>\n",
       "      <th></th>\n",
       "      <th></th>\n",
       "      <th></th>\n",
       "      <th></th>\n",
       "      <th></th>\n",
       "      <th></th>\n",
       "      <th></th>\n",
       "      <th></th>\n",
       "      <th></th>\n",
       "      <th></th>\n",
       "      <th></th>\n",
       "      <th></th>\n",
       "      <th></th>\n",
       "      <th></th>\n",
       "      <th></th>\n",
       "      <th></th>\n",
       "      <th></th>\n",
       "    </tr>\n",
       "  </thead>\n",
       "  <tbody>\n",
       "    <tr>\n",
       "      <th>2015-01-01 00:00:00</th>\n",
       "      <td>0.0048</td>\n",
       "      <td>0.0146</td>\n",
       "      <td>0.0289</td>\n",
       "      <td>0.0142</td>\n",
       "      <td>0.0064</td>\n",
       "      <td>0.0232</td>\n",
       "      <td>0.0162</td>\n",
       "      <td>0.0242</td>\n",
       "      <td>0.0341</td>\n",
       "      <td>0.0375</td>\n",
       "      <td>...</td>\n",
       "      <td>0.0051</td>\n",
       "      <td>0.0051</td>\n",
       "      <td>0.0074</td>\n",
       "      <td>0.0079</td>\n",
       "      <td>0.0051</td>\n",
       "      <td>0.0051</td>\n",
       "      <td>0.0339</td>\n",
       "      <td>0.0051</td>\n",
       "      <td>0.0100</td>\n",
       "      <td>0.0121</td>\n",
       "    </tr>\n",
       "    <tr>\n",
       "      <th>2015-01-01 01:00:00</th>\n",
       "      <td>0.0072</td>\n",
       "      <td>0.0148</td>\n",
       "      <td>0.0350</td>\n",
       "      <td>0.0174</td>\n",
       "      <td>0.0084</td>\n",
       "      <td>0.0240</td>\n",
       "      <td>0.0201</td>\n",
       "      <td>0.0338</td>\n",
       "      <td>0.0434</td>\n",
       "      <td>0.0381</td>\n",
       "      <td>...</td>\n",
       "      <td>0.0036</td>\n",
       "      <td>0.0036</td>\n",
       "      <td>0.0107</td>\n",
       "      <td>0.0058</td>\n",
       "      <td>0.0036</td>\n",
       "      <td>0.0036</td>\n",
       "      <td>0.0348</td>\n",
       "      <td>0.0036</td>\n",
       "      <td>0.0087</td>\n",
       "      <td>0.0136</td>\n",
       "    </tr>\n",
       "    <tr>\n",
       "      <th>2015-01-01 02:00:00</th>\n",
       "      <td>0.0040</td>\n",
       "      <td>0.0101</td>\n",
       "      <td>0.0267</td>\n",
       "      <td>0.0124</td>\n",
       "      <td>0.0049</td>\n",
       "      <td>0.0170</td>\n",
       "      <td>0.0127</td>\n",
       "      <td>0.0255</td>\n",
       "      <td>0.0332</td>\n",
       "      <td>0.0309</td>\n",
       "      <td>...</td>\n",
       "      <td>0.0030</td>\n",
       "      <td>0.0030</td>\n",
       "      <td>0.0043</td>\n",
       "      <td>0.0050</td>\n",
       "      <td>0.0030</td>\n",
       "      <td>0.0030</td>\n",
       "      <td>0.0327</td>\n",
       "      <td>0.0030</td>\n",
       "      <td>0.0061</td>\n",
       "      <td>0.0107</td>\n",
       "    </tr>\n",
       "    <tr>\n",
       "      <th>2015-01-01 03:00:00</th>\n",
       "      <td>0.0039</td>\n",
       "      <td>0.0060</td>\n",
       "      <td>0.0218</td>\n",
       "      <td>0.0090</td>\n",
       "      <td>0.0029</td>\n",
       "      <td>0.0118</td>\n",
       "      <td>0.0088</td>\n",
       "      <td>0.0163</td>\n",
       "      <td>0.0211</td>\n",
       "      <td>0.0199</td>\n",
       "      <td>...</td>\n",
       "      <td>0.0033</td>\n",
       "      <td>0.0033</td>\n",
       "      <td>0.0019</td>\n",
       "      <td>0.0052</td>\n",
       "      <td>0.0033</td>\n",
       "      <td>0.0033</td>\n",
       "      <td>0.0292</td>\n",
       "      <td>0.0033</td>\n",
       "      <td>0.0040</td>\n",
       "      <td>0.0071</td>\n",
       "    </tr>\n",
       "    <tr>\n",
       "      <th>2015-01-01 04:00:00</th>\n",
       "      <td>0.0042</td>\n",
       "      <td>0.0055</td>\n",
       "      <td>0.0191</td>\n",
       "      <td>0.0082</td>\n",
       "      <td>0.0024</td>\n",
       "      <td>0.0095</td>\n",
       "      <td>0.0064</td>\n",
       "      <td>0.0087</td>\n",
       "      <td>0.0144</td>\n",
       "      <td>0.0226</td>\n",
       "      <td>...</td>\n",
       "      <td>0.0049</td>\n",
       "      <td>0.0049</td>\n",
       "      <td>0.0011</td>\n",
       "      <td>0.0071</td>\n",
       "      <td>0.0049</td>\n",
       "      <td>0.0049</td>\n",
       "      <td>0.0264</td>\n",
       "      <td>0.0049</td>\n",
       "      <td>0.0040</td>\n",
       "      <td>0.0039</td>\n",
       "    </tr>\n",
       "  </tbody>\n",
       "</table>\n",
       "<p>5 rows × 862 columns</p>\n",
       "</div>"
      ],
      "text/plain": [
       "                     MT_001  MT_002  MT_003  MT_004  MT_005  MT_006  MT_007  \\\n",
       "time                                                                          \n",
       "2015-01-01 00:00:00  0.0048  0.0146  0.0289  0.0142  0.0064  0.0232  0.0162   \n",
       "2015-01-01 01:00:00  0.0072  0.0148  0.0350  0.0174  0.0084  0.0240  0.0201   \n",
       "2015-01-01 02:00:00  0.0040  0.0101  0.0267  0.0124  0.0049  0.0170  0.0127   \n",
       "2015-01-01 03:00:00  0.0039  0.0060  0.0218  0.0090  0.0029  0.0118  0.0088   \n",
       "2015-01-01 04:00:00  0.0042  0.0055  0.0191  0.0082  0.0024  0.0095  0.0064   \n",
       "\n",
       "                     MT_008  MT_009  MT_010  ...  MT_853  MT_854  MT_855  \\\n",
       "time                                         ...                           \n",
       "2015-01-01 00:00:00  0.0242  0.0341  0.0375  ...  0.0051  0.0051  0.0074   \n",
       "2015-01-01 01:00:00  0.0338  0.0434  0.0381  ...  0.0036  0.0036  0.0107   \n",
       "2015-01-01 02:00:00  0.0255  0.0332  0.0309  ...  0.0030  0.0030  0.0043   \n",
       "2015-01-01 03:00:00  0.0163  0.0211  0.0199  ...  0.0033  0.0033  0.0019   \n",
       "2015-01-01 04:00:00  0.0087  0.0144  0.0226  ...  0.0049  0.0049  0.0011   \n",
       "\n",
       "                     MT_856  MT_857  MT_858  MT_859  MT_860  MT_861  MT_862  \n",
       "time                                                                         \n",
       "2015-01-01 00:00:00  0.0079  0.0051  0.0051  0.0339  0.0051  0.0100  0.0121  \n",
       "2015-01-01 01:00:00  0.0058  0.0036  0.0036  0.0348  0.0036  0.0087  0.0136  \n",
       "2015-01-01 02:00:00  0.0050  0.0030  0.0030  0.0327  0.0030  0.0061  0.0107  \n",
       "2015-01-01 03:00:00  0.0052  0.0033  0.0033  0.0292  0.0033  0.0040  0.0071  \n",
       "2015-01-01 04:00:00  0.0071  0.0049  0.0049  0.0264  0.0049  0.0040  0.0039  \n",
       "\n",
       "[5 rows x 862 columns]"
      ]
     },
     "execution_count": 6,
     "metadata": {},
     "output_type": "execute_result"
    }
   ],
   "source": [
    "traffic_data.head()"
   ]
  },
  {
   "cell_type": "code",
   "execution_count": 7,
   "metadata": {},
   "outputs": [],
   "source": [
    "# # prompt: write pandas to csv\n",
    "\n",
    "# import pandas as pd\n",
    "\n",
    "# # Save the DataFrame to a CSV file\n",
    "# traffic_data.to_csv('/home/qula0496/quan/Nonstationary_Transformers/dataset/traffic/traffic.csv', index_label='date')"
   ]
  },
  {
   "cell_type": "code",
   "execution_count": 8,
   "metadata": {},
   "outputs": [],
   "source": [
    "import os\n",
    "id_gpu = '2'\n",
    "n_users = 10\n",
    "os.environ['CUDA_VISIBLE_DEVICES'] = id_gpu"
   ]
  },
  {
   "cell_type": "code",
   "execution_count": 9,
   "metadata": {},
   "outputs": [
    {
     "data": {
      "text/plain": [
       "'traffic.csv'"
      ]
     },
     "execution_count": 9,
     "metadata": {},
     "output_type": "execute_result"
    }
   ],
   "source": [
    "from ns_models.ns_TransformerConfig import NS_TransformerConfig\n",
    "user_num_ts = int(traffic_data.shape[1] / n_users)\n",
    "args = NS_TransformerConfig()\n",
    "args.devices = id_gpu\n",
    "args.enc_in = user_num_ts\n",
    "args.dec_in = user_num_ts\n",
    "args.c_out = user_num_ts\n",
    "args.root_path = './dataset/traffic/'\n",
    "args.data_path = 'traffic.csv'\n",
    "args.model_id = 'traffic_96_96'\n",
    "args.data_path"
   ]
  },
  {
   "cell_type": "code",
   "execution_count": 10,
   "metadata": {},
   "outputs": [],
   "source": [
    "from torch.utils.data import DataLoader\n",
    "from data_provider.data_factory import *\n",
    "from data_provider.data_loader import *\n",
    "\n",
    "test_data, test_loader = data_provider(args, flag='test')"
   ]
  },
  {
   "cell_type": "code",
   "execution_count": 11,
   "metadata": {},
   "outputs": [
    {
     "data": {
      "text/plain": [
       "<data_provider.data_loader.Dataset_ETT_hour at 0x7f6ad8ceedd0>"
      ]
     },
     "execution_count": 11,
     "metadata": {},
     "output_type": "execute_result"
    }
   ],
   "source": [
    "test_data"
   ]
  },
  {
   "cell_type": "code",
   "execution_count": 12,
   "metadata": {},
   "outputs": [],
   "source": [
    "user_data_list = []\n",
    "server_data_list = []\n",
    "for i in range(n_users):\n",
    "    train_data, train_loader = data_provider(args, flag='train', start=i*user_num_ts+1, end=min(user_num_ts*(i+1)+1, traffic_data.shape[1]+1))\n",
    "    test_data, test_loader = data_provider(args, flag='test', start=i*user_num_ts+1, end=min(user_num_ts*(i+1)+1, traffic_data.shape[1]+1))\n",
    "    # user_data = train_set.filter(lambda e, idx: idx>=(i*user_num_ts) and idx < user_num_ts*(i+1), with_indices=True)\n",
    "    user_data_list.append(train_loader)\n",
    "    server_data_list.append(test_loader)\n",
    "    # print(train_data[0][0].shape)"
   ]
  },
  {
   "cell_type": "code",
   "execution_count": 13,
   "metadata": {},
   "outputs": [
    {
     "data": {
      "text/plain": [
       "datetime.datetime(2015, 1, 1, 0, 0)"
      ]
     },
     "execution_count": 13,
     "metadata": {},
     "output_type": "execute_result"
    }
   ],
   "source": [
    "from datetime import datetime\n",
    "datetime.strptime('2015-01-01 00:00:00', '%Y-%m-%d %H:%M:%S')"
   ]
  },
  {
   "cell_type": "code",
   "execution_count": 14,
   "metadata": {},
   "outputs": [
    {
     "data": {
      "text/plain": [
       "Model(\n",
       "  (enc_embedding): DataEmbedding(\n",
       "    (value_embedding): TokenEmbedding(\n",
       "      (tokenConv): Conv1d(86, 64, kernel_size=(3,), stride=(1,), padding=(1,), bias=False, padding_mode=circular)\n",
       "    )\n",
       "    (position_embedding): PositionalEmbedding()\n",
       "    (temporal_embedding): TimeFeatureEmbedding(\n",
       "      (embed): Linear(in_features=4, out_features=64, bias=False)\n",
       "    )\n",
       "    (dropout): Dropout(p=0.1, inplace=False)\n",
       "  )\n",
       "  (dec_embedding): DataEmbedding(\n",
       "    (value_embedding): TokenEmbedding(\n",
       "      (tokenConv): Conv1d(86, 64, kernel_size=(3,), stride=(1,), padding=(1,), bias=False, padding_mode=circular)\n",
       "    )\n",
       "    (position_embedding): PositionalEmbedding()\n",
       "    (temporal_embedding): TimeFeatureEmbedding(\n",
       "      (embed): Linear(in_features=4, out_features=64, bias=False)\n",
       "    )\n",
       "    (dropout): Dropout(p=0.1, inplace=False)\n",
       "  )\n",
       "  (encoder): Encoder(\n",
       "    (attn_layers): ModuleList(\n",
       "      (0-5): 6 x EncoderLayer(\n",
       "        (attention): AttentionLayer(\n",
       "          (inner_attention): DSAttention(\n",
       "            (dropout): Dropout(p=0.1, inplace=False)\n",
       "          )\n",
       "          (query_projection): Linear(in_features=64, out_features=64, bias=True)\n",
       "          (key_projection): Linear(in_features=64, out_features=64, bias=True)\n",
       "          (value_projection): Linear(in_features=64, out_features=64, bias=True)\n",
       "          (out_projection): Linear(in_features=64, out_features=64, bias=True)\n",
       "        )\n",
       "        (conv1): Conv1d(64, 32, kernel_size=(1,), stride=(1,))\n",
       "        (conv2): Conv1d(32, 64, kernel_size=(1,), stride=(1,))\n",
       "        (norm1): LayerNorm((64,), eps=1e-05, elementwise_affine=True)\n",
       "        (norm2): LayerNorm((64,), eps=1e-05, elementwise_affine=True)\n",
       "        (dropout): Dropout(p=0.1, inplace=False)\n",
       "      )\n",
       "    )\n",
       "    (norm): LayerNorm((64,), eps=1e-05, elementwise_affine=True)\n",
       "  )\n",
       "  (decoder): Decoder(\n",
       "    (layers): ModuleList(\n",
       "      (0-3): 4 x DecoderLayer(\n",
       "        (self_attention): AttentionLayer(\n",
       "          (inner_attention): DSAttention(\n",
       "            (dropout): Dropout(p=0.1, inplace=False)\n",
       "          )\n",
       "          (query_projection): Linear(in_features=64, out_features=64, bias=True)\n",
       "          (key_projection): Linear(in_features=64, out_features=64, bias=True)\n",
       "          (value_projection): Linear(in_features=64, out_features=64, bias=True)\n",
       "          (out_projection): Linear(in_features=64, out_features=64, bias=True)\n",
       "        )\n",
       "        (cross_attention): AttentionLayer(\n",
       "          (inner_attention): DSAttention(\n",
       "            (dropout): Dropout(p=0.1, inplace=False)\n",
       "          )\n",
       "          (query_projection): Linear(in_features=64, out_features=64, bias=True)\n",
       "          (key_projection): Linear(in_features=64, out_features=64, bias=True)\n",
       "          (value_projection): Linear(in_features=64, out_features=64, bias=True)\n",
       "          (out_projection): Linear(in_features=64, out_features=64, bias=True)\n",
       "        )\n",
       "        (conv1): Conv1d(64, 32, kernel_size=(1,), stride=(1,))\n",
       "        (conv2): Conv1d(32, 64, kernel_size=(1,), stride=(1,))\n",
       "        (norm1): LayerNorm((64,), eps=1e-05, elementwise_affine=True)\n",
       "        (norm2): LayerNorm((64,), eps=1e-05, elementwise_affine=True)\n",
       "        (norm3): LayerNorm((64,), eps=1e-05, elementwise_affine=True)\n",
       "        (dropout): Dropout(p=0.1, inplace=False)\n",
       "      )\n",
       "    )\n",
       "    (norm): LayerNorm((64,), eps=1e-05, elementwise_affine=True)\n",
       "    (projection): Linear(in_features=64, out_features=86, bias=True)\n",
       "  )\n",
       "  (tau_learner): Projector(\n",
       "    (series_conv): Conv1d(96, 1, kernel_size=(3,), stride=(1,), padding=(1,), bias=False, padding_mode=circular)\n",
       "    (backbone): Sequential(\n",
       "      (0): Linear(in_features=172, out_features=64, bias=True)\n",
       "      (1): ReLU()\n",
       "      (2): Linear(in_features=64, out_features=64, bias=True)\n",
       "      (3): ReLU()\n",
       "      (4): Linear(in_features=64, out_features=1, bias=False)\n",
       "    )\n",
       "  )\n",
       "  (delta_learner): Projector(\n",
       "    (series_conv): Conv1d(96, 1, kernel_size=(3,), stride=(1,), padding=(1,), bias=False, padding_mode=circular)\n",
       "    (backbone): Sequential(\n",
       "      (0): Linear(in_features=172, out_features=64, bias=True)\n",
       "      (1): ReLU()\n",
       "      (2): Linear(in_features=64, out_features=64, bias=True)\n",
       "      (3): ReLU()\n",
       "      (4): Linear(in_features=64, out_features=96, bias=False)\n",
       "    )\n",
       "  )\n",
       ")"
      ]
     },
     "execution_count": 14,
     "metadata": {},
     "output_type": "execute_result"
    }
   ],
   "source": [
    "from ns_models import ns_Transformer\n",
    "server_model = ns_Transformer.Model(configs=args)\n",
    "server_model"
   ]
  },
  {
   "cell_type": "code",
   "execution_count": 15,
   "metadata": {},
   "outputs": [
    {
     "name": "stderr",
     "output_type": "stream",
     "text": [
      "Failed to detect the name of this notebook, you can set it manually with the WANDB_NOTEBOOK_NAME environment variable to enable code saving.\n",
      "\u001b[34m\u001b[1mwandb\u001b[0m: Currently logged in as: \u001b[33mkenlvq\u001b[0m (\u001b[33mquanla\u001b[0m). Use \u001b[1m`wandb login --relogin`\u001b[0m to force relogin\n"
     ]
    },
    {
     "data": {
      "text/html": [
       "wandb version 0.17.1 is available!  To upgrade, please run:\n",
       " $ pip install wandb --upgrade"
      ],
      "text/plain": [
       "<IPython.core.display.HTML object>"
      ]
     },
     "metadata": {},
     "output_type": "display_data"
    },
    {
     "data": {
      "text/html": [
       "Tracking run with wandb version 0.16.3"
      ],
      "text/plain": [
       "<IPython.core.display.HTML object>"
      ]
     },
     "metadata": {},
     "output_type": "display_data"
    },
    {
     "data": {
      "text/html": [
       "Run data is saved locally in <code>/home/qula0496/quan/Nonstationary_Transformers/wandb/run-20240610_121321-llm3p934</code>"
      ],
      "text/plain": [
       "<IPython.core.display.HTML object>"
      ]
     },
     "metadata": {},
     "output_type": "display_data"
    },
    {
     "data": {
      "text/html": [
       "Syncing run <strong><a href='https://wandb.ai/quanla/Federated%20Non-Stationary%20Transformer%20on%20Traffic%20dataset/runs/llm3p934' target=\"_blank\">Federated Non-Stationary Transformer on Traffic dataset</a></strong> to <a href='https://wandb.ai/quanla/Federated%20Non-Stationary%20Transformer%20on%20Traffic%20dataset' target=\"_blank\">Weights & Biases</a> (<a href='https://wandb.me/run' target=\"_blank\">docs</a>)<br/>"
      ],
      "text/plain": [
       "<IPython.core.display.HTML object>"
      ]
     },
     "metadata": {},
     "output_type": "display_data"
    },
    {
     "data": {
      "text/html": [
       " View project at <a href='https://wandb.ai/quanla/Federated%20Non-Stationary%20Transformer%20on%20Traffic%20dataset' target=\"_blank\">https://wandb.ai/quanla/Federated%20Non-Stationary%20Transformer%20on%20Traffic%20dataset</a>"
      ],
      "text/plain": [
       "<IPython.core.display.HTML object>"
      ]
     },
     "metadata": {},
     "output_type": "display_data"
    },
    {
     "data": {
      "text/html": [
       " View run at <a href='https://wandb.ai/quanla/Federated%20Non-Stationary%20Transformer%20on%20Traffic%20dataset/runs/llm3p934' target=\"_blank\">https://wandb.ai/quanla/Federated%20Non-Stationary%20Transformer%20on%20Traffic%20dataset/runs/llm3p934</a>"
      ],
      "text/plain": [
       "<IPython.core.display.HTML object>"
      ]
     },
     "metadata": {},
     "output_type": "display_data"
    }
   ],
   "source": [
    "import wandb\n",
    "import torch\n",
    "\n",
    "NUM_GPUS = torch.cuda.device_count()\n",
    "LR = 1e-3\n",
    "GLOBAL_EPOCHS = 30\n",
    "LOCAL_EPOCHS = 5\n",
    "BATCH_SIZE = 128\n",
    "L2_PENALTY = 0.0\n",
    "USER_RATIO = 0.1\n",
    "run = wandb.init(\n",
    "    # project name\n",
    "    project=\"Federated Non-Stationary Transformer on Traffic dataset\",\n",
    "    # experiment name\n",
    "    name=f\"Federated Non-Stationary Transformer on Traffic dataset\",\n",
    "    # Hyperparams\n",
    "    config={\n",
    "        \"dataset\": \"Elec370\",\n",
    "        \"preprocess_type\": \"std\",\n",
    "        \"num_user\": n_users,\n",
    "        \"learning_rate\": LR,\n",
    "        \"global_epochs\": GLOBAL_EPOCHS,\n",
    "        \"local_epochs\": LOCAL_EPOCHS,\n",
    "        \"batch_size\": BATCH_SIZE,\n",
    "        \"num_gpus\": NUM_GPUS,\n",
    "        \"user_ratio\": USER_RATIO,\n",
    "        \"l2_penalty\": L2_PENALTY,\n",
    "        \"total_time_series\": 370,\n",
    "        \"detrending_data\": \"No\"\n",
    "    })\n",
    "\n",
    "config_wanb = wandb.config"
   ]
  },
  {
   "cell_type": "code",
   "execution_count": 17,
   "metadata": {},
   "outputs": [],
   "source": [
    "# len(server.test_loader[0])"
   ]
  },
  {
   "cell_type": "code",
   "execution_count": 18,
   "metadata": {},
   "outputs": [
    {
     "name": "stderr",
     "output_type": "stream",
     "text": [
      "Progress:   0%|          | 0/30 [00:00<?, ?it/s]"
     ]
    },
    {
     "name": "stdout",
     "output_type": "stream",
     "text": [
      "<modules.usernsTranformer.UserNsTransformer object at 0x7f6abc2a1660>\n",
      "Epoch: 1 cost time: 36.58820939064026\n",
      "Epoch: 2 cost time: 35.858075857162476\n",
      "Epoch: 3 cost time: 35.92682242393494\n",
      "Epoch: 4 cost time: 35.433618783950806\n",
      "Epoch: 5 cost time: 35.11124348640442\n"
     ]
    },
    {
     "name": "stderr",
     "output_type": "stream",
     "text": [
      "Progress:   3%|▎         | 1/30 [03:05<1:29:53, 185.99s/it]"
     ]
    },
    {
     "name": "stdout",
     "output_type": "stream",
     "text": [
      "<modules.usernsTranformer.UserNsTransformer object at 0x7f6abc26e0e0>\n",
      "Epoch: 1 cost time: 35.231239318847656\n",
      "Epoch: 2 cost time: 35.54258704185486\n",
      "Epoch: 3 cost time: 34.58710312843323\n",
      "Epoch: 4 cost time: 36.75075554847717\n",
      "Epoch: 5 cost time: 35.420968532562256\n"
     ]
    },
    {
     "name": "stderr",
     "output_type": "stream",
     "text": [
      "Progress:   7%|▋         | 2/30 [06:10<1:26:22, 185.09s/it]"
     ]
    },
    {
     "name": "stdout",
     "output_type": "stream",
     "text": [
      "<modules.usernsTranformer.UserNsTransformer object at 0x7f6abc2a1660>\n",
      "Epoch: 1 cost time: 34.471131801605225\n",
      "Epoch: 2 cost time: 35.97204852104187\n",
      "Epoch: 3 cost time: 35.47611355781555\n",
      "Epoch: 4 cost time: 35.71539878845215\n",
      "Epoch: 5 cost time: 35.575602769851685\n"
     ]
    },
    {
     "name": "stderr",
     "output_type": "stream",
     "text": [
      "Progress:  10%|█         | 3/30 [09:14<1:23:10, 184.84s/it]"
     ]
    },
    {
     "name": "stdout",
     "output_type": "stream",
     "text": [
      "<modules.usernsTranformer.UserNsTransformer object at 0x7f6abc2b6050>\n",
      "Epoch: 1 cost time: 34.68014407157898\n",
      "Epoch: 2 cost time: 35.64551115036011\n",
      "Epoch: 3 cost time: 36.19223928451538\n",
      "Epoch: 4 cost time: 36.05874586105347\n",
      "Epoch: 5 cost time: 36.43351602554321\n"
     ]
    },
    {
     "name": "stderr",
     "output_type": "stream",
     "text": [
      "Progress:  13%|█▎        | 4/30 [12:21<1:20:18, 185.33s/it]"
     ]
    },
    {
     "name": "stdout",
     "output_type": "stream",
     "text": [
      "<modules.usernsTranformer.UserNsTransformer object at 0x7f6abc2a1660>\n",
      "Epoch: 1 cost time: 34.2953827381134\n",
      "Epoch: 2 cost time: 35.87763428688049\n",
      "Epoch: 3 cost time: 35.24907565116882\n",
      "Epoch: 4 cost time: 36.194623708724976\n",
      "Epoch: 5 cost time: 35.14649295806885\n"
     ]
    },
    {
     "name": "stderr",
     "output_type": "stream",
     "text": [
      "Progress:  17%|█▋        | 5/30 [15:24<1:16:57, 184.71s/it]"
     ]
    },
    {
     "name": "stdout",
     "output_type": "stream",
     "text": [
      "<modules.usernsTranformer.UserNsTransformer object at 0x7f6abc26e0e0>\n",
      "Epoch: 1 cost time: 35.38322114944458\n",
      "Epoch: 2 cost time: 35.707236528396606\n",
      "Epoch: 3 cost time: 35.6177761554718\n",
      "Epoch: 4 cost time: 35.94538354873657\n",
      "Epoch: 5 cost time: 36.00244498252869\n"
     ]
    },
    {
     "name": "stderr",
     "output_type": "stream",
     "text": [
      "Progress:  20%|██        | 6/30 [18:30<1:14:03, 185.15s/it]"
     ]
    },
    {
     "name": "stdout",
     "output_type": "stream",
     "text": [
      "<modules.usernsTranformer.UserNsTransformer object at 0x7f6abc18d000>\n",
      "Epoch: 1 cost time: 35.48273944854736\n",
      "Epoch: 2 cost time: 35.242899656295776\n",
      "Epoch: 3 cost time: 35.911547899246216\n",
      "Epoch: 4 cost time: 33.308005809783936\n",
      "Epoch: 5 cost time: 34.51871156692505\n"
     ]
    },
    {
     "name": "stderr",
     "output_type": "stream",
     "text": [
      "Progress:  23%|██▎       | 7/30 [21:32<1:10:32, 184.01s/it]"
     ]
    },
    {
     "name": "stdout",
     "output_type": "stream",
     "text": [
      "<modules.usernsTranformer.UserNsTransformer object at 0x7f6abc2b6050>\n",
      "Epoch: 1 cost time: 34.59808278083801\n",
      "Epoch: 2 cost time: 35.558188915252686\n",
      "Epoch: 3 cost time: 34.85692501068115\n",
      "Epoch: 4 cost time: 34.024720191955566\n",
      "Epoch: 5 cost time: 35.13766837120056\n"
     ]
    },
    {
     "name": "stderr",
     "output_type": "stream",
     "text": [
      "Progress:  27%|██▋       | 8/30 [24:33<1:07:08, 183.10s/it]"
     ]
    },
    {
     "name": "stdout",
     "output_type": "stream",
     "text": [
      "<modules.usernsTranformer.UserNsTransformer object at 0x7f6abc30d2a0>\n",
      "Epoch: 1 cost time: 34.80605340003967\n",
      "Epoch: 2 cost time: 35.97811675071716\n",
      "Epoch: 3 cost time: 35.33711838722229\n",
      "Epoch: 4 cost time: 34.56897020339966\n",
      "Epoch: 5 cost time: 35.345595836639404\n"
     ]
    },
    {
     "name": "stderr",
     "output_type": "stream",
     "text": [
      "Progress:  30%|███       | 9/30 [27:35<1:03:56, 182.68s/it]"
     ]
    },
    {
     "name": "stdout",
     "output_type": "stream",
     "text": [
      "<modules.usernsTranformer.UserNsTransformer object at 0x7f6abc2b6050>\n",
      "Epoch: 1 cost time: 36.12638878822327\n",
      "Epoch: 2 cost time: 36.12987422943115\n",
      "Epoch: 3 cost time: 34.784719705581665\n",
      "Epoch: 4 cost time: 35.3913369178772\n",
      "Epoch: 5 cost time: 34.57257390022278\n"
     ]
    },
    {
     "name": "stderr",
     "output_type": "stream",
     "text": [
      "Progress:  33%|███▎      | 10/30 [30:38<1:00:58, 182.92s/it]"
     ]
    },
    {
     "name": "stdout",
     "output_type": "stream",
     "text": [
      "<modules.usernsTranformer.UserNsTransformer object at 0x7f6abc30d2a0>\n",
      "Epoch: 1 cost time: 35.482208013534546\n",
      "Epoch: 2 cost time: 35.22220826148987\n",
      "Epoch: 3 cost time: 35.17149543762207\n",
      "Epoch: 4 cost time: 35.420127868652344\n",
      "Epoch: 5 cost time: 35.207987546920776\n"
     ]
    },
    {
     "name": "stderr",
     "output_type": "stream",
     "text": [
      "Progress:  37%|███▋      | 11/30 [33:42<57:59, 183.11s/it]  "
     ]
    },
    {
     "name": "stdout",
     "output_type": "stream",
     "text": [
      "<modules.usernsTranformer.UserNsTransformer object at 0x7f6abc26e0e0>\n",
      "Epoch: 1 cost time: 34.65634250640869\n",
      "Epoch: 2 cost time: 35.989319801330566\n",
      "Epoch: 3 cost time: 36.59535002708435\n",
      "Epoch: 4 cost time: 36.50641894340515\n",
      "Epoch: 5 cost time: 35.98124122619629\n"
     ]
    },
    {
     "name": "stderr",
     "output_type": "stream",
     "text": [
      "Progress:  40%|████      | 12/30 [36:49<55:16, 184.23s/it]"
     ]
    },
    {
     "name": "stdout",
     "output_type": "stream",
     "text": [
      "<modules.usernsTranformer.UserNsTransformer object at 0x7f6abc2a1660>\n",
      "Epoch: 1 cost time: 34.49998378753662\n",
      "Epoch: 2 cost time: 36.44773840904236\n",
      "Epoch: 3 cost time: 34.716601848602295\n",
      "Epoch: 4 cost time: 35.56182503700256\n",
      "Epoch: 5 cost time: 34.20936846733093\n"
     ]
    },
    {
     "name": "stderr",
     "output_type": "stream",
     "text": [
      "Progress:  43%|████▎     | 13/30 [39:51<52:04, 183.79s/it]"
     ]
    },
    {
     "name": "stdout",
     "output_type": "stream",
     "text": [
      "<modules.usernsTranformer.UserNsTransformer object at 0x7f6abc26f250>\n",
      "Epoch: 1 cost time: 35.85256481170654\n",
      "Epoch: 2 cost time: 35.83259439468384\n",
      "Epoch: 3 cost time: 34.46366047859192\n",
      "Epoch: 4 cost time: 34.95838713645935\n",
      "Epoch: 5 cost time: 35.87462019920349\n"
     ]
    },
    {
     "name": "stderr",
     "output_type": "stream",
     "text": [
      "Progress:  47%|████▋     | 14/30 [42:55<49:00, 183.80s/it]"
     ]
    },
    {
     "name": "stdout",
     "output_type": "stream",
     "text": [
      "<modules.usernsTranformer.UserNsTransformer object at 0x7f6abc26e2f0>\n",
      "Epoch: 1 cost time: 35.720542192459106\n",
      "Epoch: 2 cost time: 35.92327666282654\n",
      "Epoch: 3 cost time: 35.7243332862854\n",
      "Epoch: 4 cost time: 35.2804491519928\n",
      "Epoch: 5 cost time: 33.61674475669861\n"
     ]
    },
    {
     "name": "stderr",
     "output_type": "stream",
     "text": [
      "Progress:  50%|█████     | 15/30 [45:59<45:55, 183.69s/it]"
     ]
    },
    {
     "name": "stdout",
     "output_type": "stream",
     "text": [
      "<modules.usernsTranformer.UserNsTransformer object at 0x7f6abc26f430>\n",
      "Epoch: 1 cost time: 33.40764498710632\n",
      "Epoch: 2 cost time: 35.39232349395752\n",
      "Epoch: 3 cost time: 35.294822216033936\n",
      "Epoch: 4 cost time: 35.46234846115112\n",
      "Epoch: 5 cost time: 35.05720543861389\n"
     ]
    },
    {
     "name": "stderr",
     "output_type": "stream",
     "text": [
      "Progress:  53%|█████▎    | 16/30 [49:00<42:42, 183.01s/it]"
     ]
    },
    {
     "name": "stdout",
     "output_type": "stream",
     "text": [
      "<modules.usernsTranformer.UserNsTransformer object at 0x7f6abc26f250>\n",
      "Epoch: 1 cost time: 34.82372570037842\n",
      "Epoch: 2 cost time: 35.353740215301514\n",
      "Epoch: 3 cost time: 34.59928750991821\n",
      "Epoch: 4 cost time: 35.15681481361389\n",
      "Epoch: 5 cost time: 35.49721956253052\n"
     ]
    },
    {
     "name": "stderr",
     "output_type": "stream",
     "text": [
      "Progress:  57%|█████▋    | 17/30 [52:02<39:36, 182.84s/it]"
     ]
    },
    {
     "name": "stdout",
     "output_type": "stream",
     "text": [
      "<modules.usernsTranformer.UserNsTransformer object at 0x7f6abc18d000>\n",
      "Epoch: 1 cost time: 35.95810651779175\n",
      "Epoch: 2 cost time: 35.68766379356384\n",
      "Epoch: 3 cost time: 35.55695056915283\n",
      "Epoch: 4 cost time: 36.52938771247864\n",
      "Epoch: 5 cost time: 34.955849409103394\n"
     ]
    },
    {
     "name": "stderr",
     "output_type": "stream",
     "text": [
      "Progress:  60%|██████    | 18/30 [55:08<36:42, 183.56s/it]"
     ]
    },
    {
     "name": "stdout",
     "output_type": "stream",
     "text": [
      "<modules.usernsTranformer.UserNsTransformer object at 0x7f6abc26f430>\n",
      "Epoch: 1 cost time: 35.989177942276\n",
      "Epoch: 2 cost time: 35.81506633758545\n",
      "Epoch: 3 cost time: 36.58174252510071\n",
      "Epoch: 4 cost time: 34.77216649055481\n",
      "Epoch: 5 cost time: 35.07172441482544\n"
     ]
    },
    {
     "name": "stderr",
     "output_type": "stream",
     "text": [
      "Progress:  63%|██████▎   | 19/30 [58:13<33:44, 184.07s/it]"
     ]
    },
    {
     "name": "stdout",
     "output_type": "stream",
     "text": [
      "<modules.usernsTranformer.UserNsTransformer object at 0x7f6abc18d000>\n",
      "Epoch: 1 cost time: 36.581483125686646\n",
      "Epoch: 2 cost time: 35.43726301193237\n",
      "Epoch: 3 cost time: 36.59236168861389\n",
      "Epoch: 4 cost time: 35.4257230758667\n",
      "Epoch: 5 cost time: 34.482688426971436\n"
     ]
    },
    {
     "name": "stderr",
     "output_type": "stream",
     "text": [
      "Progress:  67%|██████▋   | 20/30 [1:01:17<30:41, 184.19s/it]"
     ]
    },
    {
     "name": "stdout",
     "output_type": "stream",
     "text": [
      "<modules.usernsTranformer.UserNsTransformer object at 0x7f6abc26e2f0>\n",
      "Epoch: 1 cost time: 35.646692514419556\n",
      "Epoch: 2 cost time: 35.324283838272095\n",
      "Epoch: 3 cost time: 34.33066129684448\n",
      "Epoch: 4 cost time: 34.89224863052368\n",
      "Epoch: 5 cost time: 34.984546422958374\n"
     ]
    },
    {
     "name": "stderr",
     "output_type": "stream",
     "text": [
      "Progress:  70%|███████   | 21/30 [1:04:19<27:32, 183.56s/it]"
     ]
    },
    {
     "name": "stdout",
     "output_type": "stream",
     "text": [
      "<modules.usernsTranformer.UserNsTransformer object at 0x7f6abc26f250>\n",
      "Epoch: 1 cost time: 34.98126435279846\n",
      "Epoch: 2 cost time: 35.545734167099\n",
      "Epoch: 3 cost time: 35.484736919403076\n",
      "Epoch: 4 cost time: 36.40906834602356\n",
      "Epoch: 5 cost time: 34.51421523094177\n"
     ]
    },
    {
     "name": "stderr",
     "output_type": "stream",
     "text": [
      "Progress:  73%|███████▎  | 22/30 [1:07:23<24:27, 183.42s/it]"
     ]
    },
    {
     "name": "stdout",
     "output_type": "stream",
     "text": [
      "<modules.usernsTranformer.UserNsTransformer object at 0x7f6abc26e0e0>\n",
      "Epoch: 1 cost time: 35.352959632873535\n",
      "Epoch: 2 cost time: 36.49352478981018\n",
      "Epoch: 3 cost time: 35.22343134880066\n",
      "Epoch: 4 cost time: 34.655415058135986\n",
      "Epoch: 5 cost time: 35.25323796272278\n"
     ]
    },
    {
     "name": "stderr",
     "output_type": "stream",
     "text": [
      "Progress:  77%|███████▋  | 23/30 [1:10:26<21:24, 183.46s/it]"
     ]
    },
    {
     "name": "stdout",
     "output_type": "stream",
     "text": [
      "<modules.usernsTranformer.UserNsTransformer object at 0x7f6abc26e0e0>\n",
      "Epoch: 1 cost time: 35.00700545310974\n",
      "Epoch: 2 cost time: 35.40674066543579\n",
      "Epoch: 3 cost time: 36.24438786506653\n",
      "Epoch: 4 cost time: 35.68591022491455\n",
      "Epoch: 5 cost time: 34.871822357177734\n"
     ]
    },
    {
     "name": "stderr",
     "output_type": "stream",
     "text": [
      "Progress:  80%|████████  | 24/30 [1:13:29<18:19, 183.31s/it]"
     ]
    },
    {
     "name": "stdout",
     "output_type": "stream",
     "text": [
      "<modules.usernsTranformer.UserNsTransformer object at 0x7f6abc26f250>\n",
      "Epoch: 1 cost time: 34.197540283203125\n",
      "Epoch: 2 cost time: 36.366368770599365\n",
      "Epoch: 3 cost time: 35.405182123184204\n",
      "Epoch: 4 cost time: 36.095510482788086\n",
      "Epoch: 5 cost time: 35.22765374183655\n"
     ]
    },
    {
     "name": "stderr",
     "output_type": "stream",
     "text": [
      "Progress:  83%|████████▎ | 25/30 [1:16:33<15:17, 183.55s/it]"
     ]
    },
    {
     "name": "stdout",
     "output_type": "stream",
     "text": [
      "<modules.usernsTranformer.UserNsTransformer object at 0x7f6abc26f250>\n",
      "Epoch: 1 cost time: 36.11007475852966\n",
      "Epoch: 2 cost time: 35.15331721305847\n",
      "Epoch: 3 cost time: 35.13072204589844\n",
      "Epoch: 4 cost time: 34.83147978782654\n",
      "Epoch: 5 cost time: 36.902451038360596\n"
     ]
    },
    {
     "name": "stderr",
     "output_type": "stream",
     "text": [
      "Progress:  87%|████████▋ | 26/30 [1:19:38<12:15, 183.88s/it]"
     ]
    },
    {
     "name": "stdout",
     "output_type": "stream",
     "text": [
      "<modules.usernsTranformer.UserNsTransformer object at 0x7f6abc30d2a0>\n",
      "Epoch: 1 cost time: 35.35311985015869\n",
      "Epoch: 2 cost time: 35.37193560600281\n",
      "Epoch: 3 cost time: 35.184104442596436\n",
      "Epoch: 4 cost time: 35.25145363807678\n",
      "Epoch: 5 cost time: 35.417489528656006\n"
     ]
    },
    {
     "name": "stderr",
     "output_type": "stream",
     "text": [
      "Progress:  90%|█████████ | 27/30 [1:22:41<09:11, 183.71s/it]"
     ]
    },
    {
     "name": "stdout",
     "output_type": "stream",
     "text": [
      "<modules.usernsTranformer.UserNsTransformer object at 0x7f6abc2b6050>\n",
      "Epoch: 1 cost time: 35.28049683570862\n",
      "Epoch: 2 cost time: 34.66802430152893\n",
      "Epoch: 3 cost time: 35.477158308029175\n",
      "Epoch: 4 cost time: 36.044822692871094\n",
      "Epoch: 5 cost time: 36.15586757659912\n"
     ]
    },
    {
     "name": "stderr",
     "output_type": "stream",
     "text": [
      "Progress:  93%|█████████▎| 28/30 [1:25:46<06:07, 184.00s/it]"
     ]
    },
    {
     "name": "stdout",
     "output_type": "stream",
     "text": [
      "<modules.usernsTranformer.UserNsTransformer object at 0x7f6ade49a4d0>\n",
      "Epoch: 1 cost time: 36.07479476928711\n",
      "Epoch: 2 cost time: 35.969993591308594\n",
      "Epoch: 3 cost time: 35.667818784713745\n",
      "Epoch: 4 cost time: 35.507662534713745\n",
      "Epoch: 5 cost time: 37.202330589294434\n"
     ]
    },
    {
     "name": "stderr",
     "output_type": "stream",
     "text": [
      "Progress:  97%|█████████▋| 29/30 [1:28:53<03:04, 184.81s/it]"
     ]
    },
    {
     "name": "stdout",
     "output_type": "stream",
     "text": [
      "<modules.usernsTranformer.UserNsTransformer object at 0x7f6abc2b6050>\n",
      "Epoch: 1 cost time: 35.660030126571655\n",
      "Epoch: 2 cost time: 35.36075711250305\n",
      "Epoch: 3 cost time: 33.08762454986572\n",
      "Epoch: 4 cost time: 35.72482109069824\n",
      "Epoch: 5 cost time: 35.50359749794006\n"
     ]
    },
    {
     "name": "stderr",
     "output_type": "stream",
     "text": [
      "Progress: 100%|██████████| 30/30 [1:31:55<00:00, 183.84s/it]\n"
     ]
    }
   ],
   "source": [
    "import random\n",
    "from tqdm import tqdm\n",
    "from math import sqrt\n",
    "\n",
    "server = ServerNsTransformer(model=server_model, test_loader=server_data_list)\n",
    "\n",
    "user_list = []\n",
    "\n",
    "# Create users\n",
    "for i in range(config_wanb.num_user):\n",
    "    user_i = UserNsTransformer(train_loader=user_data_list[i], model=server_model, user_id=i, local_epochs=config_wanb.local_epochs)\n",
    "    user_list.append(user_i)\n",
    "\n",
    "for _ in tqdm(range(config_wanb.global_epochs), desc=f\"Progress\"):\n",
    "    # Distribute initial model to users\n",
    "    server.distribute_model(user_list)\n",
    "    \n",
    "    # Sub-sample users\n",
    "    sub_user_list = random.sample(user_list, int(config_wanb.user_ratio * config_wanb.num_user))\n",
    "\n",
    "    # Check the sub-sampled user and train model\n",
    "    users_loss = 0.0\n",
    "    for user in sub_user_list:\n",
    "        print(user)\n",
    "        user_loss = user.user_train(args)\n",
    "        users_loss += user_loss\n",
    "    # Aggregate weights on server\n",
    "    server.aggregate_weights(sub_user_list)\n",
    "\n",
    "    # Calulate avg loss on selected users\n",
    "    train_loss =  users_loss / len(sub_user_list)\n",
    "\n",
    "    total_mae = []\n",
    "    total_mse = []\n",
    "    for test_loader in server.test_loader:    \n",
    "        mae, mse, rmse, mape, mspe = server.model_eval(args=args, test_loader=test_loader)\n",
    "        total_mae.append(mae)\n",
    "        total_mse.append(mse)\n",
    "    \n",
    "    wandb.log({\"train_loss\": train_loss, \"mae\": sum(total_mae)/len(total_mae), 'rmse': sqrt(sum(total_mse)/len(total_mse))})"
   ]
  },
  {
   "cell_type": "code",
   "execution_count": 19,
   "metadata": {},
   "outputs": [
    {
     "data": {
      "text/plain": [
       "[0.34841102,\n",
       " 0.406116,\n",
       " 0.3708605,\n",
       " 0.36745805,\n",
       " 0.34557262,\n",
       " 0.3974612,\n",
       " 0.2581724,\n",
       " 0.43491077,\n",
       " 0.632648,\n",
       " 0.37602955]"
      ]
     },
     "execution_count": 19,
     "metadata": {},
     "output_type": "execute_result"
    }
   ],
   "source": [
    "total_mae"
   ]
  }
 ],
 "metadata": {
  "kernelspec": {
   "display_name": ".venv",
   "language": "python",
   "name": "python3"
  },
  "language_info": {
   "codemirror_mode": {
    "name": "ipython",
    "version": 3
   },
   "file_extension": ".py",
   "mimetype": "text/x-python",
   "name": "python",
   "nbconvert_exporter": "python",
   "pygments_lexer": "ipython3",
   "version": "3.10.12"
  }
 },
 "nbformat": 4,
 "nbformat_minor": 2
}
