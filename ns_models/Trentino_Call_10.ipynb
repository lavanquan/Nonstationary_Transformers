{
 "cells": [
  {
   "cell_type": "code",
   "execution_count": 1,
   "metadata": {},
   "outputs": [
    {
     "data": {
      "text/plain": [
       "'/home/qula0496/quan/Nonstationary_Transformers/ns_models'"
      ]
     },
     "execution_count": 1,
     "metadata": {},
     "output_type": "execute_result"
    }
   ],
   "source": [
    "%pwd"
   ]
  },
  {
   "cell_type": "code",
   "execution_count": 2,
   "metadata": {},
   "outputs": [
    {
     "name": "stdout",
     "output_type": "stream",
     "text": [
      "/home/qula0496/quan/Nonstationary_Transformers\n"
     ]
    },
    {
     "name": "stderr",
     "output_type": "stream",
     "text": [
      "/home/qula0496/quan/.venv/lib/python3.10/site-packages/IPython/core/magics/osm.py:417: UserWarning: This is now an optional IPython functionality, setting dhist requires you to install the `pickleshare` library.\n",
      "  self.shell.db['dhist'] = compress_dhist(dhist)[-100:]\n"
     ]
    }
   ],
   "source": [
    "%cd .."
   ]
  },
  {
   "cell_type": "code",
   "execution_count": 3,
   "metadata": {},
   "outputs": [],
   "source": [
    "import os\n",
    "gpu_id = '0'\n",
    "n_users = 10\n",
    "os.environ['CUDA_VISIBLE_DEVICES'] = gpu_id\n",
    "dataset_name = 'trentino'\n",
    "sub_set_name = 'call'\n",
    "series_type = 'hourly'"
   ]
  },
  {
   "cell_type": "code",
   "execution_count": 4,
   "metadata": {},
   "outputs": [],
   "source": [
    "from utils.data_utils import *\n",
    "from utils.model_utils import *\n",
    "# from utils.koopman_utils import *\n",
    "from modules.serverbase import *\n",
    "from modules.userbase import *\n",
    "from modules.servernsTransformer import *\n",
    "from modules.usernsTranformer import *\n",
    "import numpy as np\n",
    "import torch\n",
    "torch.cuda.init()"
   ]
  },
  {
   "cell_type": "code",
   "execution_count": 5,
   "metadata": {},
   "outputs": [],
   "source": [
    "from sklearn.preprocessing import StandardScaler, MinMaxScaler\n",
    "def preprocess(data, std=True):\n",
    "    '''\n",
    "    Function to do preprocess for input data\n",
    "    inputs:\n",
    "        + data: pandas.DataFrame\n",
    "    outputs:\n",
    "        + preprocessed_data: pandas.DataFrame\n",
    "    '''\n",
    "    if std:\n",
    "        scaler = StandardScaler()\n",
    "        temp = scaler.fit_transform(data)\n",
    "    else:\n",
    "        scaler = MinMaxScaler()\n",
    "        temp = scaler.fit_transform(data)\n",
    "    processed_data = pd.DataFrame(temp, index=data.index, columns = data.columns)\n",
    "    # processed_data = processed_data.to_numpy()\n",
    "    return processed_data"
   ]
  },
  {
   "cell_type": "code",
   "execution_count": 6,
   "metadata": {},
   "outputs": [
    {
     "data": {
      "text/html": [
       "<div>\n",
       "<style scoped>\n",
       "    .dataframe tbody tr th:only-of-type {\n",
       "        vertical-align: middle;\n",
       "    }\n",
       "\n",
       "    .dataframe tbody tr th {\n",
       "        vertical-align: top;\n",
       "    }\n",
       "\n",
       "    .dataframe thead th {\n",
       "        text-align: right;\n",
       "    }\n",
       "</style>\n",
       "<table border=\"1\" class=\"dataframe\">\n",
       "  <thead>\n",
       "    <tr style=\"text-align: right;\">\n",
       "      <th>gridID</th>\n",
       "      <th>38</th>\n",
       "      <th>39</th>\n",
       "      <th>40</th>\n",
       "      <th>154</th>\n",
       "      <th>155</th>\n",
       "      <th>156</th>\n",
       "      <th>157</th>\n",
       "      <th>158</th>\n",
       "      <th>159</th>\n",
       "      <th>160</th>\n",
       "      <th>...</th>\n",
       "      <th>11217</th>\n",
       "      <th>11218</th>\n",
       "      <th>11219</th>\n",
       "      <th>11220</th>\n",
       "      <th>11335</th>\n",
       "      <th>11336</th>\n",
       "      <th>11337</th>\n",
       "      <th>11452</th>\n",
       "      <th>11453</th>\n",
       "      <th>11454</th>\n",
       "    </tr>\n",
       "    <tr>\n",
       "      <th>startTime</th>\n",
       "      <th></th>\n",
       "      <th></th>\n",
       "      <th></th>\n",
       "      <th></th>\n",
       "      <th></th>\n",
       "      <th></th>\n",
       "      <th></th>\n",
       "      <th></th>\n",
       "      <th></th>\n",
       "      <th></th>\n",
       "      <th></th>\n",
       "      <th></th>\n",
       "      <th></th>\n",
       "      <th></th>\n",
       "      <th></th>\n",
       "      <th></th>\n",
       "      <th></th>\n",
       "      <th></th>\n",
       "      <th></th>\n",
       "      <th></th>\n",
       "      <th></th>\n",
       "    </tr>\n",
       "  </thead>\n",
       "  <tbody>\n",
       "    <tr>\n",
       "      <th>2013-11-01 00:00:00</th>\n",
       "      <td>0.026968</td>\n",
       "      <td>0.027979</td>\n",
       "      <td>0.054033</td>\n",
       "      <td>0.022686</td>\n",
       "      <td>0.025051</td>\n",
       "      <td>0.021806</td>\n",
       "      <td>0.017165</td>\n",
       "      <td>0.063940</td>\n",
       "      <td>0.182172</td>\n",
       "      <td>0.064736</td>\n",
       "      <td>...</td>\n",
       "      <td>0.002259</td>\n",
       "      <td>0.000069</td>\n",
       "      <td>0.001301</td>\n",
       "      <td>0.002970</td>\n",
       "      <td>0.004161</td>\n",
       "      <td>0.000727</td>\n",
       "      <td>0.002413</td>\n",
       "      <td>0.003107</td>\n",
       "      <td>0.003388</td>\n",
       "      <td>0.003513</td>\n",
       "    </tr>\n",
       "    <tr>\n",
       "      <th>2013-11-01 01:00:00</th>\n",
       "      <td>0.002192</td>\n",
       "      <td>0.009714</td>\n",
       "      <td>0.078341</td>\n",
       "      <td>0.008246</td>\n",
       "      <td>0.010590</td>\n",
       "      <td>0.018950</td>\n",
       "      <td>0.024315</td>\n",
       "      <td>0.031946</td>\n",
       "      <td>0.144847</td>\n",
       "      <td>0.040950</td>\n",
       "      <td>...</td>\n",
       "      <td>0.003489</td>\n",
       "      <td>0.000139</td>\n",
       "      <td>0.000000</td>\n",
       "      <td>0.000000</td>\n",
       "      <td>0.005900</td>\n",
       "      <td>0.001271</td>\n",
       "      <td>0.003543</td>\n",
       "      <td>0.005616</td>\n",
       "      <td>0.005598</td>\n",
       "      <td>0.004459</td>\n",
       "    </tr>\n",
       "    <tr>\n",
       "      <th>2013-11-01 02:00:00</th>\n",
       "      <td>0.027031</td>\n",
       "      <td>0.013580</td>\n",
       "      <td>0.067715</td>\n",
       "      <td>0.004549</td>\n",
       "      <td>0.008183</td>\n",
       "      <td>0.020699</td>\n",
       "      <td>0.027771</td>\n",
       "      <td>0.051970</td>\n",
       "      <td>0.197436</td>\n",
       "      <td>0.009968</td>\n",
       "      <td>...</td>\n",
       "      <td>0.002573</td>\n",
       "      <td>0.000084</td>\n",
       "      <td>0.000661</td>\n",
       "      <td>0.000147</td>\n",
       "      <td>0.005642</td>\n",
       "      <td>0.000365</td>\n",
       "      <td>0.000447</td>\n",
       "      <td>0.004947</td>\n",
       "      <td>0.001383</td>\n",
       "      <td>0.000377</td>\n",
       "    </tr>\n",
       "    <tr>\n",
       "      <th>2013-11-01 03:00:00</th>\n",
       "      <td>0.004477</td>\n",
       "      <td>0.005250</td>\n",
       "      <td>0.019870</td>\n",
       "      <td>0.000000</td>\n",
       "      <td>0.000000</td>\n",
       "      <td>0.005578</td>\n",
       "      <td>0.003652</td>\n",
       "      <td>0.010927</td>\n",
       "      <td>0.015063</td>\n",
       "      <td>0.019474</td>\n",
       "      <td>...</td>\n",
       "      <td>0.000125</td>\n",
       "      <td>0.000000</td>\n",
       "      <td>0.000000</td>\n",
       "      <td>0.000795</td>\n",
       "      <td>0.000378</td>\n",
       "      <td>0.000000</td>\n",
       "      <td>0.000000</td>\n",
       "      <td>0.000000</td>\n",
       "      <td>0.000019</td>\n",
       "      <td>0.000000</td>\n",
       "    </tr>\n",
       "    <tr>\n",
       "      <th>2013-11-01 04:00:00</th>\n",
       "      <td>0.005706</td>\n",
       "      <td>0.006306</td>\n",
       "      <td>0.021477</td>\n",
       "      <td>0.004549</td>\n",
       "      <td>0.005886</td>\n",
       "      <td>0.008242</td>\n",
       "      <td>0.010755</td>\n",
       "      <td>0.010265</td>\n",
       "      <td>0.026710</td>\n",
       "      <td>0.016291</td>\n",
       "      <td>...</td>\n",
       "      <td>0.000260</td>\n",
       "      <td>0.000069</td>\n",
       "      <td>0.000245</td>\n",
       "      <td>0.001927</td>\n",
       "      <td>0.000299</td>\n",
       "      <td>0.000298</td>\n",
       "      <td>0.012260</td>\n",
       "      <td>0.000233</td>\n",
       "      <td>0.004342</td>\n",
       "      <td>0.011156</td>\n",
       "    </tr>\n",
       "  </tbody>\n",
       "</table>\n",
       "<p>5 rows × 6259 columns</p>\n",
       "</div>"
      ],
      "text/plain": [
       "gridID                  38        39        40        154       155    \\\n",
       "startTime                                                               \n",
       "2013-11-01 00:00:00  0.026968  0.027979  0.054033  0.022686  0.025051   \n",
       "2013-11-01 01:00:00  0.002192  0.009714  0.078341  0.008246  0.010590   \n",
       "2013-11-01 02:00:00  0.027031  0.013580  0.067715  0.004549  0.008183   \n",
       "2013-11-01 03:00:00  0.004477  0.005250  0.019870  0.000000  0.000000   \n",
       "2013-11-01 04:00:00  0.005706  0.006306  0.021477  0.004549  0.005886   \n",
       "\n",
       "gridID                  156       157       158       159       160    ...  \\\n",
       "startTime                                                              ...   \n",
       "2013-11-01 00:00:00  0.021806  0.017165  0.063940  0.182172  0.064736  ...   \n",
       "2013-11-01 01:00:00  0.018950  0.024315  0.031946  0.144847  0.040950  ...   \n",
       "2013-11-01 02:00:00  0.020699  0.027771  0.051970  0.197436  0.009968  ...   \n",
       "2013-11-01 03:00:00  0.005578  0.003652  0.010927  0.015063  0.019474  ...   \n",
       "2013-11-01 04:00:00  0.008242  0.010755  0.010265  0.026710  0.016291  ...   \n",
       "\n",
       "gridID                  11217     11218     11219     11220     11335  \\\n",
       "startTime                                                               \n",
       "2013-11-01 00:00:00  0.002259  0.000069  0.001301  0.002970  0.004161   \n",
       "2013-11-01 01:00:00  0.003489  0.000139  0.000000  0.000000  0.005900   \n",
       "2013-11-01 02:00:00  0.002573  0.000084  0.000661  0.000147  0.005642   \n",
       "2013-11-01 03:00:00  0.000125  0.000000  0.000000  0.000795  0.000378   \n",
       "2013-11-01 04:00:00  0.000260  0.000069  0.000245  0.001927  0.000299   \n",
       "\n",
       "gridID                  11336     11337     11452     11453     11454  \n",
       "startTime                                                              \n",
       "2013-11-01 00:00:00  0.000727  0.002413  0.003107  0.003388  0.003513  \n",
       "2013-11-01 01:00:00  0.001271  0.003543  0.005616  0.005598  0.004459  \n",
       "2013-11-01 02:00:00  0.000365  0.000447  0.004947  0.001383  0.000377  \n",
       "2013-11-01 03:00:00  0.000000  0.000000  0.000000  0.000019  0.000000  \n",
       "2013-11-01 04:00:00  0.000298  0.012260  0.000233  0.004342  0.011156  \n",
       "\n",
       "[5 rows x 6259 columns]"
      ]
     },
     "execution_count": 6,
     "metadata": {},
     "output_type": "execute_result"
    }
   ],
   "source": [
    "file_path = f\"./dataset/{dataset_name}/{dataset_name}_{sub_set_name}_{series_type}.csv\"\n",
    "raw_data = pd.read_csv(file_path)\n",
    "raw_data = raw_data.pivot(index='startTime', columns='gridID', values=sub_set_name)\n",
    "raw_data = raw_data.fillna(0)\n",
    "raw_data = preprocess(raw_data, std=False)\n",
    "raw_data.head()"
   ]
  },
  {
   "cell_type": "code",
   "execution_count": 7,
   "metadata": {},
   "outputs": [
    {
     "data": {
      "text/plain": [
       "(1488, 6259)"
      ]
     },
     "execution_count": 7,
     "metadata": {},
     "output_type": "execute_result"
    }
   ],
   "source": [
    "raw_data.shape"
   ]
  },
  {
   "cell_type": "code",
   "execution_count": 8,
   "metadata": {},
   "outputs": [
    {
     "data": {
      "text/html": [
       "<div>\n",
       "<style scoped>\n",
       "    .dataframe tbody tr th:only-of-type {\n",
       "        vertical-align: middle;\n",
       "    }\n",
       "\n",
       "    .dataframe tbody tr th {\n",
       "        vertical-align: top;\n",
       "    }\n",
       "\n",
       "    .dataframe thead th {\n",
       "        text-align: right;\n",
       "    }\n",
       "</style>\n",
       "<table border=\"1\" class=\"dataframe\">\n",
       "  <thead>\n",
       "    <tr style=\"text-align: right;\">\n",
       "      <th>gridID</th>\n",
       "      <th>38</th>\n",
       "      <th>39</th>\n",
       "      <th>40</th>\n",
       "      <th>154</th>\n",
       "      <th>155</th>\n",
       "      <th>156</th>\n",
       "      <th>157</th>\n",
       "      <th>158</th>\n",
       "      <th>159</th>\n",
       "      <th>160</th>\n",
       "      <th>...</th>\n",
       "      <th>11217</th>\n",
       "      <th>11218</th>\n",
       "      <th>11219</th>\n",
       "      <th>11220</th>\n",
       "      <th>11335</th>\n",
       "      <th>11336</th>\n",
       "      <th>11337</th>\n",
       "      <th>11452</th>\n",
       "      <th>11453</th>\n",
       "      <th>11454</th>\n",
       "    </tr>\n",
       "    <tr>\n",
       "      <th>startTime</th>\n",
       "      <th></th>\n",
       "      <th></th>\n",
       "      <th></th>\n",
       "      <th></th>\n",
       "      <th></th>\n",
       "      <th></th>\n",
       "      <th></th>\n",
       "      <th></th>\n",
       "      <th></th>\n",
       "      <th></th>\n",
       "      <th></th>\n",
       "      <th></th>\n",
       "      <th></th>\n",
       "      <th></th>\n",
       "      <th></th>\n",
       "      <th></th>\n",
       "      <th></th>\n",
       "      <th></th>\n",
       "      <th></th>\n",
       "      <th></th>\n",
       "      <th></th>\n",
       "    </tr>\n",
       "  </thead>\n",
       "  <tbody>\n",
       "    <tr>\n",
       "      <th>2013-11-01 00:00:00</th>\n",
       "      <td>0.026968</td>\n",
       "      <td>0.027979</td>\n",
       "      <td>0.054033</td>\n",
       "      <td>0.022686</td>\n",
       "      <td>0.025051</td>\n",
       "      <td>0.021806</td>\n",
       "      <td>0.017165</td>\n",
       "      <td>0.063940</td>\n",
       "      <td>0.182172</td>\n",
       "      <td>0.064736</td>\n",
       "      <td>...</td>\n",
       "      <td>0.002259</td>\n",
       "      <td>0.000069</td>\n",
       "      <td>0.001301</td>\n",
       "      <td>0.002970</td>\n",
       "      <td>0.004161</td>\n",
       "      <td>0.000727</td>\n",
       "      <td>0.002413</td>\n",
       "      <td>0.003107</td>\n",
       "      <td>0.003388</td>\n",
       "      <td>0.003513</td>\n",
       "    </tr>\n",
       "    <tr>\n",
       "      <th>2013-11-01 01:00:00</th>\n",
       "      <td>0.002192</td>\n",
       "      <td>0.009714</td>\n",
       "      <td>0.078341</td>\n",
       "      <td>0.008246</td>\n",
       "      <td>0.010590</td>\n",
       "      <td>0.018950</td>\n",
       "      <td>0.024315</td>\n",
       "      <td>0.031946</td>\n",
       "      <td>0.144847</td>\n",
       "      <td>0.040950</td>\n",
       "      <td>...</td>\n",
       "      <td>0.003489</td>\n",
       "      <td>0.000139</td>\n",
       "      <td>0.000000</td>\n",
       "      <td>0.000000</td>\n",
       "      <td>0.005900</td>\n",
       "      <td>0.001271</td>\n",
       "      <td>0.003543</td>\n",
       "      <td>0.005616</td>\n",
       "      <td>0.005598</td>\n",
       "      <td>0.004459</td>\n",
       "    </tr>\n",
       "    <tr>\n",
       "      <th>2013-11-01 02:00:00</th>\n",
       "      <td>0.027031</td>\n",
       "      <td>0.013580</td>\n",
       "      <td>0.067715</td>\n",
       "      <td>0.004549</td>\n",
       "      <td>0.008183</td>\n",
       "      <td>0.020699</td>\n",
       "      <td>0.027771</td>\n",
       "      <td>0.051970</td>\n",
       "      <td>0.197436</td>\n",
       "      <td>0.009968</td>\n",
       "      <td>...</td>\n",
       "      <td>0.002573</td>\n",
       "      <td>0.000084</td>\n",
       "      <td>0.000661</td>\n",
       "      <td>0.000147</td>\n",
       "      <td>0.005642</td>\n",
       "      <td>0.000365</td>\n",
       "      <td>0.000447</td>\n",
       "      <td>0.004947</td>\n",
       "      <td>0.001383</td>\n",
       "      <td>0.000377</td>\n",
       "    </tr>\n",
       "    <tr>\n",
       "      <th>2013-11-01 03:00:00</th>\n",
       "      <td>0.004477</td>\n",
       "      <td>0.005250</td>\n",
       "      <td>0.019870</td>\n",
       "      <td>0.000000</td>\n",
       "      <td>0.000000</td>\n",
       "      <td>0.005578</td>\n",
       "      <td>0.003652</td>\n",
       "      <td>0.010927</td>\n",
       "      <td>0.015063</td>\n",
       "      <td>0.019474</td>\n",
       "      <td>...</td>\n",
       "      <td>0.000125</td>\n",
       "      <td>0.000000</td>\n",
       "      <td>0.000000</td>\n",
       "      <td>0.000795</td>\n",
       "      <td>0.000378</td>\n",
       "      <td>0.000000</td>\n",
       "      <td>0.000000</td>\n",
       "      <td>0.000000</td>\n",
       "      <td>0.000019</td>\n",
       "      <td>0.000000</td>\n",
       "    </tr>\n",
       "    <tr>\n",
       "      <th>2013-11-01 04:00:00</th>\n",
       "      <td>0.005706</td>\n",
       "      <td>0.006306</td>\n",
       "      <td>0.021477</td>\n",
       "      <td>0.004549</td>\n",
       "      <td>0.005886</td>\n",
       "      <td>0.008242</td>\n",
       "      <td>0.010755</td>\n",
       "      <td>0.010265</td>\n",
       "      <td>0.026710</td>\n",
       "      <td>0.016291</td>\n",
       "      <td>...</td>\n",
       "      <td>0.000260</td>\n",
       "      <td>0.000069</td>\n",
       "      <td>0.000245</td>\n",
       "      <td>0.001927</td>\n",
       "      <td>0.000299</td>\n",
       "      <td>0.000298</td>\n",
       "      <td>0.012260</td>\n",
       "      <td>0.000233</td>\n",
       "      <td>0.004342</td>\n",
       "      <td>0.011156</td>\n",
       "    </tr>\n",
       "  </tbody>\n",
       "</table>\n",
       "<p>5 rows × 6259 columns</p>\n",
       "</div>"
      ],
      "text/plain": [
       "gridID                  38        39        40        154       155    \\\n",
       "startTime                                                               \n",
       "2013-11-01 00:00:00  0.026968  0.027979  0.054033  0.022686  0.025051   \n",
       "2013-11-01 01:00:00  0.002192  0.009714  0.078341  0.008246  0.010590   \n",
       "2013-11-01 02:00:00  0.027031  0.013580  0.067715  0.004549  0.008183   \n",
       "2013-11-01 03:00:00  0.004477  0.005250  0.019870  0.000000  0.000000   \n",
       "2013-11-01 04:00:00  0.005706  0.006306  0.021477  0.004549  0.005886   \n",
       "\n",
       "gridID                  156       157       158       159       160    ...  \\\n",
       "startTime                                                              ...   \n",
       "2013-11-01 00:00:00  0.021806  0.017165  0.063940  0.182172  0.064736  ...   \n",
       "2013-11-01 01:00:00  0.018950  0.024315  0.031946  0.144847  0.040950  ...   \n",
       "2013-11-01 02:00:00  0.020699  0.027771  0.051970  0.197436  0.009968  ...   \n",
       "2013-11-01 03:00:00  0.005578  0.003652  0.010927  0.015063  0.019474  ...   \n",
       "2013-11-01 04:00:00  0.008242  0.010755  0.010265  0.026710  0.016291  ...   \n",
       "\n",
       "gridID                  11217     11218     11219     11220     11335  \\\n",
       "startTime                                                               \n",
       "2013-11-01 00:00:00  0.002259  0.000069  0.001301  0.002970  0.004161   \n",
       "2013-11-01 01:00:00  0.003489  0.000139  0.000000  0.000000  0.005900   \n",
       "2013-11-01 02:00:00  0.002573  0.000084  0.000661  0.000147  0.005642   \n",
       "2013-11-01 03:00:00  0.000125  0.000000  0.000000  0.000795  0.000378   \n",
       "2013-11-01 04:00:00  0.000260  0.000069  0.000245  0.001927  0.000299   \n",
       "\n",
       "gridID                  11336     11337     11452     11453     11454  \n",
       "startTime                                                              \n",
       "2013-11-01 00:00:00  0.000727  0.002413  0.003107  0.003388  0.003513  \n",
       "2013-11-01 01:00:00  0.001271  0.003543  0.005616  0.005598  0.004459  \n",
       "2013-11-01 02:00:00  0.000365  0.000447  0.004947  0.001383  0.000377  \n",
       "2013-11-01 03:00:00  0.000000  0.000000  0.000000  0.000019  0.000000  \n",
       "2013-11-01 04:00:00  0.000298  0.012260  0.000233  0.004342  0.011156  \n",
       "\n",
       "[5 rows x 6259 columns]"
      ]
     },
     "execution_count": 8,
     "metadata": {},
     "output_type": "execute_result"
    }
   ],
   "source": [
    "# prompt: write pandas to csv\n",
    "\n",
    "import pandas as pd\n",
    "\n",
    "# Save the DataFrame to a CSV file\n",
    "raw_data.rename(columns={'startTime': 'date'}, inplace=True)\n",
    "raw_data.to_csv(f\"./dataset/{dataset_name}/{sub_set_name}.csv\", index_label='date')\n",
    "raw_data.head()"
   ]
  },
  {
   "cell_type": "code",
   "execution_count": 9,
   "metadata": {},
   "outputs": [],
   "source": [
    "# Download the dataset\n",
    "# download_elec_dataset()\n",
    "\n",
    "# # Clean dataset\n",
    "# elec_data = clean_elec()\n",
    "\n",
    "# from sklearn.preprocessing import StandardScaler, MinMaxScaler\n",
    "# Std_normalization = 1\n",
    "# if Std_normalization:\n",
    "#     scaler = StandardScaler()\n",
    "#     temp = scaler.fit_transform(elec_data)\n",
    "#     norm_means = scaler.mean_\n",
    "#     norm_std = scaler.scale_\n",
    "# else:\n",
    "#     scaler = MinMaxScaler()\n",
    "#     temp = scaler.fit_transform(elec_data)\n",
    "\n",
    "# elec_data = pd.DataFrame(elec_data, index=elec_data.index, columns = elec_data.columns)"
   ]
  },
  {
   "cell_type": "code",
   "execution_count": 10,
   "metadata": {},
   "outputs": [
    {
     "data": {
      "text/plain": [
       "'call.csv'"
      ]
     },
     "execution_count": 10,
     "metadata": {},
     "output_type": "execute_result"
    }
   ],
   "source": [
    "from ns_models.ns_TransformerConfig import NS_TransformerConfig\n",
    "user_num_ts = int(raw_data.shape[1] / n_users)\n",
    "args = NS_TransformerConfig()\n",
    "args.devices = gpu_id\n",
    "args.enc_in = user_num_ts\n",
    "args.dec_in = user_num_ts\n",
    "args.c_out = user_num_ts\n",
    "# args.seq_len = 144\n",
    "args.root_path='./dataset/trentino/'\n",
    "args.data_path='call.csv'\n",
    "args.data_path"
   ]
  },
  {
   "cell_type": "code",
   "execution_count": 11,
   "metadata": {},
   "outputs": [],
   "source": [
    "from torch.utils.data import DataLoader\n",
    "from data_provider.data_factory import *\n",
    "from data_provider.data_loader import *\n",
    "\n",
    "test_data, test_loader = data_provider(args, flag='test')"
   ]
  },
  {
   "cell_type": "code",
   "execution_count": 12,
   "metadata": {},
   "outputs": [
    {
     "data": {
      "text/plain": [
       "(144, 6259)"
      ]
     },
     "execution_count": 12,
     "metadata": {},
     "output_type": "execute_result"
    }
   ],
   "source": [
    "test_data[0][0].shape"
   ]
  },
  {
   "cell_type": "code",
   "execution_count": 13,
   "metadata": {},
   "outputs": [],
   "source": [
    "user_data_list = []\n",
    "server_data_list = []\n",
    "for i in range(n_users):\n",
    "    train_data, train_loader = data_provider(args, flag='train', start=i*user_num_ts+1, end=min(user_num_ts*(i+1)+1, raw_data.shape[1]+1))\n",
    "    test_data, test_loader = data_provider(args, flag='test', start=i*user_num_ts+1, end=min(user_num_ts*(i+1)+1, raw_data.shape[1]+1))\n",
    "    # user_data = train_set.filter(lambda e, idx: idx>=(i*user_num_ts) and idx < user_num_ts*(i+1), with_indices=True)\n",
    "    user_data_list.append(train_loader)\n",
    "    server_data_list.append(test_loader)\n",
    "    # print(train_data[0][0].shape)"
   ]
  },
  {
   "cell_type": "code",
   "execution_count": 14,
   "metadata": {},
   "outputs": [
    {
     "data": {
      "text/plain": [
       "Model(\n",
       "  (enc_embedding): DataEmbedding(\n",
       "    (value_embedding): TokenEmbedding(\n",
       "      (tokenConv): Conv1d(625, 64, kernel_size=(3,), stride=(1,), padding=(1,), bias=False, padding_mode=circular)\n",
       "    )\n",
       "    (position_embedding): PositionalEmbedding()\n",
       "    (temporal_embedding): TimeFeatureEmbedding(\n",
       "      (embed): Linear(in_features=4, out_features=64, bias=False)\n",
       "    )\n",
       "    (dropout): Dropout(p=0.1, inplace=False)\n",
       "  )\n",
       "  (dec_embedding): DataEmbedding(\n",
       "    (value_embedding): TokenEmbedding(\n",
       "      (tokenConv): Conv1d(625, 64, kernel_size=(3,), stride=(1,), padding=(1,), bias=False, padding_mode=circular)\n",
       "    )\n",
       "    (position_embedding): PositionalEmbedding()\n",
       "    (temporal_embedding): TimeFeatureEmbedding(\n",
       "      (embed): Linear(in_features=4, out_features=64, bias=False)\n",
       "    )\n",
       "    (dropout): Dropout(p=0.1, inplace=False)\n",
       "  )\n",
       "  (encoder): Encoder(\n",
       "    (attn_layers): ModuleList(\n",
       "      (0-5): 6 x EncoderLayer(\n",
       "        (attention): AttentionLayer(\n",
       "          (inner_attention): DSAttention(\n",
       "            (dropout): Dropout(p=0.1, inplace=False)\n",
       "          )\n",
       "          (query_projection): Linear(in_features=64, out_features=64, bias=True)\n",
       "          (key_projection): Linear(in_features=64, out_features=64, bias=True)\n",
       "          (value_projection): Linear(in_features=64, out_features=64, bias=True)\n",
       "          (out_projection): Linear(in_features=64, out_features=64, bias=True)\n",
       "        )\n",
       "        (conv1): Conv1d(64, 32, kernel_size=(1,), stride=(1,))\n",
       "        (conv2): Conv1d(32, 64, kernel_size=(1,), stride=(1,))\n",
       "        (norm1): LayerNorm((64,), eps=1e-05, elementwise_affine=True)\n",
       "        (norm2): LayerNorm((64,), eps=1e-05, elementwise_affine=True)\n",
       "        (dropout): Dropout(p=0.1, inplace=False)\n",
       "      )\n",
       "    )\n",
       "    (norm): LayerNorm((64,), eps=1e-05, elementwise_affine=True)\n",
       "  )\n",
       "  (decoder): Decoder(\n",
       "    (layers): ModuleList(\n",
       "      (0-3): 4 x DecoderLayer(\n",
       "        (self_attention): AttentionLayer(\n",
       "          (inner_attention): DSAttention(\n",
       "            (dropout): Dropout(p=0.1, inplace=False)\n",
       "          )\n",
       "          (query_projection): Linear(in_features=64, out_features=64, bias=True)\n",
       "          (key_projection): Linear(in_features=64, out_features=64, bias=True)\n",
       "          (value_projection): Linear(in_features=64, out_features=64, bias=True)\n",
       "          (out_projection): Linear(in_features=64, out_features=64, bias=True)\n",
       "        )\n",
       "        (cross_attention): AttentionLayer(\n",
       "          (inner_attention): DSAttention(\n",
       "            (dropout): Dropout(p=0.1, inplace=False)\n",
       "          )\n",
       "          (query_projection): Linear(in_features=64, out_features=64, bias=True)\n",
       "          (key_projection): Linear(in_features=64, out_features=64, bias=True)\n",
       "          (value_projection): Linear(in_features=64, out_features=64, bias=True)\n",
       "          (out_projection): Linear(in_features=64, out_features=64, bias=True)\n",
       "        )\n",
       "        (conv1): Conv1d(64, 32, kernel_size=(1,), stride=(1,))\n",
       "        (conv2): Conv1d(32, 64, kernel_size=(1,), stride=(1,))\n",
       "        (norm1): LayerNorm((64,), eps=1e-05, elementwise_affine=True)\n",
       "        (norm2): LayerNorm((64,), eps=1e-05, elementwise_affine=True)\n",
       "        (norm3): LayerNorm((64,), eps=1e-05, elementwise_affine=True)\n",
       "        (dropout): Dropout(p=0.1, inplace=False)\n",
       "      )\n",
       "    )\n",
       "    (norm): LayerNorm((64,), eps=1e-05, elementwise_affine=True)\n",
       "    (projection): Linear(in_features=64, out_features=625, bias=True)\n",
       "  )\n",
       "  (tau_learner): Projector(\n",
       "    (series_conv): Conv1d(144, 1, kernel_size=(3,), stride=(1,), padding=(1,), bias=False, padding_mode=circular)\n",
       "    (backbone): Sequential(\n",
       "      (0): Linear(in_features=1250, out_features=64, bias=True)\n",
       "      (1): ReLU()\n",
       "      (2): Linear(in_features=64, out_features=64, bias=True)\n",
       "      (3): ReLU()\n",
       "      (4): Linear(in_features=64, out_features=1, bias=False)\n",
       "    )\n",
       "  )\n",
       "  (delta_learner): Projector(\n",
       "    (series_conv): Conv1d(144, 1, kernel_size=(3,), stride=(1,), padding=(1,), bias=False, padding_mode=circular)\n",
       "    (backbone): Sequential(\n",
       "      (0): Linear(in_features=1250, out_features=64, bias=True)\n",
       "      (1): ReLU()\n",
       "      (2): Linear(in_features=64, out_features=64, bias=True)\n",
       "      (3): ReLU()\n",
       "      (4): Linear(in_features=64, out_features=144, bias=False)\n",
       "    )\n",
       "  )\n",
       ")"
      ]
     },
     "execution_count": 14,
     "metadata": {},
     "output_type": "execute_result"
    }
   ],
   "source": [
    "from ns_models import ns_Transformer\n",
    "server_model = ns_Transformer.Model(configs=args)\n",
    "server_model"
   ]
  },
  {
   "cell_type": "markdown",
   "metadata": {},
   "source": [
    "# Setup WANDB"
   ]
  },
  {
   "cell_type": "code",
   "execution_count": 15,
   "metadata": {},
   "outputs": [
    {
     "name": "stderr",
     "output_type": "stream",
     "text": [
      "Failed to detect the name of this notebook, you can set it manually with the WANDB_NOTEBOOK_NAME environment variable to enable code saving.\n",
      "\u001b[34m\u001b[1mwandb\u001b[0m: Currently logged in as: \u001b[33mkenlvq\u001b[0m (\u001b[33mquanla\u001b[0m). Use \u001b[1m`wandb login --relogin`\u001b[0m to force relogin\n"
     ]
    },
    {
     "data": {
      "text/html": [
       "wandb version 0.17.4 is available!  To upgrade, please run:\n",
       " $ pip install wandb --upgrade"
      ],
      "text/plain": [
       "<IPython.core.display.HTML object>"
      ]
     },
     "metadata": {},
     "output_type": "display_data"
    },
    {
     "data": {
      "text/html": [
       "Tracking run with wandb version 0.16.3"
      ],
      "text/plain": [
       "<IPython.core.display.HTML object>"
      ]
     },
     "metadata": {},
     "output_type": "display_data"
    },
    {
     "data": {
      "text/html": [
       "Run data is saved locally in <code>/home/qula0496/quan/Nonstationary_Transformers/wandb/run-20240705_110054-qczf1b2k</code>"
      ],
      "text/plain": [
       "<IPython.core.display.HTML object>"
      ]
     },
     "metadata": {},
     "output_type": "display_data"
    },
    {
     "data": {
      "text/html": [
       "Syncing run <strong><a href='https://wandb.ai/quanla/Federated%20Non-Stationary%20Transformer%20on%20Milan%20dataset/runs/qczf1b2k' target=\"_blank\">Federated Non-Stationary Transformer on Trentino Call dataset</a></strong> to <a href='https://wandb.ai/quanla/Federated%20Non-Stationary%20Transformer%20on%20Milan%20dataset' target=\"_blank\">Weights & Biases</a> (<a href='https://wandb.me/run' target=\"_blank\">docs</a>)<br/>"
      ],
      "text/plain": [
       "<IPython.core.display.HTML object>"
      ]
     },
     "metadata": {},
     "output_type": "display_data"
    },
    {
     "data": {
      "text/html": [
       " View project at <a href='https://wandb.ai/quanla/Federated%20Non-Stationary%20Transformer%20on%20Milan%20dataset' target=\"_blank\">https://wandb.ai/quanla/Federated%20Non-Stationary%20Transformer%20on%20Milan%20dataset</a>"
      ],
      "text/plain": [
       "<IPython.core.display.HTML object>"
      ]
     },
     "metadata": {},
     "output_type": "display_data"
    },
    {
     "data": {
      "text/html": [
       " View run at <a href='https://wandb.ai/quanla/Federated%20Non-Stationary%20Transformer%20on%20Milan%20dataset/runs/qczf1b2k' target=\"_blank\">https://wandb.ai/quanla/Federated%20Non-Stationary%20Transformer%20on%20Milan%20dataset/runs/qczf1b2k</a>"
      ],
      "text/plain": [
       "<IPython.core.display.HTML object>"
      ]
     },
     "metadata": {},
     "output_type": "display_data"
    }
   ],
   "source": [
    "import wandb\n",
    "import torch\n",
    "\n",
    "NUM_GPUS = torch.cuda.device_count()\n",
    "LR = 1e-3\n",
    "GLOBAL_EPOCHS = 50\n",
    "LOCAL_EPOCHS = 5\n",
    "BATCH_SIZE = 128\n",
    "L2_PENALTY = 0.0\n",
    "USER_RATIO = 0.2\n",
    "run = wandb.init(\n",
    "    # project name\n",
    "    project=\"Federated Non-Stationary Transformer on Milan dataset\",\n",
    "    # experiment name\n",
    "    name=f\"Federated Non-Stationary Transformer on Trentino Call dataset\",\n",
    "    # Hyperparams\n",
    "    config={\n",
    "        \"dataset\": \"Milan Call\",\n",
    "        \"preprocess_type\": \"std\",\n",
    "        \"num_user\": n_users,\n",
    "        \"learning_rate\": LR,\n",
    "        \"global_epochs\": GLOBAL_EPOCHS,\n",
    "        \"local_epochs\": LOCAL_EPOCHS,\n",
    "        \"batch_size\": BATCH_SIZE,\n",
    "        \"num_gpus\": NUM_GPUS,\n",
    "        \"user_ratio\": USER_RATIO,\n",
    "        \"l2_penalty\": L2_PENALTY,\n",
    "        \"total_time_series\": 10000,\n",
    "        \"detrending_data\": \"No\"\n",
    "    })\n",
    "\n",
    "config_wanb = wandb.config"
   ]
  },
  {
   "cell_type": "code",
   "execution_count": 16,
   "metadata": {},
   "outputs": [
    {
     "name": "stderr",
     "output_type": "stream",
     "text": [
      "Progress:   0%|          | 0/50 [00:00<?, ?it/s]"
     ]
    },
    {
     "name": "stdout",
     "output_type": "stream",
     "text": [
      "<modules.usernsTranformer.UserNsTransformer object at 0x7f989ffeb610>\n",
      "Epoch: 1 cost time: 3.4667294025421143\n",
      "Epoch: 2 cost time: 2.6527645587921143\n",
      "Epoch: 3 cost time: 2.6981542110443115\n",
      "Epoch: 4 cost time: 2.865831136703491\n",
      "Epoch: 5 cost time: 2.490647315979004\n",
      "<modules.usernsTranformer.UserNsTransformer object at 0x7f989ffaa080>\n",
      "Epoch: 1 cost time: 2.8498897552490234\n",
      "Epoch: 2 cost time: 3.0386555194854736\n",
      "Epoch: 3 cost time: 2.88816499710083\n",
      "Epoch: 4 cost time: 2.934234857559204\n",
      "Epoch: 5 cost time: 2.966726064682007\n"
     ]
    },
    {
     "name": "stderr",
     "output_type": "stream",
     "text": [
      "Progress:   2%|▏         | 1/50 [00:38<31:03, 38.03s/it]"
     ]
    },
    {
     "name": "stdout",
     "output_type": "stream",
     "text": [
      "<modules.usernsTranformer.UserNsTransformer object at 0x7f989ffeb610>\n",
      "Epoch: 1 cost time: 2.7554004192352295\n",
      "Epoch: 2 cost time: 2.5068986415863037\n",
      "Epoch: 3 cost time: 2.6579344272613525\n",
      "Epoch: 4 cost time: 2.787174940109253\n",
      "Epoch: 5 cost time: 2.98048996925354\n",
      "<modules.usernsTranformer.UserNsTransformer object at 0x7f98b024a3e0>\n",
      "Epoch: 1 cost time: 2.9016096591949463\n",
      "Epoch: 2 cost time: 2.6196467876434326\n",
      "Epoch: 3 cost time: 2.660902976989746\n",
      "Epoch: 4 cost time: 2.5969889163970947\n",
      "Epoch: 5 cost time: 2.7893178462982178\n"
     ]
    },
    {
     "name": "stderr",
     "output_type": "stream",
     "text": [
      "Progress:   4%|▍         | 2/50 [01:14<29:36, 37.01s/it]"
     ]
    },
    {
     "name": "stdout",
     "output_type": "stream",
     "text": [
      "<modules.usernsTranformer.UserNsTransformer object at 0x7f989ffeb5e0>\n",
      "Epoch: 1 cost time: 2.828533411026001\n",
      "Epoch: 2 cost time: 2.6306707859039307\n",
      "Epoch: 3 cost time: 2.938173294067383\n",
      "Epoch: 4 cost time: 2.8086228370666504\n",
      "Epoch: 5 cost time: 2.7348885536193848\n",
      "<modules.usernsTranformer.UserNsTransformer object at 0x7f98b0893fa0>\n",
      "Epoch: 1 cost time: 2.725978136062622\n",
      "Epoch: 2 cost time: 2.7177770137786865\n",
      "Epoch: 3 cost time: 2.814164161682129\n",
      "Epoch: 4 cost time: 2.7849204540252686\n",
      "Epoch: 5 cost time: 2.7254483699798584\n"
     ]
    },
    {
     "name": "stderr",
     "output_type": "stream",
     "text": [
      "Progress:   6%|▌         | 3/50 [01:50<28:49, 36.80s/it]"
     ]
    },
    {
     "name": "stdout",
     "output_type": "stream",
     "text": [
      "<modules.usernsTranformer.UserNsTransformer object at 0x7f989fbe5ab0>\n",
      "Epoch: 1 cost time: 2.615781545639038\n",
      "Epoch: 2 cost time: 2.722902297973633\n",
      "Epoch: 3 cost time: 2.919767141342163\n",
      "Epoch: 4 cost time: 2.807400703430176\n",
      "Epoch: 5 cost time: 2.741279125213623\n",
      "<modules.usernsTranformer.UserNsTransformer object at 0x7f989ffeb4f0>\n",
      "Epoch: 1 cost time: 3.1060681343078613\n",
      "Epoch: 2 cost time: 2.8899178504943848\n",
      "Epoch: 3 cost time: 3.1614794731140137\n",
      "Epoch: 4 cost time: 2.7438676357269287\n",
      "Epoch: 5 cost time: 2.505066156387329\n"
     ]
    },
    {
     "name": "stderr",
     "output_type": "stream",
     "text": [
      "Progress:   8%|▊         | 4/50 [02:28<28:23, 37.04s/it]"
     ]
    },
    {
     "name": "stdout",
     "output_type": "stream",
     "text": [
      "<modules.usernsTranformer.UserNsTransformer object at 0x7f98b0248c10>\n",
      "Epoch: 1 cost time: 2.746041774749756\n",
      "Epoch: 2 cost time: 2.8526487350463867\n",
      "Epoch: 3 cost time: 2.426074981689453\n",
      "Epoch: 4 cost time: 2.523859977722168\n",
      "Epoch: 5 cost time: 2.7505226135253906\n",
      "<modules.usernsTranformer.UserNsTransformer object at 0x7f989ffaa080>\n",
      "Epoch: 1 cost time: 2.4578371047973633\n",
      "Epoch: 2 cost time: 2.7615513801574707\n",
      "Epoch: 3 cost time: 3.0710442066192627\n",
      "Epoch: 4 cost time: 3.093559503555298\n",
      "Epoch: 5 cost time: 2.599909782409668\n"
     ]
    },
    {
     "name": "stderr",
     "output_type": "stream",
     "text": [
      "Progress:  10%|█         | 5/50 [03:04<27:34, 36.76s/it]"
     ]
    },
    {
     "name": "stdout",
     "output_type": "stream",
     "text": [
      "<modules.usernsTranformer.UserNsTransformer object at 0x7f989ffeb5e0>\n",
      "Epoch: 1 cost time: 2.7111971378326416\n",
      "Epoch: 2 cost time: 2.843351364135742\n",
      "Epoch: 3 cost time: 2.871784210205078\n",
      "Epoch: 4 cost time: 2.711836099624634\n",
      "Epoch: 5 cost time: 2.742605209350586\n",
      "<modules.usernsTranformer.UserNsTransformer object at 0x7f98b0893fa0>\n",
      "Epoch: 1 cost time: 2.7321507930755615\n",
      "Epoch: 2 cost time: 2.7851033210754395\n",
      "Epoch: 3 cost time: 2.842081308364868\n",
      "Epoch: 4 cost time: 2.9557337760925293\n",
      "Epoch: 5 cost time: 3.088139057159424\n"
     ]
    },
    {
     "name": "stderr",
     "output_type": "stream",
     "text": [
      "Progress:  12%|█▏        | 6/50 [03:42<27:08, 37.02s/it]"
     ]
    },
    {
     "name": "stdout",
     "output_type": "stream",
     "text": [
      "<modules.usernsTranformer.UserNsTransformer object at 0x7f989ffeb4f0>\n",
      "Epoch: 1 cost time: 2.9290504455566406\n",
      "Epoch: 2 cost time: 2.935556411743164\n",
      "Epoch: 3 cost time: 2.8524999618530273\n",
      "Epoch: 4 cost time: 2.9271609783172607\n",
      "Epoch: 5 cost time: 2.677511692047119\n",
      "<modules.usernsTranformer.UserNsTransformer object at 0x7f98b0893fa0>\n",
      "Epoch: 1 cost time: 2.8338921070098877\n",
      "Epoch: 2 cost time: 2.92472767829895\n",
      "Epoch: 3 cost time: 2.943195104598999\n",
      "Epoch: 4 cost time: 2.7497034072875977\n",
      "Epoch: 5 cost time: 2.864112615585327\n"
     ]
    },
    {
     "name": "stderr",
     "output_type": "stream",
     "text": [
      "Progress:  14%|█▍        | 7/50 [04:19<26:38, 37.18s/it]"
     ]
    },
    {
     "name": "stdout",
     "output_type": "stream",
     "text": [
      "<modules.usernsTranformer.UserNsTransformer object at 0x7f98b0192860>\n",
      "Epoch: 1 cost time: 3.163632392883301\n",
      "Epoch: 2 cost time: 2.874730348587036\n",
      "Epoch: 3 cost time: 2.5784566402435303\n",
      "Epoch: 4 cost time: 2.8371243476867676\n",
      "Epoch: 5 cost time: 3.0616936683654785\n",
      "<modules.usernsTranformer.UserNsTransformer object at 0x7f98b0248c10>\n",
      "Epoch: 1 cost time: 2.722998857498169\n",
      "Epoch: 2 cost time: 2.675637722015381\n",
      "Epoch: 3 cost time: 2.8351564407348633\n",
      "Epoch: 4 cost time: 2.681551456451416\n",
      "Epoch: 5 cost time: 2.7826504707336426\n"
     ]
    },
    {
     "name": "stderr",
     "output_type": "stream",
     "text": [
      "Progress:  16%|█▌        | 8/50 [04:57<26:05, 37.27s/it]"
     ]
    },
    {
     "name": "stdout",
     "output_type": "stream",
     "text": [
      "<modules.usernsTranformer.UserNsTransformer object at 0x7f989ffaa080>\n",
      "Epoch: 1 cost time: 2.9345154762268066\n",
      "Epoch: 2 cost time: 2.8558294773101807\n",
      "Epoch: 3 cost time: 2.9550485610961914\n",
      "Epoch: 4 cost time: 2.898514747619629\n",
      "Epoch: 5 cost time: 2.8568108081817627\n",
      "<modules.usernsTranformer.UserNsTransformer object at 0x7f98b024a3e0>\n",
      "Epoch: 1 cost time: 2.509385585784912\n",
      "Epoch: 2 cost time: 3.103944778442383\n",
      "Epoch: 3 cost time: 3.132917642593384\n",
      "Epoch: 4 cost time: 2.580399990081787\n",
      "Epoch: 5 cost time: 2.922769784927368\n"
     ]
    },
    {
     "name": "stderr",
     "output_type": "stream",
     "text": [
      "Progress:  18%|█▊        | 9/50 [05:34<25:33, 37.41s/it]"
     ]
    },
    {
     "name": "stdout",
     "output_type": "stream",
     "text": [
      "<modules.usernsTranformer.UserNsTransformer object at 0x7f989ffaa080>\n",
      "Epoch: 1 cost time: 2.4569802284240723\n",
      "Epoch: 2 cost time: 2.8434226512908936\n",
      "Epoch: 3 cost time: 2.820704221725464\n",
      "Epoch: 4 cost time: 2.7113730907440186\n",
      "Epoch: 5 cost time: 2.844179153442383\n",
      "<modules.usernsTranformer.UserNsTransformer object at 0x7f98b0192860>\n",
      "Epoch: 1 cost time: 3.0854318141937256\n",
      "Epoch: 2 cost time: 2.941459894180298\n",
      "Epoch: 3 cost time: 3.095332384109497\n",
      "Epoch: 4 cost time: 2.947204351425171\n",
      "Epoch: 5 cost time: 2.940685749053955\n"
     ]
    },
    {
     "name": "stderr",
     "output_type": "stream",
     "text": [
      "Progress:  20%|██        | 10/50 [06:12<25:01, 37.54s/it]"
     ]
    },
    {
     "name": "stdout",
     "output_type": "stream",
     "text": [
      "<modules.usernsTranformer.UserNsTransformer object at 0x7f989fbe5ab0>\n",
      "Epoch: 1 cost time: 3.1959128379821777\n",
      "Epoch: 2 cost time: 2.905822277069092\n",
      "Epoch: 3 cost time: 3.1190364360809326\n",
      "Epoch: 4 cost time: 2.384974479675293\n",
      "Epoch: 5 cost time: 2.8761439323425293\n",
      "<modules.usernsTranformer.UserNsTransformer object at 0x7f989ffeb5e0>\n",
      "Epoch: 1 cost time: 2.8389618396759033\n",
      "Epoch: 2 cost time: 2.847428321838379\n",
      "Epoch: 3 cost time: 2.8857390880584717\n",
      "Epoch: 4 cost time: 3.0359864234924316\n",
      "Epoch: 5 cost time: 2.9143640995025635\n"
     ]
    },
    {
     "name": "stderr",
     "output_type": "stream",
     "text": [
      "Progress:  22%|██▏       | 11/50 [06:50<24:30, 37.72s/it]"
     ]
    },
    {
     "name": "stdout",
     "output_type": "stream",
     "text": [
      "<modules.usernsTranformer.UserNsTransformer object at 0x7f98b0190940>\n",
      "Epoch: 1 cost time: 2.9151155948638916\n",
      "Epoch: 2 cost time: 2.564281702041626\n",
      "Epoch: 3 cost time: 2.9314372539520264\n",
      "Epoch: 4 cost time: 2.834796190261841\n",
      "Epoch: 5 cost time: 2.8005759716033936\n",
      "<modules.usernsTranformer.UserNsTransformer object at 0x7f989ffeb4f0>\n",
      "Epoch: 1 cost time: 2.8105111122131348\n",
      "Epoch: 2 cost time: 3.0266034603118896\n",
      "Epoch: 3 cost time: 2.855013370513916\n",
      "Epoch: 4 cost time: 2.514186382293701\n",
      "Epoch: 5 cost time: 2.8120203018188477\n"
     ]
    },
    {
     "name": "stderr",
     "output_type": "stream",
     "text": [
      "Progress:  24%|██▍       | 12/50 [07:28<23:50, 37.64s/it]"
     ]
    },
    {
     "name": "stdout",
     "output_type": "stream",
     "text": [
      "<modules.usernsTranformer.UserNsTransformer object at 0x7f98b0248c10>\n",
      "Epoch: 1 cost time: 3.0221261978149414\n",
      "Epoch: 2 cost time: 3.158586025238037\n",
      "Epoch: 3 cost time: 2.8196475505828857\n",
      "Epoch: 4 cost time: 2.873220205307007\n",
      "Epoch: 5 cost time: 2.8839070796966553\n",
      "<modules.usernsTranformer.UserNsTransformer object at 0x7f989fbe5ab0>\n",
      "Epoch: 1 cost time: 2.859346628189087\n",
      "Epoch: 2 cost time: 3.039736032485962\n",
      "Epoch: 3 cost time: 3.1482245922088623\n",
      "Epoch: 4 cost time: 2.9216768741607666\n",
      "Epoch: 5 cost time: 2.8591957092285156\n"
     ]
    },
    {
     "name": "stderr",
     "output_type": "stream",
     "text": [
      "Progress:  26%|██▌       | 13/50 [08:06<23:24, 37.97s/it]"
     ]
    },
    {
     "name": "stdout",
     "output_type": "stream",
     "text": [
      "<modules.usernsTranformer.UserNsTransformer object at 0x7f98b024a3e0>\n",
      "Epoch: 1 cost time: 2.865949869155884\n",
      "Epoch: 2 cost time: 3.0179123878479004\n",
      "Epoch: 3 cost time: 2.9983620643615723\n",
      "Epoch: 4 cost time: 2.9533300399780273\n",
      "Epoch: 5 cost time: 3.0083956718444824\n",
      "<modules.usernsTranformer.UserNsTransformer object at 0x7f989fbe5ab0>\n",
      "Epoch: 1 cost time: 2.7544455528259277\n",
      "Epoch: 2 cost time: 2.956709861755371\n",
      "Epoch: 3 cost time: 2.849855899810791\n",
      "Epoch: 4 cost time: 2.8434860706329346\n",
      "Epoch: 5 cost time: 2.5345780849456787\n"
     ]
    },
    {
     "name": "stderr",
     "output_type": "stream",
     "text": [
      "Progress:  28%|██▊       | 14/50 [08:44<22:43, 37.88s/it]"
     ]
    },
    {
     "name": "stdout",
     "output_type": "stream",
     "text": [
      "<modules.usernsTranformer.UserNsTransformer object at 0x7f98b0192860>\n",
      "Epoch: 1 cost time: 1.7693841457366943\n",
      "Epoch: 2 cost time: 1.8567373752593994\n",
      "Epoch: 3 cost time: 1.703852891921997\n",
      "Epoch: 4 cost time: 2.2276012897491455\n",
      "Epoch: 5 cost time: 2.657503128051758\n",
      "<modules.usernsTranformer.UserNsTransformer object at 0x7f989ffeb4f0>\n",
      "Epoch: 1 cost time: 2.7605836391448975\n",
      "Epoch: 2 cost time: 2.9730238914489746\n",
      "Epoch: 3 cost time: 2.67999005317688\n",
      "Epoch: 4 cost time: 2.8313398361206055\n",
      "Epoch: 5 cost time: 2.9312551021575928\n"
     ]
    },
    {
     "name": "stderr",
     "output_type": "stream",
     "text": [
      "Progress:  30%|███       | 15/50 [09:17<21:18, 36.52s/it]"
     ]
    },
    {
     "name": "stdout",
     "output_type": "stream",
     "text": [
      "<modules.usernsTranformer.UserNsTransformer object at 0x7f98b0192860>\n",
      "Epoch: 1 cost time: 2.8022563457489014\n",
      "Epoch: 2 cost time: 2.6374568939208984\n",
      "Epoch: 3 cost time: 2.6216683387756348\n",
      "Epoch: 4 cost time: 2.7548675537109375\n",
      "Epoch: 5 cost time: 2.8421850204467773\n",
      "<modules.usernsTranformer.UserNsTransformer object at 0x7f989ffeb610>\n",
      "Epoch: 1 cost time: 2.8867483139038086\n",
      "Epoch: 2 cost time: 2.9727489948272705\n",
      "Epoch: 3 cost time: 2.3290910720825195\n",
      "Epoch: 4 cost time: 2.8086936473846436\n",
      "Epoch: 5 cost time: 2.8110108375549316\n"
     ]
    },
    {
     "name": "stderr",
     "output_type": "stream",
     "text": [
      "Progress:  32%|███▏      | 16/50 [09:54<20:37, 36.39s/it]"
     ]
    },
    {
     "name": "stdout",
     "output_type": "stream",
     "text": [
      "<modules.usernsTranformer.UserNsTransformer object at 0x7f989ffaa080>\n",
      "Epoch: 1 cost time: 3.046412229537964\n",
      "Epoch: 2 cost time: 3.1814303398132324\n",
      "Epoch: 3 cost time: 2.939483642578125\n",
      "Epoch: 4 cost time: 2.7995176315307617\n",
      "Epoch: 5 cost time: 2.822580099105835\n",
      "<modules.usernsTranformer.UserNsTransformer object at 0x7f98b0192860>\n",
      "Epoch: 1 cost time: 3.011655807495117\n",
      "Epoch: 2 cost time: 3.0545618534088135\n",
      "Epoch: 3 cost time: 3.0087950229644775\n",
      "Epoch: 4 cost time: 2.8726015090942383\n",
      "Epoch: 5 cost time: 2.78114652633667\n"
     ]
    },
    {
     "name": "stderr",
     "output_type": "stream",
     "text": [
      "Progress:  34%|███▍      | 17/50 [10:32<20:22, 37.04s/it]"
     ]
    },
    {
     "name": "stdout",
     "output_type": "stream",
     "text": [
      "<modules.usernsTranformer.UserNsTransformer object at 0x7f98b024a3e0>\n",
      "Epoch: 1 cost time: 2.279412269592285\n",
      "Epoch: 2 cost time: 2.80840802192688\n",
      "Epoch: 3 cost time: 2.953674554824829\n",
      "Epoch: 4 cost time: 2.9073071479797363\n",
      "Epoch: 5 cost time: 2.926692008972168\n",
      "<modules.usernsTranformer.UserNsTransformer object at 0x7f98b0893fa0>\n",
      "Epoch: 1 cost time: 2.8752453327178955\n",
      "Epoch: 2 cost time: 2.994455337524414\n",
      "Epoch: 3 cost time: 2.911006450653076\n",
      "Epoch: 4 cost time: 2.829094886779785\n",
      "Epoch: 5 cost time: 3.0486392974853516\n"
     ]
    },
    {
     "name": "stderr",
     "output_type": "stream",
     "text": [
      "Progress:  36%|███▌      | 18/50 [11:09<19:48, 37.13s/it]"
     ]
    },
    {
     "name": "stdout",
     "output_type": "stream",
     "text": [
      "<modules.usernsTranformer.UserNsTransformer object at 0x7f989ffaa080>\n",
      "Epoch: 1 cost time: 2.7400331497192383\n",
      "Epoch: 2 cost time: 2.7692480087280273\n",
      "Epoch: 3 cost time: 2.881497859954834\n",
      "Epoch: 4 cost time: 2.8395495414733887\n",
      "Epoch: 5 cost time: 2.7296597957611084\n",
      "<modules.usernsTranformer.UserNsTransformer object at 0x7f989ffeb610>\n",
      "Epoch: 1 cost time: 2.959418296813965\n",
      "Epoch: 2 cost time: 3.064502477645874\n",
      "Epoch: 3 cost time: 2.888216972351074\n",
      "Epoch: 4 cost time: 3.08699893951416\n",
      "Epoch: 5 cost time: 2.890592098236084\n"
     ]
    },
    {
     "name": "stderr",
     "output_type": "stream",
     "text": [
      "Progress:  38%|███▊      | 19/50 [11:47<19:17, 37.35s/it]"
     ]
    },
    {
     "name": "stdout",
     "output_type": "stream",
     "text": [
      "<modules.usernsTranformer.UserNsTransformer object at 0x7f989fbe5ab0>\n",
      "Epoch: 1 cost time: 2.7194223403930664\n",
      "Epoch: 2 cost time: 2.662419319152832\n",
      "Epoch: 3 cost time: 2.871032238006592\n",
      "Epoch: 4 cost time: 2.926852226257324\n",
      "Epoch: 5 cost time: 2.760758876800537\n",
      "<modules.usernsTranformer.UserNsTransformer object at 0x7f989ffeb4f0>\n",
      "Epoch: 1 cost time: 2.9422121047973633\n",
      "Epoch: 2 cost time: 3.1748545169830322\n",
      "Epoch: 3 cost time: 2.941053628921509\n",
      "Epoch: 4 cost time: 2.587397336959839\n",
      "Epoch: 5 cost time: 2.699681282043457\n"
     ]
    },
    {
     "name": "stderr",
     "output_type": "stream",
     "text": [
      "Progress:  40%|████      | 20/50 [12:25<18:40, 37.34s/it]"
     ]
    },
    {
     "name": "stdout",
     "output_type": "stream",
     "text": [
      "<modules.usernsTranformer.UserNsTransformer object at 0x7f989ffeb5e0>\n",
      "Epoch: 1 cost time: 2.7375898361206055\n",
      "Epoch: 2 cost time: 2.6565194129943848\n",
      "Epoch: 3 cost time: 2.6869330406188965\n",
      "Epoch: 4 cost time: 2.6286110877990723\n",
      "Epoch: 5 cost time: 2.6679515838623047\n",
      "<modules.usernsTranformer.UserNsTransformer object at 0x7f989ffaa080>\n",
      "Epoch: 1 cost time: 2.7825024127960205\n",
      "Epoch: 2 cost time: 2.7222557067871094\n",
      "Epoch: 3 cost time: 2.6714727878570557\n",
      "Epoch: 4 cost time: 2.8263652324676514\n",
      "Epoch: 5 cost time: 2.8941214084625244\n"
     ]
    },
    {
     "name": "stderr",
     "output_type": "stream",
     "text": [
      "Progress:  42%|████▏     | 21/50 [13:01<17:51, 36.95s/it]"
     ]
    },
    {
     "name": "stdout",
     "output_type": "stream",
     "text": [
      "<modules.usernsTranformer.UserNsTransformer object at 0x7f989ffeb4f0>\n",
      "Epoch: 1 cost time: 2.7647268772125244\n",
      "Epoch: 2 cost time: 2.8744943141937256\n",
      "Epoch: 3 cost time: 2.8983633518218994\n",
      "Epoch: 4 cost time: 3.048332929611206\n",
      "Epoch: 5 cost time: 2.8404791355133057\n",
      "<modules.usernsTranformer.UserNsTransformer object at 0x7f98b0192860>\n",
      "Epoch: 1 cost time: 2.8765223026275635\n",
      "Epoch: 2 cost time: 2.8989949226379395\n",
      "Epoch: 3 cost time: 2.860955238342285\n",
      "Epoch: 4 cost time: 2.4928276538848877\n",
      "Epoch: 5 cost time: 3.0625393390655518\n"
     ]
    },
    {
     "name": "stderr",
     "output_type": "stream",
     "text": [
      "Progress:  44%|████▍     | 22/50 [13:38<17:20, 37.17s/it]"
     ]
    },
    {
     "name": "stdout",
     "output_type": "stream",
     "text": [
      "<modules.usernsTranformer.UserNsTransformer object at 0x7f989fbe5ab0>\n",
      "Epoch: 1 cost time: 2.8538730144500732\n",
      "Epoch: 2 cost time: 2.9245522022247314\n",
      "Epoch: 3 cost time: 2.7778754234313965\n",
      "Epoch: 4 cost time: 2.8092198371887207\n",
      "Epoch: 5 cost time: 2.886308431625366\n",
      "<modules.usernsTranformer.UserNsTransformer object at 0x7f98b0190940>\n",
      "Epoch: 1 cost time: 2.963991165161133\n",
      "Epoch: 2 cost time: 2.798387289047241\n",
      "Epoch: 3 cost time: 2.6963396072387695\n",
      "Epoch: 4 cost time: 2.648650646209717\n",
      "Epoch: 5 cost time: 2.7296254634857178\n"
     ]
    },
    {
     "name": "stderr",
     "output_type": "stream",
     "text": [
      "Progress:  46%|████▌     | 23/50 [14:15<16:39, 37.00s/it]"
     ]
    },
    {
     "name": "stdout",
     "output_type": "stream",
     "text": [
      "<modules.usernsTranformer.UserNsTransformer object at 0x7f98b0893fa0>\n",
      "Epoch: 1 cost time: 2.9223508834838867\n",
      "Epoch: 2 cost time: 2.4957215785980225\n",
      "Epoch: 3 cost time: 2.8695719242095947\n",
      "Epoch: 4 cost time: 2.5399160385131836\n",
      "Epoch: 5 cost time: 2.680563449859619\n",
      "<modules.usernsTranformer.UserNsTransformer object at 0x7f989ffeb4f0>\n",
      "Epoch: 1 cost time: 2.9675867557525635\n",
      "Epoch: 2 cost time: 2.819810152053833\n",
      "Epoch: 3 cost time: 2.6946728229522705\n",
      "Epoch: 4 cost time: 2.918476104736328\n",
      "Epoch: 5 cost time: 2.5790350437164307\n"
     ]
    },
    {
     "name": "stderr",
     "output_type": "stream",
     "text": [
      "Progress:  48%|████▊     | 24/50 [14:51<15:52, 36.62s/it]"
     ]
    },
    {
     "name": "stdout",
     "output_type": "stream",
     "text": [
      "<modules.usernsTranformer.UserNsTransformer object at 0x7f989ffeb4f0>\n",
      "Epoch: 1 cost time: 1.9521498680114746\n",
      "Epoch: 2 cost time: 2.0991106033325195\n",
      "Epoch: 3 cost time: 2.5205774307250977\n",
      "Epoch: 4 cost time: 2.8534996509552\n",
      "Epoch: 5 cost time: 3.178439140319824\n",
      "<modules.usernsTranformer.UserNsTransformer object at 0x7f98b0190940>\n",
      "Epoch: 1 cost time: 3.093949317932129\n",
      "Epoch: 2 cost time: 2.8135886192321777\n",
      "Epoch: 3 cost time: 3.0632410049438477\n",
      "Epoch: 4 cost time: 2.892756700515747\n",
      "Epoch: 5 cost time: 2.7398698329925537\n"
     ]
    },
    {
     "name": "stderr",
     "output_type": "stream",
     "text": [
      "Progress:  50%|█████     | 25/50 [15:27<15:10, 36.44s/it]"
     ]
    },
    {
     "name": "stdout",
     "output_type": "stream",
     "text": [
      "<modules.usernsTranformer.UserNsTransformer object at 0x7f98b0192860>\n",
      "Epoch: 1 cost time: 2.6773054599761963\n",
      "Epoch: 2 cost time: 2.9455995559692383\n",
      "Epoch: 3 cost time: 2.8241422176361084\n",
      "Epoch: 4 cost time: 2.4691216945648193\n",
      "Epoch: 5 cost time: 2.5903961658477783\n",
      "<modules.usernsTranformer.UserNsTransformer object at 0x7f98b0893fa0>\n",
      "Epoch: 1 cost time: 2.687046527862549\n",
      "Epoch: 2 cost time: 2.787043571472168\n",
      "Epoch: 3 cost time: 3.0007736682891846\n",
      "Epoch: 4 cost time: 2.9941601753234863\n",
      "Epoch: 5 cost time: 2.983952522277832\n"
     ]
    },
    {
     "name": "stderr",
     "output_type": "stream",
     "text": [
      "Progress:  52%|█████▏    | 26/50 [16:03<14:35, 36.49s/it]"
     ]
    },
    {
     "name": "stdout",
     "output_type": "stream",
     "text": [
      "<modules.usernsTranformer.UserNsTransformer object at 0x7f989ffeb4f0>\n",
      "Epoch: 1 cost time: 2.9830310344696045\n",
      "Epoch: 2 cost time: 2.7592520713806152\n",
      "Epoch: 3 cost time: 2.5292813777923584\n",
      "Epoch: 4 cost time: 2.4766294956207275\n",
      "Epoch: 5 cost time: 2.5012753009796143\n",
      "<modules.usernsTranformer.UserNsTransformer object at 0x7f98b024a3e0>\n",
      "Epoch: 1 cost time: 2.5379419326782227\n",
      "Epoch: 2 cost time: 2.9235382080078125\n",
      "Epoch: 3 cost time: 2.7808127403259277\n",
      "Epoch: 4 cost time: 2.7379276752471924\n",
      "Epoch: 5 cost time: 2.962148904800415\n"
     ]
    },
    {
     "name": "stderr",
     "output_type": "stream",
     "text": [
      "Progress:  54%|█████▍    | 27/50 [16:39<13:54, 36.28s/it]"
     ]
    },
    {
     "name": "stdout",
     "output_type": "stream",
     "text": [
      "<modules.usernsTranformer.UserNsTransformer object at 0x7f989ffeb610>\n",
      "Epoch: 1 cost time: 2.78657603263855\n",
      "Epoch: 2 cost time: 2.774859666824341\n",
      "Epoch: 3 cost time: 2.8543858528137207\n",
      "Epoch: 4 cost time: 2.6301984786987305\n",
      "Epoch: 5 cost time: 2.8103485107421875\n",
      "<modules.usernsTranformer.UserNsTransformer object at 0x7f989ffeb5e0>\n",
      "Epoch: 1 cost time: 2.9093880653381348\n",
      "Epoch: 2 cost time: 2.3437764644622803\n",
      "Epoch: 3 cost time: 2.813019275665283\n",
      "Epoch: 4 cost time: 2.787480115890503\n",
      "Epoch: 5 cost time: 2.598818778991699\n"
     ]
    },
    {
     "name": "stderr",
     "output_type": "stream",
     "text": [
      "Progress:  56%|█████▌    | 28/50 [17:15<13:18, 36.28s/it]"
     ]
    },
    {
     "name": "stdout",
     "output_type": "stream",
     "text": [
      "<modules.usernsTranformer.UserNsTransformer object at 0x7f98b0190940>\n",
      "Epoch: 1 cost time: 2.803158760070801\n",
      "Epoch: 2 cost time: 2.3314461708068848\n",
      "Epoch: 3 cost time: 2.872415065765381\n",
      "Epoch: 4 cost time: 2.8220620155334473\n",
      "Epoch: 5 cost time: 2.307889699935913\n",
      "<modules.usernsTranformer.UserNsTransformer object at 0x7f98b024a3e0>\n",
      "Epoch: 1 cost time: 3.0023937225341797\n",
      "Epoch: 2 cost time: 2.968571901321411\n",
      "Epoch: 3 cost time: 3.1313159465789795\n",
      "Epoch: 4 cost time: 2.776228904724121\n",
      "Epoch: 5 cost time: 3.011512517929077\n"
     ]
    },
    {
     "name": "stderr",
     "output_type": "stream",
     "text": [
      "Progress:  58%|█████▊    | 29/50 [17:52<12:45, 36.47s/it]"
     ]
    },
    {
     "name": "stdout",
     "output_type": "stream",
     "text": [
      "<modules.usernsTranformer.UserNsTransformer object at 0x7f989ffeb610>\n",
      "Epoch: 1 cost time: 2.6638379096984863\n",
      "Epoch: 2 cost time: 2.516364574432373\n",
      "Epoch: 3 cost time: 2.809030532836914\n",
      "Epoch: 4 cost time: 2.8026492595672607\n",
      "Epoch: 5 cost time: 2.674168348312378\n",
      "<modules.usernsTranformer.UserNsTransformer object at 0x7f98b0190940>\n",
      "Epoch: 1 cost time: 2.5437145233154297\n",
      "Epoch: 2 cost time: 2.903665542602539\n",
      "Epoch: 3 cost time: 2.9072680473327637\n",
      "Epoch: 4 cost time: 2.938307762145996\n",
      "Epoch: 5 cost time: 3.0594701766967773\n"
     ]
    },
    {
     "name": "stderr",
     "output_type": "stream",
     "text": [
      "Progress:  60%|██████    | 30/50 [18:29<12:08, 36.41s/it]"
     ]
    },
    {
     "name": "stdout",
     "output_type": "stream",
     "text": [
      "<modules.usernsTranformer.UserNsTransformer object at 0x7f989ffeb610>\n",
      "Epoch: 1 cost time: 3.1361629962921143\n",
      "Epoch: 2 cost time: 3.2007956504821777\n",
      "Epoch: 3 cost time: 3.022360324859619\n",
      "Epoch: 4 cost time: 2.7610561847686768\n",
      "Epoch: 5 cost time: 2.2456018924713135\n",
      "<modules.usernsTranformer.UserNsTransformer object at 0x7f989ffeb5e0>\n",
      "Epoch: 1 cost time: 2.675848960876465\n",
      "Epoch: 2 cost time: 2.4838945865631104\n",
      "Epoch: 3 cost time: 2.8184404373168945\n",
      "Epoch: 4 cost time: 3.177631378173828\n",
      "Epoch: 5 cost time: 3.039004325866699\n"
     ]
    },
    {
     "name": "stderr",
     "output_type": "stream",
     "text": [
      "Progress:  62%|██████▏   | 31/50 [19:04<11:28, 36.23s/it]"
     ]
    },
    {
     "name": "stdout",
     "output_type": "stream",
     "text": [
      "<modules.usernsTranformer.UserNsTransformer object at 0x7f989ffeb4f0>\n",
      "Epoch: 1 cost time: 2.866586923599243\n",
      "Epoch: 2 cost time: 2.8321099281311035\n",
      "Epoch: 3 cost time: 2.9544765949249268\n",
      "Epoch: 4 cost time: 2.869060754776001\n",
      "Epoch: 5 cost time: 3.1562130451202393\n",
      "<modules.usernsTranformer.UserNsTransformer object at 0x7f98b024a3e0>\n",
      "Epoch: 1 cost time: 2.9147448539733887\n",
      "Epoch: 2 cost time: 3.038655996322632\n",
      "Epoch: 3 cost time: 2.933760166168213\n",
      "Epoch: 4 cost time: 2.8293237686157227\n",
      "Epoch: 5 cost time: 2.8357882499694824\n"
     ]
    },
    {
     "name": "stderr",
     "output_type": "stream",
     "text": [
      "Progress:  64%|██████▍   | 32/50 [19:42<11:02, 36.78s/it]"
     ]
    },
    {
     "name": "stdout",
     "output_type": "stream",
     "text": [
      "<modules.usernsTranformer.UserNsTransformer object at 0x7f989ffeb610>\n",
      "Epoch: 1 cost time: 2.819857358932495\n",
      "Epoch: 2 cost time: 2.8806724548339844\n",
      "Epoch: 3 cost time: 2.7063848972320557\n",
      "Epoch: 4 cost time: 2.900348424911499\n",
      "Epoch: 5 cost time: 2.824399948120117\n",
      "<modules.usernsTranformer.UserNsTransformer object at 0x7f98b0893fa0>\n",
      "Epoch: 1 cost time: 3.0266430377960205\n",
      "Epoch: 2 cost time: 2.845461130142212\n",
      "Epoch: 3 cost time: 2.6852712631225586\n",
      "Epoch: 4 cost time: 2.536707639694214\n",
      "Epoch: 5 cost time: 2.9428138732910156\n"
     ]
    },
    {
     "name": "stderr",
     "output_type": "stream",
     "text": [
      "Progress:  66%|██████▌   | 33/50 [20:19<10:26, 36.86s/it]"
     ]
    },
    {
     "name": "stdout",
     "output_type": "stream",
     "text": [
      "<modules.usernsTranformer.UserNsTransformer object at 0x7f989ffeb5e0>\n",
      "Epoch: 1 cost time: 2.695575714111328\n",
      "Epoch: 2 cost time: 2.81623911857605\n",
      "Epoch: 3 cost time: 2.771895408630371\n",
      "Epoch: 4 cost time: 2.907849073410034\n",
      "Epoch: 5 cost time: 2.7519702911376953\n",
      "<modules.usernsTranformer.UserNsTransformer object at 0x7f989ffaa080>\n",
      "Epoch: 1 cost time: 2.7400968074798584\n",
      "Epoch: 2 cost time: 2.927406072616577\n",
      "Epoch: 3 cost time: 2.768658399581909\n",
      "Epoch: 4 cost time: 2.2879743576049805\n",
      "Epoch: 5 cost time: 2.4794349670410156\n"
     ]
    },
    {
     "name": "stderr",
     "output_type": "stream",
     "text": [
      "Progress:  68%|██████▊   | 34/50 [20:56<09:46, 36.65s/it]"
     ]
    },
    {
     "name": "stdout",
     "output_type": "stream",
     "text": [
      "<modules.usernsTranformer.UserNsTransformer object at 0x7f989ffeb4f0>\n",
      "Epoch: 1 cost time: 2.866058111190796\n",
      "Epoch: 2 cost time: 3.090954303741455\n",
      "Epoch: 3 cost time: 2.959298849105835\n",
      "Epoch: 4 cost time: 2.8999342918395996\n",
      "Epoch: 5 cost time: 2.882115125656128\n",
      "<modules.usernsTranformer.UserNsTransformer object at 0x7f989fbe5ab0>\n",
      "Epoch: 1 cost time: 2.9506397247314453\n",
      "Epoch: 2 cost time: 2.944427013397217\n",
      "Epoch: 3 cost time: 2.913656711578369\n",
      "Epoch: 4 cost time: 2.74745774269104\n",
      "Epoch: 5 cost time: 2.5731167793273926\n"
     ]
    },
    {
     "name": "stderr",
     "output_type": "stream",
     "text": [
      "Progress:  70%|███████   | 35/50 [21:33<09:13, 36.93s/it]"
     ]
    },
    {
     "name": "stdout",
     "output_type": "stream",
     "text": [
      "<modules.usernsTranformer.UserNsTransformer object at 0x7f98b0893fa0>\n",
      "Epoch: 1 cost time: 3.0526227951049805\n",
      "Epoch: 2 cost time: 2.689011812210083\n",
      "Epoch: 3 cost time: 2.6388564109802246\n",
      "Epoch: 4 cost time: 2.8536782264709473\n",
      "Epoch: 5 cost time: 3.209378957748413\n",
      "<modules.usernsTranformer.UserNsTransformer object at 0x7f989fbe5ab0>\n",
      "Epoch: 1 cost time: 2.8260581493377686\n",
      "Epoch: 2 cost time: 3.018122673034668\n",
      "Epoch: 3 cost time: 2.8548879623413086\n",
      "Epoch: 4 cost time: 2.8719539642333984\n",
      "Epoch: 5 cost time: 2.7581417560577393\n"
     ]
    },
    {
     "name": "stderr",
     "output_type": "stream",
     "text": [
      "Progress:  72%|███████▏  | 36/50 [22:11<08:40, 37.18s/it]"
     ]
    },
    {
     "name": "stdout",
     "output_type": "stream",
     "text": [
      "<modules.usernsTranformer.UserNsTransformer object at 0x7f989ffeb5e0>\n",
      "Epoch: 1 cost time: 2.8314335346221924\n",
      "Epoch: 2 cost time: 2.7261242866516113\n",
      "Epoch: 3 cost time: 2.9161205291748047\n",
      "Epoch: 4 cost time: 2.795498847961426\n",
      "Epoch: 5 cost time: 2.8319828510284424\n",
      "<modules.usernsTranformer.UserNsTransformer object at 0x7f98b0248c10>\n",
      "Epoch: 1 cost time: 2.7742881774902344\n",
      "Epoch: 2 cost time: 2.6619677543640137\n",
      "Epoch: 3 cost time: 3.096475839614868\n",
      "Epoch: 4 cost time: 2.996168851852417\n",
      "Epoch: 5 cost time: 3.0120182037353516\n"
     ]
    },
    {
     "name": "stderr",
     "output_type": "stream",
     "text": [
      "Progress:  74%|███████▍  | 37/50 [22:49<08:04, 37.30s/it]"
     ]
    },
    {
     "name": "stdout",
     "output_type": "stream",
     "text": [
      "<modules.usernsTranformer.UserNsTransformer object at 0x7f989ffeb5e0>\n",
      "Epoch: 1 cost time: 2.887659788131714\n",
      "Epoch: 2 cost time: 3.069579601287842\n",
      "Epoch: 3 cost time: 3.0262398719787598\n",
      "Epoch: 4 cost time: 2.9161598682403564\n",
      "Epoch: 5 cost time: 2.8869829177856445\n",
      "<modules.usernsTranformer.UserNsTransformer object at 0x7f989ffeb4f0>\n",
      "Epoch: 1 cost time: 2.974412441253662\n",
      "Epoch: 2 cost time: 3.108656644821167\n",
      "Epoch: 3 cost time: 2.8718509674072266\n",
      "Epoch: 4 cost time: 2.9806811809539795\n",
      "Epoch: 5 cost time: 2.8469457626342773\n"
     ]
    },
    {
     "name": "stderr",
     "output_type": "stream",
     "text": [
      "Progress:  76%|███████▌  | 38/50 [23:27<07:33, 37.75s/it]"
     ]
    },
    {
     "name": "stdout",
     "output_type": "stream",
     "text": [
      "<modules.usernsTranformer.UserNsTransformer object at 0x7f98b0190940>\n",
      "Epoch: 1 cost time: 2.8663055896759033\n",
      "Epoch: 2 cost time: 2.7329087257385254\n",
      "Epoch: 3 cost time: 2.7369298934936523\n",
      "Epoch: 4 cost time: 2.8564603328704834\n",
      "Epoch: 5 cost time: 3.0461246967315674\n",
      "<modules.usernsTranformer.UserNsTransformer object at 0x7f98b0192860>\n",
      "Epoch: 1 cost time: 2.8844127655029297\n",
      "Epoch: 2 cost time: 2.814528465270996\n",
      "Epoch: 3 cost time: 2.864140272140503\n",
      "Epoch: 4 cost time: 2.879302501678467\n",
      "Epoch: 5 cost time: 2.3843462467193604\n"
     ]
    },
    {
     "name": "stderr",
     "output_type": "stream",
     "text": [
      "Progress:  78%|███████▊  | 39/50 [24:04<06:50, 37.32s/it]"
     ]
    },
    {
     "name": "stdout",
     "output_type": "stream",
     "text": [
      "<modules.usernsTranformer.UserNsTransformer object at 0x7f98b0190940>\n",
      "Epoch: 1 cost time: 2.3514645099639893\n",
      "Epoch: 2 cost time: 2.3134806156158447\n",
      "Epoch: 3 cost time: 2.3869338035583496\n",
      "Epoch: 4 cost time: 2.8690102100372314\n",
      "Epoch: 5 cost time: 2.842580556869507\n",
      "<modules.usernsTranformer.UserNsTransformer object at 0x7f989ffeb4f0>\n",
      "Epoch: 1 cost time: 2.787909984588623\n",
      "Epoch: 2 cost time: 2.8479504585266113\n",
      "Epoch: 3 cost time: 2.837214231491089\n",
      "Epoch: 4 cost time: 2.92734432220459\n",
      "Epoch: 5 cost time: 2.973330497741699\n"
     ]
    },
    {
     "name": "stderr",
     "output_type": "stream",
     "text": [
      "Progress:  80%|████████  | 40/50 [24:39<06:08, 36.86s/it]"
     ]
    },
    {
     "name": "stdout",
     "output_type": "stream",
     "text": [
      "<modules.usernsTranformer.UserNsTransformer object at 0x7f98b0248c10>\n",
      "Epoch: 1 cost time: 2.77986216545105\n",
      "Epoch: 2 cost time: 2.7008731365203857\n",
      "Epoch: 3 cost time: 3.0639827251434326\n",
      "Epoch: 4 cost time: 2.8924479484558105\n",
      "Epoch: 5 cost time: 3.181156635284424\n",
      "<modules.usernsTranformer.UserNsTransformer object at 0x7f98b0190940>\n",
      "Epoch: 1 cost time: 3.0713050365448\n",
      "Epoch: 2 cost time: 3.0077855587005615\n",
      "Epoch: 3 cost time: 3.009697198867798\n",
      "Epoch: 4 cost time: 3.049713373184204\n",
      "Epoch: 5 cost time: 2.5924694538116455\n"
     ]
    },
    {
     "name": "stderr",
     "output_type": "stream",
     "text": [
      "Progress:  82%|████████▏ | 41/50 [25:18<05:35, 37.32s/it]"
     ]
    },
    {
     "name": "stdout",
     "output_type": "stream",
     "text": [
      "<modules.usernsTranformer.UserNsTransformer object at 0x7f98b0190940>\n",
      "Epoch: 1 cost time: 2.6224372386932373\n",
      "Epoch: 2 cost time: 2.8862245082855225\n",
      "Epoch: 3 cost time: 2.877410650253296\n",
      "Epoch: 4 cost time: 2.8791635036468506\n",
      "Epoch: 5 cost time: 2.7142155170440674\n",
      "<modules.usernsTranformer.UserNsTransformer object at 0x7f98b0192860>\n",
      "Epoch: 1 cost time: 3.019843578338623\n",
      "Epoch: 2 cost time: 2.699889659881592\n",
      "Epoch: 3 cost time: 2.9326391220092773\n",
      "Epoch: 4 cost time: 3.1533985137939453\n",
      "Epoch: 5 cost time: 2.828435182571411\n"
     ]
    },
    {
     "name": "stderr",
     "output_type": "stream",
     "text": [
      "Progress:  84%|████████▍ | 42/50 [25:54<04:56, 37.02s/it]"
     ]
    },
    {
     "name": "stdout",
     "output_type": "stream",
     "text": [
      "<modules.usernsTranformer.UserNsTransformer object at 0x7f989ffaa080>\n",
      "Epoch: 1 cost time: 2.657299518585205\n",
      "Epoch: 2 cost time: 2.909754514694214\n",
      "Epoch: 3 cost time: 2.740609884262085\n",
      "Epoch: 4 cost time: 2.835217237472534\n",
      "Epoch: 5 cost time: 2.8311169147491455\n",
      "<modules.usernsTranformer.UserNsTransformer object at 0x7f989ffeb4f0>\n",
      "Epoch: 1 cost time: 2.3676018714904785\n",
      "Epoch: 2 cost time: 2.932776927947998\n",
      "Epoch: 3 cost time: 2.8593523502349854\n",
      "Epoch: 4 cost time: 3.066310405731201\n",
      "Epoch: 5 cost time: 2.5992274284362793\n"
     ]
    },
    {
     "name": "stderr",
     "output_type": "stream",
     "text": [
      "Progress:  86%|████████▌ | 43/50 [26:31<04:17, 36.83s/it]"
     ]
    },
    {
     "name": "stdout",
     "output_type": "stream",
     "text": [
      "<modules.usernsTranformer.UserNsTransformer object at 0x7f989ffeb5e0>\n",
      "Epoch: 1 cost time: 2.654409408569336\n",
      "Epoch: 2 cost time: 2.8009989261627197\n",
      "Epoch: 3 cost time: 2.5437960624694824\n",
      "Epoch: 4 cost time: 2.9555726051330566\n",
      "Epoch: 5 cost time: 2.6632421016693115\n",
      "<modules.usernsTranformer.UserNsTransformer object at 0x7f989ffeb4f0>\n",
      "Epoch: 1 cost time: 2.8749547004699707\n",
      "Epoch: 2 cost time: 2.6647396087646484\n",
      "Epoch: 3 cost time: 2.567506790161133\n",
      "Epoch: 4 cost time: 3.0705714225769043\n",
      "Epoch: 5 cost time: 2.845360279083252\n"
     ]
    },
    {
     "name": "stderr",
     "output_type": "stream",
     "text": [
      "Progress:  88%|████████▊ | 44/50 [27:08<03:41, 36.92s/it]"
     ]
    },
    {
     "name": "stdout",
     "output_type": "stream",
     "text": [
      "<modules.usernsTranformer.UserNsTransformer object at 0x7f98b0893fa0>\n",
      "Epoch: 1 cost time: 2.8328630924224854\n",
      "Epoch: 2 cost time: 2.6938998699188232\n",
      "Epoch: 3 cost time: 2.8012731075286865\n",
      "Epoch: 4 cost time: 3.127047061920166\n",
      "Epoch: 5 cost time: 2.907327890396118\n",
      "<modules.usernsTranformer.UserNsTransformer object at 0x7f989ffaa080>\n",
      "Epoch: 1 cost time: 2.898613929748535\n",
      "Epoch: 2 cost time: 3.099909782409668\n",
      "Epoch: 3 cost time: 2.8523976802825928\n",
      "Epoch: 4 cost time: 3.0130343437194824\n",
      "Epoch: 5 cost time: 3.0285751819610596\n"
     ]
    },
    {
     "name": "stderr",
     "output_type": "stream",
     "text": [
      "Progress:  90%|█████████ | 45/50 [27:46<03:06, 37.26s/it]"
     ]
    },
    {
     "name": "stdout",
     "output_type": "stream",
     "text": [
      "<modules.usernsTranformer.UserNsTransformer object at 0x7f989ffeb610>\n",
      "Epoch: 1 cost time: 2.7546889781951904\n",
      "Epoch: 2 cost time: 2.6748926639556885\n",
      "Epoch: 3 cost time: 2.6294755935668945\n",
      "Epoch: 4 cost time: 2.758011817932129\n",
      "Epoch: 5 cost time: 2.8149218559265137\n",
      "<modules.usernsTranformer.UserNsTransformer object at 0x7f98b0893fa0>\n",
      "Epoch: 1 cost time: 2.9104292392730713\n",
      "Epoch: 2 cost time: 2.8185441493988037\n",
      "Epoch: 3 cost time: 2.6035969257354736\n",
      "Epoch: 4 cost time: 2.6023340225219727\n",
      "Epoch: 5 cost time: 3.0115177631378174\n"
     ]
    },
    {
     "name": "stderr",
     "output_type": "stream",
     "text": [
      "Progress:  92%|█████████▏| 46/50 [28:22<02:28, 37.02s/it]"
     ]
    },
    {
     "name": "stdout",
     "output_type": "stream",
     "text": [
      "<modules.usernsTranformer.UserNsTransformer object at 0x7f98b024a3e0>\n",
      "Epoch: 1 cost time: 2.9193241596221924\n",
      "Epoch: 2 cost time: 2.9690585136413574\n",
      "Epoch: 3 cost time: 3.0342183113098145\n",
      "Epoch: 4 cost time: 2.753504991531372\n",
      "Epoch: 5 cost time: 2.5173182487487793\n",
      "<modules.usernsTranformer.UserNsTransformer object at 0x7f98b0192860>\n",
      "Epoch: 1 cost time: 2.8941361904144287\n",
      "Epoch: 2 cost time: 3.10677433013916\n",
      "Epoch: 3 cost time: 3.04982328414917\n",
      "Epoch: 4 cost time: 2.589240789413452\n",
      "Epoch: 5 cost time: 2.7539970874786377\n"
     ]
    },
    {
     "name": "stderr",
     "output_type": "stream",
     "text": [
      "Progress:  94%|█████████▍| 47/50 [28:59<01:51, 37.10s/it]"
     ]
    },
    {
     "name": "stdout",
     "output_type": "stream",
     "text": [
      "<modules.usernsTranformer.UserNsTransformer object at 0x7f989ffeb5e0>\n",
      "Epoch: 1 cost time: 2.924293279647827\n",
      "Epoch: 2 cost time: 2.686114549636841\n",
      "Epoch: 3 cost time: 2.9272878170013428\n",
      "Epoch: 4 cost time: 2.9352455139160156\n",
      "Epoch: 5 cost time: 3.1065971851348877\n",
      "<modules.usernsTranformer.UserNsTransformer object at 0x7f989ffaa080>\n",
      "Epoch: 1 cost time: 3.1410019397735596\n",
      "Epoch: 2 cost time: 3.101483106613159\n",
      "Epoch: 3 cost time: 2.9254250526428223\n",
      "Epoch: 4 cost time: 2.849041223526001\n",
      "Epoch: 5 cost time: 2.867621421813965\n"
     ]
    },
    {
     "name": "stderr",
     "output_type": "stream",
     "text": [
      "Progress:  96%|█████████▌| 48/50 [29:38<01:14, 37.40s/it]"
     ]
    },
    {
     "name": "stdout",
     "output_type": "stream",
     "text": [
      "<modules.usernsTranformer.UserNsTransformer object at 0x7f989fbe5ab0>\n",
      "Epoch: 1 cost time: 2.442469596862793\n",
      "Epoch: 2 cost time: 2.516339063644409\n",
      "Epoch: 3 cost time: 2.4856932163238525\n",
      "Epoch: 4 cost time: 2.6754398345947266\n",
      "Epoch: 5 cost time: 2.5375661849975586\n",
      "<modules.usernsTranformer.UserNsTransformer object at 0x7f98b0192860>\n",
      "Epoch: 1 cost time: 2.7586638927459717\n",
      "Epoch: 2 cost time: 2.7202510833740234\n",
      "Epoch: 3 cost time: 2.975102663040161\n",
      "Epoch: 4 cost time: 2.5372016429901123\n",
      "Epoch: 5 cost time: 2.6203906536102295\n"
     ]
    },
    {
     "name": "stderr",
     "output_type": "stream",
     "text": [
      "Progress:  98%|█████████▊| 49/50 [30:13<00:36, 36.68s/it]"
     ]
    },
    {
     "name": "stdout",
     "output_type": "stream",
     "text": [
      "<modules.usernsTranformer.UserNsTransformer object at 0x7f989ffaa080>\n",
      "Epoch: 1 cost time: 3.133073091506958\n",
      "Epoch: 2 cost time: 2.902512788772583\n",
      "Epoch: 3 cost time: 2.8903017044067383\n",
      "Epoch: 4 cost time: 2.834585428237915\n",
      "Epoch: 5 cost time: 2.739711284637451\n",
      "<modules.usernsTranformer.UserNsTransformer object at 0x7f98b0248c10>\n",
      "Epoch: 1 cost time: 2.616636276245117\n",
      "Epoch: 2 cost time: 2.921295642852783\n",
      "Epoch: 3 cost time: 3.081422805786133\n",
      "Epoch: 4 cost time: 2.9454855918884277\n",
      "Epoch: 5 cost time: 2.934123992919922\n"
     ]
    },
    {
     "name": "stderr",
     "output_type": "stream",
     "text": [
      "Progress: 100%|██████████| 50/50 [30:51<00:00, 37.02s/it]\n"
     ]
    }
   ],
   "source": [
    "import random\n",
    "from tqdm import tqdm\n",
    "from math import sqrt\n",
    "\n",
    "server = ServerNsTransformer(model=server_model, test_loader=server_data_list)\n",
    "\n",
    "user_list = []\n",
    "\n",
    "# Create users\n",
    "for i in range(config_wanb.num_user):\n",
    "    user_i = UserNsTransformer(train_loader=user_data_list[i], model=server_model, user_id=i, local_epochs=config_wanb.local_epochs)\n",
    "    user_list.append(user_i)\n",
    "\n",
    "for _ in tqdm(range(config_wanb.global_epochs), desc=f\"Progress\"):\n",
    "    # Distribute initial model to users\n",
    "    server.distribute_model(user_list)\n",
    "    \n",
    "    # Sub-sample users\n",
    "    sub_user_list = random.sample(user_list, int(config_wanb.user_ratio * config_wanb.num_user))\n",
    "\n",
    "    # Check the sub-sampled user and train model\n",
    "    users_loss = 0.0\n",
    "    for user in sub_user_list:\n",
    "        print(user)\n",
    "        user_loss = user.user_train(args)\n",
    "        users_loss += user_loss\n",
    "    # Aggregate weights on server\n",
    "    server.aggregate_weights(sub_user_list)\n",
    "\n",
    "    # Calulate avg loss on selected users\n",
    "    train_loss =  users_loss / len(sub_user_list)\n",
    "\n",
    "    total_mae = []\n",
    "    total_mse = []\n",
    "    for test_loader in server.test_loader:    \n",
    "        mae, mse, rmse, mape, mspe = server.model_eval(args=args, test_loader=test_loader)\n",
    "        total_mae.append(mae)\n",
    "        total_mse.append(mse)\n",
    "    \n",
    "    wandb.log({\"train_loss\": train_loss, \"mae\": sum(total_mae)/len(total_mae), 'rmse': sqrt(sum(total_mse)/len(total_mse))})"
   ]
  }
 ],
 "metadata": {
  "kernelspec": {
   "display_name": ".venv",
   "language": "python",
   "name": "python3"
  },
  "language_info": {
   "codemirror_mode": {
    "name": "ipython",
    "version": 3
   },
   "file_extension": ".py",
   "mimetype": "text/x-python",
   "name": "python",
   "nbconvert_exporter": "python",
   "pygments_lexer": "ipython3",
   "version": "3.10.12"
  }
 },
 "nbformat": 4,
 "nbformat_minor": 2
}
